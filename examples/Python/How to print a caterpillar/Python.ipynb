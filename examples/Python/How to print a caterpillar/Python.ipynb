{
 "metadata": {
  "language_info": {
   "codemirror_mode": {
    "name": "ipython",
    "version": 3
   },
   "file_extension": ".py",
   "mimetype": "text/x-python",
   "name": "python",
   "nbconvert_exporter": "python",
   "pygments_lexer": "ipython3",
   "version": "3.9.2"
  },
  "orig_nbformat": 2,
  "kernelspec": {
   "name": "python392jvsc74a57bd098b0a9b7b4eaaa670588a142fd0a9b87eaafe866f1db4228be72b4211d12040f",
   "display_name": "Python 3.9.2 64-bit ('base': conda)"
  }
 },
 "nbformat": 4,
 "nbformat_minor": 2,
 "cells": [
  {
   "source": [
    "---\n",
    "author: Nathan Carter (ncarter@bentley.edu) - replace with your name and email!\n",
    "---\n",
    "\n",
    "Replace the entire contents of this notebook with your solution to your task, using alternating markdown and code cells as needed.  Obviously the content below is just a silly example.  Try not to leave any blank code cells in the final version.\n",
    "\n",
    "We assume the user chooses the caterpillar length with the variable in line 1.  Feel free to change its value to the length of caterpillar you wish to see."
   ],
   "cell_type": "markdown",
   "metadata": {}
  },
  {
   "cell_type": "code",
   "execution_count": 2,
   "metadata": {},
   "outputs": [
    {
     "output_type": "stream",
     "name": "stdout",
     "text": [
      "`O,oo,oo,oo,oo,oo\n"
     ]
    }
   ],
   "source": [
    "caterpillar_length = 5\n",
    "print( \"`O\" + ( \",oo\" ) * caterpillar_length )"
   ]
  }
 ]
}