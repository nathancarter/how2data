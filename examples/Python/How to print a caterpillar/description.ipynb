{
 "metadata": {
  "language_info": {
   "codemirror_mode": {
    "name": "ipython",
    "version": 3
   },
   "file_extension": ".py",
   "mimetype": "text/x-python",
   "name": "python",
   "nbconvert_exporter": "python",
   "pygments_lexer": "ipython3",
   "version": 3
  },
  "orig_nbformat": 2
 },
 "nbformat": 4,
 "nbformat_minor": 2,
 "cells": [
  {
   "source": [
    "Replace this text with the description of your task.  Obviously the following text is just a silly example.  You may use any number of markdown or code cells, but the code cells will not be run.\n",
    "\n",
    "Sometimes the user wants to see a caterpillar in their code's output.  What kind of code could be used to produce a caterpillar?  We assume the caterpillar should face to the left, and that the user can specify the caterpillar's length.\n"
   ],
   "cell_type": "markdown",
   "metadata": {}
  }
 ]
}