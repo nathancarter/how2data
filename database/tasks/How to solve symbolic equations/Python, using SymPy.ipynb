{
 "cells": [
  {
   "cell_type": "markdown",
   "metadata": {},
   "source": [
    "---\n",
    "author: Nathan Carter (ncarter@bentley.edu)\n",
    "---\n",
    "\n",
    "This answer assumes you have imported SymPy as follows."
   ]
  },
  {
   "cell_type": "code",
   "execution_count": 1,
   "metadata": {},
   "outputs": [],
   "source": [
    "from sympy import *                   # load all math functions\n",
    "init_printing( use_latex='mathjax' )  # use pretty math output"
   ]
  },
  {
   "cell_type": "markdown",
   "metadata": {},
   "source": [
    "If your equation has just one variable, simply call `solve` on it.\n",
    "Note that you may get a list of more than one solution."
   ]
  },
  {
   "cell_type": "code",
   "execution_count": 2,
   "metadata": {},
   "outputs": [
    {
     "data": {
      "text/latex": [
       "$\\displaystyle \\left[ -2 + \\sqrt{13}, \\  - \\sqrt{13} - 2\\right]$"
      ],
      "text/plain": [
       "[-2 + √13, -√13 - 2]"
      ]
     },
     "execution_count": 2,
     "metadata": {},
     "output_type": "execute_result"
    }
   ],
   "source": [
    "var( 'x' )\n",
    "equation = Eq( x**2 + 3*x, -x + 9 )\n",
    "solve( equation )"
   ]
  },
  {
   "cell_type": "markdown",
   "metadata": {},
   "source": [
    "Sometimes you get no solutions, which is shown as a Python empty list."
   ]
  },
  {
   "cell_type": "code",
   "execution_count": 3,
   "metadata": {},
   "outputs": [
    {
     "data": {
      "text/latex": [
       "$\\displaystyle \\left[ \\right]$"
      ],
      "text/plain": [
       "[]"
      ]
     },
     "execution_count": 3,
     "metadata": {},
     "output_type": "execute_result"
    }
   ],
   "source": [
    "solve( Eq( x+1, x+2 ) )"
   ]
  },
  {
   "cell_type": "markdown",
   "metadata": {},
   "source": [
    "Sometimes the answers include complex numbers."
   ]
  },
  {
   "cell_type": "code",
   "execution_count": 4,
   "metadata": {},
   "outputs": [
    {
     "data": {
      "text/latex": [
       "$\\displaystyle \\left[ -1, \\  \\frac{1}{2} - \\frac{\\sqrt{3} i}{2}, \\  \\frac{1}{2} + \\frac{\\sqrt{3} i}{2}\\right]$"
      ],
      "text/plain": [
       "⎡    1   √3⋅ⅈ  1   √3⋅ⅈ⎤\n",
       "⎢-1, ─ - ────, ─ + ────⎥\n",
       "⎣    2    2    2    2  ⎦"
      ]
     },
     "execution_count": 4,
     "metadata": {},
     "output_type": "execute_result"
    }
   ],
   "source": [
    "solve( Eq( x**3, -1 ) )"
   ]
  },
  {
   "cell_type": "markdown",
   "metadata": {},
   "source": [
    "To restrict the solution to the real numbers, use `solveset` instead,\n",
    "and specify the real numbers as the domain."
   ]
  },
  {
   "cell_type": "code",
   "execution_count": 5,
   "metadata": {},
   "outputs": [
    {
     "data": {
      "text/latex": [
       "$\\displaystyle \\left\\{-1\\right\\}$"
      ],
      "text/plain": [
       "{-1}"
      ]
     },
     "execution_count": 5,
     "metadata": {},
     "output_type": "execute_result"
    }
   ],
   "source": [
    "solveset( Eq( x**3, -1 ), domain=S.Reals )"
   ]
  },
  {
   "attachments": {},
   "cell_type": "markdown",
   "metadata": {},
   "source": [
    "(If `solveset` gives no solution, it shows it as the empty set symbol, $\\emptyset$.)\n",
    "\n",
    "You can solve systems of equations by calling `solve` on them."
   ]
  },
  {
   "cell_type": "code",
   "execution_count": 8,
   "metadata": {},
   "outputs": [
    {
     "data": {
      "text/latex": [
       "$\\displaystyle \\left\\{ x : \\frac{19}{11}, \\  y : - \\frac{4}{11}\\right\\}$"
      ],
      "text/plain": [
       "⎧   19          ⎫\n",
       "⎨x: ──, y: -4/11⎬\n",
       "⎩   11          ⎭"
      ]
     },
     "execution_count": 8,
     "metadata": {},
     "output_type": "execute_result"
    }
   ],
   "source": [
    "var( 'x y' )\n",
    "system = [\n",
    "    Eq( x + 2*y, 1 ),\n",
    "    Eq( x - 9*y, 5 )\n",
    "]\n",
    "solve( system )"
   ]
  }
 ],
 "metadata": {
  "kernelspec": {
   "display_name": "Python 3.9.2 64-bit ('base': conda)",
   "name": "python392jvsc74a57bd098b0a9b7b4eaaa670588a142fd0a9b87eaafe866f1db4228be72b4211d12040f"
  },
  "language_info": {
   "codemirror_mode": {
    "name": "ipython",
    "version": 3
   },
   "file_extension": ".py",
   "mimetype": "text/x-python",
   "name": "python",
   "nbconvert_exporter": "python",
   "pygments_lexer": "ipython3",
   "version": "3.9.2"
  },
  "orig_nbformat": 2
 },
 "nbformat": 4,
 "nbformat_minor": 2
}
