{
 "metadata": {
  "language_info": {
   "codemirror_mode": {
    "name": "ipython",
    "version": 3
   },
   "file_extension": ".py",
   "mimetype": "text/x-python",
   "name": "python",
   "nbconvert_exporter": "python",
   "pygments_lexer": "ipython3",
   "version": "3.9.2"
  },
  "orig_nbformat": 2,
  "kernelspec": {
   "name": "python392jvsc74a57bd098b0a9b7b4eaaa670588a142fd0a9b87eaafe866f1db4228be72b4211d12040f",
   "display_name": "Python 3.9.2 64-bit ('base': conda)"
  }
 },
 "nbformat": 4,
 "nbformat_minor": 2,
 "cells": [
  {
   "source": [
    "---\n",
    "author: Nathan Carter (ncarter@bentley.edu)\n",
    "---\n",
    "\n",
    "This answer assumes you have imported SymPy as follows."
   ],
   "cell_type": "markdown",
   "metadata": {}
  },
  {
   "cell_type": "code",
   "execution_count": 1,
   "metadata": {},
   "outputs": [],
   "source": [
    "from sympy import *                   # load all math functions\n",
    "init_printing( use_latex='mathjax' )  # use pretty math output"
   ]
  },
  {
   "source": [
    "If your equation has just one variable, simply call `solve` on it.\n",
    "Note that you may get a list of more than one solution."
   ],
   "cell_type": "markdown",
   "metadata": {}
  },
  {
   "cell_type": "code",
   "execution_count": 2,
   "metadata": {},
   "outputs": [
    {
     "output_type": "execute_result",
     "data": {
      "text/plain": [
       "[-2 + √13, -√13 - 2]"
      ],
      "text/latex": "$\\displaystyle \\left[ -2 + \\sqrt{13}, \\  - \\sqrt{13} - 2\\right]$"
     },
     "metadata": {},
     "execution_count": 2
    }
   ],
   "source": [
    "var( 'x' )\n",
    "equation = Eq( x**2 + 3*x, -x + 9 )\n",
    "solve( equation )"
   ]
  },
  {
   "source": [
    "Sometimes you get no solutions, which is shown as a Python empty list."
   ],
   "cell_type": "markdown",
   "metadata": {}
  },
  {
   "cell_type": "code",
   "execution_count": 3,
   "metadata": {},
   "outputs": [
    {
     "output_type": "execute_result",
     "data": {
      "text/plain": [
       "[]"
      ],
      "text/latex": "$\\displaystyle \\left[ \\right]$"
     },
     "metadata": {},
     "execution_count": 3
    }
   ],
   "source": [
    "solve( Eq( x+1, x+2 ) )"
   ]
  },
  {
   "source": [
    "Sometimes the answers include complex numbers."
   ],
   "cell_type": "markdown",
   "metadata": {}
  },
  {
   "cell_type": "code",
   "execution_count": 4,
   "metadata": {},
   "outputs": [
    {
     "output_type": "execute_result",
     "data": {
      "text/plain": [
       "⎡    1   √3⋅ⅈ  1   √3⋅ⅈ⎤\n",
       "⎢-1, ─ - ────, ─ + ────⎥\n",
       "⎣    2    2    2    2  ⎦"
      ],
      "text/latex": "$\\displaystyle \\left[ -1, \\  \\frac{1}{2} - \\frac{\\sqrt{3} i}{2}, \\  \\frac{1}{2} + \\frac{\\sqrt{3} i}{2}\\right]$"
     },
     "metadata": {},
     "execution_count": 4
    }
   ],
   "source": [
    "solve( Eq( x**3, -1 ) )"
   ]
  },
  {
   "source": [
    "To restrict the solution to the real numbers, use `solveset` instead,\n",
    "and specify the real numbers as the domain."
   ],
   "cell_type": "markdown",
   "metadata": {}
  },
  {
   "cell_type": "code",
   "execution_count": 5,
   "metadata": {},
   "outputs": [
    {
     "output_type": "execute_result",
     "data": {
      "text/plain": [
       "{-1}"
      ],
      "text/latex": "$\\displaystyle \\left\\{-1\\right\\}$"
     },
     "metadata": {},
     "execution_count": 5
    }
   ],
   "source": [
    "solveset( Eq( x**3, -1 ), domain=S.Reals )"
   ]
  },
  {
   "source": [
    "You can solve systems of equations by calling `solve` on them."
   ],
   "cell_type": "markdown",
   "metadata": {}
  },
  {
   "cell_type": "code",
   "execution_count": 8,
   "metadata": {},
   "outputs": [
    {
     "output_type": "execute_result",
     "data": {
      "text/plain": [
       "⎧   19          ⎫\n",
       "⎨x: ──, y: -4/11⎬\n",
       "⎩   11          ⎭"
      ],
      "text/latex": "$\\displaystyle \\left\\{ x : \\frac{19}{11}, \\  y : - \\frac{4}{11}\\right\\}$"
     },
     "metadata": {},
     "execution_count": 8
    }
   ],
   "source": [
    "var( 'x y' )\n",
    "system = [\n",
    "    Eq( x + 2*y, 1 ),\n",
    "    Eq( x - 9*y, 5 )\n",
    "]\n",
    "solve( system )"
   ]
  }
 ]
}