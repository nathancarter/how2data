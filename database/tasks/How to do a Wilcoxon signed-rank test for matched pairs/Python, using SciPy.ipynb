{
 "cells": [
  {
   "cell_type": "markdown",
   "metadata": {},
   "source": [
    "---\n",
    "author: Elizabeth Czarniak (CZARNIA_ELIZ@bentley.edu)\n",
    "---"
   ]
  },
  {
   "cell_type": "markdown",
   "metadata": {
    "cell_id": "00004-ebcb4743-17d6-421a-a3cc-54943484266d",
    "deepnote_cell_type": "markdown",
    "tags": []
   },
   "source": [
    "The method we will use is equivalent to subtracting the two samples and then\n",
    "performing the signed-rank test.  See how to do a Wilcoxon signed-rank test to\n",
    "compare the two methods.\n",
    "\n",
    "We're going to use fake data for illustrative purposes,\n",
    "but you can replace our fake data with your real data."
   ]
  },
  {
   "cell_type": "code",
   "execution_count": 6,
   "metadata": {
    "cell_id": "00005-309222cd-bc4a-4c5b-9760-3b9ac070e4e4",
    "deepnote_cell_type": "code",
    "deepnote_to_be_reexecuted": false,
    "execution_millis": 560,
    "execution_start": 1629398808857,
    "source_hash": "5d49f55d",
    "tags": []
   },
   "outputs": [],
   "source": [
    "import numpy as np\n",
    "# Replace sample1 and sample2 with your data\n",
    "sample1 = np.array([156, 133, 90, 176, 119, 120, 40, 52, 167, 80])\n",
    "sample2 = np.array([45, 36, 78, 54, 12, 25, 39, 48, 52, 70])"
   ]
  },
  {
   "cell_type": "markdown",
   "metadata": {
    "cell_id": "00006-b128af74-3343-4bf9-809e-a594e76d51a5",
    "deepnote_cell_type": "text-cell-h3",
    "is_collapsed": false,
    "tags": []
   },
   "source": [
    "We choose a value, $0 \\le \\alpha \\le 1$, as the Type I Error Rate. We'll let $\\alpha$ be 0.05.\n",
    "\n",
    "### Two-tailed test\n",
    "\n",
    "To test the null hypothesis $H_0: m_D = 0$, we use a two-tailed test:"
   ]
  },
  {
   "cell_type": "code",
   "execution_count": 7,
   "metadata": {
    "cell_id": "00000-44f69669-2240-436b-9d37-0d6625e6f9cb",
    "deepnote_cell_type": "code",
    "deepnote_to_be_reexecuted": false,
    "execution_millis": 8,
    "execution_start": 1629398811114,
    "source_hash": "3b8d6ec8",
    "tags": []
   },
   "outputs": [
    {
     "data": {
      "text/plain": [
       "WilcoxonResult(statistic=0.0, pvalue=0.001953125)"
      ]
     },
     "execution_count": 7,
     "metadata": {},
     "output_type": "execute_result"
    }
   ],
   "source": [
    "from scipy import stats\n",
    "from scipy.stats import wilcoxon\n",
    "wilcoxon(sample1 - sample2)"
   ]
  },
  {
   "cell_type": "markdown",
   "metadata": {
    "cell_id": "00006-ee337235-6e08-487d-b6f2-1d13ab9b7c1e",
    "deepnote_cell_type": "markdown",
    "tags": []
   },
   "source": [
    "Our p-value, 0.001953125, is less than $\\alpha=0.05$, so we have sufficient evidence\n",
    "to reject the null hypothesis. The median difference is significantly different\n",
    "from zero.\n",
    "\n",
    "### Right-tailed test\n",
    "\n",
    "To test the null hypothesis $H_0: m_D \\le 0$, we use a right-tailed test:"
   ]
  },
  {
   "cell_type": "code",
   "execution_count": 10,
   "metadata": {
    "cell_id": "00012-21c4d955-6e34-4da0-8a0f-bb441494080e",
    "deepnote_cell_type": "code",
    "deepnote_to_be_reexecuted": false,
    "execution_millis": 1,
    "execution_start": 1629398814244,
    "source_hash": "f6fb300f",
    "tags": []
   },
   "outputs": [
    {
     "data": {
      "text/plain": [
       "WilcoxonResult(statistic=55.0, pvalue=0.0009765625)"
      ]
     },
     "execution_count": 10,
     "metadata": {},
     "output_type": "execute_result"
    }
   ],
   "source": [
    "wilcoxon(sample1 - sample2, alternative = 'greater')"
   ]
  },
  {
   "cell_type": "markdown",
   "metadata": {
    "cell_id": "00013-a7bf8dfe-be9d-494c-abd0-7171d5321780",
    "deepnote_cell_type": "markdown",
    "tags": []
   },
   "source": [
    "Our p-value, 0.0009765625, is less than $\\alpha=0.05$, so we have sufficient evidence\n",
    "to reject the null hypothesis. The median difference is significantly greater\n",
    "than zero.\n",
    "\n",
    "### Left-tailed test\n",
    "\n",
    "To test the null hypothesis $H_0: m_D \\ge 0$, we use a left-tailed test:"
   ]
  },
  {
   "cell_type": "code",
   "execution_count": 9,
   "metadata": {
    "cell_id": "00016-cd904391-0a84-4820-b234-4c737b0c2f74",
    "deepnote_cell_type": "code",
    "deepnote_to_be_reexecuted": false,
    "execution_millis": 8,
    "execution_start": 1629398921506,
    "source_hash": "8ec1d690",
    "tags": []
   },
   "outputs": [
    {
     "data": {
      "text/plain": [
       "WilcoxonResult(statistic=55.0, pvalue=1.0)"
      ]
     },
     "execution_count": 9,
     "metadata": {},
     "output_type": "execute_result"
    }
   ],
   "source": [
    "wilcoxon(sample1 - sample2, alternative = 'less')"
   ]
  },
  {
   "cell_type": "markdown",
   "metadata": {
    "cell_id": "00017-04ff722a-f0d9-4790-982e-4a54e283ee85",
    "deepnote_cell_type": "markdown",
    "tags": []
   },
   "source": [
    "Our p-value, 1.0, is greater than $\\alpha$, so we do not have sufficient\n",
    "evidence to reject the null hypothesis. We should continue to assume that the\n",
    "mean difference may be less than (or equal to) zero."
   ]
  }
 ],
 "metadata": {
  "interpreter": {
   "hash": "d4d1e4263499bec80672ea0156c357c1ee493ec2b1c70f0acce89fc37c4a6abe"
  },
  "kernelspec": {
   "display_name": "Python 3.9.6 64-bit ('base': conda)",
   "name": "python3"
  },
  "language_info": {
   "codemirror_mode": {
    "name": "ipython",
    "version": 3
   },
   "file_extension": ".py",
   "mimetype": "text/x-python",
   "name": "python",
   "nbconvert_exporter": "python",
   "pygments_lexer": "ipython3",
   "version": "3.9.7"
  },
  "orig_nbformat": 2
 },
 "nbformat": 4,
 "nbformat_minor": 2
}
