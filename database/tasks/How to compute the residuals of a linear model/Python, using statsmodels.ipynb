{
 "cells": [
  {
   "cell_type": "markdown",
   "metadata": {
    "cell_id": "79e0c21aecfc4b798010efa15d9223dc",
    "deepnote_cell_type": "text-cell-h1",
    "is_collapsed": false,
    "tags": []
   },
   "source": [
    "---\n",
    "author: Andrew Quagliaroli (aquagliaroli@falcon.bentley.edu)\n",
    "---"
   ]
  },
  {
   "cell_type": "markdown",
   "metadata": {
    "cell_id": "6c14208b48734a81a57080d33a3779c3",
    "deepnote_cell_type": "text-cell-p",
    "is_collapsed": false,
    "tags": []
   },
   "source": [
    "Let’s assume that you’ve already built a linear model similar to the one below. This one uses a small amount of fake data, but it’s just an example."
   ]
  },
  {
   "cell_type": "code",
   "execution_count": null,
   "metadata": {
    "cell_id": "6b9fc631-1aec-403a-9d3f-64782587166a",
    "deepnote_cell_height": 207,
    "deepnote_cell_type": "code",
    "deepnote_to_be_reexecuted": false,
    "execution_millis": 815,
    "execution_start": 1650297694806,
    "source_hash": "f5c4da4a",
    "tags": []
   },
   "outputs": [],
   "source": [
    "import statsmodels.api as sm\n",
    "\n",
    "xs = [ 393, 453, 553, 679, 729, 748, 817 ]\n",
    "ys = [  24,  25,  27,  36,  55,  68,  84 ]\n",
    "\n",
    "xs = sm.add_constant( xs )\n",
    "reg = sm.OLS( ys, xs ).fit()"
   ]
  },
  {
   "cell_type": "markdown",
   "metadata": {
    "cell_id": "22413c0152784fdcab74729c8e14f1db",
    "deepnote_cell_height": 52.390625,
    "deepnote_cell_type": "markdown",
    "tags": []
   },
   "source": [
    "We can extract the residuals of the model by calling the model's `resid` attribute."
   ]
  },
  {
   "cell_type": "code",
   "execution_count": null,
   "metadata": {
    "cell_id": "67a7e5a7c7494d66aa397b4f668e53dd",
    "deepnote_cell_height": 137.375,
    "deepnote_cell_type": "code",
    "deepnote_output_heights": [
     40.390625
    ],
    "deepnote_to_be_reexecuted": false,
    "execution_millis": 6,
    "execution_start": 1650297695632,
    "owner_user_id": "dfa11070-6392-44d1-94e3-50a434c71b78",
    "source_hash": "9fbc5c22",
    "tags": []
   },
   "outputs": [
    {
     "data": {
      "text/plain": [
       "array([  9.16263041,   2.19945659,  -9.07249979, -16.79516483,\n",
       "        -4.43114302,   6.04718527,  12.88953537])"
      ]
     },
     "execution_count": 2,
     "metadata": {},
     "output_type": "execute_result"
    }
   ],
   "source": [
    "reg.resid"
   ]
  },
  {
   "cell_type": "markdown",
   "metadata": {
    "cell_id": "da9bbeb0263945a98e44161b423f49ec",
    "deepnote_cell_type": "text-cell-p",
    "is_collapsed": false,
    "tags": []
   },
   "source": [
    "The result is an array of the residuals for every value in the data set."
   ]
  }
 ],
 "metadata": {
  "deepnote": {
   "is_reactive": false
  },
  "deepnote_execution_queue": [],
  "deepnote_notebook_id": "8f7b711d-0833-46da-b6bf-600bb40d519c",
  "language_info": {
   "name": "python"
  },
  "orig_nbformat": 2
 },
 "nbformat": 4,
 "nbformat_minor": 2
}
