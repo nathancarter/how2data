{
 "metadata": {
  "language_info": {
   "codemirror_mode": {
    "name": "ipython",
    "version": 3
   },
   "file_extension": ".py",
   "mimetype": "text/x-python",
   "name": "python",
   "nbconvert_exporter": "python",
   "pygments_lexer": "ipython3",
   "version": "3.9.2"
  },
  "orig_nbformat": 2,
  "kernelspec": {
   "name": "python392jvsc74a57bd098b0a9b7b4eaaa670588a142fd0a9b87eaafe866f1db4228be72b4211d12040f",
   "display_name": "Python 3.9.2 64-bit ('base': conda)"
  }
 },
 "nbformat": 4,
 "nbformat_minor": 2,
 "cells": [
  {
   "source": [
    "---\n",
    "author: Nathan Carter (ncarter@bentley.edu)\n",
    "---\n",
    "\n",
    "This answer assumes you have imported SymPy as follows."
   ],
   "cell_type": "markdown",
   "metadata": {}
  },
  {
   "cell_type": "code",
   "execution_count": 1,
   "metadata": {},
   "outputs": [],
   "source": [
    "from sympy import *                   # load all math functions\n",
    "init_printing( use_latex='mathjax' )  # use pretty math output"
   ]
  },
  {
   "source": [
    "SymPy has support for piecewise functions built in, using `Piecewise`.\n",
    "The function above would be written as follows."
   ],
   "cell_type": "markdown",
   "metadata": {}
  },
  {
   "cell_type": "code",
   "execution_count": 4,
   "metadata": {},
   "outputs": [
    {
     "output_type": "execute_result",
     "data": {
      "text/plain": [
       "⎧  2             \n",
       "⎪ x     for x > 2\n",
       "⎨                \n",
       "⎪x + 1  otherwise\n",
       "⎩                "
      ],
      "text/latex": "$\\displaystyle \\begin{cases} x^{2} & \\text{for}\\: x > 2 \\\\x + 1 & \\text{otherwise} \\end{cases}$"
     },
     "metadata": {},
     "execution_count": 4
    }
   ],
   "source": [
    "var( 'x' )\n",
    "formula = Piecewise( (x**2, x>2), (1+x, x<=2) )\n",
    "formula"
   ]
  },
  {
   "source": [
    "We can test to be sure the function works correctly by plugging in a few\n",
    "$x$ values and ensuring the correct $y$ values result.\n",
    "Here we're using the method from how to substitute a value for a symbolic variable."
   ],
   "cell_type": "markdown",
   "metadata": {}
  },
  {
   "cell_type": "code",
   "execution_count": 6,
   "metadata": {},
   "outputs": [
    {
     "output_type": "execute_result",
     "data": {
      "text/plain": [
       "(2, 3, 9)"
      ],
      "text/latex": "$\\displaystyle \\left( 2, \\  3, \\  9\\right)$"
     },
     "metadata": {},
     "execution_count": 6
    }
   ],
   "source": [
    "formula.subs(x,1), formula.subs(x,2), formula.subs(x,3)"
   ]
  },
  {
   "source": [
    "For $x=1$ we got $1+1=2$.  For $x=2$ we got $2+1=3$.  For $x=3$, we got $3^2=9$."
   ],
   "cell_type": "markdown",
   "metadata": {}
  }
 ]
}