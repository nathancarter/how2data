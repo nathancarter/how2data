{
 "cells": [
  {
   "cell_type": "markdown",
   "metadata": {},
   "source": [
    "---\n",
    "author: Nathan Carter (ncarter@bentley.edu)\n",
    "---\n",
    "\n",
    "This answer assumes you have imported SymPy as follows."
   ]
  },
  {
   "cell_type": "code",
   "execution_count": 2,
   "metadata": {},
   "outputs": [],
   "source": [
    "from sympy import *                   # load all math functions\n",
    "init_printing( use_latex='mathjax' )  # use pretty math output"
   ]
  },
  {
   "attachments": {},
   "cell_type": "markdown",
   "metadata": {},
   "source": [
    "In mathematics, we would write a Riemann sum approximating $\\int_a^b f(x)\\;dx$ as follows.\n",
    "\n",
    "$$ \\lim_{n\\to\\infty}\\sum_{i=1}^n f(a+i\\Delta x)\\cdot\\Delta x, $$\n",
    "\n",
    "where $\\Delta x$ is defined as $\\frac{b-a}{n}$.\n",
    "\n",
    "This is easiest to understand if we break the Python code for it into several smaller parts.\n",
    "First, let's choose a formula we will use as $f(x)$ and the interval $[a,b]$ in question."
   ]
  },
  {
   "cell_type": "code",
   "execution_count": 4,
   "metadata": {},
   "outputs": [
    {
     "data": {
      "text/latex": [
       "$\\displaystyle \\frac{a - b}{n}$"
      ],
      "text/plain": [
       "a - b\n",
       "─────\n",
       "  n  "
      ]
     },
     "execution_count": 4,
     "metadata": {},
     "output_type": "execute_result"
    }
   ],
   "source": [
    "var( 'x a b i n' )     # We need all these variables, as you can see above.\n",
    "formula = x**2         # Let's pick f(x)=x^2 as a simple example.\n",
    "delta_x = (a - b) / n  # Define delta x.\n",
    "delta_x"
   ]
  },
  {
   "attachments": {},
   "cell_type": "markdown",
   "metadata": {},
   "source": [
    "The input $a+i\\Delta x$ (which we will substitute into our formula $f(x)$)\n",
    "varies along the $x$ axis between $a$ and $b$ as $i$ counts from 1 to $n$.\n",
    "Each $f(a+i\\Delta x)$ is the height of a rectangle whose right edge is at $a+i\\Delta x$."
   ]
  },
  {
   "cell_type": "code",
   "execution_count": 5,
   "metadata": {},
   "outputs": [
    {
     "data": {
      "text/latex": [
       "$\\displaystyle \\sum_{i=1}^{n} \\frac{\\left(a - b\\right) \\left(a + \\frac{i \\left(a - b\\right)}{n}\\right)^{2}}{n}$"
      ],
      "text/plain": [
       "  n                           \n",
       "_____                         \n",
       "╲                             \n",
       " ╲                           2\n",
       "  ╲           ⎛    i⋅(a - b)⎞ \n",
       "   ╲  (a - b)⋅⎜a + ─────────⎟ \n",
       "   ╱          ⎝        n    ⎠ \n",
       "  ╱   ────────────────────────\n",
       " ╱               n            \n",
       "╱                             \n",
       "‾‾‾‾‾                         \n",
       "i = 1                         "
      ]
     },
     "execution_count": 5,
     "metadata": {},
     "output_type": "execute_result"
    }
   ],
   "source": [
    "input  = a + i*delta_x             # Input i to substitute into f(x)\n",
    "height = formula.subs( x, input )  # Height of rectangle i\n",
    "area   = delta_x * height          # Area of rectangle i\n",
    "total  = Sum( area, (i,1,n) )      # Total area of all rectangles,\n",
    "total                              # which is the Reimann sum."
   ]
  },
  {
   "attachments": {},
   "cell_type": "markdown",
   "metadata": {},
   "source": [
    "We can actually use that formula to estimate $\\int_a^b f(x)\\;dx$\n",
    "if we substitute in actual values for $a$, $b$, and $n$.\n",
    "Let's estimate the area from $a=1$ to $b=3$ with $n=10$ rectangles.\n",
    "Recall techniques for evaluating summations discussed in\n",
    "how to define a mathematical series."
   ]
  },
  {
   "cell_type": "code",
   "execution_count": 30,
   "metadata": {},
   "outputs": [
    {
     "data": {
      "text/latex": [
       "$\\displaystyle - \\frac{17}{25}$"
      ],
      "text/plain": [
       "-17 \n",
       "────\n",
       " 25 "
      ]
     },
     "execution_count": 30,
     "metadata": {},
     "output_type": "execute_result"
    }
   ],
   "source": [
    "total.subs( a, 1 ).subs( b, 3 ).subs( n, 10 ).doit()"
   ]
  },
  {
   "attachments": {},
   "cell_type": "markdown",
   "metadata": {},
   "source": [
    "We can also use a Riemann sum to get the exact area by taking a limit as $n\\to\\infty$."
   ]
  },
  {
   "cell_type": "code",
   "execution_count": 31,
   "metadata": {},
   "outputs": [
    {
     "data": {
      "text/latex": [
       "$\\displaystyle - \\frac{2}{3}$"
      ],
      "text/plain": [
       "-2/3"
      ]
     },
     "execution_count": 31,
     "metadata": {},
     "output_type": "execute_result"
    }
   ],
   "source": [
    "Reimann_sum = total.subs( a, 1 ).subs( b, 3 )   # leave n as a variable\n",
    "Reimann_sum = Reimann_sum.doit()                # simplify the summation\n",
    "limit( Reimann_sum, n, oo )                     # take a limit as n -> infinity"
   ]
  }
 ],
 "metadata": {
  "kernelspec": {
   "display_name": "base",
   "language": "python",
   "name": "python3"
  },
  "language_info": {
   "codemirror_mode": {
    "name": "ipython",
    "version": 3
   },
   "file_extension": ".py",
   "mimetype": "text/x-python",
   "name": "python",
   "nbconvert_exporter": "python",
   "pygments_lexer": "ipython3",
   "version": "3.10.6 | packaged by conda-forge | (main, Aug 22 2022, 20:36:39) [GCC 10.4.0]"
  },
  "orig_nbformat": 2,
  "vscode": {
   "interpreter": {
    "hash": "d4d1e4263499bec80672ea0156c357c1ee493ec2b1c70f0acce89fc37c4a6abe"
   }
  }
 },
 "nbformat": 4,
 "nbformat_minor": 2
}
