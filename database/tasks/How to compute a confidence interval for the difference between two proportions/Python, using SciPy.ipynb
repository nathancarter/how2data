{
 "cells": [
  {
   "cell_type": "markdown",
   "source": [
    "---\n",
    "author: Elizabeth Czarniak (CZARNIA_ELIZ@bentley.edu)\n",
    "---"
   ],
   "metadata": {}
  },
  {
   "cell_type": "markdown",
   "source": [
    "Here is some fake data for the purposes of this illustration. Let's say we conduct a survey of people in Boston and of people in Nashville and ask them if they prefer chocolate or vanilla ice cream. We want to compare the proportions of people from the two cities who like vanilla.\n",
    "\n",
    " * Out of 150 people in Boston surveyed, 90 prefer vanilla.\n",
    " * Out of 135 people in Nashville surveyed, 50 prefer vanilla.\n",
    "\n",
    "We'll let $\\bar{p_1}$ represent the proportion of people from Boston who like vanilla and $\\bar{p_2}$ represent the proportion of people from Nashville who like vanilla. You can replace the code for this fake data below with your real data. "
   ],
   "metadata": {
    "tags": [],
    "cell_id": "00004-424d6b7b-bb04-490e-b75a-00d17c8be3d1",
    "deepnote_cell_type": "markdown"
   }
  },
  {
   "cell_type": "code",
   "execution_count": null,
   "source": [
    "# number of observations in the samples\n",
    "n1 = 150\n",
    "n2 = 135\n",
    "# proportions in the two samples\n",
    "p_bar1 = 90/150\n",
    "p_bar2 = 50/135"
   ],
   "outputs": [],
   "metadata": {
    "tags": [],
    "cell_id": "00000-92419fd6-fc26-4404-8b0b-326730e2a04d",
    "deepnote_cell_type": "code"
   }
  },
  {
   "cell_type": "markdown",
   "source": [
    "We now compute the confidence interval using tools from SciPy and NumPy."
   ],
   "metadata": {}
  },
  {
   "cell_type": "code",
   "execution_count": null,
   "source": [
    "# Find the critical value to compute the confidence interval\n",
    "from scipy import stats\n",
    "alpha = 0.05       # replace with your chosen alpha (here, a 95% confidence level)\n",
    "critical_value = stats.norm.ppf(1-alpha/2)\n",
    "\n",
    "# Compute the standard error of the proportions\n",
    "import numpy as np\n",
    "std_error = np.sqrt( p_bar1*(1-p_bar1)/n1 + p_bar2*(1-p_bar2)/n2 )\n",
    "\n",
    "# Compute the upper and lower bounds of the confidence interval\n",
    "upper_bound = (p_bar1 - p_bar2) + critical_value*std_error\n",
    "lower_bound = (p_bar1 - p_bar2) - critical_value*std_error\n",
    "lower_bound, upper_bound"
   ],
   "outputs": [],
   "metadata": {}
  },
  {
   "cell_type": "markdown",
   "source": [
    "The confidence interval for the difference between these two proportions is $[0.11657, 0.34269]$."
   ],
   "metadata": {
    "tags": [],
    "cell_id": "00006-f5fd14e1-a43f-48cd-8d7a-e0008ba223b2",
    "deepnote_cell_type": "markdown"
   }
  }
 ],
 "nbformat": 4,
 "nbformat_minor": 2,
 "metadata": {
  "orig_nbformat": 2,
  "language_info": {
   "name": "python"
  }
 }
}