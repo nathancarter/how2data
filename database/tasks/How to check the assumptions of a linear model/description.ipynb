{
  "cells": [
    {
      "cell_type": "markdown",
      "source": [
        "If you plan to use a linear model to describe some data, it's important to check if it satisfies the assumptions for linear regression. How can we do that?"
      ],
      "metadata": {
        "tags": [],
        "cell_id": "00000-b3181f1d-f855-42c6-99f6-a1f66bda390b",
        "deepnote_cell_type": "markdown"
      }
    }
  ],
  "metadata": {
    "orig_nbformat": 2,
    "deepnote": {
      "is_reactive": false
    },
    "deepnote_notebook_id": "8806fb7a-827b-460f-a09a-64354a40b8ab",
    "deepnote_execution_queue": [],
    "nteract": {
      "version": "0.28.0"
    }
  },
  "nbformat": 4,
  "nbformat_minor": 2
}