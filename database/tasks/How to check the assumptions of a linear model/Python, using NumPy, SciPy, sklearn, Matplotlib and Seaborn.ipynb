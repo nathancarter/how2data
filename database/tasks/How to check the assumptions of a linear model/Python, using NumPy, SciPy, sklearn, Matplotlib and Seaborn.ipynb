{
  "cells": [
    {
      "cell_type": "markdown",
      "source": [
        "---\n",
        "author: Krtin Juneja (KJUNEJA@falcon.bentley.edu)\n",
        "---"
      ],
      "metadata": {
        "nteract": {
          "transient": {
            "deleting": false
          }
        }
      }
    },
    {
      "cell_type": "markdown",
      "source": [
        "When performing a linear regression, the following assumptions should be checked.\n",
        "\n",
        "### 1. We have two or more columns of numerical data of the same length.\n",
        "\n",
        "The solution below uses an example dataset about car design and fuel consumption from a 1974 Motor Trend magazine.  (See how to quickly load some sample data.)  We can see that our columns all have the same length."
      ],
      "metadata": {
        "tags": [],
        "cell_id": "00001-478afd46-6866-4991-8c5a-5cb566277b9b",
        "deepnote_cell_type": "markdown"
      }
    },
    {
      "cell_type": "code",
      "execution_count": 2,
      "source": [
        "from rdatasets import data\n",
        "df = data('mtcars')\n",
        "df = df[['mpg','cyl','wt']]  # Select the 3 variables we're interested in\n",
        "df.info()"
      ],
      "outputs": [
        {
          "output_type": "stream",
          "name": "stdout",
          "text": [
            "<class 'pandas.core.frame.DataFrame'>\n",
            "RangeIndex: 32 entries, 0 to 31\n",
            "Data columns (total 3 columns):\n",
            " #   Column  Non-Null Count  Dtype  \n",
            "---  ------  --------------  -----  \n",
            " 0   mpg     32 non-null     float64\n",
            " 1   cyl     32 non-null     int64  \n",
            " 2   wt      32 non-null     float64\n",
            "dtypes: float64(2), int64(1)\n",
            "memory usage: 896.0 bytes\n"
          ]
        }
      ],
      "metadata": {
        "tags": [],
        "cell_id": "00001-de7c4762-c4da-4a39-86d1-f64bfa3c4d1c",
        "deepnote_to_be_reexecuted": false,
        "source_hash": "449c0cf6",
        "execution_start": 1625395479396,
        "execution_millis": 15,
        "deepnote_cell_type": "code"
      }
    },
    {
      "cell_type": "markdown",
      "source": [
        "### 2. Scatter plots we've made suggest a linear relationship.\n",
        "\n",
        "Scatterplots are covererd in how to create basic plots, but after making the model,\n",
        "we can also examine the residuals.\n",
        "\n",
        "So let's make the model. Our predictors will be the number of cylinders and the weight of the car and the response will be miles per gallon. (See also how to fit a linear model to two columns of data.)"
      ],
      "metadata": {
        "tags": [],
        "cell_id": "00002-e45ab65a-e463-4a4d-b3fd-f1c8173e0e32",
        "deepnote_cell_type": "markdown"
      }
    },
    {
      "cell_type": "code",
      "execution_count": 3,
      "source": [
        "from sklearn.linear_model import LinearRegression\n",
        "model = LinearRegression()\n",
        "\n",
        "predictors = df[['cyl','wt']]\n",
        "response = df['mpg']\n",
        "model.fit( X=predictors, y=response )\n",
        "\n",
        "predictions = model.predict(predictors)"
      ],
      "outputs": [],
      "metadata": {
        "tags": [],
        "cell_id": "00002-a3e306b9-7ab0-4b6c-b62e-76df97e1a8e5",
        "deepnote_to_be_reexecuted": false,
        "source_hash": "32e94e15",
        "execution_start": 1625395479420,
        "execution_millis": 4,
        "deepnote_cell_type": "code"
      }
    },
    {
      "cell_type": "markdown",
      "source": [
        "We test for linearity with residual plots.  We show just one residual plot here; you should make one for each predictor.  Seaborn has a function for just this purpose."
      ],
      "metadata": {
        "tags": [],
        "cell_id": "00006-ca689648-e2d1-4250-b677-e9e20ffb0839",
        "deepnote_cell_type": "markdown"
      }
    },
    {
      "cell_type": "code",
      "execution_count": 5,
      "source": [
        "import seaborn as sns\n",
        "import matplotlib.pyplot as plt\n",
        "# The \"lowess\" parameter adds a smooth line through the data:\n",
        "sns.residplot(x = df['wt'], y = response, data=df, lowess=True)\n",
        "plt.xlabel(\"Weight\")\n",
        "plt.title('Miles per gallon')\n",
        "plt.show()"
      ],
      "outputs": [
        {
          "output_type": "display_data",
          "data": {
            "image/png": "[encoded data removed]",
            "text/plain": [
              "<Figure size 432x288 with 1 Axes>"
            ]
          },
          "metadata": {
            "needs_background": "light"
          }
        }
      ],
      "metadata": {
        "tags": [],
        "cell_id": "00005-9b8585fd-0d4f-4a96-ab23-26c8d9c82681",
        "deepnote_to_be_reexecuted": false,
        "source_hash": "40270c0e",
        "execution_start": 1625395481031,
        "execution_millis": 798,
        "deepnote_cell_type": "code"
      }
    },
    {
      "cell_type": "markdown",
      "source": [
        "### 3. After making the model, the residuals seem normally distributed.\n",
        "\n",
        "We can check this by constructing a Q-Q plot, which compares the distribution of the residuals to a normal distribution. SciPy's `stats` module has a `probplot` function for this purpose.  The closer the blue residual values are to the red line, the closer their distribution is to normal."
      ],
      "metadata": {
        "tags": [],
        "cell_id": "00008-f2f5ddb7-cfc7-4afb-a171-b7e7630d9bf4",
        "deepnote_cell_type": "markdown"
      }
    },
    {
      "cell_type": "code",
      "execution_count": 6,
      "source": [
        "from scipy import stats\n",
        "residuals = response - predictions  # Compute the residuals\n",
        "stats.probplot(residuals, dist=\"norm\", plot=plt)\n",
        "plt.title(\"Normal Q-Q Plot\")\n",
        "plt.show()"
      ],
      "outputs": [
        {
          "output_type": "display_data",
          "data": {
            "image/png": "[encoded data removed]",
            "text/plain": [
              "<Figure size 432x288 with 1 Axes>"
            ]
          },
          "metadata": {
            "needs_background": "light"
          }
        }
      ],
      "metadata": {
        "tags": [],
        "cell_id": "00006-a8df066e-1c98-4e6b-b4b2-f4f0c5ed7e9f",
        "deepnote_to_be_reexecuted": false,
        "source_hash": "62643039",
        "execution_start": 1625395481957,
        "execution_millis": 157,
        "deepnote_cell_type": "code"
      }
    },
    {
      "cell_type": "markdown",
      "source": [
        "### 4. After making the model, the residuals seem homoscedastic.\n",
        "\n",
        "This assumption is sometimes called \"equal variance,\" and can be checked by the `regplot` function in Seaborn. We must first standardize the residuals, which we can do with NumPy.  We want to see a plot with no clear pattern; a cone shape to the data would indicate heteroscedasticity, the opposite of homoscedasticity."
      ],
      "metadata": {
        "tags": [],
        "cell_id": "00010-d0d6accd-8281-4183-b9c7-2074fd2a6ead",
        "deepnote_cell_type": "markdown"
      }
    },
    {
      "cell_type": "code",
      "execution_count": 7,
      "source": [
        "import numpy as np\n",
        "standardized_residuals = np.sqrt(np.abs(residuals))\n",
        "sns.regplot(x = predictions, y = standardized_residuals, scatter=True, lowess=True)\n",
        "plt.ylabel(\"Standarized residuals\")\n",
        "plt.xlabel(\"Fitted value\")\n",
        "plt.title(\"Scale-Location\")\n",
        "plt.show()"
      ],
      "outputs": [
        {
          "output_type": "display_data",
          "data": {
            "image/png": "[encoded data removed]",
            "text/plain": [
              "<Figure size 432x288 with 1 Axes>"
            ]
          },
          "metadata": {
            "needs_background": "light"
          }
        }
      ],
      "metadata": {
        "tags": [],
        "cell_id": "00007-cf7618ce-63b1-4f1e-a99a-e940f9e64a69",
        "deepnote_to_be_reexecuted": false,
        "source_hash": "79467e2d",
        "execution_start": 1625395482218,
        "execution_millis": 172,
        "deepnote_cell_type": "code"
      }
    }
  ],
  "metadata": {
    "orig_nbformat": 2,
    "deepnote": {
      "is_reactive": false
    },
    "deepnote_notebook_id": "7ae75a9e-a062-42da-9bac-28a6e5db2c88",
    "deepnote_execution_queue": [],
    "nteract": {
      "version": "0.28.0"
    },
    "language_info": {
      "name": "python",
      "version": "3.9.5",
      "mimetype": "text/x-python",
      "codemirror_mode": {
        "name": "ipython",
        "version": 3
      },
      "pygments_lexer": "ipython3",
      "nbconvert_exporter": "python",
      "file_extension": ".py"
    },
    "kernelspec": {
      "name": "python3",
      "display_name": "Python 3.9.5 64-bit ('base': conda)"
    },
    "interpreter": {
      "hash": "98b0a9b7b4eaaa670588a142fd0a9b87eaafe866f1db4228be72b4211d12040f"
    }
  },
  "nbformat": 4,
  "nbformat_minor": 2
}