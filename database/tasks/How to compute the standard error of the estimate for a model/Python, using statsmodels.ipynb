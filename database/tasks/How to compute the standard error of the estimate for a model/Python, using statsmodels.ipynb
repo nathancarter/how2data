{
  "cells": [
    {
      "cell_type": "markdown",
      "id": "cFKv_Ub9-36y",
      "metadata": {
        "id": "cFKv_Ub9-36y"
      },
      "source": [
        "---\n",
        "author:\n",
        " - Ni Shi (shi_ni@bentley.edu)\n",
        " - Nathan Carter (ncarter@bentley.edu)\n",
        "---"
      ]
    },
    {
      "cell_type": "markdown",
      "id": "cMVY2gdx-360",
      "metadata": {
        "id": "cMVY2gdx-360"
      },
      "source": [
        "\n",
        "\n",
        "\n",
        "\n",
        "\n",
        "Let's assume that you already fit the linear model, as shown in the code below.\n",
        "This one uses a small amount of fake data, but it's just an example.\n",
        "See also [how to fit a linear model to two columns of data](../how-to-fit-a-linear-model-to-two-columns-of-data).\n",
        "\n",
        "\n",
        "\n"
      ]
    },
    {
      "cell_type": "code",
      "execution_count": 16,
      "id": "zke1RnWc0NgW",
      "metadata": {
        "colab": {
          "base_uri": "https://localhost:8080/"
        },
        "id": "zke1RnWc0NgW",
        "outputId": "c511f6d7-fa47-4bcd-a15d-6c0c1045f754"
      },
      "outputs": [],
      "source": [
        "# Below is the fake data as an example. You can replace with your real data.\n",
        "x = [  34,   9,  78,  60,  22,  45,  83,  59,  25 ]\n",
        "y = [ 126, 347, 298, 309, 450, 187, 266, 385, 400 ]\n",
        "\n",
        "# Use statsmodels to build a linear regression model\n",
        "import statsmodels.api as sm\n",
        "x = sm.add_constant( x )\n",
        "model = sm.OLS( y, x ).fit()"
      ]
    },
    {
      "cell_type": "markdown",
      "id": "9JYRrZCh-362",
      "metadata": {
        "id": "9JYRrZCh-362"
      },
      "source": [
        "\n",
        "The standard error is shown as part of the model summary, reported by statsmodels's\n",
        "built-in `summary` function.  See the column entitled \"std err\" in the output below."
      ]
    },
    {
      "cell_type": "code",
      "execution_count": 17,
      "id": "0f096cec",
      "metadata": {},
      "outputs": [
        {
          "name": "stderr",
          "output_type": "stream",
          "text": [
            "/opt/conda/lib/python3.10/site-packages/scipy/stats/_stats_py.py:1772: UserWarning: kurtosistest only valid for n>=20 ... continuing anyway, n=9\n",
            "  warnings.warn(\"kurtosistest only valid for n>=20 ... continuing \"\n"
          ]
        },
        {
          "data": {
            "text/html": [
              "<table class=\"simpletable\">\n",
              "<caption>OLS Regression Results</caption>\n",
              "<tr>\n",
              "  <th>Dep. Variable:</th>            <td>y</td>        <th>  R-squared:         </th> <td>   0.063</td>\n",
              "</tr>\n",
              "<tr>\n",
              "  <th>Model:</th>                   <td>OLS</td>       <th>  Adj. R-squared:    </th> <td>  -0.071</td>\n",
              "</tr>\n",
              "<tr>\n",
              "  <th>Method:</th>             <td>Least Squares</td>  <th>  F-statistic:       </th> <td>  0.4693</td>\n",
              "</tr>\n",
              "<tr>\n",
              "  <th>Date:</th>             <td>Tue, 08 Nov 2022</td> <th>  Prob (F-statistic):</th>  <td> 0.515</td> \n",
              "</tr>\n",
              "<tr>\n",
              "  <th>Time:</th>                 <td>21:34:02</td>     <th>  Log-Likelihood:    </th> <td> -53.705</td>\n",
              "</tr>\n",
              "<tr>\n",
              "  <th>No. Observations:</th>      <td>     9</td>      <th>  AIC:               </th> <td>   111.4</td>\n",
              "</tr>\n",
              "<tr>\n",
              "  <th>Df Residuals:</th>          <td>     7</td>      <th>  BIC:               </th> <td>   111.8</td>\n",
              "</tr>\n",
              "<tr>\n",
              "  <th>Df Model:</th>              <td>     1</td>      <th>                     </th>     <td> </td>   \n",
              "</tr>\n",
              "<tr>\n",
              "  <th>Covariance Type:</th>      <td>nonrobust</td>    <th>                     </th>     <td> </td>   \n",
              "</tr>\n",
              "</table>\n",
              "<table class=\"simpletable\">\n",
              "<tr>\n",
              "    <td></td>       <th>coef</th>     <th>std err</th>      <th>t</th>      <th>P>|t|</th>  <th>[0.025</th>    <th>0.975]</th>  \n",
              "</tr>\n",
              "<tr>\n",
              "  <th>const</th> <td>  354.0822</td> <td>   76.733</td> <td>    4.614</td> <td> 0.002</td> <td>  172.638</td> <td>  535.526</td>\n",
              "</tr>\n",
              "<tr>\n",
              "  <th>x1</th>    <td>   -1.0090</td> <td>    1.473</td> <td>   -0.685</td> <td> 0.515</td> <td>   -4.492</td> <td>    2.474</td>\n",
              "</tr>\n",
              "</table>\n",
              "<table class=\"simpletable\">\n",
              "<tr>\n",
              "  <th>Omnibus:</th>       <td> 2.324</td> <th>  Durbin-Watson:     </th> <td>   1.618</td>\n",
              "</tr>\n",
              "<tr>\n",
              "  <th>Prob(Omnibus):</th> <td> 0.313</td> <th>  Jarque-Bera (JB):  </th> <td>   1.079</td>\n",
              "</tr>\n",
              "<tr>\n",
              "  <th>Skew:</th>          <td>-0.832</td> <th>  Prob(JB):          </th> <td>   0.583</td>\n",
              "</tr>\n",
              "<tr>\n",
              "  <th>Kurtosis:</th>      <td> 2.674</td> <th>  Cond. No.          </th> <td>    112.</td>\n",
              "</tr>\n",
              "</table><br/><br/>Notes:<br/>[1] Standard Errors assume that the covariance matrix of the errors is correctly specified."
            ],
            "text/plain": [
              "<class 'statsmodels.iolib.summary.Summary'>\n",
              "\"\"\"\n",
              "                            OLS Regression Results                            \n",
              "==============================================================================\n",
              "Dep. Variable:                      y   R-squared:                       0.063\n",
              "Model:                            OLS   Adj. R-squared:                 -0.071\n",
              "Method:                 Least Squares   F-statistic:                    0.4693\n",
              "Date:                Tue, 08 Nov 2022   Prob (F-statistic):              0.515\n",
              "Time:                        21:34:02   Log-Likelihood:                -53.705\n",
              "No. Observations:                   9   AIC:                             111.4\n",
              "Df Residuals:                       7   BIC:                             111.8\n",
              "Df Model:                           1                                         \n",
              "Covariance Type:            nonrobust                                         \n",
              "==============================================================================\n",
              "                 coef    std err          t      P>|t|      [0.025      0.975]\n",
              "------------------------------------------------------------------------------\n",
              "const        354.0822     76.733      4.614      0.002     172.638     535.526\n",
              "x1            -1.0090      1.473     -0.685      0.515      -4.492       2.474\n",
              "==============================================================================\n",
              "Omnibus:                        2.324   Durbin-Watson:                   1.618\n",
              "Prob(Omnibus):                  0.313   Jarque-Bera (JB):                1.079\n",
              "Skew:                          -0.832   Prob(JB):                        0.583\n",
              "Kurtosis:                       2.674   Cond. No.                         112.\n",
              "==============================================================================\n",
              "\n",
              "Notes:\n",
              "[1] Standard Errors assume that the covariance matrix of the errors is correctly specified.\n",
              "\"\"\""
            ]
          },
          "execution_count": 17,
          "metadata": {},
          "output_type": "execute_result"
        }
      ],
      "source": [
        "model.summary()"
      ]
    },
    {
      "cell_type": "markdown",
      "id": "gxFjkKRl-363",
      "metadata": {
        "id": "gxFjkKRl-363"
      },
      "source": [
        "If we need to extract just the estimates or their standard errors,\n",
        "we can use code like the following."
      ]
    },
    {
      "cell_type": "code",
      "execution_count": 18,
      "id": "UjwkV64N-365",
      "metadata": {
        "id": "UjwkV64N-365"
      },
      "outputs": [
        {
          "data": {
            "text/plain": [
              "array([354.0822479 ,  -1.00901261])"
            ]
          },
          "execution_count": 18,
          "metadata": {},
          "output_type": "execute_result"
        }
      ],
      "source": [
        "model.params # just the model coefficients"
      ]
    },
    {
      "cell_type": "code",
      "execution_count": 19,
      "id": "4c580a62",
      "metadata": {},
      "outputs": [
        {
          "data": {
            "text/plain": [
              "array([76.73277161,  1.47293931])"
            ]
          },
          "execution_count": 19,
          "metadata": {},
          "output_type": "execute_result"
        }
      ],
      "source": [
        "model.bse # just the standard errors of those estimates"
      ]
    },
    {
      "cell_type": "markdown",
      "id": "AE4NCu6I-366",
      "metadata": {
        "id": "AE4NCu6I-366"
      },
      "source": [
        "The standard error of the estimate for the intercept is is 76.73277161 and\n",
        "the standard error of the estimate for the slope is 1.47293931."
      ]
    }
  ],
  "metadata": {
    "colab": {
      "provenance": []
    },
    "kernelspec": {
      "display_name": "Python 3.10.6 ('base')",
      "language": "python",
      "name": "python3"
    },
    "language_info": {
      "codemirror_mode": {
        "name": "ipython",
        "version": 3
      },
      "file_extension": ".py",
      "mimetype": "text/x-python",
      "name": "python",
      "nbconvert_exporter": "python",
      "pygments_lexer": "ipython3",
      "version": "3.10.6"
    },
    "vscode": {
      "interpreter": {
        "hash": "d4d1e4263499bec80672ea0156c357c1ee493ec2b1c70f0acce89fc37c4a6abe"
      }
    }
  },
  "nbformat": 4,
  "nbformat_minor": 5
}
