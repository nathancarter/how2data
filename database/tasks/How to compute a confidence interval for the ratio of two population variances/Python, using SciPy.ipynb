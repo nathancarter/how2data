{
 "cells": [
  {
   "cell_type": "markdown",
   "source": [
    "---\n",
    "author: Elizabeth Czarniak (CZARNIA_ELIZ@bentley.edu)\n",
    "---"
   ],
   "metadata": {}
  },
  {
   "cell_type": "markdown",
   "source": [
    "We'll use R's dataset EuStockMarkets as an example; of course you should replace this example data with your actual data when using this code. This dataset has information on the daily closing prices of 4 European stock indices. We're going to compare the variability of Germany's DAX and France's CAC closing prices here. Let's load in the dataset using the process explained in how to quickly load some sample data."
   ],
   "metadata": {
    "tags": [],
    "cell_id": "00004-d594ae71-73d4-4c38-8b64-5b46fe4d9c8d",
    "deepnote_cell_type": "markdown"
   }
  },
  {
   "cell_type": "code",
   "execution_count": null,
   "source": [
    "from rdatasets import data\n",
    "import pandas as pd\n",
    "\n",
    "# Load in the EuStockMarkets data and convert to a DataFrame\n",
    "EuStockMarkets = data('EuStockMarkets')\n",
    "df = pd.DataFrame(EuStockMarkets[['DAX', 'CAC']])\n",
    "\n",
    "# Our two samples are its DAX and CAC columns\n",
    "sample1 = df['DAX'].tolist()\n",
    "sample2 = df['CAC'].tolist()"
   ],
   "outputs": [],
   "metadata": {
    "tags": [],
    "cell_id": "00000-98102ceb-ccb8-4c5d-a78b-bcd1771cd276",
    "deepnote_to_be_reexecuted": false,
    "source_hash": "b78eebdd",
    "execution_start": 1628713172046,
    "execution_millis": 0,
    "deepnote_cell_type": "code"
   }
  },
  {
   "cell_type": "markdown",
   "source": [
    "Now that we have our data loaded we can compute the confidence interval. You can change the confidence level by changing the value of $\\alpha$ below."
   ],
   "metadata": {
    "tags": [],
    "cell_id": "00006-a68fb9b7-5214-4dfc-abe6-ea243e49919f",
    "deepnote_cell_type": "markdown"
   }
  },
  {
   "cell_type": "code",
   "execution_count": null,
   "source": [
    "# The degrees of freedom in each sample is its length minus 1\n",
    "sample1_df = len(sample1) - 1\n",
    "sample2_df = len(sample2) - 1\n",
    "\n",
    "# Compute the ratio of the variances\n",
    "import statistics\n",
    "ratio = statistics.variance(sample1) / statistics.variance(sample2)\n",
    "\n",
    "# Find the critical values from the F-distribution\n",
    "from scipy import stats\n",
    "alpha = 0.05       # replace with your chosen alpha (here, a 95% confidence level)\n",
    "lower_critical_value = 1 / stats.f.ppf(q = 1 - alpha/2, dfn = sample1_df, dfd = sample2_df)\n",
    "upper_critical_value = stats.f.ppf(q = 1 - alpha/2, dfn = sample2_df, dfd = sample1_df)\n",
    "\n",
    "# Compute the confidence interval\n",
    "lower_bound = ratio * lower_critical_value\n",
    "upper_bound = ratio * upper_critical_value\n",
    "lower_bound, upper_bound"
   ],
   "outputs": [
    {
     "output_type": "stream",
     "name": "stdout",
     "text": [
      "lower bound: 3.190589226470889 upper bound: 3.827043522824141\n"
     ]
    }
   ],
   "metadata": {
    "tags": [],
    "cell_id": "00007-0a4e5e57-25cc-435c-8cd3-46037faa2a26",
    "deepnote_to_be_reexecuted": false,
    "source_hash": "1f00c0a6",
    "execution_start": 1628713779851,
    "execution_millis": 8,
    "deepnote_cell_type": "code"
   }
  },
  {
   "cell_type": "markdown",
   "source": [
    "The 95% confidence interval for the ratio of the variances for Germany's DAX and France's CAC is $[3.191, 3.827]$."
   ],
   "metadata": {
    "tags": [],
    "cell_id": "00008-1e7bfa2e-01f7-4b3e-9621-15dd8ca587c7",
    "deepnote_cell_type": "markdown"
   }
  }
 ],
 "nbformat": 4,
 "nbformat_minor": 2,
 "metadata": {
  "orig_nbformat": 2,
  "language_info": {
   "name": "python"
  }
 }
}