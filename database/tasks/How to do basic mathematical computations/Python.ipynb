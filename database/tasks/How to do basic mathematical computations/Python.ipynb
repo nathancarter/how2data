{
 "metadata": {
  "language_info": {
   "codemirror_mode": {
    "name": "ipython",
    "version": 3
   },
   "file_extension": ".py",
   "mimetype": "text/x-python",
   "name": "python",
   "nbconvert_exporter": "python",
   "pygments_lexer": "ipython3",
   "version": "3.9.2"
  },
  "orig_nbformat": 2,
  "kernelspec": {
   "name": "python392jvsc74a57bd098b0a9b7b4eaaa670588a142fd0a9b87eaafe866f1db4228be72b4211d12040f",
   "display_name": "Python 3.9.2 64-bit ('base': conda)"
  }
 },
 "nbformat": 4,
 "nbformat_minor": 2,
 "cells": [
  {
   "source": [
    "---\n",
    "author: Nathan Carter (ncarter@bentley.edu)\n",
    "---\n",
    "\n",
    "For those expressions that need the Python math package, use the code\n",
    "`import math` beforehand to ensure that package is loaded.  Alternatively,\n",
    "you can write `from math import *` and thus drop the `math` prefixes in\n",
    "the table below.\n",
    "\n",
    "| Mathematical notation | Python code | Requires math package? |\n",
    "|--|--|--|\n",
    "| $x+y$ | `x+y` | no |\n",
    "| $x-y$ | `x-y` | no |\n",
    "| $xy$ | `x*y` | no |\n",
    "| $\\frac xy$ | `x/y` | no |\n",
    "| $\\left\\lfloor\\frac xy\\right\\rfloor$ | `x//y` | no |\n",
    "| remainder of $x\\div y$ | `x%y` | no |\n",
    "| $x^y$ | `x**y` | no |\n",
    "| $\\vert x\\vert$ | `abs(x)` | no |\n",
    "| $\\ln x$ | `math.log(x)` | yes |\n",
    "| $\\log_a b$ | `math.log(b,a)` | yes |\n",
    "| $e^x$ | `math.exp(x)` | yes |\n",
    "| $\\pi$ | `math.pi` | yes |\n",
    "| $\\sin x$ | `math.sin(x)` | yes |\n",
    "| $\\sin^{-1} x$ | `math.asin(x)` | yes |\n",
    "| $\\sqrt x$ | `x**0.5` | no |\n",
    "| $\\sqrt x$ | `math.sqrt(x)` | yes |\n",
    "\n",
    "Other trigonometric functions are also available besides just `math.sin`,\n",
    "including `math.cos`, `math.tan`, etc.\n"
   ],
   "cell_type": "markdown",
   "metadata": {}
  }
 ]
}