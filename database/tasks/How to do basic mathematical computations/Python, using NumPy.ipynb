{
 "metadata": {
  "language_info": {
   "codemirror_mode": {
    "name": "ipython",
    "version": 3
   },
   "file_extension": ".py",
   "mimetype": "text/x-python",
   "name": "python",
   "nbconvert_exporter": "python",
   "pygments_lexer": "ipython3",
   "version": "3.9.2"
  },
  "orig_nbformat": 2,
  "kernelspec": {
   "name": "python392jvsc74a57bd098b0a9b7b4eaaa670588a142fd0a9b87eaafe866f1db4228be72b4211d12040f",
   "display_name": "Python 3.9.2 64-bit ('base': conda)"
  }
 },
 "nbformat": 4,
 "nbformat_minor": 2,
 "cells": [
  {
   "source": [
    "---\n",
    "author: Nathan Carter (ncarter@bentley.edu)\n",
    "---\n",
    "\n",
    "This answer assumes you have imported NumPy as follows.\n"
   ],
   "cell_type": "markdown",
   "metadata": {}
  },
  {
   "cell_type": "code",
   "execution_count": null,
   "metadata": {},
   "outputs": [],
   "source": [
    "import numpy as np"
   ]
  },
  {
   "source": [
    "\n",
    "| Mathematical notation | Python code | Requires NumPy? |\n",
    "|--|--|--|\n",
    "| $x+y$ | `x+y` | no |\n",
    "| $x-y$ | `x-y` | no |\n",
    "| $xy$ | `x*y` | no |\n",
    "| $\\frac xy$ | `x/y` | no |\n",
    "| $\\left\\lfloor\\frac xy\\right\\rfloor$ | `x//y` | no |\n",
    "| $\\left\\lfloor\\frac xy\\right\\rfloor$ | `np.floor_divide(x,y)` | yes |\n",
    "| remainder of $x\\div y$ | `x%y` | no |\n",
    "| remainder of $x\\div y$ | `np.remainder(x,y)` | yes |\n",
    "| $x^y$ | `x**y` | no |\n",
    "| $\\vert x\\vert$ | `abs(x)` | no |\n",
    "| $\\vert x\\vert$ | `np.abs(x)` | yes |\n",
    "| $\\ln x$ | `np.log(x)` | yes |\n",
    "| $\\log_a b$ | `np.log(b)/np.log(a)` | yes |\n",
    "| $e^x$ | `np.exp(x)` | yes |\n",
    "| $\\pi$ | `np.pi` | yes |\n",
    "| $\\sin x$ | `np.sin(x)` | yes |\n",
    "| $\\sin^{-1} x$ | `np.asin(x)` | yes |\n",
    "| $\\sqrt x$ | `x**0.5` | no |\n",
    "| $\\sqrt x$ | `np.sqrt(x)` | yes |\n",
    "\n",
    "Other trigonometric functions are also available besides just `np.sin`,\n",
    "including `np.cos`, `np.tan`, etc.\n",
    "\n",
    "NumPy automatically applies any of these functions to all entries of a NumPy\n",
    "array or pandas Series, but the built-in Python functions do not have this\n",
    "feature.  For example, to square all numbers in an array, see below.\n"
   ],
   "cell_type": "markdown",
   "metadata": {}
  },
  {
   "cell_type": "code",
   "execution_count": 2,
   "metadata": {},
   "outputs": [
    {
     "output_type": "execute_result",
     "data": {
      "text/plain": [
       "array([  9.  ,   4.  ,   0.25,   1.  , 100.  ,  84.64,  10.89])"
      ]
     },
     "metadata": {},
     "execution_count": 2
    }
   ],
   "source": [
    "import numpy as np\n",
    "example_array = np.array( [ -3, 2, 0.5, -1, 10, 9.2, -3.3 ] )\n",
    "example_array ** 2"
   ]
  }
 ]
}