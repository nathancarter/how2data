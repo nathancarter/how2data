{
 "metadata": {
  "language_info": {
   "codemirror_mode": {
    "name": "ipython",
    "version": 3
   },
   "file_extension": ".py",
   "mimetype": "text/x-python",
   "name": "python",
   "nbconvert_exporter": "python",
   "pygments_lexer": "ipython3",
   "version": "3.9.2"
  },
  "orig_nbformat": 2,
  "kernelspec": {
   "name": "python392jvsc74a57bd098b0a9b7b4eaaa670588a142fd0a9b87eaafe866f1db4228be72b4211d12040f",
   "display_name": "Python 3.9.2 64-bit ('base': conda)"
  }
 },
 "nbformat": 4,
 "nbformat_minor": 2,
 "cells": [
  {
   "source": [
    "---\n",
    "author: Nathan Carter (ncarter@bentley.edu)\n",
    "---\n",
    "\n",
    "This answer assumes you have imported SymPy as follows.\n"
   ],
   "cell_type": "markdown",
   "metadata": {}
  },
  {
   "cell_type": "code",
   "execution_count": 3,
   "metadata": {},
   "outputs": [],
   "source": [
    "from sympy import *                   # load all math functions\n",
    "init_printing( use_latex='mathjax' )  # use pretty math output"
   ]
  },
  {
   "source": [
    "\n",
    "| Mathematical notation | Python code | Requires SymPy? |\n",
    "|--|--|--|\n",
    "| $x+y$ | `x+y` | no |\n",
    "| $x-y$ | `x-y` | no |\n",
    "| $xy$ | `x*y` | no |\n",
    "| $\\frac xy$ | `x/y` | no |\n",
    "| $\\left\\lfloor\\frac xy\\right\\rfloor$ | `x//y` | no |\n",
    "| remainder of $x\\div y$ | `x%y` | no |\n",
    "| $x^y$ | `x**y` | no |\n",
    "| $\\vert x\\vert$ | `abs(x)` | no |\n",
    "| $\\ln x$ | `log(x)` | yes |\n",
    "| $\\log_a b$ | `log(b,a)` | yes |\n",
    "| $e^x$ | `E` | yes |\n",
    "| $\\pi$ | `pi` | yes |\n",
    "| $\\sin x$ | `sin(x)` | yes |\n",
    "| $\\sin^{-1} x$ | `asin(x)` | yes |\n",
    "| $\\sqrt x$ | `sqrt(x)` | yes |\n",
    "\n",
    "Other trigonometric functions are also available besides just `sin`,\n",
    "including `cos`, `tan`, etc.\n",
    "\n",
    "Note that SymPy gives precise answers to mathematical queries,\n",
    "which may not be what you want.\n"
   ],
   "cell_type": "markdown",
   "metadata": {}
  },
  {
   "cell_type": "code",
   "execution_count": 4,
   "metadata": {},
   "outputs": [
    {
     "output_type": "execute_result",
     "data": {
      "text/plain": [
       "√2"
      ],
      "text/latex": "$\\displaystyle \\sqrt{2}$"
     },
     "metadata": {},
     "execution_count": 4
    }
   ],
   "source": [
    "sqrt(2)"
   ]
  },
  {
   "source": [
    "If you want a decimal approximation instead, you can use the `N` function."
   ],
   "cell_type": "markdown",
   "metadata": {}
  },
  {
   "cell_type": "code",
   "execution_count": 5,
   "metadata": {},
   "outputs": [
    {
     "output_type": "execute_result",
     "data": {
      "text/plain": [
       "1.41421356237310"
      ],
      "text/latex": "$\\displaystyle 1.4142135623731$"
     },
     "metadata": {},
     "execution_count": 5
    }
   ],
   "source": [
    "N(sqrt(2))"
   ]
  },
  {
   "source": [
    "Or you can use the `evalf` function."
   ],
   "cell_type": "markdown",
   "metadata": {}
  },
  {
   "cell_type": "code",
   "execution_count": 6,
   "metadata": {},
   "outputs": [
    {
     "output_type": "execute_result",
     "data": {
      "text/plain": [
       "1.41421356237310"
      ],
      "text/latex": "$\\displaystyle 1.4142135623731$"
     },
     "metadata": {},
     "execution_count": 6
    }
   ],
   "source": [
    "sqrt(2).evalf()"
   ]
  },
  {
   "source": [
    "By contrast, if you need an exact rational number when Python gives you\n",
    "an approximation, you can use the `Rational` function to build one.\n",
    "Note the differences below:"
   ],
   "cell_type": "markdown",
   "metadata": {}
  },
  {
   "cell_type": "code",
   "execution_count": 7,
   "metadata": {},
   "outputs": [
    {
     "output_type": "execute_result",
     "data": {
      "text/plain": [
       "0.3333333333333333"
      ],
      "text/latex": "$\\displaystyle 0.333333333333333$"
     },
     "metadata": {},
     "execution_count": 7
    }
   ],
   "source": [
    "1/3"
   ]
  },
  {
   "cell_type": "code",
   "execution_count": 8,
   "metadata": {},
   "outputs": [
    {
     "output_type": "execute_result",
     "data": {
      "text/plain": [
       "1/3"
      ],
      "text/latex": "$\\displaystyle \\frac{1}{3}$"
     },
     "metadata": {},
     "execution_count": 8
    }
   ],
   "source": [
    "Rational(1,3)"
   ]
  }
 ]
}