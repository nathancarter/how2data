{
 "metadata": {
  "language_info": {
   "codemirror_mode": {
    "name": "ipython",
    "version": 3
   },
   "file_extension": ".py",
   "mimetype": "text/x-python",
   "name": "python",
   "nbconvert_exporter": "python",
   "pygments_lexer": "ipython3",
   "version": "3.9.2"
  },
  "orig_nbformat": 2,
  "kernelspec": {
   "name": "python392jvsc74a57bd098b0a9b7b4eaaa670588a142fd0a9b87eaafe866f1db4228be72b4211d12040f",
   "display_name": "Python 3.9.2 64-bit ('base': conda)"
  }
 },
 "nbformat": 4,
 "nbformat_minor": 2,
 "cells": [
  {
   "source": [
    "---\n",
    "author: Nathan Carter (ncarter@bentley.edu)\n",
    "---\n",
    "\n",
    "This answer assumes you have imported SymPy as follows."
   ],
   "cell_type": "markdown",
   "metadata": {}
  },
  {
   "cell_type": "code",
   "execution_count": 10,
   "metadata": {},
   "outputs": [],
   "source": [
    "from sympy import *                   # load all math functions\n",
    "init_printing( use_latex='mathjax' )  # use pretty math output"
   ]
  },
  {
   "source": [
    "Let's re-use here the code from how to write an ordinary differential equation,\n",
    "to write $\\frac{dy}{dx}=y$.\n"
   ],
   "cell_type": "markdown",
   "metadata": {}
  },
  {
   "cell_type": "code",
   "execution_count": 11,
   "metadata": {},
   "outputs": [
    {
     "output_type": "execute_result",
     "data": {
      "text/plain": [
       "        d       \n",
       "-y(x) + ──(y(x))\n",
       "        dx      "
      ],
      "text/latex": "$\\displaystyle - y{\\left(x \\right)} + \\frac{d}{d x} y{\\left(x \\right)}$"
     },
     "metadata": {},
     "execution_count": 11
    }
   ],
   "source": [
    "var( 'x' )\n",
    "y = Function('y')(x)\n",
    "dydx = Derivative( y, x )\n",
    "ode = dydx - y\n",
    "ode"
   ]
  },
  {
   "source": [
    "You can solve an ODE by using the `dsolve` command."
   ],
   "cell_type": "markdown",
   "metadata": {}
  },
  {
   "cell_type": "code",
   "execution_count": 12,
   "metadata": {},
   "outputs": [
    {
     "output_type": "execute_result",
     "data": {
      "text/plain": [
       "           x\n",
       "y(x) = C₁⋅ℯ "
      ],
      "text/latex": "$\\displaystyle y{\\left(x \\right)} = C_{1} e^{x}$"
     },
     "metadata": {},
     "execution_count": 12
    }
   ],
   "source": [
    "solution = dsolve( ode )\n",
    "solution"
   ]
  },
  {
   "source": [
    "If there are initial conditions that need to be substituted in for $x$ and $y$,\n",
    "it is crucial to substitute for $y$ first and then $x$.  Let's assume we have the\n",
    "initial condition $(3,5)$.  We might proceed as follows."
   ],
   "cell_type": "markdown",
   "metadata": {}
  },
  {
   "source": [
    "with_inits = solution.subs( y, 5 ).subs( x, 3 )\n",
    "with_inits"
   ],
   "cell_type": "code",
   "metadata": {},
   "execution_count": 20,
   "outputs": [
    {
     "output_type": "execute_result",
     "data": {
      "text/plain": [
       "        3\n",
       "5 = C₁⋅ℯ "
      ],
      "text/latex": "$\\displaystyle 5 = C_{1} e^{3}$"
     },
     "metadata": {},
     "execution_count": 20
    }
   ]
  },
  {
   "cell_type": "code",
   "execution_count": 21,
   "metadata": {},
   "outputs": [
    {
     "output_type": "execute_result",
     "data": {
      "text/plain": [
       "⎡   -3⎤\n",
       "⎣5⋅ℯ  ⎦"
      ],
      "text/latex": "$\\displaystyle \\left[ \\frac{5}{e^{3}}\\right]$"
     },
     "metadata": {},
     "execution_count": 21
    }
   ],
   "source": [
    "solve( with_inits )"
   ]
  },
  {
   "source": [
    "To substitute $C_1=\\frac{5}{e^3}$ into the solution, note that $C_1$ is written as `var('C1')`."
   ],
   "cell_type": "markdown",
   "metadata": {}
  },
  {
   "cell_type": "code",
   "execution_count": 17,
   "metadata": {},
   "outputs": [
    {
     "output_type": "execute_result",
     "data": {
      "text/plain": [
       "          -3  x\n",
       "y(x) = 5⋅ℯ  ⋅ℯ "
      ],
      "text/latex": "$\\displaystyle y{\\left(x \\right)} = \\frac{5 e^{x}}{e^{3}}$"
     },
     "metadata": {},
     "execution_count": 17
    }
   ],
   "source": [
    "solution.subs( var('C1'), 5/E**3 )"
   ]
  }
 ]
}