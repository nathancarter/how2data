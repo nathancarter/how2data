{
 "cells": [
  {
   "cell_type": "markdown",
   "metadata": {
    "cell_id": "01af2457828b4df3a2dadb4531290d4c",
    "deepnote_cell_type": "text-cell-h1",
    "is_collapsed": false,
    "tags": []
   },
   "source": [
    "---\n",
    "author: Andrew Quagliaroli (aquagliaroli@falcon.bentley.edu)\n",
    "---"
   ]
  },
  {
   "cell_type": "markdown",
   "metadata": {
    "cell_id": "f9621eeb223c4881a0236df3c4b46f00",
    "deepnote_cell_type": "text-cell-p",
    "is_collapsed": false,
    "tags": []
   },
   "source": [
    "We’ll assume that you have fit a single linear model to your data, as in the code below, which uses fake example data. You can replace it with your actual data."
   ]
  },
  {
   "cell_type": "code",
   "execution_count": null,
   "metadata": {
    "cell_id": "8c35c8ff-6b76-4ccb-ac07-ea2fe8eeb29b",
    "deepnote_cell_height": 243,
    "deepnote_cell_type": "code",
    "deepnote_to_be_reexecuted": false,
    "execution_millis": 603,
    "execution_start": 1650297703475,
    "source_hash": "1563c0e4",
    "tags": []
   },
   "outputs": [],
   "source": [
    "import statsmodels.api as sm\n",
    "\n",
    "xs = [  34,   9,  78,  60,  22,  45,  83,  59,  25 ]\n",
    "ys = [ 126, 347, 298, 309, 450, 187, 266, 385, 400 ]\n",
    "\n",
    "xs = sm.add_constant( xs )\n",
    "model = sm.OLS( ys, xs )\n",
    "results = model.fit()"
   ]
  },
  {
   "cell_type": "markdown",
   "metadata": {
    "cell_id": "b3590f96973f47cea18706dc4127e84f",
    "deepnote_cell_height": 97.1875,
    "deepnote_cell_type": "markdown",
    "tags": []
   },
   "source": [
    "We can use Python’s `conf_int()` function to find the confidence interval for the model coefficients. You can change the `alpha` parameter to specify a different significance level. Note that if you have a multiple regression model, it will make confidence intervals for all of the coefficient values."
   ]
  },
  {
   "cell_type": "code",
   "execution_count": null,
   "metadata": {
    "cell_id": "c068a419e9eb4681ae60221e852248be",
    "deepnote_cell_height": 137.375,
    "deepnote_cell_type": "code",
    "deepnote_output_heights": [
     40.390625
    ],
    "deepnote_to_be_reexecuted": false,
    "execution_millis": 12,
    "execution_start": 1650297704085,
    "owner_user_id": "dfa11070-6392-44d1-94e3-50a434c71b78",
    "source_hash": "1b98a043",
    "tags": []
   },
   "outputs": [
    {
     "data": {
      "text/plain": [
       "array([[172.63807531, 535.52642049],\n",
       "       [ -4.49196063,   2.47393542]])"
      ]
     },
     "execution_count": 2,
     "metadata": {},
     "output_type": "execute_result"
    }
   ],
   "source": [
    "results.conf_int( alpha=0.05 )"
   ]
  },
  {
   "cell_type": "markdown",
   "metadata": {
    "cell_id": "6531a2061854428eb8c1cbbf5a9e0a00",
    "deepnote_cell_type": "text-cell-p",
    "is_collapsed": false,
    "tags": []
   },
   "source": [
    "Each list in the array represents the 95% confidence interval for the corresponding coefficient in the model beginning with the intercept and each regression coefficient thereafter. Accordingly, the 95% confidence interval for the regression coefficient is $[-4.49196063,2.47393542]$."
   ]
  }
 ],
 "metadata": {
  "deepnote": {
   "is_reactive": false
  },
  "deepnote_execution_queue": [],
  "deepnote_notebook_id": "72100bc6-0009-41c8-9d6e-a5c1a4a344c9",
  "language_info": {
   "name": "python"
  },
  "orig_nbformat": 2
 },
 "nbformat": 4,
 "nbformat_minor": 2
}
