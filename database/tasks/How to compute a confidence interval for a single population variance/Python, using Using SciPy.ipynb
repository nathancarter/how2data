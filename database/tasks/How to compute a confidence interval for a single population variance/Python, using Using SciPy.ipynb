{
 "cells": [
  {
   "cell_type": "markdown",
   "source": [
    "---\n",
    "author: Elizabeth Czarniak (CZARNIA_ELIZ@bentley.edu)\n",
    "---"
   ],
   "metadata": {}
  },
  {
   "cell_type": "markdown",
   "source": [
    "We'll use R's dataset EuStockMarkets here. This dataset has information on the daily closing prices of 4 European stock indices. We're going to look at the variability of Germany's DAX closing prices. For more information on how this is done, see how to quickly load some sample data.  You can replace the example data below with your actual data."
   ],
   "metadata": {
    "tags": [],
    "cell_id": "00004-e602221b-3e42-49b8-b2c7-5649e01008d8",
    "deepnote_cell_type": "markdown"
   }
  },
  {
   "cell_type": "code",
   "execution_count": null,
   "source": [
    "# Load in EuStockMarkets data\n",
    "from rdatasets import data\n",
    "import pandas as pd\n",
    "df = data('EuStockMarkets')\n",
    "\n",
    "# Select the column for Germany's DAX closing prices\n",
    "sample = df['DAX']"
   ],
   "outputs": [],
   "metadata": {
    "tags": [],
    "cell_id": "00000-6c28b560-c3e1-43d5-8fbf-3c7f76034e6c",
    "deepnote_cell_type": "code"
   }
  },
  {
   "cell_type": "markdown",
   "source": [
    "Now that we have our sample data loaded, let's go ahead and make the confidence interval using SciPy."
   ],
   "metadata": {
    "tags": [],
    "cell_id": "00006-7798a26c-0f17-4890-b89d-635e7dbeb6b3",
    "deepnote_cell_type": "markdown"
   }
  },
  {
   "cell_type": "code",
   "execution_count": null,
   "source": [
    "from scipy import stats\n",
    "\n",
    "# Find the critical values from the right and left tails of the Chi-square distribution\n",
    "alpha = 0.05       # replace with your chosen alpha (here, a 95% confidence level)\n",
    "n = len( sample )\n",
    "left_critical_val = stats.chi2.ppf(1-alpha/2, df=n-1)\n",
    "right_critical_val = stats.chi2.ppf(alpha/2, df=n-1)\n",
    "\n",
    "# Find the upper and lower bounds of the confidence interval and print them out\n",
    "lower_bound = ((n - 1)*sample.var())/left_critical_val\n",
    "upper_bound = ((n - 1)*sample.var())/right_critical_val\n",
    "lower_bound, upper_bound"
   ],
   "outputs": [],
   "metadata": {
    "tags": [],
    "cell_id": "00007-574902f2-f956-4002-94a4-b698994b7f14",
    "deepnote_cell_type": "code"
   }
  },
  {
   "cell_type": "markdown",
   "source": [
    "Our 95% confidence interval for the standard deviation of Germany's DAX closing prices is $[1104642, 1256248]$."
   ],
   "metadata": {
    "tags": [],
    "cell_id": "00008-4c0c881e-4868-480b-b825-b5f311e75de8",
    "deepnote_cell_type": "markdown"
   }
  }
 ],
 "nbformat": 4,
 "nbformat_minor": 2,
 "metadata": {
  "orig_nbformat": 2,
  "language_info": {
   "name": "python"
  }
 }
}