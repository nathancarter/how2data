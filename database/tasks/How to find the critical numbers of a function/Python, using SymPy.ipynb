{
 "metadata": {
  "language_info": {
   "codemirror_mode": {
    "name": "ipython",
    "version": 3
   },
   "file_extension": ".py",
   "mimetype": "text/x-python",
   "name": "python",
   "nbconvert_exporter": "python",
   "pygments_lexer": "ipython3",
   "version": "3.9.2"
  },
  "orig_nbformat": 2,
  "kernelspec": {
   "name": "python392jvsc74a57bd098b0a9b7b4eaaa670588a142fd0a9b87eaafe866f1db4228be72b4211d12040f",
   "display_name": "Python 3.9.2 64-bit ('base': conda)"
  }
 },
 "nbformat": 4,
 "nbformat_minor": 2,
 "cells": [
  {
   "source": [
    "---\n",
    "author: Nathan Carter (ncarter@bentley.edu)\n",
    "---\n",
    "\n",
    "This answer assumes you have imported SymPy as follows."
   ],
   "cell_type": "markdown",
   "metadata": {}
  },
  {
   "cell_type": "code",
   "execution_count": 1,
   "metadata": {},
   "outputs": [],
   "source": [
    "from sympy import *                   # load all math functions\n",
    "init_printing( use_latex='mathjax' )  # use pretty math output"
   ]
  },
  {
   "source": [
    "Let's create an example function to work with."
   ],
   "cell_type": "markdown",
   "metadata": {}
  },
  {
   "cell_type": "code",
   "execution_count": 6,
   "metadata": {},
   "outputs": [
    {
     "output_type": "execute_result",
     "data": {
      "text/plain": [
       "       _______\n",
       "-x + ╲╱ x - 1 "
      ],
      "text/latex": "$\\displaystyle - x + \\sqrt{x - 1}$"
     },
     "metadata": {},
     "execution_count": 6
    }
   ],
   "source": [
    "var( 'x' )\n",
    "formula = sqrt( x - 1 ) - x\n",
    "formula"
   ]
  },
  {
   "source": [
    "Critical numbers come in two kinds.  First, where is the derivative zero?\n",
    "Second, where is the derivative undefined but the function is defined?\n",
    "\n",
    "Let's begin by finding where the derivative is zero.  We'll use the same\n",
    "techniques introduced in how to write symbolic equations and\n",
    "how to solve symbolic equations."
   ],
   "cell_type": "markdown",
   "metadata": {}
  },
  {
   "cell_type": "code",
   "execution_count": 7,
   "metadata": {},
   "outputs": [
    {
     "output_type": "execute_result",
     "data": {
      "text/plain": [
       "          1     \n",
       "-1 + ───────────\n",
       "         _______\n",
       "     2⋅╲╱ x - 1 "
      ],
      "text/latex": "$\\displaystyle -1 + \\frac{1}{2 \\sqrt{x - 1}}$"
     },
     "metadata": {},
     "execution_count": 7
    }
   ],
   "source": [
    "derivative = diff( formula )\n",
    "derivative"
   ]
  },
  {
   "cell_type": "code",
   "execution_count": 8,
   "metadata": {},
   "outputs": [
    {
     "output_type": "execute_result",
     "data": {
      "text/plain": [
       "[5/4]"
      ],
      "text/latex": "$\\displaystyle \\left[ \\frac{5}{4}\\right]$"
     },
     "metadata": {},
     "execution_count": 8
    }
   ],
   "source": [
    "solve( Eq( derivative, 0 ) )"
   ]
  },
  {
   "source": [
    "So one critical number, where the derivative is zero, is $x=\\frac54$.\n",
    "\n",
    "Now where is the derivative defined but the function undefined?\n",
    "We compute the domain of both functions and subtract them, using the techniques\n",
    "from how to compute the domain of a function."
   ],
   "cell_type": "markdown",
   "metadata": {}
  },
  {
   "cell_type": "code",
   "execution_count": 9,
   "metadata": {},
   "outputs": [
    {
     "output_type": "execute_result",
     "data": {
      "text/plain": [
       "{1}"
      ],
      "text/latex": "$\\displaystyle \\left\\{1\\right\\}$"
     },
     "metadata": {},
     "execution_count": 9
    }
   ],
   "source": [
    "from sympy.calculus.util import continuous_domain\n",
    "f_domain = continuous_domain( formula, x, S.Reals )\n",
    "deriv_domain = continuous_domain( derivative, x, S.Reals )\n",
    "Complement( f_domain, deriv_domain )"
   ]
  },
  {
   "source": [
    "So another critical number, where the function is defined but the derivative is not,\n",
    "is $x=1$.\n",
    "\n",
    "Thus the full set of critical numbers for this function is $\\left\\{1,\\frac54\\right\\}$."
   ],
   "cell_type": "markdown",
   "metadata": {}
  }
 ]
}