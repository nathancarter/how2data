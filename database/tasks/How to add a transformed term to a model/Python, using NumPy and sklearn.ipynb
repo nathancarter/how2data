{
  "cells": [
    {
      "cell_type": "markdown",
      "id": "WGaVFctyBWkn",
      "metadata": {
        "id": "WGaVFctyBWkn"
      },
      "source": [
        "---\n",
        "author: Ni Shi (shi_ni@bentley.edu)\n",
        "---"
      ]
    },
    {
      "cell_type": "markdown",
      "id": "WJb2Lrr4BWkr",
      "metadata": {
        "id": "WJb2Lrr4BWkr"
      },
      "source": [
        "\n",
        "\n",
        "\n",
        "\n",
        "\n",
        "We're going to create the `Pressure` dataset as example data.\n",
        "It contains observations of pressure and temperature.\n",
        "You would use your own data instead.\n",
        "\n",
        "\n",
        "\n"
      ]
    },
    {
      "cell_type": "code",
      "execution_count": null,
      "id": "U77_L9w6BWkr",
      "metadata": {
        "colab": {
          "base_uri": "https://localhost:8080/",
          "height": 645
        },
        "id": "U77_L9w6BWkr",
        "outputId": "d89a41c1-95e2-4d71-b7a5-94284e2327d7"
      },
      "outputs": [
        {
          "data": {
            "text/html": [
              "\n",
              "  <div id=\"df-ee23e784-e8bb-438e-9114-1dce6b4a34d2\">\n",
              "    <div class=\"colab-df-container\">\n",
              "      <div>\n",
              "<style scoped>\n",
              "    .dataframe tbody tr th:only-of-type {\n",
              "        vertical-align: middle;\n",
              "    }\n",
              "\n",
              "    .dataframe tbody tr th {\n",
              "        vertical-align: top;\n",
              "    }\n",
              "\n",
              "    .dataframe thead th {\n",
              "        text-align: right;\n",
              "    }\n",
              "</style>\n",
              "<table border=\"1\" class=\"dataframe\">\n",
              "  <thead>\n",
              "    <tr style=\"text-align: right;\">\n",
              "      <th></th>\n",
              "      <th>temperature</th>\n",
              "      <th>pressure</th>\n",
              "    </tr>\n",
              "  </thead>\n",
              "  <tbody>\n",
              "    <tr>\n",
              "      <th>0</th>\n",
              "      <td>0</td>\n",
              "      <td>0.0002</td>\n",
              "    </tr>\n",
              "    <tr>\n",
              "      <th>1</th>\n",
              "      <td>20</td>\n",
              "      <td>0.0012</td>\n",
              "    </tr>\n",
              "    <tr>\n",
              "      <th>2</th>\n",
              "      <td>40</td>\n",
              "      <td>0.0060</td>\n",
              "    </tr>\n",
              "    <tr>\n",
              "      <th>3</th>\n",
              "      <td>60</td>\n",
              "      <td>0.0300</td>\n",
              "    </tr>\n",
              "    <tr>\n",
              "      <th>4</th>\n",
              "      <td>80</td>\n",
              "      <td>0.0900</td>\n",
              "    </tr>\n",
              "    <tr>\n",
              "      <th>5</th>\n",
              "      <td>100</td>\n",
              "      <td>0.2700</td>\n",
              "    </tr>\n",
              "    <tr>\n",
              "      <th>6</th>\n",
              "      <td>120</td>\n",
              "      <td>0.7500</td>\n",
              "    </tr>\n",
              "    <tr>\n",
              "      <th>7</th>\n",
              "      <td>140</td>\n",
              "      <td>1.8500</td>\n",
              "    </tr>\n",
              "    <tr>\n",
              "      <th>8</th>\n",
              "      <td>160</td>\n",
              "      <td>4.2000</td>\n",
              "    </tr>\n",
              "    <tr>\n",
              "      <th>9</th>\n",
              "      <td>180</td>\n",
              "      <td>8.8000</td>\n",
              "    </tr>\n",
              "    <tr>\n",
              "      <th>10</th>\n",
              "      <td>200</td>\n",
              "      <td>17.3000</td>\n",
              "    </tr>\n",
              "    <tr>\n",
              "      <th>11</th>\n",
              "      <td>220</td>\n",
              "      <td>32.1000</td>\n",
              "    </tr>\n",
              "    <tr>\n",
              "      <th>12</th>\n",
              "      <td>240</td>\n",
              "      <td>57.0000</td>\n",
              "    </tr>\n",
              "    <tr>\n",
              "      <th>13</th>\n",
              "      <td>260</td>\n",
              "      <td>96.0000</td>\n",
              "    </tr>\n",
              "    <tr>\n",
              "      <th>14</th>\n",
              "      <td>280</td>\n",
              "      <td>157.0000</td>\n",
              "    </tr>\n",
              "    <tr>\n",
              "      <th>15</th>\n",
              "      <td>300</td>\n",
              "      <td>247.0000</td>\n",
              "    </tr>\n",
              "    <tr>\n",
              "      <th>16</th>\n",
              "      <td>320</td>\n",
              "      <td>376.0000</td>\n",
              "    </tr>\n",
              "    <tr>\n",
              "      <th>17</th>\n",
              "      <td>340</td>\n",
              "      <td>558.0000</td>\n",
              "    </tr>\n",
              "    <tr>\n",
              "      <th>18</th>\n",
              "      <td>360</td>\n",
              "      <td>806.0000</td>\n",
              "    </tr>\n",
              "  </tbody>\n",
              "</table>\n",
              "</div>\n",
              "      <button class=\"colab-df-convert\" onclick=\"convertToInteractive('df-ee23e784-e8bb-438e-9114-1dce6b4a34d2')\"\n",
              "              title=\"Convert this dataframe to an interactive table.\"\n",
              "              style=\"display:none;\">\n",
              "        \n",
              "  <svg xmlns=\"http://www.w3.org/2000/svg\" height=\"24px\"viewBox=\"0 0 24 24\"\n",
              "       width=\"24px\">\n",
              "    <path d=\"M0 0h24v24H0V0z\" fill=\"none\"/>\n",
              "    <path d=\"M18.56 5.44l.94 2.06.94-2.06 2.06-.94-2.06-.94-.94-2.06-.94 2.06-2.06.94zm-11 1L8.5 8.5l.94-2.06 2.06-.94-2.06-.94L8.5 2.5l-.94 2.06-2.06.94zm10 10l.94 2.06.94-2.06 2.06-.94-2.06-.94-.94-2.06-.94 2.06-2.06.94z\"/><path d=\"M17.41 7.96l-1.37-1.37c-.4-.4-.92-.59-1.43-.59-.52 0-1.04.2-1.43.59L10.3 9.45l-7.72 7.72c-.78.78-.78 2.05 0 2.83L4 21.41c.39.39.9.59 1.41.59.51 0 1.02-.2 1.41-.59l7.78-7.78 2.81-2.81c.8-.78.8-2.07 0-2.86zM5.41 20L4 18.59l7.72-7.72 1.47 1.35L5.41 20z\"/>\n",
              "  </svg>\n",
              "      </button>\n",
              "      \n",
              "  <style>\n",
              "    .colab-df-container {\n",
              "      display:flex;\n",
              "      flex-wrap:wrap;\n",
              "      gap: 12px;\n",
              "    }\n",
              "\n",
              "    .colab-df-convert {\n",
              "      background-color: #E8F0FE;\n",
              "      border: none;\n",
              "      border-radius: 50%;\n",
              "      cursor: pointer;\n",
              "      display: none;\n",
              "      fill: #1967D2;\n",
              "      height: 32px;\n",
              "      padding: 0 0 0 0;\n",
              "      width: 32px;\n",
              "    }\n",
              "\n",
              "    .colab-df-convert:hover {\n",
              "      background-color: #E2EBFA;\n",
              "      box-shadow: 0px 1px 2px rgba(60, 64, 67, 0.3), 0px 1px 3px 1px rgba(60, 64, 67, 0.15);\n",
              "      fill: #174EA6;\n",
              "    }\n",
              "\n",
              "    [theme=dark] .colab-df-convert {\n",
              "      background-color: #3B4455;\n",
              "      fill: #D2E3FC;\n",
              "    }\n",
              "\n",
              "    [theme=dark] .colab-df-convert:hover {\n",
              "      background-color: #434B5C;\n",
              "      box-shadow: 0px 1px 3px 1px rgba(0, 0, 0, 0.15);\n",
              "      filter: drop-shadow(0px 1px 2px rgba(0, 0, 0, 0.3));\n",
              "      fill: #FFFFFF;\n",
              "    }\n",
              "  </style>\n",
              "\n",
              "      <script>\n",
              "        const buttonEl =\n",
              "          document.querySelector('#df-ee23e784-e8bb-438e-9114-1dce6b4a34d2 button.colab-df-convert');\n",
              "        buttonEl.style.display =\n",
              "          google.colab.kernel.accessAllowed ? 'block' : 'none';\n",
              "\n",
              "        async function convertToInteractive(key) {\n",
              "          const element = document.querySelector('#df-ee23e784-e8bb-438e-9114-1dce6b4a34d2');\n",
              "          const dataTable =\n",
              "            await google.colab.kernel.invokeFunction('convertToInteractive',\n",
              "                                                     [key], {});\n",
              "          if (!dataTable) return;\n",
              "\n",
              "          const docLinkHtml = 'Like what you see? Visit the ' +\n",
              "            '<a target=\"_blank\" href=https://colab.research.google.com/notebooks/data_table.ipynb>data table notebook</a>'\n",
              "            + ' to learn more about interactive tables.';\n",
              "          element.innerHTML = '';\n",
              "          dataTable['output_type'] = 'display_data';\n",
              "          await google.colab.output.renderOutput(dataTable, element);\n",
              "          const docLink = document.createElement('div');\n",
              "          docLink.innerHTML = docLinkHtml;\n",
              "          element.appendChild(docLink);\n",
              "        }\n",
              "      </script>\n",
              "    </div>\n",
              "  </div>\n",
              "  "
            ],
            "text/plain": [
              "    temperature  pressure\n",
              "0             0    0.0002\n",
              "1            20    0.0012\n",
              "2            40    0.0060\n",
              "3            60    0.0300\n",
              "4            80    0.0900\n",
              "5           100    0.2700\n",
              "6           120    0.7500\n",
              "7           140    1.8500\n",
              "8           160    4.2000\n",
              "9           180    8.8000\n",
              "10          200   17.3000\n",
              "11          220   32.1000\n",
              "12          240   57.0000\n",
              "13          260   96.0000\n",
              "14          280  157.0000\n",
              "15          300  247.0000\n",
              "16          320  376.0000\n",
              "17          340  558.0000\n",
              "18          360  806.0000"
            ]
          },
          "execution_count": 15,
          "metadata": {},
          "output_type": "execute_result"
        }
      ],
      "source": [
        "import pandas as pd\n",
        "pressure = pd.DataFrame( {\n",
        "    'temperature': [0,20,40,60,80,100,120,140,160,180,200,\n",
        "                    220,240,260,280,300,320,340,360],\n",
        "    'pressure':    [0.0002,0.0012,0.0060,0.0300,0.0900,0.2700,0.7500,\n",
        "                    1.8500,4.2000,8.8000,17.3000,32.1000,57.0000,96.0000,\n",
        "                    157.0000,247.0000,376.0000,558.0000,806.0000]\n",
        "} )\n",
        "pressure"
      ]
    },
    {
      "cell_type": "markdown",
      "id": "UHyIP095BWkt",
      "metadata": {
        "id": "UHyIP095BWkt"
      },
      "source": [
        "\n",
        "Let's model temperature as the dependent variable with the logarithm of pressure\n",
        "as the independent variable.  To transform the independent variable pressure, we use NumPy's `np.log` function, as shown below.  It uses the natural logarithm (base $e$).\n",
        "\n",
        "\n",
        "\n",
        "\n",
        "\n",
        "\n",
        "\n"
      ]
    },
    {
      "cell_type": "code",
      "execution_count": null,
      "id": "VXnWPzQ4BWku",
      "metadata": {
        "colab": {
          "base_uri": "https://localhost:8080/"
        },
        "id": "VXnWPzQ4BWku",
        "outputId": "06cb9d78-69ca-495c-bcf0-9eb1f5446e44"
      },
      "outputs": [
        {
          "data": {
            "text/plain": [
              "(153.97045660511063, array([23.78440995]), 0.9464264282083346)"
            ]
          },
          "execution_count": 16,
          "metadata": {},
          "output_type": "execute_result"
        }
      ],
      "source": [
        "import numpy as np\n",
        "\n",
        "# Compute the logarithm of pressure\n",
        "X = pressure[['pressure']]\n",
        "log_X = np.log(X)\n",
        "\n",
        "# Build the linear model using Scikit-Learn\n",
        "from sklearn.linear_model import LinearRegression\n",
        "y = pressure['temperature']\n",
        "log_model = LinearRegression()\n",
        "log_model.fit(log_X, y)\n",
        "\n",
        "# Display regression coefficients and R-squared value of the model\n",
        "log_model.intercept_, log_model.coef_, log_model.score(log_X, y)"
      ]
    },
    {
      "cell_type": "markdown",
      "id": "7ZBaWf1NBWku",
      "metadata": {
        "id": "7ZBaWf1NBWku"
      },
      "source": [
        "\n",
        "The model is $\\hat t = 153.97 + 23.784\\log p$,\n",
        "where $t$ stands for temperature and $p$ for pressure.\n",
        "\n",
        "Another example transformation is the square root transformation.  As with `np.log`,\n",
        "just apply the `np.sqrt` function to the appropriate term when defining the model.\n",
        "\n",
        "\n",
        "\n"
      ]
    },
    {
      "cell_type": "code",
      "execution_count": null,
      "id": "P3pL0FH4BWkv",
      "metadata": {
        "colab": {
          "base_uri": "https://localhost:8080/"
        },
        "id": "P3pL0FH4BWkv",
        "outputId": "6009e004-b502-40ae-f5f7-710bd0c8c804"
      },
      "outputs": [
        {
          "data": {
            "text/plain": [
              "(98.56139249917803, array([11.44621468]), 0.29600246256782614)"
            ]
          },
          "execution_count": 17,
          "metadata": {},
          "output_type": "execute_result"
        }
      ],
      "source": [
        "# Compute the square root of pressure\n",
        "X = pressure[['pressure']]\n",
        "sqrt_X = np.sqrt(X)\n",
        "\n",
        "# Build the linear model using Scikit-Learn\n",
        "from sklearn.linear_model import LinearRegression\n",
        "y = pressure['temperature']\n",
        "sqrt_model = LinearRegression()\n",
        "sqrt_model.fit(sqrt_X, y)\n",
        "\n",
        "# Display regression coefficients and R-squared value of the model\n",
        "sqrt_model.intercept_, sqrt_model.coef_, sqrt_model.score( log_X, y )"
      ]
    },
    {
      "cell_type": "markdown",
      "id": "q8bsDAEKBWkw",
      "metadata": {
        "id": "q8bsDAEKBWkw"
      },
      "source": [
        "\n",
        "The model is $\\hat t = 98.561 + 11.446\\sqrt{p}$,\n",
        "with $t$ and $p$ having the same meanings as above.\n",
        "\n",
        "\n",
        "\n",
        "\n",
        "\n",
        "\n"
      ]
    }
  ],
  "metadata": {
    "colab": {
      "collapsed_sections": [],
      "provenance": []
    },
    "kernelspec": {
      "display_name": "Python 3.8.10 64-bit",
      "language": "python",
      "name": "python3"
    },
    "language_info": {
      "name": "python",
      "version": "3.8.10"
    },
    "vscode": {
      "interpreter": {
        "hash": "916dbcbb3f70747c44a77c7bcd40155683ae19c65e1c03b4aa3499c5328201f1"
      }
    }
  },
  "nbformat": 4,
  "nbformat_minor": 5
}
