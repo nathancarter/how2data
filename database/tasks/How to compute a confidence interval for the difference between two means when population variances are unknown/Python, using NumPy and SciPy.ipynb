{
 "cells": [
  {
   "cell_type": "markdown",
   "source": [
    "---\n",
    "author: Elizabeth Czarniak (CZARNIA_ELIZ@bentley.edu)\n",
    "---"
   ],
   "metadata": {}
  },
  {
   "cell_type": "markdown",
   "source": [
    "We're going to use some fake data here to illustrate how to make the confidence\n",
    "interval. Replace our fake data with your actual data if you use this code."
   ],
   "metadata": {
    "tags": [],
    "cell_id": "00018-6131f5e4-86d0-45c8-9204-49cd4264b46c",
    "deepnote_cell_type": "markdown"
   }
  },
  {
   "cell_type": "code",
   "execution_count": null,
   "source": [
    "sample1 = [15, 10, 7, 22, 17, 14]\n",
    "sample2 = [9, 1, 11, 13, 3, 6]"
   ],
   "outputs": [
    {
     "output_type": "stream",
     "name": "stdout",
     "text": [
      "lower bound: 0.5852484400034017 \n",
      " upper bound: 13.414751559996596\n"
     ]
    }
   ],
   "metadata": {
    "tags": [],
    "cell_id": "00019-e241a1d5-86be-45f8-9eb1-b9f3cd30e9c1",
    "deepnote_to_be_reexecuted": false,
    "source_hash": "c313aedc",
    "execution_start": 1628171950386,
    "execution_millis": 11,
    "deepnote_cell_type": "code"
   }
  },
  {
   "cell_type": "markdown",
   "source": [
    "We will need the sizes, means, and variances of each sample."
   ],
   "metadata": {}
  },
  {
   "cell_type": "code",
   "execution_count": null,
   "source": [
    "import numpy as np\n",
    "n_sample1 = len(sample1)\n",
    "n_sample2 = len(sample2)\n",
    "xbar1 = np.mean(sample1)\n",
    "xbar2 = np.mean(sample2)\n",
    "var_sample1 = np.var(sample1, ddof = 1)\n",
    "var_sample2 = np.var(sample2, ddof = 1)"
   ],
   "outputs": [],
   "metadata": {}
  },
  {
   "cell_type": "markdown",
   "source": [
    "Before we can compute the confidence interval, we must ask, can we assume that the two population variances are equal?\n",
    "\n",
    "***IF YES:*** We compute the degrees of freedom and the radius of the confidence interval as follows."
   ],
   "metadata": {}
  },
  {
   "cell_type": "code",
   "execution_count": null,
   "source": [
    "df = n_sample1 + n_sample2 - 2\n",
    "pooled_var = ((n_sample1-1)*var_sample1 + (n_sample2-1)*var_sample2) / df\n",
    "radius = pooled_var*(1/n_sample1 + 1/n_sample2)"
   ],
   "outputs": [],
   "metadata": {}
  },
  {
   "cell_type": "markdown",
   "source": [
    "***IF NO:*** We *replace* the above code with the following code instead, which does not make the assumption that the population variances are equal.\n",
    "\n",
    "~~~python\n",
    "# ratio1 = var_sample1/n_sample1\n",
    "# ratio2 = var_sample2/n_sample2\n",
    "# df = (ratio1 + ratio2)**2 / (ratio1**2/(n_sample1-1) + ratio2**2/(n_sample2-1))\n",
    "# radius = ratio1 + ratio2\n",
    "~~~\n",
    "\n",
    "Then, whichever of the two methods above was used, we compute the confidence interval as follows."
   ],
   "metadata": {}
  },
  {
   "cell_type": "code",
   "execution_count": null,
   "source": [
    "from scipy import stats\n",
    "\n",
    "# Find the critical value from the normal distribution\n",
    "alpha = 0.05\n",
    "critical_val = stats.t.ppf(q = 1-alpha/2, df = df)\n",
    "\n",
    "# Find the lower and upper bound of the confidence interval\n",
    "upper_bound = (xbar1 - xbar2) + critical_val*np.sqrt(radius)\n",
    "lower_bound = (xbar1 - xbar2) - critical_val*np.sqrt(radius)\n",
    "lower_bound, upper_bound"
   ],
   "outputs": [],
   "metadata": {}
  },
  {
   "cell_type": "markdown",
   "source": [
    "The 95% confidence interval for the true difference between these population means is $[0.598,13.402]$.  That was computed under the assumption that the variances were equal.  See the alternative code above for if the variances were not assumed to be equal; in that case, we would get the slightly different result of $[0.5852, 13.4147]$ instead."
   ],
   "metadata": {
    "tags": [],
    "cell_id": "00020-1862e35e-af53-4d3b-a97c-f1a625861b26",
    "deepnote_cell_type": "markdown"
   }
  }
 ],
 "nbformat": 4,
 "nbformat_minor": 2,
 "metadata": {
  "orig_nbformat": 2,
  "language_info": {
   "name": "python"
  }
 }
}