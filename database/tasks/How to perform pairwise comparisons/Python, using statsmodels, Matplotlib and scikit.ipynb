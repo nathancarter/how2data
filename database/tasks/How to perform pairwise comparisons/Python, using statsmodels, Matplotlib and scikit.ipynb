{
  "cells": [
    {
      "cell_type": "markdown",
      "source": [
        "---\n",
        "author: Krtin Juneja (KJUNEJA@falcon.bentley.edu)\n",
        "---"
      ],
      "metadata": {
        "nteract": {
          "transient": {
            "deleting": false
          }
        }
      }
    },
    {
      "cell_type": "markdown",
      "source": [
        "The solution below uses an example dataset that details the counts of insects in an agricultural experiment with six types of insecticides, labeled A through F.  (See how to quickly load some sample data.)"
      ],
      "metadata": {
        "tags": [],
        "cell_id": "00000-ecd05cb3-2a35-450e-bea7-29f565d5d5ad",
        "deepnote_cell_type": "markdown"
      }
    },
    {
      "cell_type": "code",
      "execution_count": 1,
      "source": [
        "from rdatasets import data\n",
        "df = data('InsectSprays')\n",
        "df"
      ],
      "outputs": [
        {
          "output_type": "execute_result",
          "data": {
            "text/html": [
              "<div>\n",
              "<style scoped>\n",
              "    .dataframe tbody tr th:only-of-type {\n",
              "        vertical-align: middle;\n",
              "    }\n",
              "\n",
              "    .dataframe tbody tr th {\n",
              "        vertical-align: top;\n",
              "    }\n",
              "\n",
              "    .dataframe thead th {\n",
              "        text-align: right;\n",
              "    }\n",
              "</style>\n",
              "<table border=\"1\" class=\"dataframe\">\n",
              "  <thead>\n",
              "    <tr style=\"text-align: right;\">\n",
              "      <th></th>\n",
              "      <th>count</th>\n",
              "      <th>spray</th>\n",
              "    </tr>\n",
              "  </thead>\n",
              "  <tbody>\n",
              "    <tr>\n",
              "      <th>0</th>\n",
              "      <td>10</td>\n",
              "      <td>A</td>\n",
              "    </tr>\n",
              "    <tr>\n",
              "      <th>1</th>\n",
              "      <td>7</td>\n",
              "      <td>A</td>\n",
              "    </tr>\n",
              "    <tr>\n",
              "      <th>2</th>\n",
              "      <td>20</td>\n",
              "      <td>A</td>\n",
              "    </tr>\n",
              "    <tr>\n",
              "      <th>3</th>\n",
              "      <td>14</td>\n",
              "      <td>A</td>\n",
              "    </tr>\n",
              "    <tr>\n",
              "      <th>4</th>\n",
              "      <td>14</td>\n",
              "      <td>A</td>\n",
              "    </tr>\n",
              "    <tr>\n",
              "      <th>...</th>\n",
              "      <td>...</td>\n",
              "      <td>...</td>\n",
              "    </tr>\n",
              "    <tr>\n",
              "      <th>67</th>\n",
              "      <td>10</td>\n",
              "      <td>F</td>\n",
              "    </tr>\n",
              "    <tr>\n",
              "      <th>68</th>\n",
              "      <td>26</td>\n",
              "      <td>F</td>\n",
              "    </tr>\n",
              "    <tr>\n",
              "      <th>69</th>\n",
              "      <td>26</td>\n",
              "      <td>F</td>\n",
              "    </tr>\n",
              "    <tr>\n",
              "      <th>70</th>\n",
              "      <td>24</td>\n",
              "      <td>F</td>\n",
              "    </tr>\n",
              "    <tr>\n",
              "      <th>71</th>\n",
              "      <td>13</td>\n",
              "      <td>F</td>\n",
              "    </tr>\n",
              "  </tbody>\n",
              "</table>\n",
              "<p>72 rows × 2 columns</p>\n",
              "</div>"
            ],
            "text/plain": [
              "    count spray\n",
              "0      10     A\n",
              "1       7     A\n",
              "2      20     A\n",
              "3      14     A\n",
              "4      14     A\n",
              "..    ...   ...\n",
              "67     10     F\n",
              "68     26     F\n",
              "69     26     F\n",
              "70     24     F\n",
              "71     13     F\n",
              "\n",
              "[72 rows x 2 columns]"
            ]
          },
          "metadata": {},
          "execution_count": 1
        }
      ],
      "metadata": {
        "tags": [],
        "cell_id": "00001-5140cd0f-1989-4910-a131-5404f9f3a16e",
        "deepnote_to_be_reexecuted": false,
        "source_hash": "9a292b9",
        "execution_start": 1626519417024,
        "execution_millis": 95,
        "deepnote_cell_type": "code"
      }
    },
    {
      "cell_type": "markdown",
      "source": [
        "Before we perform any post hoc analysis, we need to see if the count of insects depends on the type of insecticide given by conducting a one way ANOVA.  (See also how to do a one-way analysis of variance (ANOVA).)"
      ],
      "metadata": {
        "tags": [],
        "cell_id": "00002-1d5f6493-a3ab-408b-a909-1f2b0fe7cc28",
        "deepnote_cell_type": "markdown"
      }
    },
    {
      "cell_type": "code",
      "execution_count": 2,
      "source": [
        "from statsmodels.formula.api import ols\n",
        "model = ols('count ~ spray', data = df).fit()\n",
        "import statsmodels.api as sm\n",
        "sm.stats.anova_lm(model, typ=1)"
      ],
      "outputs": [
        {
          "output_type": "execute_result",
          "data": {
            "text/html": [
              "<div>\n",
              "<style scoped>\n",
              "    .dataframe tbody tr th:only-of-type {\n",
              "        vertical-align: middle;\n",
              "    }\n",
              "\n",
              "    .dataframe tbody tr th {\n",
              "        vertical-align: top;\n",
              "    }\n",
              "\n",
              "    .dataframe thead th {\n",
              "        text-align: right;\n",
              "    }\n",
              "</style>\n",
              "<table border=\"1\" class=\"dataframe\">\n",
              "  <thead>\n",
              "    <tr style=\"text-align: right;\">\n",
              "      <th></th>\n",
              "      <th>df</th>\n",
              "      <th>sum_sq</th>\n",
              "      <th>mean_sq</th>\n",
              "      <th>F</th>\n",
              "      <th>PR(&gt;F)</th>\n",
              "    </tr>\n",
              "  </thead>\n",
              "  <tbody>\n",
              "    <tr>\n",
              "      <th>spray</th>\n",
              "      <td>5.0</td>\n",
              "      <td>2668.833333</td>\n",
              "      <td>533.766667</td>\n",
              "      <td>34.702282</td>\n",
              "      <td>3.182584e-17</td>\n",
              "    </tr>\n",
              "    <tr>\n",
              "      <th>Residual</th>\n",
              "      <td>66.0</td>\n",
              "      <td>1015.166667</td>\n",
              "      <td>15.381313</td>\n",
              "      <td>NaN</td>\n",
              "      <td>NaN</td>\n",
              "    </tr>\n",
              "  </tbody>\n",
              "</table>\n",
              "</div>"
            ],
            "text/plain": [
              "            df       sum_sq     mean_sq          F        PR(>F)\n",
              "spray      5.0  2668.833333  533.766667  34.702282  3.182584e-17\n",
              "Residual  66.0  1015.166667   15.381313        NaN           NaN"
            ]
          },
          "metadata": {},
          "execution_count": 2
        }
      ],
      "metadata": {
        "tags": [],
        "cell_id": "00002-493e6cb8-d76a-44c1-a6bd-c8256454590a",
        "deepnote_to_be_reexecuted": false,
        "source_hash": "8e59e268",
        "execution_start": 1626519417115,
        "execution_millis": 985,
        "deepnote_cell_type": "code"
      }
    },
    {
      "cell_type": "markdown",
      "source": [
        "At the 5% significance level, we see that the count differs according to the type of insecticide used. We assume that the model assumptions are met, but do not verify that here."
      ],
      "metadata": {
        "tags": [],
        "cell_id": "00004-b04e11c4-b12c-4714-9510-9b6e76961dda",
        "deepnote_cell_type": "markdown"
      }
    },
    {
      "cell_type": "markdown",
      "source": [
        "If we would like to compare the pairs without any corrections, we can use the 'pairwise t test' in the `scikit_posthocs` package."
      ],
      "metadata": {
        "tags": [],
        "cell_id": "00009-afddf857-2190-400a-8f03-17a281df52b4",
        "deepnote_cell_type": "markdown"
      }
    },
    {
      "cell_type": "code",
      "execution_count": 3,
      "source": [
        "import scikit_posthocs as sp\n",
        "sp.posthoc_ttest(df, val_col='count', group_col='spray', p_adjust=None, pool_sd=True )"
      ],
      "outputs": [
        {
          "output_type": "execute_result",
          "data": {
            "text/html": [
              "<div>\n",
              "<style scoped>\n",
              "    .dataframe tbody tr th:only-of-type {\n",
              "        vertical-align: middle;\n",
              "    }\n",
              "\n",
              "    .dataframe tbody tr th {\n",
              "        vertical-align: top;\n",
              "    }\n",
              "\n",
              "    .dataframe thead th {\n",
              "        text-align: right;\n",
              "    }\n",
              "</style>\n",
              "<table border=\"1\" class=\"dataframe\">\n",
              "  <thead>\n",
              "    <tr style=\"text-align: right;\">\n",
              "      <th></th>\n",
              "      <th>A</th>\n",
              "      <th>B</th>\n",
              "      <th>C</th>\n",
              "      <th>D</th>\n",
              "      <th>E</th>\n",
              "      <th>F</th>\n",
              "    </tr>\n",
              "  </thead>\n",
              "  <tbody>\n",
              "    <tr>\n",
              "      <th>A</th>\n",
              "      <td>1.000000e+00</td>\n",
              "      <td>6.044761e-01</td>\n",
              "      <td>7.266893e-11</td>\n",
              "      <td>9.816910e-08</td>\n",
              "      <td>2.753922e-09</td>\n",
              "      <td>1.805998e-01</td>\n",
              "    </tr>\n",
              "    <tr>\n",
              "      <th>B</th>\n",
              "      <td>6.044761e-01</td>\n",
              "      <td>1.000000e+00</td>\n",
              "      <td>8.509776e-12</td>\n",
              "      <td>1.212803e-08</td>\n",
              "      <td>3.257986e-10</td>\n",
              "      <td>4.079858e-01</td>\n",
              "    </tr>\n",
              "    <tr>\n",
              "      <th>C</th>\n",
              "      <td>7.266893e-11</td>\n",
              "      <td>8.509776e-12</td>\n",
              "      <td>1.000000e+00</td>\n",
              "      <td>8.141205e-02</td>\n",
              "      <td>3.794750e-01</td>\n",
              "      <td>2.794343e-13</td>\n",
              "    </tr>\n",
              "    <tr>\n",
              "      <th>D</th>\n",
              "      <td>9.816910e-08</td>\n",
              "      <td>1.212803e-08</td>\n",
              "      <td>8.141205e-02</td>\n",
              "      <td>1.000000e+00</td>\n",
              "      <td>3.794750e-01</td>\n",
              "      <td>4.035610e-10</td>\n",
              "    </tr>\n",
              "    <tr>\n",
              "      <th>E</th>\n",
              "      <td>2.753922e-09</td>\n",
              "      <td>3.257986e-10</td>\n",
              "      <td>3.794750e-01</td>\n",
              "      <td>3.794750e-01</td>\n",
              "      <td>1.000000e+00</td>\n",
              "      <td>1.054387e-11</td>\n",
              "    </tr>\n",
              "    <tr>\n",
              "      <th>F</th>\n",
              "      <td>1.805998e-01</td>\n",
              "      <td>4.079858e-01</td>\n",
              "      <td>2.794343e-13</td>\n",
              "      <td>4.035610e-10</td>\n",
              "      <td>1.054387e-11</td>\n",
              "      <td>1.000000e+00</td>\n",
              "    </tr>\n",
              "  </tbody>\n",
              "</table>\n",
              "</div>"
            ],
            "text/plain": [
              "              A             B             C             D             E  \\\n",
              "A  1.000000e+00  6.044761e-01  7.266893e-11  9.816910e-08  2.753922e-09   \n",
              "B  6.044761e-01  1.000000e+00  8.509776e-12  1.212803e-08  3.257986e-10   \n",
              "C  7.266893e-11  8.509776e-12  1.000000e+00  8.141205e-02  3.794750e-01   \n",
              "D  9.816910e-08  1.212803e-08  8.141205e-02  1.000000e+00  3.794750e-01   \n",
              "E  2.753922e-09  3.257986e-10  3.794750e-01  3.794750e-01  1.000000e+00   \n",
              "F  1.805998e-01  4.079858e-01  2.794343e-13  4.035610e-10  1.054387e-11   \n",
              "\n",
              "              F  \n",
              "A  1.805998e-01  \n",
              "B  4.079858e-01  \n",
              "C  2.794343e-13  \n",
              "D  4.035610e-10  \n",
              "E  1.054387e-11  \n",
              "F  1.000000e+00  "
            ]
          },
          "metadata": {},
          "execution_count": 3
        }
      ],
      "metadata": {
        "tags": [],
        "cell_id": "00010-425e13aa-534d-4fc6-9c5e-99bd343f2b35",
        "deepnote_to_be_reexecuted": false,
        "source_hash": "3628d5cb",
        "execution_start": 1626519446568,
        "execution_millis": 13,
        "deepnote_cell_type": "code"
      }
    },
    {
      "cell_type": "markdown",
      "source": [
        "Techniques to adjust the above table for multiple comparisons include the Bonferroni correction, Fisher’s Least Significant Difference (LSD) method, Dunnett’s procedure, and Scheffe’s method.  These can be used in place of 'None' for the `p.adjust` argument; [see details here](https://scikit-posthocs.readthedocs.io/en/latest/generated/scikit_posthocs.posthoc_ttest/).\n",
        "\n",
        "You can also determine the magnitude of these differences; see how to perform post-hoc analysis with Tukey's HSD test."
      ],
      "metadata": {
        "tags": [],
        "cell_id": "00011-9448a6cb-da7f-43e1-be15-416b79f3e10c",
        "deepnote_cell_type": "markdown"
      }
    }
  ],
  "metadata": {
    "orig_nbformat": 2,
    "deepnote": {
      "is_reactive": false
    },
    "deepnote_notebook_id": "c26ccbaf-4dd2-4566-bfa9-a8b043e9932b",
    "deepnote_execution_queue": [],
    "nteract": {
      "version": "0.28.0"
    },
    "language_info": {
      "name": "python",
      "version": "3.9.6",
      "mimetype": "text/x-python",
      "codemirror_mode": {
        "name": "ipython",
        "version": 3
      },
      "pygments_lexer": "ipython3",
      "nbconvert_exporter": "python",
      "file_extension": ".py"
    },
    "kernelspec": {
      "name": "python3",
      "display_name": "Python 3.9.6 64-bit ('base': conda)"
    },
    "interpreter": {
      "hash": "98b0a9b7b4eaaa670588a142fd0a9b87eaafe866f1db4228be72b4211d12040f"
    }
  },
  "nbformat": 4,
  "nbformat_minor": 2
}