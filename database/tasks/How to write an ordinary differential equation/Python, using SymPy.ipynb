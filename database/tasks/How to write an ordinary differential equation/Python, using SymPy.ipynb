{
 "metadata": {
  "language_info": {
   "codemirror_mode": {
    "name": "ipython",
    "version": 3
   },
   "file_extension": ".py",
   "mimetype": "text/x-python",
   "name": "python",
   "nbconvert_exporter": "python",
   "pygments_lexer": "ipython3",
   "version": "3.9.2"
  },
  "orig_nbformat": 2,
  "kernelspec": {
   "name": "python392jvsc74a57bd098b0a9b7b4eaaa670588a142fd0a9b87eaafe866f1db4228be72b4211d12040f",
   "display_name": "Python 3.9.2 64-bit ('base': conda)"
  }
 },
 "nbformat": 4,
 "nbformat_minor": 2,
 "cells": [
  {
   "source": [
    "---\n",
    "author: Nathan Carter (ncarter@bentley.edu)\n",
    "---\n",
    "\n",
    "This answer assumes you have imported SymPy as follows."
   ],
   "cell_type": "markdown",
   "metadata": {}
  },
  {
   "cell_type": "code",
   "execution_count": 1,
   "metadata": {},
   "outputs": [],
   "source": [
    "from sympy import *                   # load all math functions\n",
    "init_printing( use_latex='mathjax' )  # use pretty math output"
   ]
  },
  {
   "source": [
    "The following code tells SymPy that $x$ is a variable and that\n",
    "$y$ is a function of $x$.  It then expresses $\\frac{dy}{dx}$ as the\n",
    "derivative of $y$ with respect to $x$."
   ],
   "cell_type": "markdown",
   "metadata": {}
  },
  {
   "cell_type": "code",
   "execution_count": 7,
   "metadata": {},
   "outputs": [
    {
     "output_type": "execute_result",
     "data": {
      "text/plain": [
       "d       \n",
       "──(y(x))\n",
       "dx      "
      ],
      "text/latex": "$\\displaystyle \\frac{d}{d x} y{\\left(x \\right)}$"
     },
     "metadata": {},
     "execution_count": 7
    }
   ],
   "source": [
    "var( 'x' )                 # Let x be a variable.\n",
    "y = Function('y')(x)       # Literally, y is a function, named y, based on x.\n",
    "dydx = Derivative( y, x )  # How to write dy/dx.\n",
    "dydx                       # Let's see how SymPy displays dy/dx."
   ]
  },
  {
   "source": [
    "Let's now write a very simple differential equation, $\\frac{dy}{dx}=y$.\n",
    "\n",
    "As with how to do implicit differentiation, SymPy expects us to move everything\n",
    "to the left hand side of the equation.  In this case, that makes the equation\n",
    "$\\frac{dy}{dx}-y=0$, and we will use just the left-hand side to express our ODE."
   ],
   "cell_type": "markdown",
   "metadata": {}
  },
  {
   "cell_type": "code",
   "execution_count": 6,
   "metadata": {},
   "outputs": [
    {
     "output_type": "execute_result",
     "data": {
      "text/plain": [
       "        d       \n",
       "-y(x) + ──(y(x))\n",
       "        dx      "
      ],
      "text/latex": "$\\displaystyle - y{\\left(x \\right)} + \\frac{d}{d x} y{\\left(x \\right)}$"
     },
     "metadata": {},
     "execution_count": 6
    }
   ],
   "source": [
    "ode = dydx - y\n",
    "ode"
   ]
  }
 ]
}