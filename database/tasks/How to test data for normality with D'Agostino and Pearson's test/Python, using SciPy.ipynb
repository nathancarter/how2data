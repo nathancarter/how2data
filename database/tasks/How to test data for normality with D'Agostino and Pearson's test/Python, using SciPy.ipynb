{
 "cells": [
  {
   "cell_type": "markdown",
   "source": [
    "---\n",
    "author: Elizabeth Czarniak (CZARNIA_ELIZ@bentley.edu)\n",
    "---"
   ],
   "metadata": {}
  },
  {
   "cell_type": "markdown",
   "source": [
    "We're going to use some fake restaurant data,\n",
    "but you can replace our fake data with your real data in the code below.\n",
    "The values in our fake data represent the amount of money that customers spent\n",
    "on a Sunday morning at the restaurant."
   ],
   "metadata": {
    "tags": [],
    "cell_id": "00004-b48073a4-0a20-4eae-a7ca-12f0f30350a4",
    "deepnote_cell_type": "markdown"
   }
  },
  {
   "cell_type": "code",
   "execution_count": 5,
   "source": [
    "import numpy as np\n",
    "\n",
    "# Replace your data here\n",
    "spending = [34, 12, 19, 56, 54, 34, 45, 37, 13, 22, 65, 19,\n",
    "            16, 45, 19, 50, 36, 23, 28, 56, 40, 61, 45, 47, 37]\n",
    "\n",
    "np.mean(spending), np.std(spending, ddof=1)"
   ],
   "outputs": [
    {
     "output_type": "execute_result",
     "data": {
      "text/plain": [
       "(36.52, 15.772127313713899)"
      ]
     },
     "metadata": {},
     "execution_count": 5
    }
   ],
   "metadata": {
    "tags": [],
    "cell_id": "00005-4a14f859-8c87-4e29-a22b-6a3c5b568ebd",
    "deepnote_to_be_reexecuted": false,
    "source_hash": "ead870ff",
    "execution_start": 1628256662858,
    "execution_millis": 3,
    "deepnote_cell_type": "code"
   }
  },
  {
   "cell_type": "markdown",
   "source": [
    "We will now conduct a test of the following null hypothesis:\n",
    "The data comes from a population that is normally distributed with mean 36.52 and standard deviation 15.77.\n",
    "\n",
    "We will use a value $\\alpha=0.05$ as our Type I error rate.\n",
    "The `normaltest()` function in SciPy's `stats` package can perform D'Agostino and Pearson's test for normality,\n",
    "which uses the skew and kurtosis of the data."
   ],
   "metadata": {
    "tags": [],
    "cell_id": "00006-def5a6ef-5342-42e0-8304-8762d2512043",
    "deepnote_cell_type": "markdown"
   }
  },
  {
   "cell_type": "code",
   "execution_count": 4,
   "source": [
    "from scipy import stats\n",
    "stats.normaltest(spending)"
   ],
   "outputs": [
    {
     "output_type": "execute_result",
     "data": {
      "text/plain": [
       "NormaltestResult(statistic=3.0866213696851097, pvalue=0.21367252674488552)"
      ]
     },
     "metadata": {},
     "execution_count": 4
    }
   ],
   "metadata": {
    "tags": [],
    "cell_id": "00007-322c6187-ab9e-4601-a728-51b9e00b038c",
    "deepnote_to_be_reexecuted": false,
    "source_hash": "f8b9b461",
    "execution_start": 1628255596190,
    "execution_millis": 5,
    "deepnote_cell_type": "code"
   }
  },
  {
   "cell_type": "markdown",
   "source": [
    "The p-value is apprximately 0.21367, which is greater than $\\alpha=0.05$, so we fail to reject our null hypothesis.\n",
    "We would continue to operate under our original assumption that the data come from a normally distributed population."
   ],
   "metadata": {
    "tags": [],
    "cell_id": "00008-6cf7d94b-26ee-4c86-b25d-01036b625af8",
    "deepnote_cell_type": "markdown"
   }
  }
 ],
 "nbformat": 4,
 "nbformat_minor": 2,
 "metadata": {
  "orig_nbformat": 2,
  "language_info": {
   "name": "python",
   "version": "3.9.6",
   "mimetype": "text/x-python",
   "codemirror_mode": {
    "name": "ipython",
    "version": 3
   },
   "pygments_lexer": "ipython3",
   "nbconvert_exporter": "python",
   "file_extension": ".py"
  },
  "kernelspec": {
   "name": "python3",
   "display_name": "Python 3.9.6 64-bit ('base': conda)"
  },
  "interpreter": {
   "hash": "98b0a9b7b4eaaa670588a142fd0a9b87eaafe866f1db4228be72b4211d12040f"
  }
 }
}