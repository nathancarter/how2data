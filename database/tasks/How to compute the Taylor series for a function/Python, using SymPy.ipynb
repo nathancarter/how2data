{
 "metadata": {
  "language_info": {
   "codemirror_mode": {
    "name": "ipython",
    "version": 3
   },
   "file_extension": ".py",
   "mimetype": "text/x-python",
   "name": "python",
   "nbconvert_exporter": "python",
   "pygments_lexer": "ipython3",
   "version": "3.9.2"
  },
  "orig_nbformat": 2,
  "kernelspec": {
   "name": "python392jvsc74a57bd098b0a9b7b4eaaa670588a142fd0a9b87eaafe866f1db4228be72b4211d12040f",
   "display_name": "Python 3.9.2 64-bit ('base': conda)"
  }
 },
 "nbformat": 4,
 "nbformat_minor": 2,
 "cells": [
  {
   "source": [
    "---\n",
    "author: Nathan Carter (ncarter@bentley.edu)\n",
    "---\n",
    "\n",
    "This answer assumes you have imported SymPy as follows."
   ],
   "cell_type": "markdown",
   "metadata": {}
  },
  {
   "cell_type": "code",
   "execution_count": 2,
   "metadata": {},
   "outputs": [],
   "source": [
    "from sympy import *                   # load all math functions\n",
    "init_printing( use_latex='mathjax' )  # use pretty math output"
   ]
  },
  {
   "source": [
    "Let's define an example function whose Taylor series we'd like to compute."
   ],
   "cell_type": "markdown",
   "metadata": {}
  },
  {
   "cell_type": "code",
   "execution_count": 3,
   "metadata": {},
   "outputs": [
    {
     "output_type": "execute_result",
     "data": {
      "text/plain": [
       " 2⋅x + 1\n",
       "ℯ       "
      ],
      "text/latex": "$\\displaystyle e^{2 x + 1}$"
     },
     "metadata": {},
     "execution_count": 3
    }
   ],
   "source": [
    "var( 'x' )\n",
    "formula = exp( 2*x + 1 )\n",
    "formula"
   ]
  },
  {
   "source": [
    "Let's ask for a degree-5 Taylor series centered at $x=2$.  From the code below,\n",
    "you can tell that the third parameter is the center point and the fourth\n",
    "parameter is the degree."
   ],
   "cell_type": "markdown",
   "metadata": {}
  },
  {
   "cell_type": "code",
   "execution_count": 4,
   "metadata": {},
   "outputs": [
    {
     "output_type": "execute_result",
     "data": {
      "text/plain": [
       "                                             3  5            4  5             \n",
       " 5              5            2  5   4⋅(x - 2) ⋅ℯ    2⋅(x - 2) ⋅ℯ     ⎛       5\n",
       "ℯ  + 2⋅(x - 2)⋅ℯ  + 2⋅(x - 2) ⋅ℯ  + ───────────── + ───────────── + O⎝(x - 2) \n",
       "                                          3               3                   \n",
       "\n",
       "        \n",
       "       ⎞\n",
       "; x → 2⎠\n",
       "        "
      ],
      "text/latex": "$\\displaystyle e^{5} + 2 \\left(x - 2\\right) e^{5} + 2 \\left(x - 2\\right)^{2} e^{5} + \\frac{4 \\left(x - 2\\right)^{3} e^{5}}{3} + \\frac{2 \\left(x - 2\\right)^{4} e^{5}}{3} + O\\left(\\left(x - 2\\right)^{5}; x\\rightarrow 2\\right)$"
     },
     "metadata": {},
     "execution_count": 4
    }
   ],
   "source": [
    "series( formula, x, 2, 5 )"
   ]
  },
  {
   "source": [
    "The final term (starting with O---oh, not zero) means that there are more terms\n",
    "in the infinite Taylor series not shown in this finite approximation.\n",
    "If you want to show just the approximation, you can tell it to remove the O term."
   ],
   "cell_type": "markdown",
   "metadata": {}
  },
  {
   "cell_type": "code",
   "execution_count": 5,
   "metadata": {},
   "outputs": [
    {
     "output_type": "execute_result",
     "data": {
      "text/plain": [
       "         4  5            3  5                                    \n",
       "2⋅(x - 2) ⋅ℯ    4⋅(x - 2) ⋅ℯ             2  5              5    5\n",
       "───────────── + ───────────── + 2⋅(x - 2) ⋅ℯ  + 2⋅(x - 2)⋅ℯ  + ℯ \n",
       "      3               3                                          "
      ],
      "text/latex": "$\\displaystyle \\frac{2 \\left(x - 2\\right)^{4} e^{5}}{3} + \\frac{4 \\left(x - 2\\right)^{3} e^{5}}{3} + 2 \\left(x - 2\\right)^{2} e^{5} + 2 \\left(x - 2\\right) e^{5} + e^{5}$"
     },
     "metadata": {},
     "execution_count": 5
    }
   ],
   "source": [
    "series( formula, x, 2, 5 ).removeO()"
   ]
  },
  {
   "source": [
    "You can also compute individual coefficients in a Taylor series\n",
    "by remembering the formula for the $n^\\text{th}$ term in the series and applying it,\n",
    "as follows.  The formula for a series centered on $x=a$ is $\\frac{f^{(n)}(a)}{n!}$.\n",
    "\n",
    "From the answer above, we can see that the coefficient on the $n=3$ term is $\\frac43e^5$."
   ],
   "cell_type": "markdown",
   "metadata": {}
  },
  {
   "cell_type": "code",
   "execution_count": 8,
   "metadata": {},
   "outputs": [
    {
     "output_type": "execute_result",
     "data": {
      "text/plain": [
       "   5\n",
       "4⋅ℯ \n",
       "────\n",
       " 3  "
      ],
      "text/latex": "$\\displaystyle \\frac{4 e^{5}}{3}$"
     },
     "metadata": {},
     "execution_count": 8
    }
   ],
   "source": [
    "n = 3\n",
    "a = 2\n",
    "diff( formula, x, n ).subs( x, a ) / factorial( n )"
   ]
  }
 ]
}