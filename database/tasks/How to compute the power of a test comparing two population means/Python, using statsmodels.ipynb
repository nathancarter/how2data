{
  "cells": [
    {
      "cell_type": "markdown",
      "metadata": {
        "nteract": {
          "transient": {
            "deleting": false
          }
        }
      },
      "source": [
        "---\n",
        "author: Krtin Juneja (KJUNEJA@falcon.bentley.edu)\n",
        "---"
      ]
    },
    {
      "cell_type": "markdown",
      "metadata": {
        "cell_id": "00000-55a3053f-a45e-494d-b676-c4b4acf046d1",
        "deepnote_cell_type": "markdown",
        "tags": []
      },
      "source": [
        "From `statsmodels`, we use the `solve_power` function in the `TTestIndPower` class.  That function  embodies a relationship among five variables; you provide any four of them and it will compute the fifth to be consistent with the first four, regarding the two-sample $t$-test you plan to perform.  Let's get started by importing the package and create a `TTestIndPower` object."
      ]
    },
    {
      "cell_type": "code",
      "execution_count": 3,
      "metadata": {},
      "outputs": [],
      "source": [
        "from statsmodels.stats.power import TTestIndPower\n",
        "analysis = TTestIndPower()"
      ]
    },
    {
      "cell_type": "markdown",
      "metadata": {},
      "source": [
        "For this example, let's say that:\n",
        "\n",
        " * You plan to create a balanced $4\\times2$ factorial experiment with 32 subjects.\n",
        " * You expect the effect size for the main effect of factor A to be medium (0.25 according to Cohen's 1988 text).\n",
        " * You want to know the expected power for the test of a main effect of factor A.\n",
        " * Your significance level is $\\alpha=0.05$.\n",
        "\n",
        "We proceed as follows."
      ]
    },
    {
      "cell_type": "code",
      "execution_count": 4,
      "metadata": {
        "cell_id": "00000-0a7c7d07-d1cf-4978-936a-f64bbd0ba718",
        "deepnote_cell_type": "code",
        "deepnote_to_be_reexecuted": false,
        "execution_millis": 775,
        "execution_start": 1626448949559,
        "source_hash": "f5b7eecb",
        "tags": []
      },
      "outputs": [
        {
          "data": {
            "text/plain": [
              "0.1662985260871502"
            ]
          },
          "execution_count": 4,
          "metadata": {},
          "output_type": "execute_result"
        }
      ],
      "source": [
        "obs = 32       # number of subjects (or observations)\n",
        "effect = 0.25  # effect size \n",
        "alpha = 0.05   # significance level\n",
        "ratio = 1      # ratio of the number of observations in one sample to the other\n",
        "\n",
        "# We leave power unspecified, so that solve_power will compute it for us:\n",
        "analysis.solve_power( effect_size=effect, power=None, nobs1=obs, ratio=ratio, alpha=alpha )"
      ]
    },
    {
      "cell_type": "markdown",
      "metadata": {
        "cell_id": "00004-e82e4f24-5841-490d-97a9-d863676bc892",
        "deepnote_cell_type": "markdown",
        "tags": []
      },
      "source": [
        "The power is 0.1663, which means that the probability of rejecting the null hypothesis when in fact it is false OR the probability of avoiding a Type II error is 0.1663."
      ]
    }
  ],
  "metadata": {
    "deepnote": {
      "is_reactive": false
    },
    "deepnote_execution_queue": [],
    "deepnote_notebook_id": "3ce736fa-73d2-420f-b112-2284a9eee580",
    "interpreter": {
      "hash": "98b0a9b7b4eaaa670588a142fd0a9b87eaafe866f1db4228be72b4211d12040f"
    },
    "kernelspec": {
      "display_name": "Python 3.9.5 64-bit ('base': conda)",
      "name": "python3"
    },
    "language_info": {
      "codemirror_mode": {
        "name": "ipython",
        "version": 3
      },
      "file_extension": ".py",
      "mimetype": "text/x-python",
      "name": "python",
      "nbconvert_exporter": "python",
      "pygments_lexer": "ipython3",
      "version": "3.9.6"
    },
    "nteract": {
      "version": "0.28.0"
    },
    "orig_nbformat": 2
  },
  "nbformat": 4,
  "nbformat_minor": 2
}
