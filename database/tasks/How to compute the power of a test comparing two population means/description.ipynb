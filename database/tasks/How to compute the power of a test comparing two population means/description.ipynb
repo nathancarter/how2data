{
  "cells": [
    {
      "cell_type": "markdown",
      "metadata": {
        "cell_id": "00000-994e8c5c-0f71-4466-b597-3a552ca5b5d7",
        "deepnote_cell_type": "markdown",
        "tags": []
      },
      "source": [
        "When creating a factorial design, it is important that it has adequate power to detect significant main effects and interaction effects of interest. How can we calculate the power of a two-sample $t$ test that we aim to perform in such a situation?\n",
        "\n",
        "Related tasks:\n",
        "\n",
        " * How to choose the sample size in a study with two population means\n"
      ]
    }
  ],
  "metadata": {
    "deepnote": {
      "is_reactive": false
    },
    "deepnote_execution_queue": [],
    "deepnote_notebook_id": "32b0b9d3-a0d5-4007-85ba-2023b68bd62e",
    "language_info": {
      "name": "python"
    },
    "nteract": {
      "version": "0.28.0"
    },
    "orig_nbformat": 2
  },
  "nbformat": 4,
  "nbformat_minor": 2
}
