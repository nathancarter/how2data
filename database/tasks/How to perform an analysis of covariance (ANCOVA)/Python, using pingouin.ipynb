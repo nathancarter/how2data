{
  "cells": [
    {
      "cell_type": "markdown",
      "source": [
        "---\n",
        "author: Krtin Juneja (KJUNEJA@falcon.bentley.edu)\n",
        "---"
      ],
      "metadata": {
        "nteract": {
          "transient": {
            "deleting": false
          }
        }
      }
    },
    {
      "cell_type": "markdown",
      "source": [
        "The solution below uses an example dataset about car design and fuel consumption from a 1974 Motor Trend magazine.  (See how to quickly load some sample data.)"
      ],
      "metadata": {
        "tags": [],
        "cell_id": "00000-2cb8ff7e-a964-4ebb-b77e-ca8f486917ff",
        "deepnote_cell_type": "markdown"
      }
    },
    {
      "cell_type": "code",
      "execution_count": 3,
      "source": [
        "from rdatasets import data\n",
        "df = data('mtcars')"
      ],
      "outputs": [],
      "metadata": {
        "tags": [],
        "cell_id": "00001-95ba51a9-6f67-42df-847e-d46fbc1ea17c",
        "deepnote_to_be_reexecuted": false,
        "source_hash": "1deb7894",
        "execution_start": 1626632953534,
        "execution_millis": 0,
        "deepnote_cell_type": "code"
      }
    },
    {
      "cell_type": "markdown",
      "source": [
        "Let's use ANCOVA to check the effect of the engine type (0 = V-shaped, 1 = straight, in the variable `vs`) on the miles per gallon when considering the weight of the car as a covariate. We will use the `ancova` function from the `pingouin` package to conduct the test."
      ],
      "metadata": {
        "tags": [],
        "cell_id": "00002-c0474534-461d-4e55-8254-5983a152dfb5",
        "deepnote_cell_type": "markdown"
      }
    },
    {
      "cell_type": "code",
      "execution_count": 4,
      "source": [
        "from pingouin import ancova\n",
        "ancova(data=df, dv='mpg', covar='wt', between='vs')"
      ],
      "outputs": [
        {
          "output_type": "execute_result",
          "data": {
            "text/html": [
              "<div>\n",
              "<style scoped>\n",
              "    .dataframe tbody tr th:only-of-type {\n",
              "        vertical-align: middle;\n",
              "    }\n",
              "\n",
              "    .dataframe tbody tr th {\n",
              "        vertical-align: top;\n",
              "    }\n",
              "\n",
              "    .dataframe thead th {\n",
              "        text-align: right;\n",
              "    }\n",
              "</style>\n",
              "<table border=\"1\" class=\"dataframe\">\n",
              "  <thead>\n",
              "    <tr style=\"text-align: right;\">\n",
              "      <th></th>\n",
              "      <th>Source</th>\n",
              "      <th>SS</th>\n",
              "      <th>DF</th>\n",
              "      <th>F</th>\n",
              "      <th>p-unc</th>\n",
              "      <th>np2</th>\n",
              "    </tr>\n",
              "  </thead>\n",
              "  <tbody>\n",
              "    <tr>\n",
              "      <th>0</th>\n",
              "      <td>vs</td>\n",
              "      <td>54.228061</td>\n",
              "      <td>1</td>\n",
              "      <td>7.017656</td>\n",
              "      <td>1.292580e-02</td>\n",
              "      <td>0.194839</td>\n",
              "    </tr>\n",
              "    <tr>\n",
              "      <th>1</th>\n",
              "      <td>wt</td>\n",
              "      <td>405.425409</td>\n",
              "      <td>1</td>\n",
              "      <td>52.466123</td>\n",
              "      <td>5.632548e-08</td>\n",
              "      <td>0.644024</td>\n",
              "    </tr>\n",
              "    <tr>\n",
              "      <th>2</th>\n",
              "      <td>Residual</td>\n",
              "      <td>224.093877</td>\n",
              "      <td>29</td>\n",
              "      <td>NaN</td>\n",
              "      <td>NaN</td>\n",
              "      <td>NaN</td>\n",
              "    </tr>\n",
              "  </tbody>\n",
              "</table>\n",
              "</div>"
            ],
            "text/plain": [
              "     Source          SS  DF          F         p-unc       np2\n",
              "0        vs   54.228061   1   7.017656  1.292580e-02  0.194839\n",
              "1        wt  405.425409   1  52.466123  5.632548e-08  0.644024\n",
              "2  Residual  224.093877  29        NaN           NaN       NaN"
            ]
          },
          "metadata": {},
          "execution_count": 4
        }
      ],
      "metadata": {
        "tags": [],
        "cell_id": "00002-436ce797-7d58-4630-ba04-a3744805114e",
        "deepnote_to_be_reexecuted": false,
        "source_hash": "cac8c0fb",
        "execution_start": 1626633681718,
        "execution_millis": 8,
        "deepnote_cell_type": "code"
      }
    },
    {
      "cell_type": "markdown",
      "source": [
        "The $p$-value for each variable is in the `p-unc` column.\n",
        "\n",
        "The $p$-value for the `wt` variable tests the null hypothesis, \"The quantities `wt` and `mpg` are not related.\"  Since it is below 0.05, we reject the null hypothesis, and conclude that `wt` is significant in predicting `mpg`.\n",
        "\n",
        "The $p$-value for the `vs` variable tests the null hypothesis, \"The quantities `vs` and `mpg` are not related if we hold `wt` constant.\"  Since it is below 0.05, we reject the null hypothesis, and conclude that `vs` is significant in predicting `mpg` even among cars with equal weight (`wt`).\n",
        "\n",
        "Note: Unfortunately, a two-factor ANCOVA is not possible in pingouin. However, a model with more than one covariate is possible, as you can provide a list as the `covar` parameter when calling `ancova`. "
      ],
      "metadata": {
        "tags": [],
        "cell_id": "00003-73335bca-9d83-466e-ba07-96d3cfedcec7",
        "deepnote_cell_type": "markdown"
      }
    }
  ],
  "metadata": {
    "orig_nbformat": 2,
    "deepnote": {
      "is_reactive": false
    },
    "deepnote_notebook_id": "14795f41-f5d9-4117-8ad6-c34b4060c9ac",
    "deepnote_execution_queue": [],
    "nteract": {
      "version": "0.28.0"
    },
    "language_info": {
      "name": "python",
      "version": "3.9.5",
      "mimetype": "text/x-python",
      "codemirror_mode": {
        "name": "ipython",
        "version": 3
      },
      "pygments_lexer": "ipython3",
      "nbconvert_exporter": "python",
      "file_extension": ".py"
    },
    "kernelspec": {
      "name": "python3",
      "display_name": "Python 3.9.5 64-bit ('base': conda)"
    },
    "interpreter": {
      "hash": "98b0a9b7b4eaaa670588a142fd0a9b87eaafe866f1db4228be72b4211d12040f"
    }
  },
  "nbformat": 4,
  "nbformat_minor": 2
}