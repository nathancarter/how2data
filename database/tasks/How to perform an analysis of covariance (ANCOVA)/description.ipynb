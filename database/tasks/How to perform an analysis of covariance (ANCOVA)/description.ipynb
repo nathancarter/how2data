{
  "cells": [
    {
      "cell_type": "markdown",
      "source": [
        "An analysis of covariance (ANCOVA) addresses the question of whether the means of an outcome variable computed on various groups would have been different if the means of a chosen covariate were equal for the same groups. The goal is to remove from the unexplained variability any variability associated with the covariate.\n",
        "\n",
        "Related tasks:\n",
        "\n",
        " * How to do a one-way analysis of variance (ANOVA)\n",
        " * How to compare two linear models using ANOVA\n",
        " * How to conduct a mixed designs ANOVA\n",
        " * How to conduct a repeated measures ANOVA\n"
      ],
      "metadata": {
        "tags": [],
        "cell_id": "00000-86367c0e-e1bc-405a-9aeb-9e775bbdbd29",
        "deepnote_cell_type": "markdown"
      }
    }
  ],
  "metadata": {
    "orig_nbformat": 2,
    "deepnote": {
      "is_reactive": false
    },
    "deepnote_notebook_id": "52a5a2d3-5bcf-4fd8-b1d2-e08e14b42a89",
    "deepnote_execution_queue": [],
    "nteract": {
      "version": "0.28.0"
    },
    "language_info": {
      "name": "python"
    }
  },
  "nbformat": 4,
  "nbformat_minor": 2
}