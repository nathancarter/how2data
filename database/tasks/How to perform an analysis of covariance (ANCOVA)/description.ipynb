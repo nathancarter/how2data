{
  "cells": [
    {
      "cell_type": "markdown",
      "source": [
        "Recall that covariates are variables that may be related to the outcome but are unaffected by treatment assignment.  In a randomized experiment with one or more observed covariates, an analysis of covariance (ANCOVA) addresses this question:  How would the mean outcome in each treatment group change if all groups were equal with respect to the covariate? The goal is to remove any variability in the outcome associated with the covariate from the unexplained variability used to determine statistical significance.\n",
        "\n",
        "Related tasks:\n",
        "\n",
        " * How to do a one-way analysis of variance (ANOVA)\n",
        " * How to compare two linear models using ANOVA\n",
        " * How to conduct a mixed designs ANOVA\n",
        " * How to conduct a repeated measures ANOVA\n"
      ],
      "metadata": {
        "tags": [],
        "cell_id": "00000-86367c0e-e1bc-405a-9aeb-9e775bbdbd29",
        "deepnote_cell_type": "markdown"
      }
    }
  ],
  "metadata": {
    "orig_nbformat": 2,
    "deepnote": {
      "is_reactive": false
    },
    "deepnote_notebook_id": "52a5a2d3-5bcf-4fd8-b1d2-e08e14b42a89",
    "deepnote_execution_queue": [],
    "nteract": {
      "version": "0.28.0"
    },
    "language_info": {
      "name": "python"
    }
  },
  "nbformat": 4,
  "nbformat_minor": 2
}