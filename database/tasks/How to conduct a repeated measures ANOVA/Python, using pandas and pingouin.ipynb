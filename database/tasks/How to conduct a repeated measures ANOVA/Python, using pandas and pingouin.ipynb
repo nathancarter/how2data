{
  "cells": [
    {
      "cell_type": "markdown",
      "source": [
        "---\n",
        "author: Krtin Juneja (KJUNEJA@falcon.bentley.edu)\n",
        "---"
      ],
      "metadata": {
        "nteract": {
          "transient": {
            "deleting": false
          }
        }
      }
    },
    {
      "cell_type": "markdown",
      "source": [
        "We create a hypothetical repeated measures dataset where the 5 subjects undergo all 4 skin treatments and their rating of the treatment is measured."
      ],
      "metadata": {
        "tags": [],
        "cell_id": "00000-6190cd4b-8e2c-49de-bce9-6c2c26dc2ffe",
        "deepnote_cell_type": "markdown"
      }
    },
    {
      "cell_type": "code",
      "execution_count": 4,
      "source": [
        "import pandas as pd\n",
        "df = pd.DataFrame( {\n",
        "    'Subject':        [1,1,1,1,2,2,2,2,3,3,3,3,4,4,4,4,5,5,5,5],\n",
        "    'Skin Treatment': ['W','X','Y','Z','W','X','Y','Z','W','X',\n",
        "                       'Y','Z','W','X','Y','Z','W','X','Y','Z'],\n",
        "    'Rating':         [7,5,8,4,8,10,7,5,7,6,5,4,7,7,4,5,8,8,6,6]\n",
        "} )\n",
        "df.head()"
      ],
      "outputs": [
        {
          "output_type": "execute_result",
          "data": {
            "text/plain": [
              "   Subject Skin Treatment  Rating\n",
              "0        1              W       7\n",
              "1        1              X       5\n",
              "2        1              Y       8\n",
              "3        1              Z       4\n",
              "4        2              W       8"
            ],
            "text/html": [
              "<div>\n",
              "<style scoped>\n",
              "    .dataframe tbody tr th:only-of-type {\n",
              "        vertical-align: middle;\n",
              "    }\n",
              "\n",
              "    .dataframe tbody tr th {\n",
              "        vertical-align: top;\n",
              "    }\n",
              "\n",
              "    .dataframe thead th {\n",
              "        text-align: right;\n",
              "    }\n",
              "</style>\n",
              "<table border=\"1\" class=\"dataframe\">\n",
              "  <thead>\n",
              "    <tr style=\"text-align: right;\">\n",
              "      <th></th>\n",
              "      <th>Subject</th>\n",
              "      <th>Skin Treatment</th>\n",
              "      <th>Rating</th>\n",
              "    </tr>\n",
              "  </thead>\n",
              "  <tbody>\n",
              "    <tr>\n",
              "      <th>0</th>\n",
              "      <td>1</td>\n",
              "      <td>W</td>\n",
              "      <td>7</td>\n",
              "    </tr>\n",
              "    <tr>\n",
              "      <th>1</th>\n",
              "      <td>1</td>\n",
              "      <td>X</td>\n",
              "      <td>5</td>\n",
              "    </tr>\n",
              "    <tr>\n",
              "      <th>2</th>\n",
              "      <td>1</td>\n",
              "      <td>Y</td>\n",
              "      <td>8</td>\n",
              "    </tr>\n",
              "    <tr>\n",
              "      <th>3</th>\n",
              "      <td>1</td>\n",
              "      <td>Z</td>\n",
              "      <td>4</td>\n",
              "    </tr>\n",
              "    <tr>\n",
              "      <th>4</th>\n",
              "      <td>2</td>\n",
              "      <td>W</td>\n",
              "      <td>8</td>\n",
              "    </tr>\n",
              "  </tbody>\n",
              "</table>\n",
              "</div>"
            ]
          },
          "metadata": {},
          "execution_count": 4
        }
      ],
      "metadata": {
        "tags": [],
        "cell_id": "00001-8a7224e5-acee-4f60-9e0f-7d43f04a5cae",
        "deepnote_to_be_reexecuted": false,
        "source_hash": "4617a7d6",
        "execution_start": 1626018387807,
        "execution_millis": 2,
        "deepnote_cell_type": "code"
      }
    },
    {
      "cell_type": "markdown",
      "source": [
        "Before we conduct a repeated measures ANOVA, we need to decide which approach to use - Univariate or Multivariate. We decide this using Mauchly's test of sphericity. If we fail to reject the null hypothesis then we use the univariate approach. \n",
        "\n",
        " * $H_0 =$ the sphericity assumption holds\n",
        " * $H_A =$ the sphericity assumption is violated\n",
        "\n",
        "We use the `pingouin` statistics package to conduct the test.\n",
        "Most of the parameters below are self-explanatory, except that `dv` stands for dependent variable."
      ],
      "metadata": {
        "tags": [],
        "cell_id": "00004-3d55702b-133f-44fc-9853-768b88a2a755",
        "deepnote_cell_type": "markdown"
      }
    },
    {
      "cell_type": "code",
      "execution_count": 5,
      "source": [
        "import pingouin as pg\n",
        "pg.sphericity( dv='Rating', within='Skin Treatment', subject='Subject', method='mauchly', data=df )"
      ],
      "outputs": [
        {
          "output_type": "execute_result",
          "data": {
            "text/plain": [
              "SpherResults(spher=True, W=0.06210054956238558, chi2=7.565056754547507, dof=5, pval=0.20708214225927316)"
            ]
          },
          "metadata": {},
          "execution_count": 5
        }
      ],
      "metadata": {
        "tags": [],
        "cell_id": "00004-ce3d5aa1-af9f-49f4-ba00-24e5b817ceff",
        "deepnote_to_be_reexecuted": false,
        "source_hash": "5d81b6a1",
        "execution_start": 1626018896858,
        "execution_millis": 8,
        "deepnote_cell_type": "code"
      }
    },
    {
      "cell_type": "markdown",
      "source": [
        "Since the $p$ value of `skin_treatment` is about $0.2071$, we fail to reject the sphericity assumption at a 5% significance level and use the univariate approach to conduct the repeated measures ANOVA."
      ],
      "metadata": {
        "tags": [],
        "cell_id": "00006-18b14016-f01a-4ae1-9f79-6611e6a4afc7",
        "deepnote_cell_type": "markdown"
      }
    },
    {
      "cell_type": "code",
      "execution_count": 6,
      "source": [
        "# Compute a repeated measures ANOVA using a function pingouin adds to our DataFrame:\n",
        "df.rm_anova( dv='Rating', within='Skin Treatment', subject='Subject', detailed=False )"
      ],
      "outputs": [
        {
          "output_type": "execute_result",
          "data": {
            "text/plain": [
              "           Source  ddof1  ddof2         F     p-unc      np2       eps\n",
              "0  Skin Treatment      3     12  5.117647  0.016501  0.56129  0.541199"
            ],
            "text/html": [
              "<div>\n",
              "<style scoped>\n",
              "    .dataframe tbody tr th:only-of-type {\n",
              "        vertical-align: middle;\n",
              "    }\n",
              "\n",
              "    .dataframe tbody tr th {\n",
              "        vertical-align: top;\n",
              "    }\n",
              "\n",
              "    .dataframe thead th {\n",
              "        text-align: right;\n",
              "    }\n",
              "</style>\n",
              "<table border=\"1\" class=\"dataframe\">\n",
              "  <thead>\n",
              "    <tr style=\"text-align: right;\">\n",
              "      <th></th>\n",
              "      <th>Source</th>\n",
              "      <th>ddof1</th>\n",
              "      <th>ddof2</th>\n",
              "      <th>F</th>\n",
              "      <th>p-unc</th>\n",
              "      <th>np2</th>\n",
              "      <th>eps</th>\n",
              "    </tr>\n",
              "  </thead>\n",
              "  <tbody>\n",
              "    <tr>\n",
              "      <th>0</th>\n",
              "      <td>Skin Treatment</td>\n",
              "      <td>3</td>\n",
              "      <td>12</td>\n",
              "      <td>5.117647</td>\n",
              "      <td>0.016501</td>\n",
              "      <td>0.56129</td>\n",
              "      <td>0.541199</td>\n",
              "    </tr>\n",
              "  </tbody>\n",
              "</table>\n",
              "</div>"
            ]
          },
          "metadata": {},
          "execution_count": 6
        }
      ],
      "metadata": {
        "tags": [],
        "cell_id": "00004-916973f8-8cea-4221-a274-91a4355991b1",
        "deepnote_to_be_reexecuted": false,
        "source_hash": "e35946be",
        "execution_start": 1626019236474,
        "execution_millis": 72,
        "deepnote_cell_type": "code"
      }
    },
    {
      "cell_type": "markdown",
      "source": [
        "Since the $p$ value of about $0.017$ is less that the 5% significance level, we conclude that there is significant evidence of a treatment effect."
      ],
      "metadata": {
        "tags": [],
        "cell_id": "00005-c1e779c1-2cd2-4d5e-a968-ed7c8f16abfb",
        "deepnote_cell_type": "markdown"
      }
    },
    {
      "cell_type": "markdown",
      "source": [
        "Note: If there is more than 1 repeated measures factor, you can add a list of them to the `within` parameter and conduct the test."
      ],
      "metadata": {
        "tags": [],
        "cell_id": "00009-71766719-36a0-469d-a27e-bb9a4ca7086c",
        "deepnote_cell_type": "markdown"
      }
    }
  ],
  "metadata": {
    "orig_nbformat": 2,
    "deepnote": {
      "is_reactive": false
    },
    "deepnote_notebook_id": "9d0556a4-d785-41b1-a5e7-888e3c23bb39",
    "deepnote_execution_queue": [],
    "nteract": {
      "version": "0.28.0"
    },
    "language_info": {
      "name": "python",
      "version": "3.9.5",
      "mimetype": "text/x-python",
      "codemirror_mode": {
        "name": "ipython",
        "version": 3
      },
      "pygments_lexer": "ipython3",
      "nbconvert_exporter": "python",
      "file_extension": ".py"
    },
    "kernelspec": {
      "name": "python3",
      "display_name": "Python 3.9.5 64-bit ('base': conda)"
    },
    "interpreter": {
      "hash": "98b0a9b7b4eaaa670588a142fd0a9b87eaafe866f1db4228be72b4211d12040f"
    }
  },
  "nbformat": 4,
  "nbformat_minor": 2
}