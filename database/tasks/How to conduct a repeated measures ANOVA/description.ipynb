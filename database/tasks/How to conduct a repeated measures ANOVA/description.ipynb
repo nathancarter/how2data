{
  "cells": [
    {
      "cell_type": "markdown",
      "source": [
        "In a repeated measures test, the same subject receives multiple treatments.  When you have a dataset that includes the responses of a repeated measures test where the measurements are dependent (within subjects design), you may wish to check if there is a difference in the treatment effects. How would you conduct a repeated measures ANOVA to answer that question?"
      ],
      "metadata": {
        "tags": [],
        "cell_id": "00000-8a6dddc8-916f-430f-b011-315c773f9d6a",
        "deepnote_cell_type": "markdown"
      }
    }
  ],
  "metadata": {
    "orig_nbformat": 2,
    "deepnote": {
      "is_reactive": false
    },
    "deepnote_notebook_id": "8dcc57b4-c022-4725-858a-d179b54c851a",
    "deepnote_execution_queue": [],
    "nteract": {
      "version": "0.28.0"
    }
  },
  "nbformat": 4,
  "nbformat_minor": 2
}