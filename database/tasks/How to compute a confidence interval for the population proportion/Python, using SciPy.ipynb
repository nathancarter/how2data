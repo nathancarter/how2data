{
 "cells": [
  {
   "cell_type": "markdown",
   "source": [
    "---\n",
    "author: Elizabeth Czarniak (CZARNIA_ELIZ@bentley.edu)\n",
    "---"
   ],
   "metadata": {}
  },
  {
   "cell_type": "markdown",
   "source": [
    "We're going to use some fake data here for illustrative purposes,\n",
    "but you can replace our fake data with your real data in the code below."
   ],
   "metadata": {
    "tags": [],
    "cell_id": "00004-c6ac31e5-35c6-456a-ab90-9814f4b885d8",
    "deepnote_cell_type": "markdown"
   }
  },
  {
   "cell_type": "code",
   "execution_count": null,
   "source": [
    "# Replace the next two lines of code with your real data\n",
    "sample_size = 30\n",
    "sample_proportion = .39\n",
    "\n",
    "# Find the margin of error\n",
    "from scipy import stats\n",
    "import numpy as np\n",
    "alpha = 0.05       # replace with your chosen alpha (here, a 95% confidence level)\n",
    "moe = stats.norm.ppf(1-alpha/2) * np.sqrt(sample_proportion*(1-sample_proportion)/sample_size)\n",
    "\n",
    "# Find the confidence interval\n",
    "lower_bound = sample_proportion - moe\n",
    "upper_bound = sample_proportion + moe\n",
    "lower_bound, upper_bound"
   ],
   "outputs": [],
   "metadata": {
    "tags": [],
    "cell_id": "00000-7b5c9195-7406-448c-a00d-5a4e79b0abb6",
    "deepnote_cell_type": "code"
   }
  },
  {
   "cell_type": "markdown",
   "source": [
    "Our 95% confidence interval is $[0.2155, 0.5645]$."
   ],
   "metadata": {
    "tags": [],
    "cell_id": "00006-9692a05f-5c08-4856-b17e-6e9b2e082aa2",
    "deepnote_cell_type": "markdown"
   }
  }
 ],
 "nbformat": 4,
 "nbformat_minor": 2,
 "metadata": {
  "orig_nbformat": 2,
  "language_info": {
   "name": "python"
  }
 }
}