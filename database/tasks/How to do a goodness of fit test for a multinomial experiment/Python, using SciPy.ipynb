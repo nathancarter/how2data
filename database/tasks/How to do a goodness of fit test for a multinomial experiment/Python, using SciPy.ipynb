{
 "cells": [
  {
   "cell_type": "markdown",
   "source": [
    "---\n",
    "author: Elizabeth Czarniak (CZARNIA_ELIZ@bentley.edu)\n",
    "---"
   ],
   "metadata": {}
  },
  {
   "cell_type": "markdown",
   "source": [
    "Let's say we have a dataset with the previous population proportions for four categories.  (This is contrived data, but the code below can be used on your actual data.)\n",
    "\n",
    "| Category | Frequency |Proportion |\n",
    "|----------|-----------|------------|\n",
    "|    A     |    43     |    0.25    |\n",
    "|    B     |    62     |    0.36    |\n",
    "|    C     |    52     |    0.30    |\n",
    "|    D     |    16     |    0.09    |\n",
    "\n",
    "We have also taken a more recent sample and found the number of observations from it that belong to each category. We want to determine if the proportions coming from the recent sample are equal to the previous proportions.\n",
    "\n",
    "SciPy expects that we will have two lists, one with the expected number of observations in each group (from the previous, or hypothesized proportions) and the other with the actual number of observations in each group (from the more recent sample). SciPy also expects that the total number of observations in each list is the same. We'll create two lists below with the fake data from above, but you can replace them with your real data"
   ],
   "metadata": {
    "tags": [],
    "cell_id": "00004-463c3e0f-264f-4365-9f14-83782b938370",
    "deepnote_cell_type": "markdown"
   }
  },
  {
   "cell_type": "code",
   "execution_count": null,
   "source": [
    "# Replace your data in the next two lines\n",
    "old_observations = [43, 62, 52, 16]\n",
    "new_observations = [56, 80, 12, 25]"
   ],
   "outputs": [],
   "metadata": {
    "tags": [],
    "cell_id": "00006-cc996ff3-c4da-457d-ad4e-99a34919e7d8",
    "deepnote_to_be_reexecuted": false,
    "source_hash": "b524b2f1",
    "execution_start": 1627935981334,
    "execution_millis": 0,
    "deepnote_cell_type": "code"
   }
  },
  {
   "cell_type": "markdown",
   "source": [
    "We set the null hypothesis to be that the proportions of each category from the recent sample are equal to the previous proportions\n",
    "\n",
    "$$H_0: p_A = 0.25\\text{ and }\\ p_B = 0.36\\text{ and }\\ p_C = 0.30\\text{ and }\\ p_D=0.09.$$\n",
    "\n",
    "We choose a value $0 \\le \\alpha \\le 1$ as our Type 1 error rate. We'll let $\\alpha$ be 0.05 here."
   ],
   "metadata": {
    "tags": [],
    "cell_id": "00006-4f4799a0-7259-4306-9f08-19a4e40fdad0",
    "deepnote_cell_type": "markdown"
   }
  },
  {
   "cell_type": "code",
   "execution_count": null,
   "source": [
    "# Run the Chi-square test, giving the test statistic and p-value\n",
    "from scipy import stats\n",
    "stats.chisquare(f_obs=new_observations, f_exp=old_observations)"
   ],
   "outputs": [
    {
     "output_type": "execute_result",
     "data": {
      "text/plain": [
       "Power_divergenceResult(statistic=44.98776977898321, pvalue=9.30824439694332e-10)"
      ]
     },
     "metadata": {},
     "execution_count": 2
    }
   ],
   "metadata": {
    "tags": [],
    "cell_id": "00000-bf9bdd26-d85d-4882-bb8a-9f4426b2ca61",
    "deepnote_to_be_reexecuted": false,
    "source_hash": "a735018d",
    "execution_start": 1627935985827,
    "execution_millis": 407,
    "deepnote_cell_type": "code"
   }
  },
  {
   "cell_type": "markdown",
   "source": [
    "Our $p$-value is less than $\\alpha$, so we have sufficient evidence to reject the null hypothesis. It does appear that the proportion of at least one of the four categories is significantly different now from what it was previously."
   ],
   "metadata": {
    "tags": [],
    "cell_id": "00008-d39ed5be-3a27-4085-b94a-de0bd9709161",
    "deepnote_cell_type": "markdown"
   }
  }
 ],
 "nbformat": 4,
 "nbformat_minor": 2,
 "metadata": {
  "orig_nbformat": 2,
  "language_info": {
   "name": "python",
   "version": "3.9.6"
  },
  "kernelspec": {
   "name": "python3",
   "display_name": "Python 3.9.6 64-bit ('base': conda)"
  },
  "interpreter": {
   "hash": "98b0a9b7b4eaaa670588a142fd0a9b87eaafe866f1db4228be72b4211d12040f"
  }
 }
}