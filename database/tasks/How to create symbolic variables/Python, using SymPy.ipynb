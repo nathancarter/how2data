{
 "metadata": {
  "language_info": {
   "codemirror_mode": {
    "name": "ipython",
    "version": 3
   },
   "file_extension": ".py",
   "mimetype": "text/x-python",
   "name": "python",
   "nbconvert_exporter": "python",
   "pygments_lexer": "ipython3",
   "version": "3.9.2"
  },
  "orig_nbformat": 2,
  "kernelspec": {
   "name": "python392jvsc74a57bd098b0a9b7b4eaaa670588a142fd0a9b87eaafe866f1db4228be72b4211d12040f",
   "display_name": "Python 3.9.2 64-bit ('base': conda)"
  }
 },
 "nbformat": 4,
 "nbformat_minor": 2,
 "cells": [
  {
   "source": [
    "---\n",
    "author: Nathan Carter (ncarter@bentley.edu)\n",
    "---\n",
    "\n",
    "This answer assumes you have imported SymPy as follows."
   ],
   "cell_type": "markdown",
   "metadata": {}
  },
  {
   "cell_type": "code",
   "execution_count": 2,
   "metadata": {},
   "outputs": [],
   "source": [
    "from sympy import *                   # load all math functions\n",
    "init_printing( use_latex='mathjax' )  # use pretty math output"
   ]
  },
  {
   "source": [
    "You can define any number of variables as follows.\n",
    "Here we define $x$, $y$, and $z$."
   ],
   "cell_type": "markdown",
   "metadata": {}
  },
  {
   "cell_type": "code",
   "execution_count": 3,
   "metadata": {},
   "outputs": [
    {
     "output_type": "execute_result",
     "data": {
      "text/plain": [
       "(x, y, z)"
      ],
      "text/latex": "$\\displaystyle \\left( x, \\  y, \\  z\\right)$"
     },
     "metadata": {},
     "execution_count": 3
    }
   ],
   "source": [
    "var( 'x y z' )"
   ]
  },
  {
   "source": [
    "You can tell that they are variables, because when you ask Python to\n",
    "print them out, it does not print a value (such as a number) but rather\n",
    "just the symbol itself."
   ],
   "cell_type": "markdown",
   "metadata": {}
  },
  {
   "cell_type": "code",
   "execution_count": 4,
   "metadata": {},
   "outputs": [
    {
     "output_type": "execute_result",
     "data": {
      "text/plain": [
       "x"
      ],
      "text/latex": "$\\displaystyle x$"
     },
     "metadata": {},
     "execution_count": 4
    }
   ],
   "source": [
    "x"
   ]
  },
  {
   "source": [
    "And when you use a symbol inside a larger formula, it doesn't attempt to\n",
    "compute a result, but stores the entire formula symbolically."
   ],
   "cell_type": "markdown",
   "metadata": {}
  },
  {
   "cell_type": "code",
   "execution_count": 6,
   "metadata": {},
   "outputs": [
    {
     "output_type": "execute_result",
     "data": {
      "text/plain": [
       "√x + 5"
      ],
      "text/latex": "$\\displaystyle \\sqrt{x} + 5$"
     },
     "metadata": {},
     "execution_count": 6
    }
   ],
   "source": [
    "formula = sqrt(x) + 5\n",
    "formula"
   ]
  }
 ]
}