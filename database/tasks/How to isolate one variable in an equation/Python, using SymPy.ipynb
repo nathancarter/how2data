{
 "metadata": {
  "language_info": {
   "codemirror_mode": {
    "name": "ipython",
    "version": 3
   },
   "file_extension": ".py",
   "mimetype": "text/x-python",
   "name": "python",
   "nbconvert_exporter": "python",
   "pygments_lexer": "ipython3",
   "version": "3.9.2"
  },
  "orig_nbformat": 2,
  "kernelspec": {
   "name": "python392jvsc74a57bd098b0a9b7b4eaaa670588a142fd0a9b87eaafe866f1db4228be72b4211d12040f",
   "display_name": "Python 3.9.2 64-bit ('base': conda)"
  }
 },
 "nbformat": 4,
 "nbformat_minor": 2,
 "cells": [
  {
   "source": [
    "---\n",
    "author: Nathan Carter (ncarter@bentley.edu)\n",
    "---\n",
    "\n",
    "This answer assumes you have imported SymPy as follows."
   ],
   "cell_type": "markdown",
   "metadata": {}
  },
  {
   "cell_type": "code",
   "execution_count": 1,
   "metadata": {},
   "outputs": [],
   "source": [
    "from sympy import *                   # load all math functions\n",
    "init_printing( use_latex='mathjax' )  # use pretty math output"
   ]
  },
  {
   "source": [
    "Let's create an equation with many variables."
   ],
   "cell_type": "markdown",
   "metadata": {}
  },
  {
   "cell_type": "code",
   "execution_count": 2,
   "metadata": {},
   "outputs": [
    {
     "output_type": "execute_result",
     "data": {
      "text/plain": [
       "P⋅V = R⋅T⋅n"
      ],
      "text/latex": "$\\displaystyle P V = R T n$"
     },
     "metadata": {},
     "execution_count": 2
    }
   ],
   "source": [
    "var('P V n R T')\n",
    "ideal_gas_law = Eq( P*V, n*R*T )\n",
    "ideal_gas_law"
   ]
  },
  {
   "source": [
    "To isolate one variable, call the `solve` function, and pass that variable\n",
    "as the second argument."
   ],
   "cell_type": "markdown",
   "metadata": {}
  },
  {
   "cell_type": "code",
   "execution_count": 3,
   "metadata": {},
   "outputs": [
    {
     "output_type": "execute_result",
     "data": {
      "text/plain": [
       "⎡P⋅V⎤\n",
       "⎢───⎥\n",
       "⎣T⋅n⎦"
      ],
      "text/latex": "$\\displaystyle \\left[ \\frac{P V}{T n}\\right]$"
     },
     "metadata": {},
     "execution_count": 3
    }
   ],
   "source": [
    "solve( ideal_gas_law, R )"
   ]
  },
  {
   "source": [
    "The brackets surround a list of all solutions---in this case, just one.\n",
    "That solution is that $R=\\frac{PV}{Tn}$."
   ],
   "cell_type": "markdown",
   "metadata": {}
  }
 ]
}