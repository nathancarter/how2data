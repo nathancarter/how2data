{
 "cells": [
  {
   "cell_type": "markdown",
   "source": [
    "---\n",
    "author: Elizabeth Czarniak (CZARNIA_ELIZ@bentley.edu)\n",
    "---"
   ],
   "metadata": {}
  },
  {
   "cell_type": "markdown",
   "source": [
    "Let's assume that you already made your multivariate linear model,\n",
    "similar to the one shown below. If you still need to create one, first see\n",
    "how to fit a multivariate linear model.\n",
    "\n",
    "We use example data here, but you would use your own data instead."
   ],
   "metadata": {
    "tags": [],
    "cell_id": "00004-1624116b-ba0b-4ce9-9c90-01f510c80394",
    "deepnote_cell_type": "markdown"
   }
  },
  {
   "cell_type": "code",
   "execution_count": 1,
   "source": [
    "import pandas as pd\n",
    "import statsmodels.api as sm\n",
    "data = {\n",
    "    'x1' : [ 2,  7,  4,  3, 11, 18,   6, 15,   9,  12],\n",
    "    'x2' : [ 4,  6, 10,  1, 18, 11,   8, 20,  16,  13],\n",
    "    'x3' : [11, 16, 20,  6, 14,  8,   5, 23,  13,  10],\n",
    "    'y' :  [24, 60, 32, 29, 90, 45, 130, 76, 100, 120]\n",
    "}"
   ],
   "outputs": [],
   "metadata": {
    "tags": [],
    "cell_id": "00000-6b3e08fa-6456-4e0a-9025-c2b8ee8fc535",
    "deepnote_to_be_reexecuted": false,
    "source_hash": "bddc515",
    "execution_start": 1628304503606,
    "execution_millis": 2734,
    "deepnote_cell_type": "code"
   }
  },
  {
   "cell_type": "markdown",
   "source": [
    "The following code fits the model to the data."
   ],
   "metadata": {}
  },
  {
   "cell_type": "code",
   "execution_count": 2,
   "source": [
    "df = pd.DataFrame(data)\n",
    "xs = df[['x1', 'x2', 'x3']]\n",
    "y = df['y']\n",
    "xs = sm.add_constant(xs)\n",
    "model = sm.OLS(y, xs).fit()"
   ],
   "outputs": [
    {
     "output_type": "stream",
     "name": "stderr",
     "text": [
      "/opt/conda/lib/python3.9/site-packages/statsmodels/tsa/tsatools.py:142: FutureWarning: In a future version of pandas all arguments of concat except for the argument 'objs' will be keyword-only\n",
      "  x = pd.concat(x[::order], 1)\n"
     ]
    }
   ],
   "metadata": {}
  },
  {
   "cell_type": "markdown",
   "source": [
    "Now we want to test whether the model is significant.  We will use a null hypothesis\n",
    "that states that all of the model's coefficients are equal to zero, that is, they are\n",
    "not jointly significant in predicting $y$.  We can write $H_0: \\beta_0 = \\beta_1 = \\beta2 = \\beta_3 = 0$.\n",
    "\n",
    "We also choose a value $0 \\le \\alpha \\le 1$ as our Type 1 error rate. Herer we'll use\n",
    "$\\alpha=0.05$.\n",
    "\n",
    "The summary output for the model will give us both the F-statistic and the p-value."
   ],
   "metadata": {
    "tags": [],
    "cell_id": "00006-aa3bd582-7776-4e59-a990-27f63062c10c",
    "deepnote_cell_type": "markdown"
   }
  },
  {
   "cell_type": "code",
   "execution_count": 3,
   "source": [
    "model.summary()"
   ],
   "outputs": [
    {
     "output_type": "stream",
     "name": "stderr",
     "text": [
      "/opt/conda/lib/python3.9/site-packages/scipy/stats/stats.py:1541: UserWarning: kurtosistest only valid for n>=20 ... continuing anyway, n=10\n",
      "  warnings.warn(\"kurtosistest only valid for n>=20 ... continuing \"\n"
     ]
    },
    {
     "output_type": "execute_result",
     "data": {
      "text/html": [
       "<table class=\"simpletable\">\n",
       "<caption>OLS Regression Results</caption>\n",
       "<tr>\n",
       "  <th>Dep. Variable:</th>            <td>y</td>        <th>  R-squared:         </th> <td>   0.594</td>\n",
       "</tr>\n",
       "<tr>\n",
       "  <th>Model:</th>                   <td>OLS</td>       <th>  Adj. R-squared:    </th> <td>   0.390</td>\n",
       "</tr>\n",
       "<tr>\n",
       "  <th>Method:</th>             <td>Least Squares</td>  <th>  F-statistic:       </th> <td>   2.921</td>\n",
       "</tr>\n",
       "<tr>\n",
       "  <th>Date:</th>             <td>Tue, 05 Oct 2021</td> <th>  Prob (F-statistic):</th>  <td> 0.122</td> \n",
       "</tr>\n",
       "<tr>\n",
       "  <th>Time:</th>                 <td>19:14:39</td>     <th>  Log-Likelihood:    </th> <td> -45.689</td>\n",
       "</tr>\n",
       "<tr>\n",
       "  <th>No. Observations:</th>      <td>    10</td>      <th>  AIC:               </th> <td>   99.38</td>\n",
       "</tr>\n",
       "<tr>\n",
       "  <th>Df Residuals:</th>          <td>     6</td>      <th>  BIC:               </th> <td>   100.6</td>\n",
       "</tr>\n",
       "<tr>\n",
       "  <th>Df Model:</th>              <td>     3</td>      <th>                     </th>     <td> </td>   \n",
       "</tr>\n",
       "<tr>\n",
       "  <th>Covariance Type:</th>      <td>nonrobust</td>    <th>                     </th>     <td> </td>   \n",
       "</tr>\n",
       "</table>\n",
       "<table class=\"simpletable\">\n",
       "<tr>\n",
       "    <td></td>       <th>coef</th>     <th>std err</th>      <th>t</th>      <th>P>|t|</th>  <th>[0.025</th>    <th>0.975]</th>  \n",
       "</tr>\n",
       "<tr>\n",
       "  <th>const</th> <td>   77.2443</td> <td>   27.366</td> <td>    2.823</td> <td> 0.030</td> <td>   10.282</td> <td>  144.206</td>\n",
       "</tr>\n",
       "<tr>\n",
       "  <th>x1</th>    <td>   -2.7009</td> <td>    2.855</td> <td>   -0.946</td> <td> 0.381</td> <td>   -9.686</td> <td>    4.284</td>\n",
       "</tr>\n",
       "<tr>\n",
       "  <th>x2</th>    <td>    7.2989</td> <td>    2.875</td> <td>    2.539</td> <td> 0.044</td> <td>    0.265</td> <td>   14.333</td>\n",
       "</tr>\n",
       "<tr>\n",
       "  <th>x3</th>    <td>   -4.8607</td> <td>    2.187</td> <td>   -2.223</td> <td> 0.068</td> <td>  -10.211</td> <td>    0.490</td>\n",
       "</tr>\n",
       "</table>\n",
       "<table class=\"simpletable\">\n",
       "<tr>\n",
       "  <th>Omnibus:</th>       <td> 2.691</td> <th>  Durbin-Watson:     </th> <td>   2.123</td>\n",
       "</tr>\n",
       "<tr>\n",
       "  <th>Prob(Omnibus):</th> <td> 0.260</td> <th>  Jarque-Bera (JB):  </th> <td>   1.251</td>\n",
       "</tr>\n",
       "<tr>\n",
       "  <th>Skew:</th>          <td> 0.524</td> <th>  Prob(JB):          </th> <td>   0.535</td>\n",
       "</tr>\n",
       "<tr>\n",
       "  <th>Kurtosis:</th>      <td> 1.620</td> <th>  Cond. No.          </th> <td>    58.2</td>\n",
       "</tr>\n",
       "</table><br/><br/>Notes:<br/>[1] Standard Errors assume that the covariance matrix of the errors is correctly specified."
      ],
      "text/plain": [
       "<class 'statsmodels.iolib.summary.Summary'>\n",
       "\"\"\"\n",
       "                            OLS Regression Results                            \n",
       "==============================================================================\n",
       "Dep. Variable:                      y   R-squared:                       0.594\n",
       "Model:                            OLS   Adj. R-squared:                  0.390\n",
       "Method:                 Least Squares   F-statistic:                     2.921\n",
       "Date:                Tue, 05 Oct 2021   Prob (F-statistic):              0.122\n",
       "Time:                        19:14:39   Log-Likelihood:                -45.689\n",
       "No. Observations:                  10   AIC:                             99.38\n",
       "Df Residuals:                       6   BIC:                             100.6\n",
       "Df Model:                           3                                         \n",
       "Covariance Type:            nonrobust                                         \n",
       "==============================================================================\n",
       "                 coef    std err          t      P>|t|      [0.025      0.975]\n",
       "------------------------------------------------------------------------------\n",
       "const         77.2443     27.366      2.823      0.030      10.282     144.206\n",
       "x1            -2.7009      2.855     -0.946      0.381      -9.686       4.284\n",
       "x2             7.2989      2.875      2.539      0.044       0.265      14.333\n",
       "x3            -4.8607      2.187     -2.223      0.068     -10.211       0.490\n",
       "==============================================================================\n",
       "Omnibus:                        2.691   Durbin-Watson:                   2.123\n",
       "Prob(Omnibus):                  0.260   Jarque-Bera (JB):                1.251\n",
       "Skew:                           0.524   Prob(JB):                        0.535\n",
       "Kurtosis:                       1.620   Cond. No.                         58.2\n",
       "==============================================================================\n",
       "\n",
       "Notes:\n",
       "[1] Standard Errors assume that the covariance matrix of the errors is correctly specified.\n",
       "\"\"\""
      ]
     },
     "metadata": {},
     "execution_count": 3
    }
   ],
   "metadata": {
    "tags": [],
    "cell_id": "00006-e146c1f5-7c45-4cdd-a87b-a3aab26c7f58",
    "deepnote_to_be_reexecuted": false,
    "source_hash": "480ef445",
    "execution_start": 1628304693793,
    "execution_millis": 5,
    "deepnote_cell_type": "code"
   }
  },
  {
   "cell_type": "markdown",
   "source": [
    "Near the top right of the output, we can see that the F-statistic is 2.921.\n",
    "The corresponding $p$-value immediately below it is 0.1222, which is greater than $\\alpha$,\n",
    "so we do not have sufficient evidence to reject the null hypothesis.\n",
    "\n",
    "We cannot conclude that the independent variables in our model are jointly significant\n",
    "in predicting the response variable."
   ],
   "metadata": {
    "tags": [],
    "cell_id": "00008-9a4ac0ac-4e91-4d52-b07d-1980c89a0b02",
    "deepnote_cell_type": "markdown"
   }
  }
 ],
 "nbformat": 4,
 "nbformat_minor": 2,
 "metadata": {
  "orig_nbformat": 2,
  "language_info": {
   "name": "python",
   "version": "3.9.6",
   "mimetype": "text/x-python",
   "codemirror_mode": {
    "name": "ipython",
    "version": 3
   },
   "pygments_lexer": "ipython3",
   "nbconvert_exporter": "python",
   "file_extension": ".py"
  },
  "kernelspec": {
   "name": "python3",
   "display_name": "Python 3.9.6 64-bit ('base': conda)"
  },
  "interpreter": {
   "hash": "98b0a9b7b4eaaa670588a142fd0a9b87eaafe866f1db4228be72b4211d12040f"
  }
 }
}