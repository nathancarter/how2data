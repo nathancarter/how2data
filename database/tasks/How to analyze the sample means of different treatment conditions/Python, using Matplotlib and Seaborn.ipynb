{
  "cells": [
    {
      "cell_type": "markdown",
      "source": [
        "---\n",
        "author: Krtin Juneja (KJUNEJA@falcon.bentley.edu)\n",
        "---\n",
        "\n",
        "The solution below uses an example dataset about the teeth of 10 guinea pigs at three Vitamin C dosage levels (in mg) with two delivery methods (orange juice vs. ascorbic acid).  (See how to quickly load some sample data.)"
      ],
      "metadata": {
        "tags": [],
        "cell_id": "00000-2d75eb4e-aa7e-492b-b682-3100f4659c14",
        "deepnote_cell_type": "markdown"
      }
    },
    {
      "cell_type": "code",
      "execution_count": null,
      "source": [
        "from rdatasets import data\n",
        "df = data('ToothGrowth')"
      ],
      "outputs": [],
      "metadata": {
        "tags": [],
        "cell_id": "00000-21afaf8a-6546-42ab-953e-631ee2a780e9",
        "deepnote_to_be_reexecuted": false,
        "source_hash": "5c671f03",
        "execution_start": 1626610365492,
        "execution_millis": 8,
        "deepnote_cell_type": "code"
      }
    },
    {
      "cell_type": "markdown",
      "source": [
        "To visually plot the means of the length of the tooth based on the Vitamin C dosage levels we can create a pointplot. We will have to import the `seaborn` and `matplotlib.pyplot` packages to be able to create it."
      ],
      "metadata": {
        "tags": [],
        "cell_id": "00002-9cf3f2f5-7ec1-4aa5-9591-27adc9612d7a",
        "deepnote_cell_type": "markdown"
      }
    },
    {
      "cell_type": "code",
      "execution_count": null,
      "source": [
        "import seaborn as sns\n",
        "import matplotlib.pyplot as plt\n",
        "sns.pointplot( x = 'dose', y = 'len', data = df,\n",
        "               ci = 95,         # ci stands for Confidence Interval\n",
        "               capsize = 0.1 )  # the width of the \"caps\" on error bars\n",
        "plt.show()"
      ],
      "outputs": [
        {
          "output_type": "display_data",
          "data": {
            "text/plain": [
              "<Figure size 432x288 with 1 Axes>"
            ],
            "image/png": "[encoded data removed]"
          },
          "metadata": {
            "needs_background": "light",
            "image/png": {
              "width": 392,
              "height": 262
            }
          }
        }
      ],
      "metadata": {
        "tags": [],
        "cell_id": "00003-57de4539-168e-42d4-88c7-c6d85feebeb7",
        "deepnote_to_be_reexecuted": false,
        "source_hash": "97907cda",
        "execution_start": 1626610365550,
        "execution_millis": 2564,
        "deepnote_cell_type": "code"
      }
    },
    {
      "cell_type": "markdown",
      "source": [
        "The point plot informs us that as the dosage levels increase, the tooth length also increases. \n",
        "\n",
        "To obtain the actual numbers, we can use the `groupby` function to compute the treatment level means, and the `mean` function to compute the mean for the entire column."
      ],
      "metadata": {
        "tags": [],
        "cell_id": "00004-722f6931-c82f-40a6-b4f7-ba335aada8a8",
        "deepnote_cell_type": "markdown"
      }
    },
    {
      "cell_type": "code",
      "execution_count": null,
      "source": [
        "df.groupby('dose')['len'].mean()"
      ],
      "outputs": [
        {
          "output_type": "execute_result",
          "data": {
            "text/plain": [
              "dose\n",
              "0.5    10.605\n",
              "1.0    19.735\n",
              "2.0    26.100\n",
              "Name: len, dtype: float64"
            ]
          },
          "metadata": {},
          "execution_count": 3
        }
      ],
      "metadata": {
        "tags": [],
        "cell_id": "00004-3f4f4da4-654e-4a2e-bc77-ac684922a637",
        "deepnote_to_be_reexecuted": false,
        "source_hash": "728704e7",
        "execution_start": 1626610368161,
        "execution_millis": 15,
        "deepnote_cell_type": "code"
      }
    },
    {
      "cell_type": "code",
      "execution_count": null,
      "source": [
        "df['len'].mean()"
      ],
      "outputs": [
        {
          "output_type": "execute_result",
          "data": {
            "text/plain": [
              "18.813333333333336"
            ]
          },
          "metadata": {},
          "execution_count": 4
        }
      ],
      "metadata": {
        "tags": [],
        "cell_id": "00006-54a1ecb0-8cd0-4c62-a39f-506417e7a92f",
        "deepnote_to_be_reexecuted": false,
        "source_hash": "e8614c9f",
        "execution_start": 1626610368162,
        "execution_millis": 15,
        "deepnote_cell_type": "code"
      }
    },
    {
      "cell_type": "markdown",
      "source": [
        "If you wish to display the difference between the overall mean and the group means, you can subtract the overall mean from the treatment level means."
      ],
      "metadata": {
        "tags": [],
        "cell_id": "00007-05b035ee-6b69-406b-b4a7-b29efb16ce60",
        "deepnote_cell_type": "markdown"
      }
    },
    {
      "cell_type": "code",
      "execution_count": null,
      "source": [
        "df.groupby('dose')['len'].mean() - df['len'].mean()"
      ],
      "outputs": [
        {
          "output_type": "execute_result",
          "data": {
            "text/plain": [
              "dose\n",
              "0.5   -8.208333\n",
              "1.0    0.921667\n",
              "2.0    7.286667\n",
              "Name: len, dtype: float64"
            ]
          },
          "metadata": {},
          "execution_count": 5
        }
      ],
      "metadata": {
        "tags": [],
        "cell_id": "00007-df74ea28-af4e-4862-bafb-2840dcb46a3d",
        "deepnote_to_be_reexecuted": false,
        "source_hash": "b303518",
        "execution_start": 1626610368162,
        "execution_millis": 15,
        "deepnote_cell_type": "code"
      }
    }
  ],
  "metadata": {
    "orig_nbformat": 2,
    "deepnote": {
      "is_reactive": false
    },
    "deepnote_notebook_id": "f589603e-1e42-471f-a001-42122042f04a",
    "deepnote_execution_queue": [],
    "nteract": {
      "version": "0.28.0"
    },
    "language_info": {
      "name": "python"
    }
  },
  "nbformat": 4,
  "nbformat_minor": 2
}