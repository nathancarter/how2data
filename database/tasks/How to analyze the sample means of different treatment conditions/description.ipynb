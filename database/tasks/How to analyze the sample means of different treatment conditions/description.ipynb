{
  "cells": [
    {
      "cell_type": "markdown",
      "source": [
        "In a single-factor experiment with three or more treatment levels, how can we compare them to see which one impacts the outcome variable the most?\n",
        "\n"
      ],
      "metadata": {
        "tags": [],
        "cell_id": "00000-d9000949-d547-47bb-831a-0af399eaeab7",
        "deepnote_cell_type": "markdown"
      }
    }
  ],
  "metadata": {
    "orig_nbformat": 2,
    "deepnote": {
      "is_reactive": false
    },
    "deepnote_notebook_id": "bda5dbbd-1617-40d4-bb22-6bc8a3137722",
    "deepnote_execution_queue": [],
    "nteract": {
      "version": "0.28.0"
    },
    "language_info": {
      "name": "python"
    }
  },
  "nbformat": 4,
  "nbformat_minor": 2
}