{
  "cells": [
    {
      "cell_type": "markdown",
      "source": [
        "When there are multiple treatment levels and you wish to compare them to see which one impacts the outcome variable the most, how would you do that?\n",
        "\n"
      ],
      "metadata": {
        "tags": [],
        "cell_id": "00000-d9000949-d547-47bb-831a-0af399eaeab7",
        "deepnote_cell_type": "markdown"
      }
    }
  ],
  "metadata": {
    "orig_nbformat": 2,
    "deepnote": {
      "is_reactive": false
    },
    "deepnote_notebook_id": "bda5dbbd-1617-40d4-bb22-6bc8a3137722",
    "deepnote_execution_queue": [],
    "nteract": {
      "version": "0.28.0"
    }
  },
  "nbformat": 4,
  "nbformat_minor": 2
}