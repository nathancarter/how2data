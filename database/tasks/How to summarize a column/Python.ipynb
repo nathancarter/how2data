{
  "cells": [
    {
      "cell_type": "markdown",
      "metadata": {
        "nteract": {
          "transient": {
            "deleting": false
          }
        }
      },
      "source": [
        "---\n",
        "author: Krtin Juneja (KJUNEJA@falcon.bentley.edu)\n",
        "---"
      ]
    },
    {
      "cell_type": "markdown",
      "metadata": {
        "cell_id": "00001-e74b06e1-7d78-4f45-ae14-d0e28b3f3cf5",
        "deepnote_cell_type": "markdown",
        "tags": []
      },
      "source": [
        "The solution below uses an example dataset about the teeth of 10 guinea pigs at three Vitamin C dosage levels (in mg) with two delivery methods (orange juice vs. ascorbic acid).  (See how to quickly load some sample data.)"
      ]
    },
    {
      "cell_type": "code",
      "execution_count": 1,
      "metadata": {
        "cell_id": "00001-945db454-8342-4164-9130-95637e17eb8b",
        "deepnote_cell_type": "code",
        "deepnote_to_be_reexecuted": false,
        "execution_millis": 2,
        "execution_start": 1625347676182,
        "source_hash": "3efdab3d",
        "tags": []
      },
      "outputs": [],
      "source": [
        "from rdatasets import data\n",
        "df = data('ToothGrowth')"
      ]
    },
    {
      "cell_type": "markdown",
      "metadata": {
        "cell_id": "00002-d2a2aa65-999c-402a-96bc-d24990eec095",
        "deepnote_cell_type": "markdown",
        "tags": []
      },
      "source": [
        "Let us consider qualitative and quantitative variables separately.\n",
        "\n",
        "Consider the qualitative column \"supp\" in the dataset (which type of supplement the animal received).  To count the distribution of each categorical value, use `value_counts()`:"
      ]
    },
    {
      "cell_type": "code",
      "execution_count": 2,
      "metadata": {
        "cell_id": "00003-3fc9aa17-fa86-400b-88e1-5b6c50a0db67",
        "deepnote_cell_type": "code",
        "deepnote_to_be_reexecuted": false,
        "execution_millis": 4,
        "execution_start": 1625347680777,
        "source_hash": "52ea71e2",
        "tags": []
      },
      "outputs": [
        {
          "data": {
            "text/plain": [
              "VC    30\n",
              "OJ    30\n",
              "Name: supp, dtype: int64"
            ]
          },
          "execution_count": 2,
          "metadata": {},
          "output_type": "execute_result"
        }
      ],
      "source": [
        "df['supp'].value_counts() \n",
        "# Or use df['supp'].value_counts(normalize = True) for proportions instead."
      ]
    },
    {
      "cell_type": "markdown",
      "metadata": {
        "cell_id": "00004-5e316793-4e6d-4a50-84ee-4d3271bfd582",
        "deepnote_cell_type": "markdown",
        "tags": []
      },
      "source": [
        "The output says that there are 30 observations under each of the two levels, Orange Juice and Ascorbic Acid.\n",
        "\n",
        "If you wish to jointly summarize two categorical columns, provide both to `value_counts()`:"
      ]
    },
    {
      "cell_type": "code",
      "execution_count": 3,
      "metadata": {
        "cell_id": "00007-e294d3d1-40c7-4338-b74b-1925a3012d4f",
        "deepnote_cell_type": "code",
        "deepnote_to_be_reexecuted": false,
        "execution_millis": 15,
        "execution_start": 1625347973707,
        "source_hash": "74d951e5",
        "tags": []
      },
      "outputs": [
        {
          "data": {
            "text/plain": [
              "supp  dose\n",
              "OJ    0.5     10\n",
              "      1.0     10\n",
              "      2.0     10\n",
              "VC    0.5     10\n",
              "      1.0     10\n",
              "      2.0     10\n",
              "dtype: int64"
            ]
          },
          "execution_count": 3,
          "metadata": {},
          "output_type": "execute_result"
        }
      ],
      "source": [
        "df[['supp','dose']].value_counts() "
      ]
    },
    {
      "cell_type": "markdown",
      "metadata": {
        "cell_id": "00008-3dda4cb5-b1bd-4daa-a903-29b7445eceb0",
        "deepnote_cell_type": "markdown",
        "tags": []
      },
      "source": [
        "This informs us that there are 10 observations for each of the combinations.\n",
        "\n",
        "Now consider the quantitative column `len` in the dataset (the length of the animal's tooth).  We can compute summary statistics for it just as we can for a whole dataframe (as we cover in how to compute summary statistics)."
      ]
    },
    {
      "cell_type": "code",
      "execution_count": 4,
      "metadata": {
        "cell_id": "00009-64af6cce-11bd-4fe2-9b00-ea6f2e7464ee",
        "deepnote_cell_type": "code",
        "deepnote_to_be_reexecuted": false,
        "execution_millis": 11,
        "execution_start": 1625348142207,
        "source_hash": "f92728f0",
        "tags": []
      },
      "outputs": [
        {
          "data": {
            "text/plain": [
              "count    60.000000\n",
              "mean     18.813333\n",
              "std       7.649315\n",
              "min       4.200000\n",
              "25%      13.075000\n",
              "50%      19.250000\n",
              "75%      25.275000\n",
              "max      33.900000\n",
              "Name: len, dtype: float64"
            ]
          },
          "execution_count": 4,
          "metadata": {},
          "output_type": "execute_result"
        }
      ],
      "source": [
        "df['len'].describe() # Summary statistics"
      ]
    },
    {
      "cell_type": "markdown",
      "metadata": {
        "cell_id": "00010-bd093940-5c12-470e-a37e-2a6204678122",
        "deepnote_cell_type": "markdown",
        "tags": []
      },
      "source": [
        "The individual functions for mean, standard deviation, etc. covered under \"how to compute summary statistics\" apply to individual columns as well.  For example, we can compute quantiles:"
      ]
    },
    {
      "cell_type": "code",
      "execution_count": 5,
      "metadata": {
        "cell_id": "00015-b77ce1b8-ebc7-4eb2-9d0c-4e148711c6c8",
        "deepnote_cell_type": "code",
        "deepnote_to_be_reexecuted": false,
        "execution_millis": 8,
        "execution_start": 1625348429310,
        "source_hash": "b3c68a5c",
        "tags": []
      },
      "outputs": [
        {
          "data": {
            "text/plain": [
              "0.25    13.075\n",
              "0.50    19.250\n",
              "0.75    25.275\n",
              "Name: len, dtype: float64"
            ]
          },
          "execution_count": 5,
          "metadata": {},
          "output_type": "execute_result"
        }
      ],
      "source": [
        "df['len'].quantile([0.25,0.5,0.75])   # These chosen values give quartiles."
      ]
    }
  ],
  "metadata": {
    "deepnote": {
      "is_reactive": false
    },
    "deepnote_execution_queue": [],
    "deepnote_notebook_id": "5c29b1cf-2982-46d2-8f44-8b08b0dcf764",
    "interpreter": {
      "hash": "98b0a9b7b4eaaa670588a142fd0a9b87eaafe866f1db4228be72b4211d12040f"
    },
    "kernelspec": {
      "display_name": "Python 3.9.5 64-bit ('base': conda)",
      "name": "python3"
    },
    "language_info": {
      "codemirror_mode": {
        "name": "ipython",
        "version": 3
      },
      "file_extension": ".py",
      "mimetype": "text/x-python",
      "name": "python",
      "nbconvert_exporter": "python",
      "pygments_lexer": "ipython3",
      "version": "3.9.5"
    },
    "nteract": {
      "version": "0.28.0"
    },
    "orig_nbformat": 2
  },
  "nbformat": 4,
  "nbformat_minor": 2
}
