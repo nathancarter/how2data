{
  "cells": [
    {
      "cell_type": "markdown",
      "source": [
        "When provided with a dataset in which you want to focus on one column, how would you compute descriptive statistics for that column?\n",
        "\n",
        "Related task:\n",
        "\n",
        " * How to compute summary statistics\n",
        " * How to summarize and compare data by groups\n"
      ],
      "metadata": {
        "tags": [],
        "cell_id": "00000-24d137b2-4959-4ac4-83fa-0d19f556a1e7",
        "deepnote_cell_type": "markdown"
      }
    }
  ],
  "metadata": {
    "orig_nbformat": 2,
    "deepnote": {
      "is_reactive": false
    },
    "deepnote_notebook_id": "8d9c718d-df75-478f-a70e-fc5fb69164ce",
    "deepnote_execution_queue": [],
    "nteract": {
      "version": "0.28.0"
    },
    "language_info": {
      "name": "python"
    }
  },
  "nbformat": 4,
  "nbformat_minor": 2
}