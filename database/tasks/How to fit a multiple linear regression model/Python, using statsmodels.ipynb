{
 "cells": [
  {
   "cell_type": "markdown",
   "source": [
    "---\n",
    "author: Elizabeth Czarniak (CZARNIA_ELIZ@bentley.edu)\n",
    "---"
   ],
   "metadata": {}
  },
  {
   "cell_type": "markdown",
   "source": [
    "We're going to use fake data here for illustrative purposes. You can replace our fake data with your real data in the code below. \n",
    "\n",
    "We'll put the data into a dataframe and then make a variable with a list of the independent variables and a variable with the outcome variable."
   ],
   "metadata": {
    "tags": [],
    "cell_id": "00004-39442362-bbbe-4b14-84f4-3058641c5760",
    "deepnote_cell_type": "markdown"
   }
  },
  {
   "cell_type": "code",
   "execution_count": null,
   "source": [
    "import pandas as pd\n",
    "\n",
    "# Replace this fake data with your real data\n",
    "df = pd.DataFrame( {\n",
    "    'x1':[2, 7, 4, 3, 11, 18, 6, 15, 9, 12],\n",
    "    'x2':[4, 6, 10, 1, 18, 11, 8, 20, 16, 13],\n",
    "    'x3':[11, 16, 20, 6, 14, 8, 5, 23, 13, 10],\n",
    "    'y':[24, 60, 32, 29, 90, 45, 130, 76, 100, 120]\n",
    "} )\n",
    "\n",
    "xs = df[['x1', 'x2', 'x3']]  # list of independent variables\n",
    "y = df['y']                  # dependent variable"
   ],
   "outputs": [],
   "metadata": {
    "tags": [],
    "cell_id": "00000-4768e466-5db2-465e-b8a1-227373a05660",
    "deepnote_to_be_reexecuted": false,
    "source_hash": "ed61ef3a",
    "execution_start": 1628297515441,
    "execution_millis": 1,
    "deepnote_cell_type": "code"
   }
  },
  {
   "cell_type": "markdown",
   "source": [
    "We can use StatsModels' `OLS` to build our multiple linear regression model. We'll print out the coefficients and the intercept, and the coefficients will be in the form of an array when we print them."
   ],
   "metadata": {
    "tags": [],
    "is_collapsed": false,
    "cell_id": "00009-26f8ed82-73f7-48a4-97ec-1670caa08a55",
    "deepnote_cell_type": "text-cell-p"
   }
  },
  {
   "cell_type": "code",
   "execution_count": null,
   "source": [
    "import statsmodels.api as sm\n",
    "\n",
    "# Add a constant to the dependent variables first\n",
    "xs = sm.add_constant(xs)\n",
    "\n",
    "# Build the model\n",
    "model = sm.OLS(y, xs).fit()\n",
    "\n",
    "# Show the model summary to get the coefficients and the intercept\n",
    "model.summary()"
   ],
   "outputs": [
    {
     "output_type": "stream",
     "name": "stdout",
     "text": [
      "                            OLS Regression Results                            \n",
      "==============================================================================\n",
      "Dep. Variable:                      y   R-squared:                       0.594\n",
      "Model:                            OLS   Adj. R-squared:                  0.390\n",
      "Method:                 Least Squares   F-statistic:                     2.921\n",
      "Date:                Sat, 07 Aug 2021   Prob (F-statistic):              0.122\n",
      "Time:                        02:43:14   Log-Likelihood:                -45.689\n",
      "No. Observations:                  10   AIC:                             99.38\n",
      "Df Residuals:                       6   BIC:                             100.6\n",
      "Df Model:                           3                                         \n",
      "Covariance Type:            nonrobust                                         \n",
      "==============================================================================\n",
      "                 coef    std err          t      P>|t|      [0.025      0.975]\n",
      "------------------------------------------------------------------------------\n",
      "const         77.2443     27.366      2.823      0.030      10.282     144.206\n",
      "x1            -2.7009      2.855     -0.946      0.381      -9.686       4.284\n",
      "x2             7.2989      2.875      2.539      0.044       0.265      14.333\n",
      "x3            -4.8607      2.187     -2.223      0.068     -10.211       0.490\n",
      "==============================================================================\n",
      "Omnibus:                        2.691   Durbin-Watson:                   2.123\n",
      "Prob(Omnibus):                  0.260   Jarque-Bera (JB):                1.251\n",
      "Skew:                           0.524   Prob(JB):                        0.535\n",
      "Kurtosis:                       1.620   Cond. No.                         58.2\n",
      "==============================================================================\n",
      "\n",
      "Notes:\n",
      "[1] Standard Errors assume that the covariance matrix of the errors is correctly specified.\n",
      "/shared-libs/python3.7/py/lib/python3.7/site-packages/scipy/stats/stats.py:1542: UserWarning: kurtosistest only valid for n>=20 ... continuing anyway, n=10\n",
      "  \"anyway, n=%i\" % int(n))\n"
     ]
    }
   ],
   "metadata": {
    "tags": [],
    "cell_id": "00010-116032f4-2670-4756-b665-dc938ab2d33e",
    "deepnote_to_be_reexecuted": false,
    "source_hash": "fff4b8f5",
    "execution_start": 1628304194365,
    "execution_millis": 37,
    "deepnote_cell_type": "code"
   }
  },
  {
   "cell_type": "markdown",
   "source": [
    "The coefficients and intercept appear on the left hand side of the output, about half way down, under the heading \"coef.\"\n",
    "\n",
    "Thus the multiple linear regression model from the example data is $\\hat y = 77.2443 - 2.7009x_1  +  7.2989x_2  - 4.8607x_3$."
   ],
   "metadata": {
    "tags": [],
    "cell_id": "00008-63406435-f3d2-48b5-8fdf-b3050c39a2c3",
    "deepnote_cell_type": "markdown"
   }
  }
 ],
 "nbformat": 4,
 "nbformat_minor": 2,
 "metadata": {
  "orig_nbformat": 2,
  "language_info": {
   "name": "python"
  }
 }
}
