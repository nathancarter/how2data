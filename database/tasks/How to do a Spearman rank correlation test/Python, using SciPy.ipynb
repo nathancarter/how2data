{
 "cells": [
  {
   "cell_type": "markdown",
   "source": [
    "---\n",
    "author: Elizabeth Czarniak (CZARNIA_ELIZ@bentley.edu)\n",
    "---"
   ],
   "metadata": {}
  },
  {
   "cell_type": "markdown",
   "source": [
    "We will use some fake data about height and weight measurements for people.\n",
    "You can replace it with your real data.\n",
    "\n",
    "Our data should be NumPy arrays, as in the example below.\n",
    "(Recall that pandas DataFrame columns are also NumPy arrays.)"
   ],
   "metadata": {
    "tags": [],
    "cell_id": "00004-044f73b5-5dee-4b21-9919-f8099211aefa",
    "deepnote_cell_type": "markdown"
   }
  },
  {
   "cell_type": "code",
   "execution_count": null,
   "source": [
    "import numpy as np\n",
    "heights = np.array([60, 76, 57, 68, 70, 62, 63])\n",
    "weights = np.array([145, 178, 120, 143, 174, 130, 137])"
   ],
   "outputs": [],
   "metadata": {
    "tags": [],
    "cell_id": "00000-57ce2e5b-6172-4437-9ead-9c87f7d2e320",
    "deepnote_to_be_reexecuted": false,
    "source_hash": "e829233c",
    "execution_start": 1627841127377,
    "execution_millis": 7,
    "deepnote_cell_type": "code"
   }
  },
  {
   "cell_type": "markdown",
   "source": [
    "Let's say we want to test the correlation between height (inches) and weight (pounds). \n",
    "Our null hypothesis would state that the Pearson correlation coefficient is equal to zero,\n",
    "or that there is no relationship between height and weight, $H_0: \\rho_s = 0$.\n",
    "We choose $\\alpha$, or the Type I error rate, to be 0.05 and carry out the\n",
    "Spearman Rank Correlation Test to get the test-statistic and $p$-value."
   ],
   "metadata": {
    "tags": [],
    "cell_id": "00006-bd7c7428-3b40-4710-a3dc-04fc48cd4aeb",
    "deepnote_cell_type": "markdown"
   }
  },
  {
   "cell_type": "code",
   "execution_count": null,
   "source": [
    "from scipy import stats\n",
    "from scipy.stats import spearmanr\n",
    "spearmanr(heights, weights)"
   ],
   "outputs": [
    {
     "output_type": "execute_result",
     "data": {
      "text/plain": [
       "SpearmanrResult(correlation=0.7857142857142859, pvalue=0.03623846267982713)"
      ]
     },
     "metadata": {},
     "execution_count": 3
    }
   ],
   "metadata": {
    "tags": [],
    "cell_id": "00007-5abf9039-8ab6-41aa-9f17-bffa75549b7b",
    "deepnote_to_be_reexecuted": false,
    "source_hash": "6f350e1d",
    "execution_start": 1627841265444,
    "execution_millis": 16,
    "deepnote_cell_type": "code"
   }
  },
  {
   "cell_type": "markdown",
   "source": [
    "Our $p$-value is $0.03624$, which is less than $\\alpha=0.05$, so we reject the null hypothesis.\n",
    "There does appear to be a relationship between height and weight.\n",
    "\n",
    "(This $p$-value is different than the one computed in the solution using R,\n",
    "because different approximation methods are used by the two software packages\n",
    "when the sample size is small.)\n",
    "\n",
    "Note that for right- or left-tailed tests, the following syntax can be used.\n",
    "\n",
    "~~~python\n",
    "spearmanr(heights, weights, alternative=\"greater\")  # right-tailed\n",
    "spearmanr(heights, weights, alternative=\"less\")     # left-talied\n",
    "~~~"
   ],
   "metadata": {
    "tags": [],
    "cell_id": "00008-ab845a4b-3070-43a9-8910-9773374623aa",
    "deepnote_cell_type": "markdown"
   }
  }
 ],
 "nbformat": 4,
 "nbformat_minor": 2,
 "metadata": {
  "orig_nbformat": 2,
  "language_info": {
   "name": "plaintext"
  }
 }
}