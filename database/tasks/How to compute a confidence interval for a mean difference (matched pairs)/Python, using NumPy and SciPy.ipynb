{
 "cells": [
  {
   "cell_type": "markdown",
   "metadata": {},
   "source": [
    "---\n",
    "author: Elizabeth Czarniak (CZARNIA_ELIZ@bentley.edu)\n",
    "---"
   ]
  },
  {
   "cell_type": "markdown",
   "metadata": {},
   "source": [
    "We'll use Numpy and SciPy to do some statistics later."
   ]
  },
  {
   "cell_type": "code",
   "execution_count": null,
   "metadata": {},
   "outputs": [],
   "source": [
    "import numpy as np\n",
    "from scipy import stats"
   ]
  },
  {
   "cell_type": "markdown",
   "metadata": {
    "cell_id": "00004-acb2b7cf-474f-4b1c-8265-5882c6bd525c",
    "deepnote_cell_type": "markdown",
    "tags": []
   },
   "source": [
    "This example computes a 95% confidence interval, but you can choose a different level by choosing a different value for $\\alpha$."
   ]
  },
  {
   "cell_type": "code",
   "execution_count": null,
   "metadata": {
    "cell_id": "00000-8971c551-6731-44de-a380-d8ec321ad748",
    "deepnote_cell_type": "code",
    "tags": []
   },
   "outputs": [],
   "source": [
    "alpha = 0.05"
   ]
  },
  {
   "cell_type": "markdown",
   "metadata": {},
   "source": [
    "We have two samples of data, $x_1, x_2, x_3, \\ldots, x_k$ and $x'_1, x'_2, x'_3, \\ldots, x'_k$. We're going to use some fake data below just as an example; replace it with your real data."
   ]
  },
  {
   "cell_type": "code",
   "execution_count": null,
   "metadata": {},
   "outputs": [],
   "source": [
    "sample1 = np.array([15, 10,  7, 22, 17, 14])\n",
    "sample2 = np.array([ 9,  1, 11, 13,  3,  6])"
   ]
  },
  {
   "cell_type": "markdown",
   "metadata": {},
   "source": [
    "And now the computations:"
   ]
  },
  {
   "cell_type": "code",
   "execution_count": null,
   "metadata": {},
   "outputs": [],
   "source": [
    "diff_samples = sample1 - sample2                        # differences between the samples\n",
    "n = len(sample1)                                        # number of observations per sample\n",
    "diff_mean = np.mean(diff_samples)                       # mean of the differences\n",
    "diff_variance = np.var( diff_samples, ddof=1 )          # variance of the differences\n",
    "critical_val = stats.t.ppf(q = 1-alpha/2, df = n - 1)   # critical value\n",
    "radius = critical_val*np.sqrt(diff_variance)/np.sqrt(n) # radius of confidence interval\n",
    "( diff_mean - radius, diff_mean + radius )              # confidence interval"
   ]
  },
  {
   "cell_type": "markdown",
   "metadata": {
    "cell_id": "00006-2084627f-ec2a-4085-b2ae-5b84ba061430",
    "deepnote_cell_type": "markdown",
    "tags": []
   },
   "source": [
    "Our 95% confidence interval for the mean difference is $[0.70338, 13.2966]$."
   ]
  }
 ],
 "metadata": {
  "language_info": {
   "name": "python"
  },
  "orig_nbformat": 2
 },
 "nbformat": 4,
 "nbformat_minor": 2
}
