{
 "cells": [
  {
   "cell_type": "markdown",
   "metadata": {},
   "source": [
    "---\n",
    "author: Elizabeth Czarniak (CZARNIA_ELIZ@bentley.edu)\n",
    "---"
   ]
  },
  {
   "cell_type": "markdown",
   "metadata": {
    "cell_id": "00004-ddea94e8-1886-4417-a5d2-9ac4e82ddb8f",
    "deepnote_cell_type": "markdown",
    "tags": []
   },
   "source": [
    "We're going to use fake data for illustrative purposes,\n",
    "but you can replace our fake data with your real data.\n",
    "Say our sample, $x_1, x_2, x_3, \\ldots x_k$, has median $m$."
   ]
  },
  {
   "cell_type": "code",
   "execution_count": 1,
   "metadata": {
    "cell_id": "00005-775427bb-a72d-4778-ab5f-7b042b9ff1b2",
    "deepnote_cell_type": "code",
    "deepnote_to_be_reexecuted": false,
    "execution_millis": 506,
    "execution_start": 1629398707087,
    "source_hash": "7b21bdec",
    "tags": []
   },
   "outputs": [],
   "source": [
    "import numpy as np\n",
    "# Replace the next line with your data\n",
    "sample = np.array([19, 4, 23, 16, 1, 8, 30, 25, 13])"
   ]
  },
  {
   "cell_type": "markdown",
   "metadata": {
    "cell_id": "00006-af848a26-e5b8-4956-999f-dae31da6689e",
    "deepnote_cell_type": "text-cell-h3",
    "is_collapsed": false,
    "tags": []
   },
   "source": [
    "We choose a value, $0 \\le \\alpha \\le 1$, as the Type I Error Rate. We'll let $\\alpha$ be 0.05.\n",
    "In the examples below, we will be comparing the median $m$ to a hypothesized value of\n",
    "$a=10$, but you can use any value for $a$.\n",
    "\n",
    "### Two-tailed test\n",
    "\n",
    "To test the null hypothesis $H_0: m=a$, we use a two-tailed test:"
   ]
  },
  {
   "cell_type": "code",
   "execution_count": 2,
   "metadata": {
    "cell_id": "00006-a2a1e920-5d11-4c5e-9b03-1603d106b555",
    "deepnote_cell_type": "code",
    "deepnote_to_be_reexecuted": false,
    "execution_millis": 6,
    "execution_start": 1629398790059,
    "source_hash": "8a19781b",
    "tags": []
   },
   "outputs": [
    {
     "data": {
      "text/plain": [
       "WilcoxonResult(statistic=10.0, pvalue=0.1640625)"
      ]
     },
     "execution_count": 2,
     "metadata": {},
     "output_type": "execute_result"
    }
   ],
   "source": [
    "from scipy import stats\n",
    "from scipy.stats import wilcoxon\n",
    "a = 10  # or your chosen value for comparison\n",
    "wilcoxon(sample - a)"
   ]
  },
  {
   "cell_type": "markdown",
   "metadata": {
    "cell_id": "00006-af2763b8-c7d9-49ed-8209-3e0a8c3bdc63",
    "deepnote_cell_type": "markdown",
    "tags": []
   },
   "source": [
    "Our p-value, 0.1640625, is greater than $\\alpha=0.05$, so we do not have\n",
    "sufficient evidence to reject the null hypothesis. We may continue to assume\n",
    "the population median is equal to 10.\n",
    "\n",
    "### Right-tailed test\n",
    "\n",
    "To test the null hypothesis $H_0: m\\ge a$, we use a right-tailed test:"
   ]
  },
  {
   "cell_type": "code",
   "execution_count": 3,
   "metadata": {
    "cell_id": "00007-705f0005-4915-4b8c-bf7e-e395987b7e43",
    "deepnote_cell_type": "code",
    "deepnote_to_be_reexecuted": false,
    "execution_millis": 1,
    "execution_start": 1629398793684,
    "source_hash": "3b165e1e",
    "tags": []
   },
   "outputs": [
    {
     "data": {
      "text/plain": [
       "WilcoxonResult(statistic=35.0, pvalue=0.935546875)"
      ]
     },
     "execution_count": 3,
     "metadata": {},
     "output_type": "execute_result"
    }
   ],
   "source": [
    "wilcoxon(sample - a, alternative = 'less')"
   ]
  },
  {
   "cell_type": "markdown",
   "metadata": {
    "cell_id": "00007-710ec6e7-d741-416f-b386-329f78d4168e",
    "deepnote_cell_type": "markdown",
    "tags": []
   },
   "source": [
    "Our p-value, 0.935546875, is greater than $\\alpha=0.05$, so we do not have\n",
    "sufficient evidence to reject the null hypothesis. We may continue to assume\n",
    "the population median is less than (or equal to) 10.\n",
    "\n",
    "### Left-tailed test\n",
    "\n",
    "To test the null hypothesis $H_0: m\\le a$, we use a left-tailed test:"
   ]
  },
  {
   "cell_type": "code",
   "execution_count": 4,
   "metadata": {
    "cell_id": "00009-9c9fdb36-98e9-4ef4-8f35-bf7143d51b34",
    "deepnote_cell_type": "code",
    "deepnote_to_be_reexecuted": false,
    "execution_millis": 155,
    "execution_start": 1629398711213,
    "source_hash": "cc48e7a9",
    "tags": []
   },
   "outputs": [
    {
     "data": {
      "text/plain": [
       "WilcoxonResult(statistic=35.0, pvalue=0.08203125)"
      ]
     },
     "execution_count": 4,
     "metadata": {},
     "output_type": "execute_result"
    }
   ],
   "source": [
    "wilcoxon(sample - a, alternative = 'greater')"
   ]
  },
  {
   "cell_type": "markdown",
   "metadata": {
    "cell_id": "00017-565b9ac7-f25b-47ba-b26f-76c5bd05f2e3",
    "deepnote_cell_type": "markdown",
    "tags": []
   },
   "source": [
    "Our p-value, 0.08203125, is greater than $\\alpha$, so we do not have sufficient\n",
    "evidence to reject the null hypothesis. We may continue to assume the population\n",
    "median is greater than (or equal to) 10."
   ]
  }
 ],
 "metadata": {
  "interpreter": {
   "hash": "d4d1e4263499bec80672ea0156c357c1ee493ec2b1c70f0acce89fc37c4a6abe"
  },
  "kernelspec": {
   "display_name": "Python 3.9.6 64-bit ('base': conda)",
   "name": "python3"
  },
  "language_info": {
   "codemirror_mode": {
    "name": "ipython",
    "version": 3
   },
   "file_extension": ".py",
   "mimetype": "text/x-python",
   "name": "python",
   "nbconvert_exporter": "python",
   "pygments_lexer": "ipython3",
   "version": "3.9.7"
  },
  "orig_nbformat": 2
 },
 "nbformat": 4,
 "nbformat_minor": 2
}
