{
 "metadata": {
  "language_info": {
   "codemirror_mode": {
    "name": "ipython",
    "version": 3
   },
   "file_extension": ".py",
   "mimetype": "text/x-python",
   "name": "python",
   "nbconvert_exporter": "python",
   "pygments_lexer": "ipython3",
   "version": "3.9.2"
  },
  "orig_nbformat": 2,
  "kernelspec": {
   "name": "python392jvsc74a57bd098b0a9b7b4eaaa670588a142fd0a9b87eaafe866f1db4228be72b4211d12040f",
   "display_name": "Python 3.9.2 64-bit ('base': conda)"
  }
 },
 "nbformat": 4,
 "nbformat_minor": 2,
 "cells": [
  {
   "source": [
    "---\n",
    "author: Nathan Carter (ncarter@bentley.edu)\n",
    "---\n",
    "\n",
    "This answer assumes you have imported SymPy as follows."
   ],
   "cell_type": "markdown",
   "metadata": {}
  },
  {
   "cell_type": "code",
   "execution_count": 2,
   "metadata": {},
   "outputs": [],
   "source": [
    "from sympy import *                   # load all math functions\n",
    "init_printing( use_latex='mathjax' )  # use pretty math output"
   ]
  },
  {
   "source": [
    "In SymPy, we tend to work with formulas (that is, mathematical expressions)\n",
    "rather than functions (like $f(x)$).  So if we wish to compute the\n",
    "derivative of $f(x)=10x^2-16x+1$, we will focus on just the $10x^2-16x+1$ portion."
   ],
   "cell_type": "markdown",
   "metadata": {}
  },
  {
   "cell_type": "code",
   "execution_count": 3,
   "metadata": {},
   "outputs": [
    {
     "output_type": "execute_result",
     "data": {
      "text/plain": [
       "    2           \n",
       "10⋅x  - 16⋅x + 1"
      ],
      "text/latex": "$\\displaystyle 10 x^{2} - 16 x + 1$"
     },
     "metadata": {},
     "execution_count": 3
    }
   ],
   "source": [
    "var( 'x' )\n",
    "formula = 10*x**2 - 16*x + 1\n",
    "formula"
   ]
  },
  {
   "source": [
    "We can compute its derivative by using the `diff` function."
   ],
   "cell_type": "markdown",
   "metadata": {}
  },
  {
   "cell_type": "code",
   "execution_count": 4,
   "metadata": {},
   "outputs": [
    {
     "output_type": "execute_result",
     "data": {
      "text/plain": [
       "20⋅x - 16"
      ],
      "text/latex": "$\\displaystyle 20 x - 16$"
     },
     "metadata": {},
     "execution_count": 4
    }
   ],
   "source": [
    "diff( formula )"
   ]
  },
  {
   "source": [
    "If it had been a multi-variable function, we would need to specify the\n",
    "variable with respect to which we wanted to compute a derivative."
   ],
   "cell_type": "markdown",
   "metadata": {}
  },
  {
   "cell_type": "code",
   "execution_count": 5,
   "metadata": {},
   "outputs": [
    {
     "output_type": "execute_result",
     "data": {
      "text/plain": [
       "-2⋅y"
      ],
      "text/latex": "$\\displaystyle - 2 y$"
     },
     "metadata": {},
     "execution_count": 5
    }
   ],
   "source": [
    "var( 'y' )               # introduce a new variable\n",
    "formula2 = x**2 - y**2   # consider the formula x^2 + y^2\n",
    "diff( formula2, y )      # differentiate with respect to y"
   ]
  },
  {
   "source": [
    "We can compute second or third derivatives by repeating the variable\n",
    "with respect to which we're differentiating.  To do partial derivatives,\n",
    "use multiple variables."
   ],
   "cell_type": "markdown",
   "metadata": {}
  },
  {
   "cell_type": "code",
   "execution_count": 6,
   "metadata": {},
   "outputs": [
    {
     "output_type": "execute_result",
     "data": {
      "text/plain": [
       "20"
      ],
      "text/latex": "$\\displaystyle 20$"
     },
     "metadata": {},
     "execution_count": 6
    }
   ],
   "source": [
    "diff( formula, x, x )    # second derivative with respect to x"
   ]
  },
  {
   "cell_type": "code",
   "execution_count": 7,
   "metadata": {},
   "outputs": [
    {
     "output_type": "execute_result",
     "data": {
      "text/plain": [
       "0"
      ],
      "text/latex": "$\\displaystyle 0$"
     },
     "metadata": {},
     "execution_count": 7
    }
   ],
   "source": [
    "diff( formula2, x, y )   # mixed partial derivative"
   ]
  }
 ]
}