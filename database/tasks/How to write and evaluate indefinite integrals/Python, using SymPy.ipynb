{
 "metadata": {
  "language_info": {
   "codemirror_mode": {
    "name": "ipython",
    "version": 3
   },
   "file_extension": ".py",
   "mimetype": "text/x-python",
   "name": "python",
   "nbconvert_exporter": "python",
   "pygments_lexer": "ipython3",
   "version": "3.9.2"
  },
  "orig_nbformat": 2,
  "kernelspec": {
   "name": "python392jvsc74a57bd098b0a9b7b4eaaa670588a142fd0a9b87eaafe866f1db4228be72b4211d12040f",
   "display_name": "Python 3.9.2 64-bit ('base': conda)"
  }
 },
 "nbformat": 4,
 "nbformat_minor": 2,
 "cells": [
  {
   "source": [
    "---\n",
    "author: Nathan Carter (ncarter@bentley.edu)\n",
    "---\n",
    "\n",
    "This answer assumes you have imported SymPy as follows."
   ],
   "cell_type": "markdown",
   "metadata": {}
  },
  {
   "cell_type": "code",
   "execution_count": 2,
   "metadata": {},
   "outputs": [],
   "source": [
    "from sympy import *                   # load all math functions\n",
    "init_printing( use_latex='mathjax' )  # use pretty math output"
   ]
  },
  {
   "source": [
    "Let's choose an example formula whose antiderivative we will compute."
   ],
   "cell_type": "markdown",
   "metadata": {}
  },
  {
   "cell_type": "code",
   "execution_count": 3,
   "metadata": {},
   "outputs": [
    {
     "output_type": "execute_result",
     "data": {
      "text/plain": [
       "3⋅√x"
      ],
      "text/latex": "$\\displaystyle 3 \\sqrt{x}$"
     },
     "metadata": {},
     "execution_count": 3
    }
   ],
   "source": [
    "var( 'x' )\n",
    "formula = 3*sqrt(x)\n",
    "formula"
   ]
  },
  {
   "source": [
    "Use the `Integral` function to build a definite integral without evaluating it.\n",
    "The second parameter is the variable with respect to which you're integrating."
   ],
   "cell_type": "markdown",
   "metadata": {}
  },
  {
   "cell_type": "code",
   "execution_count": 5,
   "metadata": {},
   "outputs": [
    {
     "output_type": "execute_result",
     "data": {
      "text/plain": [
       "⌠        \n",
       "⎮ 3⋅√x dx\n",
       "⌡        "
      ],
      "text/latex": "$\\displaystyle \\int 3 \\sqrt{x}\\, dx$"
     },
     "metadata": {},
     "execution_count": 5
    }
   ],
   "source": [
    "Integral( formula, x )"
   ]
  },
  {
   "source": [
    "Use the `integrate` function to perform the integration, showing the answer."
   ],
   "cell_type": "markdown",
   "metadata": {}
  },
  {
   "cell_type": "code",
   "execution_count": 6,
   "metadata": {},
   "outputs": [
    {
     "output_type": "execute_result",
     "data": {
      "text/plain": [
       "   3/2\n",
       "2⋅x   "
      ],
      "text/latex": "$\\displaystyle 2 x^{\\frac{3}{2}}$"
     },
     "metadata": {},
     "execution_count": 6
    }
   ],
   "source": [
    "integrate( formula, x )"
   ]
  },
  {
   "cell_type": "code",
   "execution_count": 9,
   "metadata": {},
   "outputs": [
    {
     "output_type": "execute_result",
     "data": {
      "text/plain": [
       "       3/2\n",
       "C + 2⋅x   "
      ],
      "text/latex": "$\\displaystyle C + 2 x^{\\frac{3}{2}}$"
     },
     "metadata": {},
     "execution_count": 9
    }
   ],
   "source": [
    "integrate( formula, x ) + var('C')  # same, but with a constant of integration"
   ]
  }
 ]
}