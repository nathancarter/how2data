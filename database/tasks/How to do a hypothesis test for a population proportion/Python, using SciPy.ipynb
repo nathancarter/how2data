{
 "cells": [
  {
   "cell_type": "markdown",
   "metadata": {},
   "source": [
    "---\n",
    "author: Elizabeth Czarniak (CZARNIA_ELIZ@bentley.edu)\n",
    "---"
   ]
  },
  {
   "cell_type": "markdown",
   "metadata": {
    "cell_id": "00004-3e948403-b77d-42bf-ad1d-05b522dfd717",
    "deepnote_cell_type": "markdown",
    "tags": []
   },
   "source": [
    "We're going to use fake data here for illustrative purposes,\n",
    "but you can replace our fake data with your real data in the code below.\n",
    "\n",
    "Let's say that we've hypothesized that about one-third of Bostonians are unhappy\n",
    "with the Red Sox' performance.\n",
    "To test this hypothesis, we surveyed 460 Bostonians and found that 76 of them\n",
    "were unhappy with the Red Sox' performance.\n",
    "\n",
    "We summarize this situation with the following variables.\n",
    "We will do a test with a Type I error rate of $\\alpha=0.05$."
   ]
  },
  {
   "cell_type": "code",
   "execution_count": 3,
   "metadata": {
    "cell_id": "00000-68f320f0-6981-4f23-81f8-bcca9734c9e5",
    "deepnote_cell_type": "code",
    "deepnote_to_be_reexecuted": false,
    "execution_millis": 23,
    "execution_start": 1629324642662,
    "source_hash": "910bf452",
    "tags": []
   },
   "outputs": [],
   "source": [
    "n = 460               # Number of respondents in sample\n",
    "x = 76                # Number of respondents in chosen subset\n",
    "sample_prop = x/n     # Proportion of sample in chosen subset\n",
    "population_prop = 1/3 # Hypothesized population proportion"
   ]
  },
  {
   "cell_type": "markdown",
   "metadata": {
    "cell_id": "00006-50604b4c-5f5e-4366-8a29-b0828e5e31be",
    "deepnote_cell_type": "text-cell-h3",
    "is_collapsed": false,
    "tags": []
   },
   "source": [
    "### Two-tailed test\n",
    "\n",
    "A two-tailed test is for the null hypothesis $H_0: p = \\frac13$.\n",
    "It can be done by directly computing the test statistic and $p$-value using\n",
    "tools from SciPy's `stats` module."
   ]
  },
  {
   "cell_type": "code",
   "execution_count": 4,
   "metadata": {
    "cell_id": "00008-9d06a7e2-035e-4be0-a328-658b751d6882",
    "deepnote_cell_type": "code",
    "deepnote_to_be_reexecuted": false,
    "execution_millis": 52,
    "execution_start": 1629324894787,
    "source_hash": "9a979a62",
    "tags": []
   },
   "outputs": [
    {
     "data": {
      "text/plain": [
       "2.0284218907806657e-14"
      ]
     },
     "execution_count": 4,
     "metadata": {},
     "output_type": "execute_result"
    }
   ],
   "source": [
    "import numpy as np\n",
    "from scipy import stats\n",
    "test_stat = ( (sample_prop - population_prop) /\n",
    "    np.sqrt(population_prop*(1 - population_prop)/n) )\n",
    "stats.norm.sf(abs(test_stat))*2  # p-value"
   ]
  },
  {
   "cell_type": "markdown",
   "metadata": {
    "cell_id": "00009-16aa1468-45fd-4ab6-89fe-0b697313be46",
    "deepnote_cell_type": "markdown",
    "tags": []
   },
   "source": [
    "The $p$-value is less than $\\alpha$, so we can reject the null hypothesis.\n",
    "The proportion of Bostonians unhappy with Red Sox performance is different from $\\frac13$.\n",
    "\n",
    "### Right-tailed test\n",
    "\n",
    "A right-tailed test is for the null hypothesis $H_0: p \\le \\frac13$.\n",
    "Most of the code is the same as above, but the $p$-value is computed differently\n",
    "for a one-sided test.  We repeat the re-used code to make it easy to copy and paste."
   ]
  },
  {
   "cell_type": "code",
   "execution_count": 5,
   "metadata": {
    "cell_id": "00012-50724972-550c-4232-bbd9-27f264ae1bfa",
    "deepnote_cell_type": "code",
    "deepnote_to_be_reexecuted": false,
    "execution_millis": 10,
    "execution_start": 1629324783651,
    "source_hash": "132d47f9",
    "tags": []
   },
   "outputs": [
    {
     "data": {
      "text/plain": [
       "0.9999999999999899"
      ]
     },
     "execution_count": 5,
     "metadata": {},
     "output_type": "execute_result"
    }
   ],
   "source": [
    "import numpy as np\n",
    "from scipy import stats\n",
    "test_stat = ( (sample_prop - population_prop) /\n",
    "    np.sqrt(population_prop*(1 - population_prop)/n) )\n",
    "stats.norm.sf(test_stat)"
   ]
  },
  {
   "cell_type": "markdown",
   "metadata": {
    "cell_id": "00013-923aad79-6f58-4d13-aa4c-dd505f2cc9ca",
    "deepnote_cell_type": "markdown",
    "tags": []
   },
   "source": [
    "The $p$-value is greater than $\\alpha$, so we cannot reject the null hypothesis.\n",
    "We continue to assume that the proportion of Bostonians unhappy with Red Sox\n",
    "performance is less than or equal to $\\frac13$.\n",
    "\n",
    "### Left-tailed test\n",
    "\n",
    "A left-tailed test is for the null hypothesis $H_0: p\\ge \\frac13$.\n",
    "Most of the code is the same as above, but the $p$-value is computed differently\n",
    "yet again.  We repeat the re-used code to make it easy to copy and paste."
   ]
  },
  {
   "cell_type": "code",
   "execution_count": 6,
   "metadata": {
    "cell_id": "00016-31f3f8ed-e340-4ffb-b67f-7eb0516f2e91",
    "deepnote_cell_type": "code",
    "deepnote_to_be_reexecuted": false,
    "execution_millis": 17,
    "execution_start": 1629324778996,
    "source_hash": "1405bc27",
    "tags": []
   },
   "outputs": [
    {
     "data": {
      "text/plain": [
       "1.0142109453903328e-14"
      ]
     },
     "execution_count": 6,
     "metadata": {},
     "output_type": "execute_result"
    }
   ],
   "source": [
    "import numpy as np\n",
    "from scipy import stats\n",
    "test_stat = ( (sample_prop - population_prop) /\n",
    "    np.sqrt(population_prop*(1 - population_prop)/n) )\n",
    "stats.norm.sf(abs(test_stat))"
   ]
  },
  {
   "cell_type": "markdown",
   "metadata": {
    "cell_id": "00017-b0adb4f1-f6d5-4e12-acf9-0723ce97b959",
    "deepnote_cell_type": "markdown",
    "tags": []
   },
   "source": [
    "The $p$-value is less than $\\alpha$, so we can reject the null hypothesis.\n",
    "The proportion of Bostonians unhappy with Red Sox performance is less than $\\frac13$."
   ]
  }
 ],
 "metadata": {
  "interpreter": {
   "hash": "d4d1e4263499bec80672ea0156c357c1ee493ec2b1c70f0acce89fc37c4a6abe"
  },
  "kernelspec": {
   "display_name": "Python 3.9.7 64-bit ('base': conda)",
   "name": "python3"
  },
  "language_info": {
   "codemirror_mode": {
    "name": "ipython",
    "version": 3
   },
   "file_extension": ".py",
   "mimetype": "text/x-python",
   "name": "python",
   "nbconvert_exporter": "python",
   "pygments_lexer": "ipython3",
   "version": "3.9.7"
  },
  "orig_nbformat": 2
 },
 "nbformat": 4,
 "nbformat_minor": 2
}
