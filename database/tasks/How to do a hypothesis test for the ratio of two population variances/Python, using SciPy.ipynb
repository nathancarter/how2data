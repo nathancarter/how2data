{
 "cells": [
  {
   "cell_type": "markdown",
   "metadata": {},
   "source": [
    "---\n",
    "author:\n",
    " - Elizabeth Czarniak (CZARNIA_ELIZ@bentley.edu)\n",
    " - Nathan Carter (ncarter@bentley.edu)\n",
    "---"
   ]
  },
  {
   "cell_type": "markdown",
   "metadata": {
    "cell_id": "00004-64b1baf9-149e-4907-89a8-7ed63b4aabc2",
    "deepnote_cell_type": "markdown",
    "tags": []
   },
   "source": [
    "We'll use R's dataset `EuStockMarkets` to do an example. This dataset has\n",
    "information on the daily closing prices of 4 European stock indices.\n",
    "We're going to compare the variability of Germany's DAX and France's CAC\n",
    "closing prices.\n",
    "\n",
    "Let's load the dataset.  (See how to quickly load some sample data.)\n",
    "If using your own data, place it into the `sample1` and `sample2` variables\n",
    "instead of using the code below."
   ]
  },
  {
   "cell_type": "code",
   "execution_count": 4,
   "metadata": {
    "cell_id": "00000-b51b55a2-c517-414a-9540-49988063f770",
    "deepnote_cell_type": "code",
    "deepnote_to_be_reexecuted": false,
    "execution_millis": 18,
    "execution_start": 1628730535591,
    "source_hash": "b78eebdd",
    "tags": []
   },
   "outputs": [],
   "source": [
    "from rdatasets import data\n",
    "import pandas as pd\n",
    "\n",
    "# Load in the EuStockMarkets data and place it in a pandas DataFrame\n",
    "EuStockMarkets = data('EuStockMarkets')\n",
    "df = pd.DataFrame(EuStockMarkets[['DAX', 'CAC']])\n",
    "\n",
    "# Choose the two columns we want to analyze\n",
    "# (You can replace the two lines below with your actual data.)\n",
    "sample1 = df['DAX']\n",
    "sample2 = df['CAC']"
   ]
  },
  {
   "cell_type": "markdown",
   "metadata": {
    "cell_id": "00006-58a2d280-9652-4267-9fd7-fe99546a5449",
    "deepnote_cell_type": "text-cell-h3",
    "is_collapsed": false,
    "tags": []
   },
   "source": [
    "For all tests below, we will use $\\alpha=0.05$ as our Type I Error Rate, but any\n",
    "value between 0.0 and 1.0 can be used.\n",
    "\n",
    "### Two-tailed test\n",
    "\n",
    "We can use a two-tailed test to test whether the two population variances are\n",
    "equal.  Specifically, the null hypothesis will be:\n",
    "\n",
    "$$H_0: \\frac{\\sigma_1^2}{\\sigma_2^2} = 1$$"
   ]
  },
  {
   "cell_type": "code",
   "execution_count": 12,
   "metadata": {
    "cell_id": "00007-05f58d35-9c71-4f60-a6d3-9f3c79dbd7fa",
    "deepnote_cell_type": "code",
    "deepnote_to_be_reexecuted": false,
    "execution_millis": 57,
    "execution_start": 1628730538715,
    "source_hash": "f583dde7",
    "tags": []
   },
   "outputs": [
    {
     "data": {
      "text/plain": [
       "7.729079251495416e-151"
      ]
     },
     "execution_count": 12,
     "metadata": {},
     "output_type": "execute_result"
    }
   ],
   "source": [
    "from scipy import stats\n",
    "sample1_df = len(sample1) - 1                   # degrees of freedom\n",
    "sample2_df = len(sample2) - 1                   # degrees of freedom\n",
    "test_statistic = sample1.var() / sample2.var()  # test statistic\n",
    "stats.f.sf(test_statistic, dfn = sample1_df, dfd = sample2_df)*2  # p-value"
   ]
  },
  {
   "cell_type": "markdown",
   "metadata": {
    "cell_id": "00011-479b415c-6739-4107-9b1e-a2d2917d18c3",
    "deepnote_cell_type": "markdown",
    "tags": []
   },
   "source": [
    "Our $p$-value is smaller than our chosen alpha, so we have sufficient evidence\n",
    "to reject the null hypothesis. The ratio of the variance of the closing prices\n",
    "on Germany's DAX and France's CAC is significantly different than 1, so the\n",
    "variances are not equal.\n",
    "\n",
    "### Right-tailed test\n",
    "\n",
    "In a right-tailed test, the null hypothesis is that the ratio is less than or\n",
    "equal to 1.  This is equivalent to asking if $\\sigma_1^2 \\le \\sigma_2^2$.\n",
    "\n",
    "$$H_0: \\frac{\\sigma_1^2}{\\sigma_2^2} \\le 1$$\n",
    "\n",
    "We repeat below some of the code above to make each example easy to copy and paste."
   ]
  },
  {
   "cell_type": "code",
   "execution_count": 13,
   "metadata": {
    "cell_id": "00014-56ce2266-9f89-4118-8811-e3377f201f90",
    "deepnote_cell_type": "code",
    "deepnote_to_be_reexecuted": false,
    "execution_millis": 10,
    "execution_start": 1628730841053,
    "source_hash": "f583dde7",
    "tags": []
   },
   "outputs": [
    {
     "data": {
      "text/plain": [
       "3.864539625747708e-151"
      ]
     },
     "execution_count": 13,
     "metadata": {},
     "output_type": "execute_result"
    }
   ],
   "source": [
    "from scipy import stats\n",
    "sample1_df = len(sample1) - 1                   # degrees of freedom\n",
    "sample2_df = len(sample2) - 1                   # degrees of freedom\n",
    "test_statistic = sample1.var() / sample2.var()  # test statistic\n",
    "stats.f.sf(test_statistic, dfn = sample1_df, dfd = sample2_df)  # p-value"
   ]
  },
  {
   "cell_type": "markdown",
   "metadata": {
    "cell_id": "00017-9f3ce014-ab50-450b-99f5-ac2e1e272ba3",
    "deepnote_cell_type": "markdown",
    "tags": []
   },
   "source": [
    "Our $p$-value is smaller than our chosen alpha, so we have sufficient evidence\n",
    "to reject the null hypothesis. The ratio of the variance of the closing prices\n",
    "on Germany's DAX and France's CAC is significantly greater than 1, so the\n",
    "variance of closing prices on Germany's DAX is greater than that of closing\n",
    "prices on France's CAC.\n",
    "\n",
    "To test whether $\\sigma_1^2 \\ge \\sigma_2^2$, simply swap the roles of the two\n",
    "data columns in the above code."
   ]
  }
 ],
 "metadata": {
  "interpreter": {
   "hash": "d4d1e4263499bec80672ea0156c357c1ee493ec2b1c70f0acce89fc37c4a6abe"
  },
  "kernelspec": {
   "display_name": "Python 3.9.6 64-bit ('base': conda)",
   "name": "python3"
  },
  "language_info": {
   "codemirror_mode": {
    "name": "ipython",
    "version": 3
   },
   "file_extension": ".py",
   "mimetype": "text/x-python",
   "name": "python",
   "nbconvert_exporter": "python",
   "pygments_lexer": "ipython3",
   "version": "3.9.7"
  },
  "orig_nbformat": 2
 },
 "nbformat": 4,
 "nbformat_minor": 2
}
