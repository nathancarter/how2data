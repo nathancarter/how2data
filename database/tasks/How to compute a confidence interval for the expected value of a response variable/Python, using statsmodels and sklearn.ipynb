{
  "cells": [
    {
      "cell_type": "markdown",
      "id": "CMr08vWtk6B-",
      "metadata": {
        "id": "CMr08vWtk6B-"
      },
      "source": [
        "---\n",
        "author:\n",
        " - Ni Shi (shi_ni@bentley.edu)\n",
        " - Nathan Carter (ncarter@bentley.edu)\n",
        "---"
      ]
    },
    {
      "cell_type": "markdown",
      "id": "glQPqy-4k6CA",
      "metadata": {
        "id": "glQPqy-4k6CA"
      },
      "source": [
        "Let's assume that you already have a linear model.  We construct an example one here from some fabricated data.\n",
        "For a review of how this preparatory code works, see how to fit a linear model to two columns of data."
      ]
    },
    {
      "cell_type": "code",
      "execution_count": 20,
      "id": "cE6buvT8k6CB",
      "metadata": {
        "id": "cE6buvT8k6CB"
      },
      "outputs": [],
      "source": [
        "import statsmodels.api as sm\n",
        "\n",
        "# Replace the following fake data with your actual data:\n",
        "xs = [  34,   9,  78,  60,  22,  45,  83,  59,  25 ]\n",
        "ys = [ 126, 347, 298, 309, 450, 187, 266, 385, 400 ]\n",
        "\n",
        "# Create and fit a linear model to the data:\n",
        "xs = sm.add_constant( xs )\n",
        "model = sm.OLS( ys, xs ).fit()"
      ]
    },
    {
      "cell_type": "markdown",
      "id": "nt3uqewQk6CC",
      "metadata": {
        "id": "nt3uqewQk6CC"
      },
      "source": [
        "Ask the model to do a prediction of one particular input, in this example $x=40$,\n",
        "with a $95\\%$ confidence interval included ($\\alpha=0.05$).\n",
        "You can replce the $40$ with your chosen $x$ value, or an array of them,\n",
        "and you can replace the $0.05$ with your chosen value of $\\alpha$.\n",
        "\n",
        "(The extra `1` in the input to `get_prediction` is a placeholder,\n",
        "required because the model has been expanded to include a constant term.)"
      ]
    },
    {
      "cell_type": "code",
      "execution_count": 28,
      "id": "hHIxsFpSk6CC",
      "metadata": {
        "colab": {
          "base_uri": "https://localhost:8080/",
          "height": 235
        },
        "id": "hHIxsFpSk6CC",
        "outputId": "6f525bf9-f7c7-4d52-d3eb-683888c2c1e7"
      },
      "outputs": [
        {
          "data": {
            "text/html": [
              "<div>\n",
              "<style scoped>\n",
              "    .dataframe tbody tr th:only-of-type {\n",
              "        vertical-align: middle;\n",
              "    }\n",
              "\n",
              "    .dataframe tbody tr th {\n",
              "        vertical-align: top;\n",
              "    }\n",
              "\n",
              "    .dataframe thead th {\n",
              "        text-align: right;\n",
              "    }\n",
              "</style>\n",
              "<table border=\"1\" class=\"dataframe\">\n",
              "  <thead>\n",
              "    <tr style=\"text-align: right;\">\n",
              "      <th></th>\n",
              "      <th>mean</th>\n",
              "      <th>mean_se</th>\n",
              "      <th>mean_ci_lower</th>\n",
              "      <th>mean_ci_upper</th>\n",
              "      <th>obs_ci_lower</th>\n",
              "      <th>obs_ci_upper</th>\n",
              "    </tr>\n",
              "  </thead>\n",
              "  <tbody>\n",
              "    <tr>\n",
              "      <th>0</th>\n",
              "      <td>313.721744</td>\n",
              "      <td>36.823483</td>\n",
              "      <td>226.648043</td>\n",
              "      <td>400.795444</td>\n",
              "      <td>45.876725</td>\n",
              "      <td>581.566762</td>\n",
              "    </tr>\n",
              "  </tbody>\n",
              "</table>\n",
              "</div>"
            ],
            "text/plain": [
              "         mean    mean_se  mean_ci_lower  mean_ci_upper  obs_ci_lower  \\\n",
              "0  313.721744  36.823483     226.648043     400.795444     45.876725   \n",
              "\n",
              "   obs_ci_upper  \n",
              "0    581.566762  "
            ]
          },
          "execution_count": 28,
          "metadata": {},
          "output_type": "execute_result"
        }
      ],
      "source": [
        "model.get_prediction( [1,40] ).summary_frame( alpha=0.05 )"
      ]
    },
    {
      "cell_type": "markdown",
      "id": "Myrat8T7k6CD",
      "metadata": {
        "id": "Myrat8T7k6CD"
      },
      "source": [
        "Our 95% confidence interval is $[226.648, 400.7954]$. We can be 95% confident that the true average value of $y$, given that $x$ is 40, is between 226.648 and 400.7954."
      ]
    }
  ],
  "metadata": {
    "colab": {
      "provenance": []
    },
    "kernelspec": {
      "display_name": "Python 3.10.6 ('base')",
      "language": "python",
      "name": "python3"
    },
    "language_info": {
      "codemirror_mode": {
        "name": "ipython",
        "version": 3
      },
      "file_extension": ".py",
      "mimetype": "text/x-python",
      "name": "python",
      "nbconvert_exporter": "python",
      "pygments_lexer": "ipython3",
      "version": "3.10.6"
    },
    "vscode": {
      "interpreter": {
        "hash": "d4d1e4263499bec80672ea0156c357c1ee493ec2b1c70f0acce89fc37c4a6abe"
      }
    }
  },
  "nbformat": 4,
  "nbformat_minor": 5
}
