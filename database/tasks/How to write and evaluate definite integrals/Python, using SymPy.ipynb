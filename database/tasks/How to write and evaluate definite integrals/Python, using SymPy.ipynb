{
 "metadata": {
  "language_info": {
   "codemirror_mode": {
    "name": "ipython",
    "version": 3
   },
   "file_extension": ".py",
   "mimetype": "text/x-python",
   "name": "python",
   "nbconvert_exporter": "python",
   "pygments_lexer": "ipython3",
   "version": "3.9.2"
  },
  "orig_nbformat": 2,
  "kernelspec": {
   "name": "python392jvsc74a57bd098b0a9b7b4eaaa670588a142fd0a9b87eaafe866f1db4228be72b4211d12040f",
   "display_name": "Python 3.9.2 64-bit ('base': conda)"
  }
 },
 "nbformat": 4,
 "nbformat_minor": 2,
 "cells": [
  {
   "source": [
    "---\n",
    "author: Nathan Carter (ncarter@bentley.edu)\n",
    "---\n",
    "\n",
    "This answer assumes you have imported SymPy as follows."
   ],
   "cell_type": "markdown",
   "metadata": {}
  },
  {
   "cell_type": "code",
   "execution_count": 2,
   "metadata": {},
   "outputs": [],
   "source": [
    "from sympy import *                   # load all math functions\n",
    "init_printing( use_latex='mathjax' )  # use pretty math output"
   ]
  },
  {
   "source": [
    "Let's compute the area under $\\sin x$ from $x=0$ to $x=\\pi$.\n",
    "\n",
    "We use the same technique as in how to write and evaluate indefinite integrals,\n",
    "except that we add the lower and upper bounds together with $x$, as shown below."
   ],
   "cell_type": "markdown",
   "metadata": {}
  },
  {
   "cell_type": "code",
   "execution_count": 3,
   "metadata": {},
   "outputs": [
    {
     "output_type": "execute_result",
     "data": {
      "text/plain": [
       "π          \n",
       "⌠          \n",
       "⎮ sin(x) dx\n",
       "⌡          \n",
       "0          "
      ],
      "text/latex": "$\\displaystyle \\int\\limits_{0}^{\\pi} \\sin{\\left(x \\right)}\\, dx$"
     },
     "metadata": {},
     "execution_count": 3
    }
   ],
   "source": [
    "var( 'x' )\n",
    "formula = sin(x)\n",
    "Integral( formula, (x,0,pi) )"
   ]
  },
  {
   "source": [
    "The above code just displays the definite integral.\n",
    "To evaluate it, use the `integrate` command."
   ],
   "cell_type": "markdown",
   "metadata": {}
  },
  {
   "cell_type": "code",
   "execution_count": 4,
   "metadata": {},
   "outputs": [
    {
     "output_type": "execute_result",
     "data": {
      "text/plain": [
       "2"
      ],
      "text/latex": "$\\displaystyle 2$"
     },
     "metadata": {},
     "execution_count": 4
    }
   ],
   "source": [
    "integrate( formula, (x,0,pi) )"
   ]
  }
 ]
}