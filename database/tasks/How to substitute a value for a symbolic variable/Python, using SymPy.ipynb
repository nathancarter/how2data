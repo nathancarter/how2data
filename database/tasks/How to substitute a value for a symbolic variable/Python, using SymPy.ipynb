{
 "metadata": {
  "language_info": {
   "codemirror_mode": {
    "name": "ipython",
    "version": 3
   },
   "file_extension": ".py",
   "mimetype": "text/x-python",
   "name": "python",
   "nbconvert_exporter": "python",
   "pygments_lexer": "ipython3",
   "version": "3.9.2"
  },
  "orig_nbformat": 2,
  "kernelspec": {
   "name": "python392jvsc74a57bd098b0a9b7b4eaaa670588a142fd0a9b87eaafe866f1db4228be72b4211d12040f",
   "display_name": "Python 3.9.2 64-bit ('base': conda)"
  }
 },
 "nbformat": 4,
 "nbformat_minor": 2,
 "cells": [
  {
   "source": [
    "---\n",
    "author: Nathan Carter (ncarter@bentley.edu)\n",
    "---\n",
    "\n",
    "This answer assumes you have imported SymPy as follows."
   ],
   "cell_type": "markdown",
   "metadata": {}
  },
  {
   "cell_type": "code",
   "execution_count": 1,
   "metadata": {},
   "outputs": [],
   "source": [
    "from sympy import *                   # load all math functions\n",
    "init_printing( use_latex='mathjax' )  # use pretty math output"
   ]
  },
  {
   "source": [
    "Let's assume we've defined a variable and created a formula, as covered\n",
    "in how to create symbolic variables."
   ],
   "cell_type": "markdown",
   "metadata": {}
  },
  {
   "cell_type": "code",
   "execution_count": 2,
   "metadata": {},
   "outputs": [
    {
     "output_type": "execute_result",
     "data": {
      "text/plain": [
       " 2    \n",
       "x  + x"
      ],
      "text/latex": "$\\displaystyle x^{2} + x$"
     },
     "metadata": {},
     "execution_count": 2
    }
   ],
   "source": [
    "var( 'x' )\n",
    "formula = x**2 + x\n",
    "formula"
   ]
  },
  {
   "source": [
    "We can substitute a value for $x$ using the `subs` function.\n",
    "You provide the variable and the value to substitute."
   ],
   "cell_type": "markdown",
   "metadata": {}
  },
  {
   "cell_type": "code",
   "execution_count": 4,
   "metadata": {},
   "outputs": [
    {
     "output_type": "execute_result",
     "data": {
      "text/plain": [
       "72"
      ],
      "text/latex": "$\\displaystyle 72$"
     },
     "metadata": {},
     "execution_count": 4
    }
   ],
   "source": [
    "formula.subs( x, 8 )  # computes 8**2 + 8"
   ]
  },
  {
   "source": [
    "If you had to substitute values for multiple variables, you can use\n",
    "multiple `subs` calls or you can pass a dictionary to `subs`."
   ],
   "cell_type": "markdown",
   "metadata": {}
  },
  {
   "cell_type": "code",
   "execution_count": 5,
   "metadata": {},
   "outputs": [
    {
     "output_type": "execute_result",
     "data": {
      "text/plain": [
       "x   y\n",
       "─ + ─\n",
       "2   3"
      ],
      "text/latex": "$\\displaystyle \\frac{x}{2} + \\frac{y}{3}$"
     },
     "metadata": {},
     "execution_count": 5
    }
   ],
   "source": [
    "var( 'y' )\n",
    "formula = x/2 + y/3\n",
    "formula"
   ]
  },
  {
   "cell_type": "code",
   "execution_count": 6,
   "metadata": {},
   "outputs": [
    {
     "output_type": "execute_result",
     "data": {
      "text/plain": [
       "7"
      ],
      "text/latex": "$\\displaystyle 7$"
     },
     "metadata": {},
     "execution_count": 6
    }
   ],
   "source": [
    "formula.subs( x, 10 ).subs( y, 6 )"
   ]
  },
  {
   "cell_type": "code",
   "execution_count": 7,
   "metadata": {},
   "outputs": [
    {
     "output_type": "execute_result",
     "data": {
      "text/plain": [
       "7"
      ],
      "text/latex": "$\\displaystyle 7$"
     },
     "metadata": {},
     "execution_count": 7
    }
   ],
   "source": [
    "formula.subs( { x: 10, y: 6 } )"
   ]
  }
 ]
}