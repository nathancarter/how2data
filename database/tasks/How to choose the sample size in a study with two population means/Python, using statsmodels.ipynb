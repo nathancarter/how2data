{
 "cells": [
  {
   "cell_type": "markdown",
   "metadata": {
    "cell_id": "c7308fbcf9d147d9bf59ef96cbc227bf",
    "deepnote_cell_type": "text-cell-h1",
    "is_collapsed": false,
    "tags": []
   },
   "source": [
    "---\n",
    "author: Andrew Quagliaroli (aquagliaroli@falcon.bentley.edu)\n",
    "---"
   ]
  },
  {
   "cell_type": "markdown",
   "metadata": {
    "cell_id": "360d574749dc4a27a2e7bcbb3fb659dd",
    "deepnote_cell_type": "text-cell-p",
    "is_collapsed": false,
    "tags": []
   },
   "source": [
    "Example: Let’s say we’re designing a study to assess the effectiveness of a new four-week exercise program for weight loss. Assume that weight loss in four-week exercise programs is normally distributed with a standard deviation of around 5 pounds. The goal is that the new exercise program will have a 4-pound higher weight loss than the average program. (Notice that we will be comparing the means of two populations, the weight loss in each of two programs.)"
   ]
  },
  {
   "cell_type": "markdown",
   "metadata": {
    "cell_id": "3ff20a6e96bf452dbcd44b5e9e758cc1",
    "deepnote_cell_type": "text-cell-p",
    "is_collapsed": false,
    "tags": []
   },
   "source": [
    "We choose a value $0 \\leq \\alpha \\leq 1$ as the probability of a Type I error in our test that compares the two means. (Recall, Type I error is for a false positive, finding we should reject $H_0$ when it's actually true). Let’s set $\\alpha$ to be 0.05 here."
   ]
  },
  {
   "cell_type": "markdown",
   "metadata": {
    "cell_id": "f96b3029be0b4481ae79ab7e606166ae",
    "deepnote_cell_type": "text-cell-p",
    "is_collapsed": false,
    "owner_user_id": "dfa11070-6392-44d1-94e3-50a434c71b78",
    "tags": []
   },
   "source": [
    "We choose a value $0 \\leq \\beta \\leq 1$ as the probability of a Type II error (false negative, failing to reject $H_0$ when it’s actually false). Let’s set $\\beta$ to be 0.2 here. The test's power is $1-\\beta$, or in this case, 0.8."
   ]
  },
  {
   "cell_type": "markdown",
   "metadata": {
    "cell_id": "b44beff4b72f481e9b37aece07ea3f4a",
    "deepnote_cell_type": "text-cell-p",
    "is_collapsed": false,
    "tags": []
   },
   "source": [
    "What should the sample size be for each group?"
   ]
  },
  {
   "cell_type": "code",
   "execution_count": 1,
   "metadata": {
    "cell_id": "0cce6296-dd76-4c06-bef7-6223b72fddbd",
    "deepnote_cell_height": 352.1875,
    "deepnote_cell_type": "code",
    "deepnote_output_heights": [
     21.1875
    ],
    "deepnote_to_be_reexecuted": false,
    "execution_millis": 340,
    "execution_start": 1650297711046,
    "source_hash": "63836523",
    "tags": []
   },
   "outputs": [
    {
     "data": {
      "text/plain": [
       "25.52457250047935"
      ]
     },
     "execution_count": 1,
     "metadata": {},
     "output_type": "execute_result"
    }
   ],
   "source": [
    "from statsmodels.stats.power import TTestIndPower\n",
    "\n",
    "standard_deviation = 5\n",
    "desired_increase = 4\n",
    "alpha = 0.05\n",
    "beta = 0.2\n",
    "\n",
    "analysis = TTestIndPower()\n",
    "analysis.solve_power( effect_size=desired_increase / standard_deviation,\n",
    "                      power=1 - beta, alpha=alpha)"
   ]
  },
  {
   "cell_type": "markdown",
   "metadata": {
    "cell_id": "c549e1a502b8443dabf34a70b53213d8",
    "deepnote_cell_type": "text-cell-p",
    "is_collapsed": false,
    "tags": []
   },
   "source": [
    "Our sample size needs to be 26 participants in order for the power of the study to be 80% with our specified parameters."
   ]
  }
 ],
 "metadata": {
  "deepnote": {
   "is_reactive": false
  },
  "deepnote_execution_queue": [],
  "deepnote_notebook_id": "fa77bc09-c6f2-47e8-9a10-853befeb4084",
  "interpreter": {
   "hash": "d4d1e4263499bec80672ea0156c357c1ee493ec2b1c70f0acce89fc37c4a6abe"
  },
  "kernelspec": {
   "display_name": "Python 3.9.10 ('base')",
   "language": "python",
   "name": "python3"
  },
  "language_info": {
   "codemirror_mode": {
    "name": "ipython",
    "version": 3
   },
   "file_extension": ".py",
   "mimetype": "text/x-python",
   "name": "python",
   "nbconvert_exporter": "python",
   "pygments_lexer": "ipython3",
   "version": "3.9.10"
  },
  "orig_nbformat": 2
 },
 "nbformat": 4,
 "nbformat_minor": 2
}
