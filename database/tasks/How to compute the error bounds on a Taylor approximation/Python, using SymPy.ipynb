{
 "metadata": {
  "language_info": {
   "codemirror_mode": {
    "name": "ipython",
    "version": 3
   },
   "file_extension": ".py",
   "mimetype": "text/x-python",
   "name": "python",
   "nbconvert_exporter": "python",
   "pygments_lexer": "ipython3",
   "version": "3.9.2"
  },
  "orig_nbformat": 2,
  "kernelspec": {
   "name": "python392jvsc74a57bd098b0a9b7b4eaaa670588a142fd0a9b87eaafe866f1db4228be72b4211d12040f",
   "display_name": "Python 3.9.2 64-bit ('base': conda)"
  }
 },
 "nbformat": 4,
 "nbformat_minor": 2,
 "cells": [
  {
   "source": [
    "---\n",
    "author: Nathan Carter (ncarter@bentley.edu)\n",
    "---\n",
    "\n",
    "This answer assumes you have imported SymPy as follows."
   ],
   "cell_type": "markdown",
   "metadata": {}
  },
  {
   "cell_type": "code",
   "execution_count": 1,
   "metadata": {},
   "outputs": [],
   "source": [
    "from sympy import *                   # load all math functions\n",
    "init_printing( use_latex='mathjax' )  # use pretty math output"
   ]
  },
  {
   "source": [
    "Let's create a simple example.  We'll be approximating $f(x)=\\sin x$\n",
    "centered at $a=0$ with a Taylor series of degree $n=5$.  We will be\n",
    "applying our approximation at $x_0=1$.  What is the error bound?"
   ],
   "cell_type": "markdown",
   "metadata": {}
  },
  {
   "cell_type": "code",
   "execution_count": 2,
   "metadata": {},
   "outputs": [],
   "source": [
    "var( 'x' )\n",
    "formula = sin(x)\n",
    "a = 0\n",
    "x_0 = 1\n",
    "n = 5"
   ]
  },
  {
   "source": [
    "We will not ask SymPy to compute the formula exactly, but will instead\n",
    "have it sample a large number of $c$ values from the interval in question,\n",
    "and compute the maximum over those samples.  (The exact solution can be too\n",
    "hard for SymPy to compute.)"
   ],
   "cell_type": "markdown",
   "metadata": {}
  },
  {
   "cell_type": "code",
   "execution_count": 4,
   "metadata": {},
   "outputs": [
    {
     "output_type": "execute_result",
     "data": {
      "text/plain": [
       "0.00116870970112208"
      ],
      "text/latex": "$\\displaystyle 0.00116870970112208$"
     },
     "metadata": {},
     "execution_count": 4
    }
   ],
   "source": [
    "# Get 1000 evenly-spaced c values:\n",
    "cs = [ Min(x_0,a) + abs(x_0-a)*i/1000 for i in range(1001) ]\n",
    "# Create the formula |f^(n+1)(x)|:\n",
    "formula2 = abs( diff( formula, x, n+1 ) )\n",
    "# Find the max of it on all the 1000 values:\n",
    "m = Max( *[ formula2.subs(x,c) for c in cs ] )\n",
    "# Compute the error bound:\n",
    "N( abs(x_0-a)**(n+1) / factorial(n+1) * m )"
   ]
  },
  {
   "source": [
    "The error is at most $0.00116871\\ldots$."
   ],
   "cell_type": "markdown",
   "metadata": {}
  }
 ]
}