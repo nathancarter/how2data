{
 "cells": [
  {
   "cell_type": "markdown",
   "source": [
    "---\n",
    "author: Nathan Carter (ncarter@bentley.edu)\n",
    "---"
   ],
   "metadata": {}
  },
  {
   "cell_type": "markdown",
   "source": [
    "Let's assume that you've already built a linear model.\n",
    "We do an example below with fake data, but you can use your own actual data.\n",
    "For more information on the following code, see\n",
    "how to fit a multiple linear regression linear model."
   ],
   "metadata": {
    "tags": [],
    "cell_id": "00004-39442362-bbbe-4b14-84f4-3058641c5760",
    "deepnote_cell_type": "markdown"
   }
  },
  {
   "cell_type": "code",
   "execution_count": 1,
   "source": [
    "import pandas as pd\n",
    "df = pd.DataFrame( {\n",
    "    'x1' : [ 2,  7,  4,  3, 11, 18,   6, 15,   9,  12],\n",
    "    'x2' : [ 4,  6, 10,  1, 18, 11,   8, 20,  16,  13],\n",
    "    'x3' : [11, 16, 20,  6, 14,  8,   5, 23,  13,  10],\n",
    "    'y'  : [24, 60, 32, 29, 90, 45, 130, 76, 100, 120]\n",
    "} )\n",
    "\n",
    "import statsmodels.api as sm\n",
    "model = sm.OLS( df['y'], sm.add_constant( df[['x1','x2','x3']] ) ).fit()"
   ],
   "outputs": [
    {
     "output_type": "stream",
     "name": "stderr",
     "text": [
      "/opt/conda/lib/python3.9/site-packages/statsmodels/tsa/tsatools.py:142: FutureWarning: In a future version of pandas all arguments of concat except for the argument 'objs' will be keyword-only\n",
      "  x = pd.concat(x[::order], 1)\n"
     ]
    }
   ],
   "metadata": {
    "tags": [],
    "cell_id": "00000-4768e466-5db2-465e-b8a1-227373a05660",
    "deepnote_to_be_reexecuted": false,
    "source_hash": "ed61ef3a",
    "execution_start": 1628297515441,
    "execution_millis": 1,
    "deepnote_cell_type": "code"
   }
  },
  {
   "cell_type": "markdown",
   "source": [
    "Let's say we want to estimate $y$ given that  $x_1 = 5$, $x_2 = 12$, and $x_3=50$.\n",
    "We can use the model's `predict()` function as shown below, but we must add an\n",
    "entry for the constant term in the model---we can use any value, but we choose 1."
   ],
   "metadata": {
    "tags": [],
    "cell_id": "00008-63406435-f3d2-48b5-8fdf-b3050c39a2c3",
    "deepnote_cell_type": "markdown"
   }
  },
  {
   "cell_type": "code",
   "execution_count": 2,
   "source": [
    "model.predict( [ 1, 5, 12, 50 ] )"
   ],
   "outputs": [
    {
     "output_type": "execute_result",
     "data": {
      "text/plain": [
       "array([-91.71014402])"
      ]
     },
     "metadata": {},
     "execution_count": 2
    }
   ],
   "metadata": {}
  },
  {
   "cell_type": "markdown",
   "source": [
    "For the given values of the explanatory variables,\n",
    "our predicted response variable is $-91.71014402$.\n",
    "\n",
    "Note that if you want to compute the predicted values for all the data\n",
    "on which the model was trained, simply call `model.predict()` with no arguments,\n",
    "and it defaults to using the training data."
   ],
   "metadata": {}
  },
  {
   "cell_type": "code",
   "execution_count": 3,
   "source": [
    "model.predict()"
   ],
   "outputs": [
    {
     "output_type": "execute_result",
     "data": {
      "text/plain": [
       "array([ 47.5701159 ,  24.35988296,  42.21531274,  47.27613825,\n",
       "       110.86526185,  70.03097584,  95.12689978,  70.91290879,\n",
       "       106.52986696,  91.11263692])"
      ]
     },
     "metadata": {},
     "execution_count": 3
    }
   ],
   "metadata": {}
  }
 ],
 "nbformat": 4,
 "nbformat_minor": 2,
 "metadata": {
  "orig_nbformat": 2,
  "language_info": {
   "name": "python",
   "version": "3.9.6",
   "mimetype": "text/x-python",
   "codemirror_mode": {
    "name": "ipython",
    "version": 3
   },
   "pygments_lexer": "ipython3",
   "nbconvert_exporter": "python",
   "file_extension": ".py"
  },
  "kernelspec": {
   "name": "python3",
   "display_name": "Python 3.9.6 64-bit ('base': conda)"
  },
  "interpreter": {
   "hash": "98b0a9b7b4eaaa670588a142fd0a9b87eaafe866f1db4228be72b4211d12040f"
  }
 }
}