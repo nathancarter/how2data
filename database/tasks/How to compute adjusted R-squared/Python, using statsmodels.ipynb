{
 "cells": [
  {
   "cell_type": "markdown",
   "source": [
    "---\n",
    "author: Elizabeth Czarniak (CZARNIA_ELIZ@bentley.edu)\n",
    "---"
   ],
   "metadata": {}
  },
  {
   "cell_type": "markdown",
   "source": [
    "We assume you have already fit a multiple linear regression model to some data, as in the code below. (If you're unfamiliar with how to do so, see how to fit a multiple linear regression model.) The data shown below is fake, and we assume you will replace it with your own real data if you use this code."
   ],
   "metadata": {
    "tags": [],
    "cell_id": "00002-042e1a3c-b2c4-4493-b35c-7e130cc981d8",
    "deepnote_cell_type": "markdown"
   }
  },
  {
   "cell_type": "code",
   "execution_count": 1,
   "source": [
    "import pandas as pd\n",
    "import statsmodels.api as sm\n",
    "df = pd.DataFrame( {\n",
    "    'x1':[2, 7, 4, 3, 11, 18, 6, 15, 9, 12],\n",
    "    'x2':[4, 6, 10, 1, 18, 11, 8, 20, 16, 13],\n",
    "    'x3':[11, 16, 20, 6, 14, 8, 5, 23, 13, 10],\n",
    "    'y':[24, 60, 32, 29, 90, 45, 130, 76, 100, 120]\n",
    "} )\n",
    "xs = df[['x1', 'x2', 'x3']]\n",
    "y = df['y']\n",
    "xs = sm.add_constant(xs)\n",
    "model = sm.OLS(y, xs).fit()"
   ],
   "outputs": [
    {
     "output_type": "stream",
     "name": "stderr",
     "text": [
      "/opt/conda/lib/python3.9/site-packages/statsmodels/tsa/tsatools.py:142: FutureWarning: In a future version of pandas all arguments of concat except for the argument 'objs' will be keyword-only\n",
      "  x = pd.concat(x[::order], 1)\n"
     ]
    }
   ],
   "metadata": {
    "tags": [],
    "cell_id": "00000-90c21579-5532-4641-aef1-af44e40a3781",
    "deepnote_to_be_reexecuted": false,
    "source_hash": "bddc515",
    "execution_start": 1628304795153,
    "execution_millis": 175,
    "deepnote_cell_type": "code"
   }
  },
  {
   "cell_type": "markdown",
   "source": [
    "You can get a lot of information about your model from its summary."
   ],
   "metadata": {
    "tags": [],
    "cell_id": "00004-ae64f47b-56f0-4bb4-a47b-5e1b894b6791",
    "deepnote_cell_type": "markdown"
   }
  },
  {
   "cell_type": "code",
   "execution_count": 2,
   "source": [
    "model.summary()"
   ],
   "outputs": [
    {
     "output_type": "stream",
     "name": "stderr",
     "text": [
      "/opt/conda/lib/python3.9/site-packages/scipy/stats/stats.py:1541: UserWarning: kurtosistest only valid for n>=20 ... continuing anyway, n=10\n",
      "  warnings.warn(\"kurtosistest only valid for n>=20 ... continuing \"\n"
     ]
    },
    {
     "output_type": "execute_result",
     "data": {
      "text/html": [
       "<table class=\"simpletable\">\n",
       "<caption>OLS Regression Results</caption>\n",
       "<tr>\n",
       "  <th>Dep. Variable:</th>            <td>y</td>        <th>  R-squared:         </th> <td>   0.594</td>\n",
       "</tr>\n",
       "<tr>\n",
       "  <th>Model:</th>                   <td>OLS</td>       <th>  Adj. R-squared:    </th> <td>   0.390</td>\n",
       "</tr>\n",
       "<tr>\n",
       "  <th>Method:</th>             <td>Least Squares</td>  <th>  F-statistic:       </th> <td>   2.921</td>\n",
       "</tr>\n",
       "<tr>\n",
       "  <th>Date:</th>             <td>Thu, 09 Sep 2021</td> <th>  Prob (F-statistic):</th>  <td> 0.122</td> \n",
       "</tr>\n",
       "<tr>\n",
       "  <th>Time:</th>                 <td>19:54:31</td>     <th>  Log-Likelihood:    </th> <td> -45.689</td>\n",
       "</tr>\n",
       "<tr>\n",
       "  <th>No. Observations:</th>      <td>    10</td>      <th>  AIC:               </th> <td>   99.38</td>\n",
       "</tr>\n",
       "<tr>\n",
       "  <th>Df Residuals:</th>          <td>     6</td>      <th>  BIC:               </th> <td>   100.6</td>\n",
       "</tr>\n",
       "<tr>\n",
       "  <th>Df Model:</th>              <td>     3</td>      <th>                     </th>     <td> </td>   \n",
       "</tr>\n",
       "<tr>\n",
       "  <th>Covariance Type:</th>      <td>nonrobust</td>    <th>                     </th>     <td> </td>   \n",
       "</tr>\n",
       "</table>\n",
       "<table class=\"simpletable\">\n",
       "<tr>\n",
       "    <td></td>       <th>coef</th>     <th>std err</th>      <th>t</th>      <th>P>|t|</th>  <th>[0.025</th>    <th>0.975]</th>  \n",
       "</tr>\n",
       "<tr>\n",
       "  <th>const</th> <td>   77.2443</td> <td>   27.366</td> <td>    2.823</td> <td> 0.030</td> <td>   10.282</td> <td>  144.206</td>\n",
       "</tr>\n",
       "<tr>\n",
       "  <th>x1</th>    <td>   -2.7009</td> <td>    2.855</td> <td>   -0.946</td> <td> 0.381</td> <td>   -9.686</td> <td>    4.284</td>\n",
       "</tr>\n",
       "<tr>\n",
       "  <th>x2</th>    <td>    7.2989</td> <td>    2.875</td> <td>    2.539</td> <td> 0.044</td> <td>    0.265</td> <td>   14.333</td>\n",
       "</tr>\n",
       "<tr>\n",
       "  <th>x3</th>    <td>   -4.8607</td> <td>    2.187</td> <td>   -2.223</td> <td> 0.068</td> <td>  -10.211</td> <td>    0.490</td>\n",
       "</tr>\n",
       "</table>\n",
       "<table class=\"simpletable\">\n",
       "<tr>\n",
       "  <th>Omnibus:</th>       <td> 2.691</td> <th>  Durbin-Watson:     </th> <td>   2.123</td>\n",
       "</tr>\n",
       "<tr>\n",
       "  <th>Prob(Omnibus):</th> <td> 0.260</td> <th>  Jarque-Bera (JB):  </th> <td>   1.251</td>\n",
       "</tr>\n",
       "<tr>\n",
       "  <th>Skew:</th>          <td> 0.524</td> <th>  Prob(JB):          </th> <td>   0.535</td>\n",
       "</tr>\n",
       "<tr>\n",
       "  <th>Kurtosis:</th>      <td> 1.620</td> <th>  Cond. No.          </th> <td>    58.2</td>\n",
       "</tr>\n",
       "</table><br/><br/>Notes:<br/>[1] Standard Errors assume that the covariance matrix of the errors is correctly specified."
      ],
      "text/plain": [
       "<class 'statsmodels.iolib.summary.Summary'>\n",
       "\"\"\"\n",
       "                            OLS Regression Results                            \n",
       "==============================================================================\n",
       "Dep. Variable:                      y   R-squared:                       0.594\n",
       "Model:                            OLS   Adj. R-squared:                  0.390\n",
       "Method:                 Least Squares   F-statistic:                     2.921\n",
       "Date:                Thu, 09 Sep 2021   Prob (F-statistic):              0.122\n",
       "Time:                        19:54:31   Log-Likelihood:                -45.689\n",
       "No. Observations:                  10   AIC:                             99.38\n",
       "Df Residuals:                       6   BIC:                             100.6\n",
       "Df Model:                           3                                         \n",
       "Covariance Type:            nonrobust                                         \n",
       "==============================================================================\n",
       "                 coef    std err          t      P>|t|      [0.025      0.975]\n",
       "------------------------------------------------------------------------------\n",
       "const         77.2443     27.366      2.823      0.030      10.282     144.206\n",
       "x1            -2.7009      2.855     -0.946      0.381      -9.686       4.284\n",
       "x2             7.2989      2.875      2.539      0.044       0.265      14.333\n",
       "x3            -4.8607      2.187     -2.223      0.068     -10.211       0.490\n",
       "==============================================================================\n",
       "Omnibus:                        2.691   Durbin-Watson:                   2.123\n",
       "Prob(Omnibus):                  0.260   Jarque-Bera (JB):                1.251\n",
       "Skew:                           0.524   Prob(JB):                        0.535\n",
       "Kurtosis:                       1.620   Cond. No.                         58.2\n",
       "==============================================================================\n",
       "\n",
       "Notes:\n",
       "[1] Standard Errors assume that the covariance matrix of the errors is correctly specified.\n",
       "\"\"\""
      ]
     },
     "metadata": {},
     "execution_count": 2
    }
   ],
   "metadata": {
    "tags": [],
    "cell_id": "00005-d066d77f-82c1-4b7c-a45e-073493489a5e",
    "deepnote_to_be_reexecuted": false,
    "source_hash": "6f484792",
    "execution_start": 1628304840897,
    "execution_millis": 13,
    "deepnote_cell_type": "code"
   }
  },
  {
   "cell_type": "markdown",
   "source": [
    "In particular, that printout contains the Adjusted $R^2$ value; it is the second value in the right-hand column, near the top.\n",
    "\n",
    "You can also obtain it directly, as follows:"
   ],
   "metadata": {
    "tags": [],
    "cell_id": "00006-ab165a75-6b79-4bad-87c6-d31b8f8f287f",
    "deepnote_cell_type": "markdown"
   }
  },
  {
   "cell_type": "code",
   "execution_count": 3,
   "source": [
    "model.rsquared_adj"
   ],
   "outputs": [
    {
     "output_type": "execute_result",
     "data": {
      "text/plain": [
       "0.390392407508503"
      ]
     },
     "metadata": {},
     "execution_count": 3
    }
   ],
   "metadata": {
    "tags": [],
    "cell_id": "00007-fe0db311-0c73-43b5-9528-0b6eb741df2d",
    "deepnote_to_be_reexecuted": false,
    "source_hash": "6c46db3e",
    "execution_start": 1628304911082,
    "execution_millis": 5,
    "deepnote_cell_type": "code"
   }
  },
  {
   "cell_type": "markdown",
   "source": [
    "In this case, the Adjusted $R^2$ is $0.3904$."
   ],
   "metadata": {
    "tags": [],
    "cell_id": "00006-a901cd6e-1adb-4f0d-b448-7c94db31e9a0",
    "deepnote_cell_type": "markdown"
   }
  }
 ],
 "nbformat": 4,
 "nbformat_minor": 2,
 "metadata": {
  "orig_nbformat": 2,
  "language_info": {
   "name": "python",
   "version": "3.9.6",
   "mimetype": "text/x-python",
   "codemirror_mode": {
    "name": "ipython",
    "version": 3
   },
   "pygments_lexer": "ipython3",
   "nbconvert_exporter": "python",
   "file_extension": ".py"
  },
  "kernelspec": {
   "name": "python3",
   "display_name": "Python 3.9.6 64-bit ('base': conda)"
  },
  "interpreter": {
   "hash": "98b0a9b7b4eaaa670588a142fd0a9b87eaafe866f1db4228be72b4211d12040f"
  }
 }
}
