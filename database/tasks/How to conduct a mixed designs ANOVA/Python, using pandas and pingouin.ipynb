{
  "cells": [
    {
      "cell_type": "markdown",
      "source": [
        "---\n",
        "author: Krtin Juneja (KJUNEJA@falcon.bentley.edu)\n",
        "---"
      ],
      "metadata": {
        "nteract": {
          "transient": {
            "deleting": false
          }
        }
      }
    },
    {
      "cell_type": "markdown",
      "source": [
        "We create the data for a hypothetical $2\\times2$ mixed design with the following attributes.\n",
        "\n",
        " * Between-subjects treatment factor:  Type of music played (classical vs. rock)\n",
        " * Within-subjects treatment factor:  Type of room (light vs. no light)\n",
        " * Outcome variable:  Heart rate of subject\n"
      ],
      "metadata": {
        "tags": [],
        "cell_id": "00000-d8d30912-41be-460b-991f-04278d6234db",
        "deepnote_cell_type": "markdown"
      }
    },
    {
      "cell_type": "code",
      "execution_count": 4,
      "source": [
        "import pandas as pd\n",
        "df = pd.DataFrame( {\n",
        "    'Subject'    : [1,2,3,4,5,6,7,8,9,10,1,2,3,4,5,6,7,8,9,10],\n",
        "    'Music'      : ['Classical','Rock','Classical','Rock','Classical','Rock','Classical',\n",
        "                    'Rock','Classical','Rock','Classical','Rock','Classical','Rock','Classical',\n",
        "                    'Rock','Classical','Rock','Classical','Rock'],\n",
        "    'Room Type'  : ['Light','Light','Light','Light','Light','Light','Light','Light','Light',\n",
        "                    'Light','No Light','No Light','No Light','No Light','No Light','No Light',\n",
        "                    'No Light','No Light','No Light','No Light'],\n",
        "    'Heart Rate' : [78,60,85,75,99,94,75,84,100,76,90,109,99,94,113,92,91,88,89,90]\n",
        "} )\n",
        "df['Subject'] = df['Subject'].astype( 'category' )\n",
        "df.head()"
      ],
      "outputs": [
        {
          "output_type": "execute_result",
          "data": {
            "text/plain": [
              "  Subject      Music Room Type  Heart Rate\n",
              "0       1  Classical     Light          78\n",
              "1       2       Rock     Light          60\n",
              "2       3  Classical     Light          85\n",
              "3       4       Rock     Light          75\n",
              "4       5  Classical     Light          99"
            ],
            "text/html": [
              "<div>\n",
              "<style scoped>\n",
              "    .dataframe tbody tr th:only-of-type {\n",
              "        vertical-align: middle;\n",
              "    }\n",
              "\n",
              "    .dataframe tbody tr th {\n",
              "        vertical-align: top;\n",
              "    }\n",
              "\n",
              "    .dataframe thead th {\n",
              "        text-align: right;\n",
              "    }\n",
              "</style>\n",
              "<table border=\"1\" class=\"dataframe\">\n",
              "  <thead>\n",
              "    <tr style=\"text-align: right;\">\n",
              "      <th></th>\n",
              "      <th>Subject</th>\n",
              "      <th>Music</th>\n",
              "      <th>Room Type</th>\n",
              "      <th>Heart Rate</th>\n",
              "    </tr>\n",
              "  </thead>\n",
              "  <tbody>\n",
              "    <tr>\n",
              "      <th>0</th>\n",
              "      <td>1</td>\n",
              "      <td>Classical</td>\n",
              "      <td>Light</td>\n",
              "      <td>78</td>\n",
              "    </tr>\n",
              "    <tr>\n",
              "      <th>1</th>\n",
              "      <td>2</td>\n",
              "      <td>Rock</td>\n",
              "      <td>Light</td>\n",
              "      <td>60</td>\n",
              "    </tr>\n",
              "    <tr>\n",
              "      <th>2</th>\n",
              "      <td>3</td>\n",
              "      <td>Classical</td>\n",
              "      <td>Light</td>\n",
              "      <td>85</td>\n",
              "    </tr>\n",
              "    <tr>\n",
              "      <th>3</th>\n",
              "      <td>4</td>\n",
              "      <td>Rock</td>\n",
              "      <td>Light</td>\n",
              "      <td>75</td>\n",
              "    </tr>\n",
              "    <tr>\n",
              "      <th>4</th>\n",
              "      <td>5</td>\n",
              "      <td>Classical</td>\n",
              "      <td>Light</td>\n",
              "      <td>99</td>\n",
              "    </tr>\n",
              "  </tbody>\n",
              "</table>\n",
              "</div>"
            ]
          },
          "metadata": {},
          "execution_count": 4
        }
      ],
      "metadata": {
        "tags": [],
        "cell_id": "00001-9025d3c2-901a-46ce-913f-1f403388f6d4",
        "deepnote_to_be_reexecuted": false,
        "source_hash": "9b5a0e54",
        "execution_start": 1626011844755,
        "execution_millis": 2,
        "deepnote_cell_type": "code"
      }
    },
    {
      "cell_type": "markdown",
      "source": [
        "We will use the `pingouin` statistics package to conduct a two-way mixed-design ANOVA. The parameters are as follows: \n",
        "\n",
        " 1. `dv`: name of the column containing the dependant variable\n",
        " 2. `within`: name of the column containing the within-group factor\n",
        " 3. `between`: name of the column containing the between-group factor\n",
        " 4. `data`: the pandas DataFrame containing all the data"
      ],
      "metadata": {
        "tags": [],
        "cell_id": "00004-1e449f82-2dc7-4f5a-aedf-56a5a425748a",
        "deepnote_cell_type": "markdown"
      }
    },
    {
      "cell_type": "code",
      "execution_count": 3,
      "source": [
        "import pingouin as pg\n",
        "pg.mixed_anova( dv='Heart Rate', within='Room Type', between='Music', subject='Subject', data=df )"
      ],
      "outputs": [
        {
          "output_type": "execute_result",
          "data": {
            "text/plain": [
              "        Source      SS  DF1  DF2      MS         F     p-unc       np2  eps\n",
              "0        Music  162.45    1    8  162.45  1.586813  0.243288  0.165520  NaN\n",
              "1    Room Type  832.05    1    8  832.05  6.416426  0.035088  0.445077  1.0\n",
              "2  Interaction   76.05    1    8   76.05  0.586466  0.465781  0.068301  NaN"
            ],
            "text/html": [
              "<div>\n",
              "<style scoped>\n",
              "    .dataframe tbody tr th:only-of-type {\n",
              "        vertical-align: middle;\n",
              "    }\n",
              "\n",
              "    .dataframe tbody tr th {\n",
              "        vertical-align: top;\n",
              "    }\n",
              "\n",
              "    .dataframe thead th {\n",
              "        text-align: right;\n",
              "    }\n",
              "</style>\n",
              "<table border=\"1\" class=\"dataframe\">\n",
              "  <thead>\n",
              "    <tr style=\"text-align: right;\">\n",
              "      <th></th>\n",
              "      <th>Source</th>\n",
              "      <th>SS</th>\n",
              "      <th>DF1</th>\n",
              "      <th>DF2</th>\n",
              "      <th>MS</th>\n",
              "      <th>F</th>\n",
              "      <th>p-unc</th>\n",
              "      <th>np2</th>\n",
              "      <th>eps</th>\n",
              "    </tr>\n",
              "  </thead>\n",
              "  <tbody>\n",
              "    <tr>\n",
              "      <th>0</th>\n",
              "      <td>Music</td>\n",
              "      <td>162.45</td>\n",
              "      <td>1</td>\n",
              "      <td>8</td>\n",
              "      <td>162.45</td>\n",
              "      <td>1.586813</td>\n",
              "      <td>0.243288</td>\n",
              "      <td>0.165520</td>\n",
              "      <td>NaN</td>\n",
              "    </tr>\n",
              "    <tr>\n",
              "      <th>1</th>\n",
              "      <td>Room Type</td>\n",
              "      <td>832.05</td>\n",
              "      <td>1</td>\n",
              "      <td>8</td>\n",
              "      <td>832.05</td>\n",
              "      <td>6.416426</td>\n",
              "      <td>0.035088</td>\n",
              "      <td>0.445077</td>\n",
              "      <td>1.0</td>\n",
              "    </tr>\n",
              "    <tr>\n",
              "      <th>2</th>\n",
              "      <td>Interaction</td>\n",
              "      <td>76.05</td>\n",
              "      <td>1</td>\n",
              "      <td>8</td>\n",
              "      <td>76.05</td>\n",
              "      <td>0.586466</td>\n",
              "      <td>0.465781</td>\n",
              "      <td>0.068301</td>\n",
              "      <td>NaN</td>\n",
              "    </tr>\n",
              "  </tbody>\n",
              "</table>\n",
              "</div>"
            ]
          },
          "metadata": {},
          "execution_count": 3
        }
      ],
      "metadata": {
        "tags": [],
        "cell_id": "00004-2c4a68f0-f241-4565-8fe6-d589cdefcc23",
        "deepnote_to_be_reexecuted": false,
        "source_hash": "436c0c5a",
        "execution_start": 1626012375248,
        "execution_millis": 1009,
        "deepnote_cell_type": "code"
      }
    },
    {
      "cell_type": "markdown",
      "source": [
        "The output informs us that, on average, the subjects that listened to classical music did not significantly differ ($p = 0.243288 > 0.05$) from those that listened to rock music. However, there is, on average, a significant difference ($p = 0.035088 < 0.05$) between each of the subject's heart rate when put in a room with or without light. Additionally, since the interaction term is not significant ($p = 0.465781 > 0.05$), we can use the additive (no interaction) model."
      ],
      "metadata": {
        "tags": [],
        "cell_id": "00005-9c51c01a-044e-4c1b-9666-afbbcca47961",
        "deepnote_cell_type": "markdown"
      }
    }
  ],
  "metadata": {
    "orig_nbformat": 2,
    "deepnote": {
      "is_reactive": false
    },
    "deepnote_notebook_id": "6348a5d8-8893-47ed-a75d-3639fa2c507f",
    "deepnote_execution_queue": [],
    "nteract": {
      "version": "0.28.0"
    },
    "language_info": {
      "name": "python",
      "version": "3.9.5",
      "mimetype": "text/x-python",
      "codemirror_mode": {
        "name": "ipython",
        "version": 3
      },
      "pygments_lexer": "ipython3",
      "nbconvert_exporter": "python",
      "file_extension": ".py"
    },
    "kernelspec": {
      "name": "python3",
      "display_name": "Python 3.9.5 64-bit ('base': conda)"
    },
    "interpreter": {
      "hash": "98b0a9b7b4eaaa670588a142fd0a9b87eaafe866f1db4228be72b4211d12040f"
    }
  },
  "nbformat": 4,
  "nbformat_minor": 2
}