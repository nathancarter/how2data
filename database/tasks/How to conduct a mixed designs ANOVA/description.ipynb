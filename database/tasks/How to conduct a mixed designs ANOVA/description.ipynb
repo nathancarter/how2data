{
  "cells": [
    {
      "cell_type": "markdown",
      "source": [
        "When you have a dataset that includes the responses of a mixed design test, where one factor is a within-subjects factor and the other is a between-subjects factor, and you wish check if there is a significant difference for both factors, this requires a Mixed Design ANOVA.  How can we conduct one?\n",
        "\n",
        "Related tasks:\n",
        "\n",
        " * How to do a one-way analysis of variance (ANOVA)\n",
        " * How to compare two linear models using ANOVA\n",
        " * How to conduct a repeated measures ANOVA\n",
        " * How to perform an analysis of covariance (ANCOVA)\n"
      ],
      "metadata": {
        "tags": [],
        "cell_id": "00000-fe30e2d9-0572-487b-a8e3-2508c7c15cf0",
        "deepnote_cell_type": "markdown"
      }
    }
  ],
  "metadata": {
    "orig_nbformat": 2,
    "deepnote": {
      "is_reactive": false
    },
    "deepnote_notebook_id": "51c54d5e-5ed5-4c74-b398-f4dc4e06a894",
    "deepnote_execution_queue": [],
    "nteract": {
      "version": "0.28.0"
    },
    "language_info": {
      "name": "python"
    }
  },
  "nbformat": 4,
  "nbformat_minor": 2
}