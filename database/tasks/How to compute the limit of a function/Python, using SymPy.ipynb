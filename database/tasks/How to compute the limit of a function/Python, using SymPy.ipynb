{
 "metadata": {
  "language_info": {
   "codemirror_mode": {
    "name": "ipython",
    "version": 3
   },
   "file_extension": ".py",
   "mimetype": "text/x-python",
   "name": "python",
   "nbconvert_exporter": "python",
   "pygments_lexer": "ipython3",
   "version": "3.9.2"
  },
  "orig_nbformat": 2,
  "kernelspec": {
   "name": "python392jvsc74a57bd098b0a9b7b4eaaa670588a142fd0a9b87eaafe866f1db4228be72b4211d12040f",
   "display_name": "Python 3.9.2 64-bit ('base': conda)"
  }
 },
 "nbformat": 4,
 "nbformat_minor": 2,
 "cells": [
  {
   "source": [
    "---\n",
    "author: Nathan Carter (ncarter@bentley.edu)\n",
    "---\n",
    "\n",
    "This answer assumes you have imported SymPy as follows."
   ],
   "cell_type": "markdown",
   "metadata": {}
  },
  {
   "cell_type": "code",
   "execution_count": 1,
   "metadata": {},
   "outputs": [],
   "source": [
    "from sympy import *                   # load all math functions\n",
    "init_printing( use_latex='mathjax' )  # use pretty math output"
   ]
  },
  {
   "source": [
    "Here we define a simple mathematical formula, $\\frac{x^2-x-2}{x-2}$,\n",
    "and compute the limit as $x$ approaches 2.  We use SymPy's built-in\n",
    "`limit` function, which takes the formula $f(x)$, the variable $x$,\n",
    "and the value $a$."
   ],
   "cell_type": "markdown",
   "metadata": {}
  },
  {
   "cell_type": "code",
   "execution_count": 2,
   "metadata": {},
   "outputs": [
    {
     "output_type": "execute_result",
     "data": {
      "text/plain": [
       "3"
      ],
      "text/latex": "$\\displaystyle 3$"
     },
     "metadata": {},
     "execution_count": 2
    }
   ],
   "source": [
    "var( 'x' )\n",
    "formula = ( x**2 - x - 2 ) / ( x - 2 )\n",
    "limit( formula, x, 2 )"
   ]
  },
  {
   "source": [
    "You can also compute one-sided limits.  For instance,\n",
    "the limit of $\\frac{\\vert x\\vert}{x}$ is $1$ as $x$ approaches 0 from the right,\n",
    "but it is $-1$ as $x$ approaches 0 from the left."
   ],
   "cell_type": "markdown",
   "metadata": {}
  },
  {
   "cell_type": "code",
   "execution_count": 3,
   "metadata": {},
   "outputs": [
    {
     "output_type": "execute_result",
     "data": {
      "text/plain": [
       "-1"
      ],
      "text/latex": "$\\displaystyle -1$"
     },
     "metadata": {},
     "execution_count": 3
    }
   ],
   "source": [
    "limit( abs(x)/x, x, 0, \"-\" )  # \"-\" means from the left"
   ]
  },
  {
   "cell_type": "code",
   "execution_count": 4,
   "metadata": {},
   "outputs": [
    {
     "output_type": "execute_result",
     "data": {
      "text/plain": [
       "1"
      ],
      "text/latex": "$\\displaystyle 1$"
     },
     "metadata": {},
     "execution_count": 4
    }
   ],
   "source": [
    "limit( abs(x)/x, x, 0, \"+\" )  # \"+\" means from the right"
   ]
  }
 ]
}