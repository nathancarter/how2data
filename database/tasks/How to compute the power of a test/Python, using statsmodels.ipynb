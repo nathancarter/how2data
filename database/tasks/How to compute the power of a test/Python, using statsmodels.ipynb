{
  "cells": [
    {
      "cell_type": "markdown",
      "source": [
        "---\n",
        "author: Krtin Juneja (KJUNEJA@falcon.bentley.edu)\n",
        "---"
      ],
      "metadata": {
        "nteract": {
          "transient": {
            "deleting": false
          }
        }
      }
    },
    {
      "cell_type": "markdown",
      "source": [
        "From `statsmodels`, we use the `solve_power` function in the `TTestIndPower` class.  That function  embodies a relationship among five variables; you provide any four of them and it will compute the fifth to satisfy the relationship.  Let's get started by importing the package and create a `TTestIndPower` object."
      ],
      "metadata": {
        "tags": [],
        "cell_id": "00000-55a3053f-a45e-494d-b676-c4b4acf046d1",
        "deepnote_cell_type": "markdown"
      }
    },
    {
      "cell_type": "code",
      "execution_count": 4,
      "source": [
        "from statsmodels.stats.power import TTestIndPower\n",
        "analysis = TTestIndPower()"
      ],
      "outputs": [],
      "metadata": {}
    },
    {
      "cell_type": "markdown",
      "source": [
        "For this example, let's say that:\n",
        "\n",
        " * You plan to create a balanced $4\\times2$ factorial experiment with 32 subjects.\n",
        " * You expect the effect size for the main effect of factor A to be medium (0.25 according to Cohen's 1988 text).\n",
        " * You want to know the expected power for the test of a main effect of factor A.\n",
        " * Your significance level is $\\alpha=0.05$.\n",
        "\n",
        "We proceed as follows."
      ],
      "metadata": {}
    },
    {
      "cell_type": "code",
      "execution_count": 5,
      "source": [
        "obs = 32       # number of subjects (or observations)\n",
        "effect = 0.25  # alpha, the effect size \n",
        "alpha = 0.05   # significance level\n",
        "ratio = 1      # the ratio of the number of observations in one sample to the other\n",
        "\n",
        "# We leave power unspecified, so that solve_power will compute it for us:\n",
        "analysis.solve_power( effect, power=None, nobs1=obs, ratio=0.8, alpha=alpha )"
      ],
      "outputs": [
        {
          "output_type": "execute_result",
          "data": {
            "text/plain": [
              "0.15266275254949752"
            ]
          },
          "metadata": {},
          "execution_count": 5
        }
      ],
      "metadata": {
        "tags": [],
        "cell_id": "00000-0a7c7d07-d1cf-4978-936a-f64bbd0ba718",
        "deepnote_to_be_reexecuted": false,
        "source_hash": "f5b7eecb",
        "execution_start": 1626448949559,
        "execution_millis": 775,
        "deepnote_cell_type": "code"
      }
    },
    {
      "cell_type": "markdown",
      "source": [
        "The power is 0.15 which means that the probability of rejecting the null hypothesis when in fact it is false OR the probability of avoiding a Type II error is 0.15."
      ],
      "metadata": {
        "tags": [],
        "cell_id": "00004-e82e4f24-5841-490d-97a9-d863676bc892",
        "deepnote_cell_type": "markdown"
      }
    }
  ],
  "metadata": {
    "orig_nbformat": 2,
    "deepnote": {
      "is_reactive": false
    },
    "deepnote_notebook_id": "3ce736fa-73d2-420f-b112-2284a9eee580",
    "deepnote_execution_queue": [],
    "nteract": {
      "version": "0.28.0"
    },
    "language_info": {
      "name": "python",
      "version": "3.9.5",
      "mimetype": "text/x-python",
      "codemirror_mode": {
        "name": "ipython",
        "version": 3
      },
      "pygments_lexer": "ipython3",
      "nbconvert_exporter": "python",
      "file_extension": ".py"
    },
    "kernelspec": {
      "name": "python3",
      "display_name": "Python 3.9.5 64-bit ('base': conda)"
    },
    "interpreter": {
      "hash": "98b0a9b7b4eaaa670588a142fd0a9b87eaafe866f1db4228be72b4211d12040f"
    }
  },
  "nbformat": 4,
  "nbformat_minor": 2
}