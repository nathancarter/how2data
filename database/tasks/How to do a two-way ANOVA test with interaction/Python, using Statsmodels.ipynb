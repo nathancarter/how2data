{
 "cells": [
  {
   "cell_type": "markdown",
   "source": [
    "---\n",
    "author: Elizabeth Czarniak (CZARNIA_ELIZ@bentley.edu)\n",
    "---"
   ],
   "metadata": {}
  },
  {
   "cell_type": "markdown",
   "source": [
    "We're going to use R's `esoph` dataset, about esophageal cancer cases.\n",
    "We will focus on the impact of age group (`agegp`) and alcohol consumption (`alcgp`)\n",
    "on the number of cases of the cancer (`ncases`).  We ask, does the interaction\n",
    "between these two factors affect the number of cases?\n",
    "\n",
    "First, we load in the dataset.  (See how to quickly load some sample data.)"
   ],
   "metadata": {
    "tags": [],
    "cell_id": "00004-96b457a8-abbd-481f-a66d-3f5a7d7eeaa0",
    "deepnote_cell_type": "markdown"
   }
  },
  {
   "cell_type": "code",
   "execution_count": 4,
   "source": [
    "from rdatasets import data\n",
    "data = data('esoph') \n",
    "data.head()"
   ],
   "outputs": [
    {
     "output_type": "execute_result",
     "data": {
      "text/html": [
       "<div>\n",
       "<style scoped>\n",
       "    .dataframe tbody tr th:only-of-type {\n",
       "        vertical-align: middle;\n",
       "    }\n",
       "\n",
       "    .dataframe tbody tr th {\n",
       "        vertical-align: top;\n",
       "    }\n",
       "\n",
       "    .dataframe thead th {\n",
       "        text-align: right;\n",
       "    }\n",
       "</style>\n",
       "<table border=\"1\" class=\"dataframe\">\n",
       "  <thead>\n",
       "    <tr style=\"text-align: right;\">\n",
       "      <th></th>\n",
       "      <th>agegp</th>\n",
       "      <th>alcgp</th>\n",
       "      <th>tobgp</th>\n",
       "      <th>ncases</th>\n",
       "      <th>ncontrols</th>\n",
       "    </tr>\n",
       "  </thead>\n",
       "  <tbody>\n",
       "    <tr>\n",
       "      <th>0</th>\n",
       "      <td>25-34</td>\n",
       "      <td>0-39g/day</td>\n",
       "      <td>0-9g/day</td>\n",
       "      <td>0</td>\n",
       "      <td>40</td>\n",
       "    </tr>\n",
       "    <tr>\n",
       "      <th>1</th>\n",
       "      <td>25-34</td>\n",
       "      <td>0-39g/day</td>\n",
       "      <td>10-19</td>\n",
       "      <td>0</td>\n",
       "      <td>10</td>\n",
       "    </tr>\n",
       "    <tr>\n",
       "      <th>2</th>\n",
       "      <td>25-34</td>\n",
       "      <td>0-39g/day</td>\n",
       "      <td>20-29</td>\n",
       "      <td>0</td>\n",
       "      <td>6</td>\n",
       "    </tr>\n",
       "    <tr>\n",
       "      <th>3</th>\n",
       "      <td>25-34</td>\n",
       "      <td>0-39g/day</td>\n",
       "      <td>30+</td>\n",
       "      <td>0</td>\n",
       "      <td>5</td>\n",
       "    </tr>\n",
       "    <tr>\n",
       "      <th>4</th>\n",
       "      <td>25-34</td>\n",
       "      <td>40-79</td>\n",
       "      <td>0-9g/day</td>\n",
       "      <td>0</td>\n",
       "      <td>27</td>\n",
       "    </tr>\n",
       "  </tbody>\n",
       "</table>\n",
       "</div>"
      ],
      "text/plain": [
       "   agegp      alcgp     tobgp  ncases  ncontrols\n",
       "0  25-34  0-39g/day  0-9g/day       0         40\n",
       "1  25-34  0-39g/day     10-19       0         10\n",
       "2  25-34  0-39g/day     20-29       0          6\n",
       "3  25-34  0-39g/day       30+       0          5\n",
       "4  25-34      40-79  0-9g/day       0         27"
      ]
     },
     "metadata": {},
     "execution_count": 4
    }
   ],
   "metadata": {
    "tags": [],
    "cell_id": "00000-8dcb6614-0c9e-4b2b-a15c-f01fd2d76e45",
    "deepnote_cell_type": "code"
   }
  },
  {
   "cell_type": "markdown",
   "source": [
    "Next, we create a model that includes the response variable we care about,\n",
    "plus the two categorical variables we will be testing, as well as their\n",
    "interaction term."
   ],
   "metadata": {}
  },
  {
   "cell_type": "code",
   "execution_count": 5,
   "source": [
    "import statsmodels.api as sm\n",
    "from statsmodels.formula.api import ols\n",
    "# C(...) means the variable is categorical, and : means multiplication.\n",
    "model = ols('ncases ~ C(alcgp) + C(agegp) + C(alcgp):C(agegp)', data = data).fit()"
   ],
   "outputs": [],
   "metadata": {
    "tags": [],
    "cell_id": "00007-c81ae175-b17c-4fd0-ada5-6f866b025508",
    "deepnote_cell_type": "code"
   }
  },
  {
   "cell_type": "markdown",
   "source": [
    "A two-way ANOVA with interaction tests the following three null hypotheses.\n",
    "\n",
    " 1. There is no interaction between the two categorical variables.\n",
    "    (If we reject this we do not test the other two hypotheses.)\n",
    " 2. The mean response is the same across all groups of the first factor.\n",
    "    (In our example, that says the mean `ncases` is the same for all age groups.)\n",
    " 3. The mean response is the same across all groups of the second factor.\n",
    "    (In our example, that says the mean `ncases` is the same for all alcohol consumption groups.)\n",
    "\n",
    "We choose a value, $0 \\le \\alpha \\le 1$, as the Type I Error Rate. Let's let $\\alpha=0.05$ here."
   ],
   "metadata": {
    "tags": [],
    "cell_id": "00006-0c46dbdd-dd79-4238-bd7c-5ca86f462d4d",
    "deepnote_cell_type": "markdown"
   }
  },
  {
   "cell_type": "code",
   "execution_count": 6,
   "source": [
    "sm.stats.anova_lm(model, typ=2)"
   ],
   "outputs": [
    {
     "output_type": "execute_result",
     "data": {
      "text/html": [
       "<div>\n",
       "<style scoped>\n",
       "    .dataframe tbody tr th:only-of-type {\n",
       "        vertical-align: middle;\n",
       "    }\n",
       "\n",
       "    .dataframe tbody tr th {\n",
       "        vertical-align: top;\n",
       "    }\n",
       "\n",
       "    .dataframe thead th {\n",
       "        text-align: right;\n",
       "    }\n",
       "</style>\n",
       "<table border=\"1\" class=\"dataframe\">\n",
       "  <thead>\n",
       "    <tr style=\"text-align: right;\">\n",
       "      <th></th>\n",
       "      <th>sum_sq</th>\n",
       "      <th>df</th>\n",
       "      <th>F</th>\n",
       "      <th>PR(&gt;F)</th>\n",
       "    </tr>\n",
       "  </thead>\n",
       "  <tbody>\n",
       "    <tr>\n",
       "      <th>C(alcgp)</th>\n",
       "      <td>52.695287</td>\n",
       "      <td>3.0</td>\n",
       "      <td>4.723387</td>\n",
       "      <td>4.862447e-03</td>\n",
       "    </tr>\n",
       "    <tr>\n",
       "      <th>C(agegp)</th>\n",
       "      <td>267.026108</td>\n",
       "      <td>5.0</td>\n",
       "      <td>14.361068</td>\n",
       "      <td>2.021935e-09</td>\n",
       "    </tr>\n",
       "    <tr>\n",
       "      <th>C(alcgp):C(agegp)</th>\n",
       "      <td>107.557743</td>\n",
       "      <td>15.0</td>\n",
       "      <td>1.928206</td>\n",
       "      <td>3.632710e-02</td>\n",
       "    </tr>\n",
       "    <tr>\n",
       "      <th>Residual</th>\n",
       "      <td>238.000000</td>\n",
       "      <td>64.0</td>\n",
       "      <td>NaN</td>\n",
       "      <td>NaN</td>\n",
       "    </tr>\n",
       "  </tbody>\n",
       "</table>\n",
       "</div>"
      ],
      "text/plain": [
       "                       sum_sq    df          F        PR(>F)\n",
       "C(alcgp)            52.695287   3.0   4.723387  4.862447e-03\n",
       "C(agegp)           267.026108   5.0  14.361068  2.021935e-09\n",
       "C(alcgp):C(agegp)  107.557743  15.0   1.928206  3.632710e-02\n",
       "Residual           238.000000  64.0        NaN           NaN"
      ]
     },
     "metadata": {},
     "execution_count": 6
    }
   ],
   "metadata": {}
  },
  {
   "cell_type": "markdown",
   "source": [
    "The $p$-value for the interaction of age group and alcohol consumption is in\n",
    "the third row, final column, $3.63271\\times10^{-2}$.  It is less than $\\alpha$,\n",
    "so we can reject the null hypothesis that age group and alcohol consumption\n",
    "do not interact with regards to the number of esophageal cancer cases.  That is,\n",
    "we have reason to believe that their interaction does effect the outcome.\n",
    "\n",
    "As we stated when we listed the hypotheses to test, since we rejected the first\n",
    "null hypothesis, we will not test the other two.  In the case where you failed\n",
    "to reject the first null hypothesis, you could consider each $p$-value in the\n",
    "first two rows of the above table, one for each of the two factors."
   ],
   "metadata": {
    "tags": [],
    "cell_id": "00008-b62c7e5c-88e2-4ec7-8170-ece5e644af98",
    "deepnote_cell_type": "markdown"
   }
  }
 ],
 "nbformat": 4,
 "nbformat_minor": 2,
 "metadata": {
  "orig_nbformat": 2,
  "language_info": {
   "name": "python",
   "version": "3.9.6",
   "mimetype": "text/x-python",
   "codemirror_mode": {
    "name": "ipython",
    "version": 3
   },
   "pygments_lexer": "ipython3",
   "nbconvert_exporter": "python",
   "file_extension": ".py"
  },
  "kernelspec": {
   "name": "python3",
   "display_name": "Python 3.9.6 64-bit ('base': conda)"
  },
  "interpreter": {
   "hash": "98b0a9b7b4eaaa670588a142fd0a9b87eaafe866f1db4228be72b4211d12040f"
  }
 }
}