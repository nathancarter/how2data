{
 "cells": [
  {
   "cell_type": "markdown",
   "metadata": {},
   "source": [
    "---\n",
    "author: Elizabeth Czarniak (CZARNIA_ELIZ@bentley.edu)\n",
    "---"
   ]
  },
  {
   "cell_type": "markdown",
   "metadata": {
    "cell_id": "00004-a1b997e5-15f8-436a-9fac-6c72c97121f1",
    "deepnote_cell_type": "markdown",
    "tags": []
   },
   "source": [
    "We choose a value, $0 \\le \\alpha \\le 1$, as the Type I Error rate, and in this case\n",
    "we will set it to be 0.05.\n",
    "\n",
    "We're going to use fake fata here, but you can replace our fake data with your real data below.\n",
    "Because the data are matched pairs, the samples must be the same size."
   ]
  },
  {
   "cell_type": "code",
   "execution_count": 15,
   "metadata": {
    "cell_id": "00005-b8d1e296-b198-49c2-9733-041acdc56903",
    "deepnote_cell_type": "code",
    "deepnote_to_be_reexecuted": false,
    "execution_millis": 1181,
    "execution_start": 1629328708353,
    "source_hash": "dbb97d93",
    "tags": []
   },
   "outputs": [],
   "source": [
    "# Replace the following example data with your real data\n",
    "sample1 = [15, 10,  7, 22, 17, 14]\n",
    "sample2 = [ 9,  1, 11, 13,  3,  6]"
   ]
  },
  {
   "cell_type": "markdown",
   "metadata": {
    "cell_id": "00006-c2f4f514-d93c-4243-a028-9ca8df1432df",
    "deepnote_cell_type": "text-cell-h3",
    "is_collapsed": false,
    "tags": []
   },
   "source": [
    "### Two-tailed test\n",
    "\n",
    "In a two-sided hypothesis test, the null hypothesis states that the mean\n",
    "difference is equal to 0 (or some other hypothesized value), $H_0: \\mu_D = 0$."
   ]
  },
  {
   "cell_type": "code",
   "execution_count": 16,
   "metadata": {
    "cell_id": "00000-642f7edb-d647-4d81-bf5a-237d3b7032a6",
    "deepnote_cell_type": "code",
    "deepnote_to_be_reexecuted": false,
    "execution_millis": 42,
    "execution_start": 1629328716858,
    "source_hash": "7375b443",
    "tags": []
   },
   "outputs": [
    {
     "data": {
      "text/plain": [
       "Ttest_relResult(statistic=2.8577380332470415, pvalue=0.03550038112896236)"
      ]
     },
     "execution_count": 16,
     "metadata": {},
     "output_type": "execute_result"
    }
   ],
   "source": [
    "from scipy import stats\n",
    "stats.ttest_rel(sample1, sample2, alternative = \"two-sided\")"
   ]
  },
  {
   "cell_type": "markdown",
   "metadata": {
    "cell_id": "00006-f4026ff5-969b-4c42-a839-ac8d7d835afe",
    "deepnote_cell_type": "markdown",
    "tags": []
   },
   "source": [
    "Our $p$-value, 0.0355, is smaller than $\\alpha$, so we have sufficient evidence to reject the null hypothesis and conclude that the mean difference between the two samples is significantly different from zero. \n",
    "\n",
    "Note that the function above specifically tests whether the mean of\n",
    "$x_i-x'_i$ is zero.  If we want instead to test whether it is some other value\n",
    "$d\\neq0$, then that's equivalent to testing whether the mean of $(x_i-d)-x'_i$\n",
    "is zero.  We could do so with the code below, which uses an example value of $d$.\n",
    "The null hypothesis is now $H_0: \\mu_D=d$."
   ]
  },
  {
   "cell_type": "code",
   "execution_count": 17,
   "metadata": {
    "cell_id": "00000-642f7edb-d647-4d81-bf5a-237d3b7032a6",
    "deepnote_cell_type": "code",
    "deepnote_to_be_reexecuted": false,
    "execution_millis": 42,
    "execution_start": 1629328716858,
    "source_hash": "7375b443",
    "tags": []
   },
   "outputs": [
    {
     "data": {
      "text/plain": [
       "Ttest_relResult(statistic=0.4082482904638631, pvalue=0.6999865427788738)"
      ]
     },
     "execution_count": 17,
     "metadata": {},
     "output_type": "execute_result"
    }
   ],
   "source": [
    "d = 6  # as an example\n",
    "stats.ttest_rel([ x - d for x in sample1 ], sample2, alternative = \"two-sided\")"
   ]
  },
  {
   "cell_type": "markdown",
   "metadata": {
    "cell_id": "00010-3a0afe44-07b3-4b76-878e-dcb70a7bb2e0",
    "deepnote_cell_type": "text-cell-h3",
    "is_collapsed": false,
    "tags": []
   },
   "source": [
    "The above $p$-value is greater than $\\alpha=0.05$, so we could not conclude that\n",
    "the mean difference is significantly different from our chosen $d=6$.\n",
    "\n",
    "### Right-tailed test\n",
    "\n",
    "If instead we want to test whether the mean difference is less than or equal to\n",
    "zero, $H_0: \\mu_D\\le0$, we can use a right-tailed test, as follows."
   ]
  },
  {
   "cell_type": "code",
   "execution_count": 18,
   "metadata": {
    "cell_id": "00008-d1fb3fec-62e0-47cd-9c8a-4724ad6e98b1",
    "deepnote_cell_type": "code",
    "deepnote_to_be_reexecuted": false,
    "execution_millis": 3,
    "execution_start": 1628687303293,
    "source_hash": "c93d2e9e",
    "tags": []
   },
   "outputs": [
    {
     "data": {
      "text/plain": [
       "Ttest_relResult(statistic=2.8577380332470415, pvalue=0.01775019056448118)"
      ]
     },
     "execution_count": 18,
     "metadata": {},
     "output_type": "execute_result"
    }
   ],
   "source": [
    "stats.ttest_rel(sample1, sample2, alternative = \"greater\")"
   ]
  },
  {
   "cell_type": "markdown",
   "metadata": {
    "cell_id": "00009-0d8ccac4-9e0b-46b8-b4e1-ce98b7b6beea",
    "deepnote_cell_type": "markdown",
    "tags": []
   },
   "source": [
    "Our $p$-value, 0.01775, is smaller than $\\alpha$, so we have sufficient evidence\n",
    "to reject the null hypothesis and conclude that the mean difference between the\n",
    "two samples is significantly greater than zero. \n",
    "\n",
    "A similar change could be made to the code above to test $H_0:\\mu_D\\le d$,\n",
    "as in the example code further above that uses $d=6$.\n",
    "\n",
    "### Left-tailed test\n",
    "\n",
    "If instead we want to test whether the mean difference is greater than or equal to\n",
    "zero, $H_0: \\mu_D\\ge 0$, we can use a right-tailed test, as follows."
   ]
  },
  {
   "cell_type": "code",
   "execution_count": 20,
   "metadata": {
    "cell_id": "00010-8a5f6b97-3d38-4399-a032-bd2b4e69b95f",
    "deepnote_cell_type": "code",
    "deepnote_to_be_reexecuted": false,
    "execution_millis": 10,
    "execution_start": 1628687325775,
    "source_hash": "6b3a0265",
    "tags": []
   },
   "outputs": [
    {
     "data": {
      "text/plain": [
       "Ttest_relResult(statistic=2.8577380332470415, pvalue=0.9822498094355188)"
      ]
     },
     "execution_count": 20,
     "metadata": {},
     "output_type": "execute_result"
    }
   ],
   "source": [
    "stats.ttest_rel(sample1, sample2, alternative = \"less\")"
   ]
  },
  {
   "cell_type": "markdown",
   "metadata": {
    "cell_id": "00008-854a78c5-7078-48aa-a092-253a8637a8b8",
    "deepnote_cell_type": "markdown",
    "tags": []
   },
   "source": [
    "Our $p$-value, 0.98225, is larger than $\\alpha$, so we do not have sufficient evidence\n",
    "to reject the null hypothesis; we must continue to assume that the mean difference between the\n",
    "two samples is greater than or equal to zero.\n",
    "\n",
    "A similar change could be made to the code above to test $H_0:\\mu_D\\ge d$,\n",
    "as in the example code further above that uses $d=6$."
   ]
  }
 ],
 "metadata": {
  "interpreter": {
   "hash": "d4d1e4263499bec80672ea0156c357c1ee493ec2b1c70f0acce89fc37c4a6abe"
  },
  "kernelspec": {
   "display_name": "Python 3.9.6 64-bit ('base': conda)",
   "name": "python3"
  },
  "language_info": {
   "codemirror_mode": {
    "name": "ipython",
    "version": 3
   },
   "file_extension": ".py",
   "mimetype": "text/x-python",
   "name": "python",
   "nbconvert_exporter": "python",
   "pygments_lexer": "ipython3",
   "version": "3.9.7"
  },
  "orig_nbformat": 2
 },
 "nbformat": 4,
 "nbformat_minor": 2
}
