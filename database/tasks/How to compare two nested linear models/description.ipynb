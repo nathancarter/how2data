{
  "cells": [
    {
      "cell_type": "markdown",
      "source": [
        "Model $A$ is said to be \"nested\" in model $B$ if the predictors included in $A$ are a subset of those included in $B$.  In such a situation, how can we determine if the larger model (in this case $B$) is significantly better than the smaller (reduced) model?\n",
        "\n",
        "Or we might ask, how do we perform an Extra Sums of Squares test to compare nested linear models?\n",
        "\n",
        "Related tasks:\n",
        "\n",
        " * How to do a one-way analysis of variance (ANOVA)\n",
        " * How to conduct a mixed designs ANOVA\n",
        " * How to conduct a repeated measures ANOVA\n",
        " * How to perform an analysis of covariance (ANCOVA)\n"
      ],
      "metadata": {
        "tags": [],
        "cell_id": "00000-012dc3d9-7eeb-41f7-9d59-ed2c8b9abc8e",
        "deepnote_cell_type": "code"
      }
    }
  ],
  "metadata": {
    "orig_nbformat": 2,
    "deepnote": {
      "is_reactive": false
    },
    "deepnote_notebook_id": "18dd54b1-f815-4938-a130-ffcbfad26ad7",
    "deepnote_execution_queue": [],
    "nteract": {
      "version": "0.28.0"
    },
    "language_info": {
      "name": "python"
    }
  },
  "nbformat": 4,
  "nbformat_minor": 2
}