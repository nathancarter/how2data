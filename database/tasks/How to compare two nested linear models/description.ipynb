{
  "cells": [
    {
      "cell_type": "markdown",
      "metadata": {
        "cell_id": "00000-012dc3d9-7eeb-41f7-9d59-ed2c8b9abc8e",
        "deepnote_cell_type": "code",
        "tags": []
      },
      "source": [
        "Model $A$ is said to be \"nested\" in model $B$ if the predictors included in $A$ are a subset of those included in $B$.  In such a situation, how can we determine if the larger model (in this case $B$) is significantly better than the smaller (reduced) model?  We can use an Extra Sums of Squares test, also called a partial $F$-test, to compare two nested linear.\n",
        "\n",
        "This technique will also help us with another question.  If we have a multivarate linear model,\n",
        "\n",
        "$$\\hat{y}=\\beta_0 + \\beta_1x_1 + \\beta_2x_2 + \\cdots + \\beta_kx_k,$$\n",
        "\n",
        "how can we test the influence of only some of the coefficients?  If we remove some of the coefficients,\n",
        "we have a smaller model nested in the larger one, so the question is the same.\n",
        "\n",
        "Related tasks:\n",
        "\n",
        " * How to do a one-way analysis of variance (ANOVA)\n",
        " * How to conduct a mixed designs ANOVA\n",
        " * How to conduct a repeated measures ANOVA\n",
        " * How to perform an analysis of covariance (ANCOVA)\n"
      ]
    }
  ],
  "metadata": {
    "deepnote": {
      "is_reactive": false
    },
    "deepnote_execution_queue": [],
    "deepnote_notebook_id": "18dd54b1-f815-4938-a130-ffcbfad26ad7",
    "language_info": {
      "name": "python"
    },
    "nteract": {
      "version": "0.28.0"
    },
    "orig_nbformat": 2
  },
  "nbformat": 4,
  "nbformat_minor": 2
}
