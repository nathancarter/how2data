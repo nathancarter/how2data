{
  "cells": [
    {
      "cell_type": "markdown",
      "source": [
        "---\n",
        "author: Krtin Juneja (KJUNEJA@falcon.bentley.edu)\n",
        "---"
      ],
      "metadata": {
        "nteract": {
          "transient": {
            "deleting": false
          }
        }
      }
    },
    {
      "cell_type": "markdown",
      "source": [
        "The solution below uses an example dataset about car design and fuel consumption from a 1974 Motor Trend magazine.  (See how to quickly load some sample data.)"
      ],
      "metadata": {
        "tags": [],
        "cell_id": "00000-5b346ca8-49d6-4a71-9677-d7d33daa1f3a",
        "deepnote_cell_type": "markdown"
      }
    },
    {
      "cell_type": "code",
      "execution_count": 2,
      "source": [
        "from rdatasets import data\n",
        "df = data('mtcars')"
      ],
      "outputs": [],
      "metadata": {
        "tags": [],
        "cell_id": "00001-68125da8-6d61-472b-ab07-56d184b66f81",
        "deepnote_to_be_reexecuted": false,
        "source_hash": "425e8b9c",
        "execution_start": 1625401859415,
        "execution_millis": 12,
        "deepnote_cell_type": "code"
      }
    },
    {
      "cell_type": "markdown",
      "source": [
        "Consider a model using number of cylinders (cyl) and weight of car (wt) to predict its fuel efficiency (mpg). We create this model and perform an ANOVA to see if the predictors are significant. We use the Ordinary Least Squares module from `statsmodels`."
      ],
      "metadata": {
        "tags": [],
        "cell_id": "00002-4d678775-c58c-465f-97a7-3900b8901036",
        "deepnote_cell_type": "markdown"
      }
    },
    {
      "cell_type": "code",
      "execution_count": 3,
      "source": [
        "from statsmodels.formula.api import ols\n",
        "add_model = ols('mpg ~ cyl + wt', data = df).fit()\n",
        "\n",
        "import statsmodels.api as sm\n",
        "sm.stats.anova_lm(add_model, typ= 1)"
      ],
      "outputs": [
        {
          "output_type": "execute_result",
          "data": {
            "text/plain": [
              "            df      sum_sq     mean_sq           F        PR(>F)\n",
              "cyl        1.0  817.712952  817.712952  124.043687  5.424327e-12\n",
              "wt         1.0  117.162269  117.162269   17.773034  2.220200e-04\n",
              "Residual  29.0  191.171966    6.592137         NaN           NaN"
            ],
            "text/html": [
              "<div>\n",
              "<style scoped>\n",
              "    .dataframe tbody tr th:only-of-type {\n",
              "        vertical-align: middle;\n",
              "    }\n",
              "\n",
              "    .dataframe tbody tr th {\n",
              "        vertical-align: top;\n",
              "    }\n",
              "\n",
              "    .dataframe thead th {\n",
              "        text-align: right;\n",
              "    }\n",
              "</style>\n",
              "<table border=\"1\" class=\"dataframe\">\n",
              "  <thead>\n",
              "    <tr style=\"text-align: right;\">\n",
              "      <th></th>\n",
              "      <th>df</th>\n",
              "      <th>sum_sq</th>\n",
              "      <th>mean_sq</th>\n",
              "      <th>F</th>\n",
              "      <th>PR(&gt;F)</th>\n",
              "    </tr>\n",
              "  </thead>\n",
              "  <tbody>\n",
              "    <tr>\n",
              "      <th>cyl</th>\n",
              "      <td>1.0</td>\n",
              "      <td>817.712952</td>\n",
              "      <td>817.712952</td>\n",
              "      <td>124.043687</td>\n",
              "      <td>5.424327e-12</td>\n",
              "    </tr>\n",
              "    <tr>\n",
              "      <th>wt</th>\n",
              "      <td>1.0</td>\n",
              "      <td>117.162269</td>\n",
              "      <td>117.162269</td>\n",
              "      <td>17.773034</td>\n",
              "      <td>2.220200e-04</td>\n",
              "    </tr>\n",
              "    <tr>\n",
              "      <th>Residual</th>\n",
              "      <td>29.0</td>\n",
              "      <td>191.171966</td>\n",
              "      <td>6.592137</td>\n",
              "      <td>NaN</td>\n",
              "      <td>NaN</td>\n",
              "    </tr>\n",
              "  </tbody>\n",
              "</table>\n",
              "</div>"
            ]
          },
          "metadata": {},
          "execution_count": 3
        }
      ],
      "metadata": {
        "tags": [],
        "cell_id": "00002-8262c25c-c056-4098-a082-fb8d8e8930a0",
        "deepnote_to_be_reexecuted": false,
        "source_hash": "a5182f6f",
        "execution_start": 1625401859463,
        "execution_millis": 1081,
        "deepnote_cell_type": "code"
      }
    },
    {
      "cell_type": "markdown",
      "source": [
        "In the final column of output we see that all numbers are below $0.05$, which suggests that both predictors are significant.  But do the two predictors have an interaction effect?  Let's create a model containing the interaction term."
      ],
      "metadata": {
        "tags": [],
        "cell_id": "00004-8955fb0b-73c2-4e5b-aa6b-a0d0109be1fc",
        "deepnote_cell_type": "markdown"
      }
    },
    {
      "cell_type": "code",
      "execution_count": 5,
      "source": [
        "int_model = ols('mpg ~ cyl*wt', data = df).fit()\n",
        "sm.stats.anova_lm(int_model, typ= 1)"
      ],
      "outputs": [
        {
          "output_type": "execute_result",
          "data": {
            "text/plain": [
              "            df      sum_sq     mean_sq           F        PR(>F)\n",
              "cyl        1.0  817.712952  817.712952  145.856269  1.280635e-12\n",
              "wt         1.0  117.162269  117.162269   20.898350  8.942713e-05\n",
              "cyl:wt     1.0   34.195767   34.195767    6.099533  1.988242e-02\n",
              "Residual  28.0  156.976199    5.606293         NaN           NaN"
            ],
            "text/html": [
              "<div>\n",
              "<style scoped>\n",
              "    .dataframe tbody tr th:only-of-type {\n",
              "        vertical-align: middle;\n",
              "    }\n",
              "\n",
              "    .dataframe tbody tr th {\n",
              "        vertical-align: top;\n",
              "    }\n",
              "\n",
              "    .dataframe thead th {\n",
              "        text-align: right;\n",
              "    }\n",
              "</style>\n",
              "<table border=\"1\" class=\"dataframe\">\n",
              "  <thead>\n",
              "    <tr style=\"text-align: right;\">\n",
              "      <th></th>\n",
              "      <th>df</th>\n",
              "      <th>sum_sq</th>\n",
              "      <th>mean_sq</th>\n",
              "      <th>F</th>\n",
              "      <th>PR(&gt;F)</th>\n",
              "    </tr>\n",
              "  </thead>\n",
              "  <tbody>\n",
              "    <tr>\n",
              "      <th>cyl</th>\n",
              "      <td>1.0</td>\n",
              "      <td>817.712952</td>\n",
              "      <td>817.712952</td>\n",
              "      <td>145.856269</td>\n",
              "      <td>1.280635e-12</td>\n",
              "    </tr>\n",
              "    <tr>\n",
              "      <th>wt</th>\n",
              "      <td>1.0</td>\n",
              "      <td>117.162269</td>\n",
              "      <td>117.162269</td>\n",
              "      <td>20.898350</td>\n",
              "      <td>8.942713e-05</td>\n",
              "    </tr>\n",
              "    <tr>\n",
              "      <th>cyl:wt</th>\n",
              "      <td>1.0</td>\n",
              "      <td>34.195767</td>\n",
              "      <td>34.195767</td>\n",
              "      <td>6.099533</td>\n",
              "      <td>1.988242e-02</td>\n",
              "    </tr>\n",
              "    <tr>\n",
              "      <th>Residual</th>\n",
              "      <td>28.0</td>\n",
              "      <td>156.976199</td>\n",
              "      <td>5.606293</td>\n",
              "      <td>NaN</td>\n",
              "      <td>NaN</td>\n",
              "    </tr>\n",
              "  </tbody>\n",
              "</table>\n",
              "</div>"
            ]
          },
          "metadata": {},
          "execution_count": 5
        }
      ],
      "metadata": {
        "tags": [],
        "cell_id": "00003-f23dc1fa-2408-4703-9921-8ac8c56416c6",
        "deepnote_to_be_reexecuted": false,
        "source_hash": "154f5d8e",
        "execution_start": 1625401860598,
        "execution_millis": 49,
        "deepnote_cell_type": "code"
      }
    },
    {
      "cell_type": "markdown",
      "source": [
        "As seen in the final column of output, there is a significant interaction between the two predictors (bottom number being below $0.05$). To check which model is better, we can conduct an ANOVA comparing the two models. We use the `anova_lm` function from `statsmodels`."
      ],
      "metadata": {
        "tags": [],
        "cell_id": "00006-fe59f2b3-9479-49da-b481-3fc694d1b92e",
        "deepnote_cell_type": "markdown"
      }
    },
    {
      "cell_type": "code",
      "execution_count": 6,
      "source": [
        "from statsmodels.stats.anova import anova_lm\n",
        "anova_lm(add_model, int_model)"
      ],
      "outputs": [
        {
          "output_type": "execute_result",
          "data": {
            "text/plain": [
              "   df_resid         ssr  df_diff    ss_diff         F    Pr(>F)\n",
              "0      29.0  191.171966      0.0        NaN       NaN       NaN\n",
              "1      28.0  156.976199      1.0  34.195767  6.099533  0.019882"
            ],
            "text/html": [
              "<div>\n",
              "<style scoped>\n",
              "    .dataframe tbody tr th:only-of-type {\n",
              "        vertical-align: middle;\n",
              "    }\n",
              "\n",
              "    .dataframe tbody tr th {\n",
              "        vertical-align: top;\n",
              "    }\n",
              "\n",
              "    .dataframe thead th {\n",
              "        text-align: right;\n",
              "    }\n",
              "</style>\n",
              "<table border=\"1\" class=\"dataframe\">\n",
              "  <thead>\n",
              "    <tr style=\"text-align: right;\">\n",
              "      <th></th>\n",
              "      <th>df_resid</th>\n",
              "      <th>ssr</th>\n",
              "      <th>df_diff</th>\n",
              "      <th>ss_diff</th>\n",
              "      <th>F</th>\n",
              "      <th>Pr(&gt;F)</th>\n",
              "    </tr>\n",
              "  </thead>\n",
              "  <tbody>\n",
              "    <tr>\n",
              "      <th>0</th>\n",
              "      <td>29.0</td>\n",
              "      <td>191.171966</td>\n",
              "      <td>0.0</td>\n",
              "      <td>NaN</td>\n",
              "      <td>NaN</td>\n",
              "      <td>NaN</td>\n",
              "    </tr>\n",
              "    <tr>\n",
              "      <th>1</th>\n",
              "      <td>28.0</td>\n",
              "      <td>156.976199</td>\n",
              "      <td>1.0</td>\n",
              "      <td>34.195767</td>\n",
              "      <td>6.099533</td>\n",
              "      <td>0.019882</td>\n",
              "    </tr>\n",
              "  </tbody>\n",
              "</table>\n",
              "</div>"
            ]
          },
          "metadata": {},
          "execution_count": 6
        }
      ],
      "metadata": {
        "tags": [],
        "cell_id": "00004-16b83079-9165-4146-a2a3-287d6177ffda",
        "deepnote_to_be_reexecuted": false,
        "source_hash": "d435d8f8",
        "execution_start": 1625401860642,
        "execution_millis": 6,
        "deepnote_cell_type": "code"
      }
    },
    {
      "cell_type": "markdown",
      "source": [
        "We have just performed this hypothesis test:\n",
        "\n",
        "$H_0 =$ the two models are equally as useful for predicting the outcome\n",
        "\n",
        "$H_a =$ the larger model is significantly better than the smaller model\n",
        "\n",
        "The one number in the final column is our test statistic.  Since is below our chosen threshold of $0.05$, it is best to use the second model.\n",
        "\n",
        "This method can be used to check if covariates should be included in the model, or if additional variables should be added as well."
      ],
      "metadata": {
        "tags": [],
        "cell_id": "00008-6f11240c-ea92-402c-8d2c-906f2ff12651",
        "deepnote_cell_type": "markdown"
      }
    }
  ],
  "metadata": {
    "orig_nbformat": 2,
    "deepnote": {
      "is_reactive": false
    },
    "deepnote_notebook_id": "3f925690-330b-4e97-bd90-aafb68319686",
    "deepnote_execution_queue": [],
    "nteract": {
      "version": "0.28.0"
    },
    "language_info": {
      "name": "python",
      "version": "3.9.5",
      "mimetype": "text/x-python",
      "codemirror_mode": {
        "name": "ipython",
        "version": 3
      },
      "pygments_lexer": "ipython3",
      "nbconvert_exporter": "python",
      "file_extension": ".py"
    },
    "kernelspec": {
      "name": "python3",
      "display_name": "Python 3.9.5 64-bit ('base': conda)"
    },
    "interpreter": {
      "hash": "98b0a9b7b4eaaa670588a142fd0a9b87eaafe866f1db4228be72b4211d12040f"
    }
  },
  "nbformat": 4,
  "nbformat_minor": 2
}