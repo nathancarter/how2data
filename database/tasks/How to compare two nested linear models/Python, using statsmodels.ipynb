{
  "cells": [
    {
      "cell_type": "markdown",
      "metadata": {
        "nteract": {
          "transient": {
            "deleting": false
          }
        }
      },
      "source": [
        "---\n",
        "author: Krtin Juneja (KJUNEJA@falcon.bentley.edu)\n",
        "---"
      ]
    },
    {
      "cell_type": "markdown",
      "metadata": {
        "cell_id": "00000-5b346ca8-49d6-4a71-9677-d7d33daa1f3a",
        "deepnote_cell_type": "markdown",
        "tags": []
      },
      "source": [
        "The solution below uses an example dataset about car design and fuel consumption from a 1974 Motor Trend magazine.  (See how to quickly load some sample data.)\n",
        "\n",
        "We will create two models, one nested inside the other, in a natural way in this example.\n",
        "But this is not the only way to create nested models; it is just an example."
      ]
    },
    {
      "cell_type": "code",
      "execution_count": 2,
      "metadata": {
        "cell_id": "00001-68125da8-6d61-472b-ab07-56d184b66f81",
        "deepnote_cell_type": "code",
        "deepnote_to_be_reexecuted": false,
        "execution_millis": 12,
        "execution_start": 1625401859415,
        "source_hash": "425e8b9c",
        "tags": []
      },
      "outputs": [],
      "source": [
        "from rdatasets import data\n",
        "df = data('mtcars')"
      ]
    },
    {
      "cell_type": "markdown",
      "metadata": {
        "cell_id": "00002-4d678775-c58c-465f-97a7-3900b8901036",
        "deepnote_cell_type": "markdown",
        "tags": []
      },
      "source": [
        "Consider a model using number of cylinders (cyl) and weight of car (wt) to predict its fuel efficiency (mpg). We create this model and perform an ANOVA to see if the predictors are significant. We use the Ordinary Least Squares module from `statsmodels`."
      ]
    },
    {
      "cell_type": "code",
      "execution_count": 3,
      "metadata": {
        "cell_id": "00002-8262c25c-c056-4098-a082-fb8d8e8930a0",
        "deepnote_cell_type": "code",
        "deepnote_to_be_reexecuted": false,
        "execution_millis": 1081,
        "execution_start": 1625401859463,
        "source_hash": "a5182f6f",
        "tags": []
      },
      "outputs": [
        {
          "data": {
            "text/html": [
              "<div>\n",
              "<style scoped>\n",
              "    .dataframe tbody tr th:only-of-type {\n",
              "        vertical-align: middle;\n",
              "    }\n",
              "\n",
              "    .dataframe tbody tr th {\n",
              "        vertical-align: top;\n",
              "    }\n",
              "\n",
              "    .dataframe thead th {\n",
              "        text-align: right;\n",
              "    }\n",
              "</style>\n",
              "<table border=\"1\" class=\"dataframe\">\n",
              "  <thead>\n",
              "    <tr style=\"text-align: right;\">\n",
              "      <th></th>\n",
              "      <th>df</th>\n",
              "      <th>sum_sq</th>\n",
              "      <th>mean_sq</th>\n",
              "      <th>F</th>\n",
              "      <th>PR(&gt;F)</th>\n",
              "    </tr>\n",
              "  </thead>\n",
              "  <tbody>\n",
              "    <tr>\n",
              "      <th>cyl</th>\n",
              "      <td>1.0</td>\n",
              "      <td>817.712952</td>\n",
              "      <td>817.712952</td>\n",
              "      <td>124.043687</td>\n",
              "      <td>5.424327e-12</td>\n",
              "    </tr>\n",
              "    <tr>\n",
              "      <th>wt</th>\n",
              "      <td>1.0</td>\n",
              "      <td>117.162269</td>\n",
              "      <td>117.162269</td>\n",
              "      <td>17.773034</td>\n",
              "      <td>2.220200e-04</td>\n",
              "    </tr>\n",
              "    <tr>\n",
              "      <th>Residual</th>\n",
              "      <td>29.0</td>\n",
              "      <td>191.171966</td>\n",
              "      <td>6.592137</td>\n",
              "      <td>NaN</td>\n",
              "      <td>NaN</td>\n",
              "    </tr>\n",
              "  </tbody>\n",
              "</table>\n",
              "</div>"
            ],
            "text/plain": [
              "            df      sum_sq     mean_sq           F        PR(>F)\n",
              "cyl        1.0  817.712952  817.712952  124.043687  5.424327e-12\n",
              "wt         1.0  117.162269  117.162269   17.773034  2.220200e-04\n",
              "Residual  29.0  191.171966    6.592137         NaN           NaN"
            ]
          },
          "execution_count": 3,
          "metadata": {},
          "output_type": "execute_result"
        }
      ],
      "source": [
        "from statsmodels.formula.api import ols\n",
        "add_model = ols('mpg ~ cyl + wt', data = df).fit()\n",
        "\n",
        "import statsmodels.api as sm\n",
        "sm.stats.anova_lm(add_model, typ= 1)"
      ]
    },
    {
      "cell_type": "markdown",
      "metadata": {
        "cell_id": "00004-8955fb0b-73c2-4e5b-aa6b-a0d0109be1fc",
        "deepnote_cell_type": "markdown",
        "tags": []
      },
      "source": [
        "In the final column of output we see that all numbers are below $0.05$, which suggests that both predictors are significant.  A natural question to ask is whether the two predictors have an interaction effect.  Let's create a model containing the interaction term."
      ]
    },
    {
      "cell_type": "code",
      "execution_count": 5,
      "metadata": {
        "cell_id": "00003-f23dc1fa-2408-4703-9921-8ac8c56416c6",
        "deepnote_cell_type": "code",
        "deepnote_to_be_reexecuted": false,
        "execution_millis": 49,
        "execution_start": 1625401860598,
        "source_hash": "154f5d8e",
        "tags": []
      },
      "outputs": [
        {
          "data": {
            "text/html": [
              "<div>\n",
              "<style scoped>\n",
              "    .dataframe tbody tr th:only-of-type {\n",
              "        vertical-align: middle;\n",
              "    }\n",
              "\n",
              "    .dataframe tbody tr th {\n",
              "        vertical-align: top;\n",
              "    }\n",
              "\n",
              "    .dataframe thead th {\n",
              "        text-align: right;\n",
              "    }\n",
              "</style>\n",
              "<table border=\"1\" class=\"dataframe\">\n",
              "  <thead>\n",
              "    <tr style=\"text-align: right;\">\n",
              "      <th></th>\n",
              "      <th>df</th>\n",
              "      <th>sum_sq</th>\n",
              "      <th>mean_sq</th>\n",
              "      <th>F</th>\n",
              "      <th>PR(&gt;F)</th>\n",
              "    </tr>\n",
              "  </thead>\n",
              "  <tbody>\n",
              "    <tr>\n",
              "      <th>cyl</th>\n",
              "      <td>1.0</td>\n",
              "      <td>817.712952</td>\n",
              "      <td>817.712952</td>\n",
              "      <td>145.856269</td>\n",
              "      <td>1.280635e-12</td>\n",
              "    </tr>\n",
              "    <tr>\n",
              "      <th>wt</th>\n",
              "      <td>1.0</td>\n",
              "      <td>117.162269</td>\n",
              "      <td>117.162269</td>\n",
              "      <td>20.898350</td>\n",
              "      <td>8.942713e-05</td>\n",
              "    </tr>\n",
              "    <tr>\n",
              "      <th>cyl:wt</th>\n",
              "      <td>1.0</td>\n",
              "      <td>34.195767</td>\n",
              "      <td>34.195767</td>\n",
              "      <td>6.099533</td>\n",
              "      <td>1.988242e-02</td>\n",
              "    </tr>\n",
              "    <tr>\n",
              "      <th>Residual</th>\n",
              "      <td>28.0</td>\n",
              "      <td>156.976199</td>\n",
              "      <td>5.606293</td>\n",
              "      <td>NaN</td>\n",
              "      <td>NaN</td>\n",
              "    </tr>\n",
              "  </tbody>\n",
              "</table>\n",
              "</div>"
            ],
            "text/plain": [
              "            df      sum_sq     mean_sq           F        PR(>F)\n",
              "cyl        1.0  817.712952  817.712952  145.856269  1.280635e-12\n",
              "wt         1.0  117.162269  117.162269   20.898350  8.942713e-05\n",
              "cyl:wt     1.0   34.195767   34.195767    6.099533  1.988242e-02\n",
              "Residual  28.0  156.976199    5.606293         NaN           NaN"
            ]
          },
          "execution_count": 5,
          "metadata": {},
          "output_type": "execute_result"
        }
      ],
      "source": [
        "int_model = ols('mpg ~ cyl*wt', data = df).fit()\n",
        "sm.stats.anova_lm(int_model, typ= 1)"
      ]
    },
    {
      "cell_type": "markdown",
      "metadata": {
        "cell_id": "00006-fe59f2b3-9479-49da-b481-3fc694d1b92e",
        "deepnote_cell_type": "markdown",
        "tags": []
      },
      "source": [
        "As seen in the final column of output, there is a significant interaction between the two predictors (bottom number being below $0.05$).\n",
        "\n",
        "We now have one model (`add_model`) nested inside a larger model (`int_model`).\n",
        "To check which model is better, we can conduct an ANOVA comparing the two models. We use the `anova_lm` function from `statsmodels`."
      ]
    },
    {
      "cell_type": "code",
      "execution_count": 6,
      "metadata": {
        "cell_id": "00004-16b83079-9165-4146-a2a3-287d6177ffda",
        "deepnote_cell_type": "code",
        "deepnote_to_be_reexecuted": false,
        "execution_millis": 6,
        "execution_start": 1625401860642,
        "source_hash": "d435d8f8",
        "tags": []
      },
      "outputs": [
        {
          "data": {
            "text/html": [
              "<div>\n",
              "<style scoped>\n",
              "    .dataframe tbody tr th:only-of-type {\n",
              "        vertical-align: middle;\n",
              "    }\n",
              "\n",
              "    .dataframe tbody tr th {\n",
              "        vertical-align: top;\n",
              "    }\n",
              "\n",
              "    .dataframe thead th {\n",
              "        text-align: right;\n",
              "    }\n",
              "</style>\n",
              "<table border=\"1\" class=\"dataframe\">\n",
              "  <thead>\n",
              "    <tr style=\"text-align: right;\">\n",
              "      <th></th>\n",
              "      <th>df_resid</th>\n",
              "      <th>ssr</th>\n",
              "      <th>df_diff</th>\n",
              "      <th>ss_diff</th>\n",
              "      <th>F</th>\n",
              "      <th>Pr(&gt;F)</th>\n",
              "    </tr>\n",
              "  </thead>\n",
              "  <tbody>\n",
              "    <tr>\n",
              "      <th>0</th>\n",
              "      <td>29.0</td>\n",
              "      <td>191.171966</td>\n",
              "      <td>0.0</td>\n",
              "      <td>NaN</td>\n",
              "      <td>NaN</td>\n",
              "      <td>NaN</td>\n",
              "    </tr>\n",
              "    <tr>\n",
              "      <th>1</th>\n",
              "      <td>28.0</td>\n",
              "      <td>156.976199</td>\n",
              "      <td>1.0</td>\n",
              "      <td>34.195767</td>\n",
              "      <td>6.099533</td>\n",
              "      <td>0.019882</td>\n",
              "    </tr>\n",
              "  </tbody>\n",
              "</table>\n",
              "</div>"
            ],
            "text/plain": [
              "   df_resid         ssr  df_diff    ss_diff         F    Pr(>F)\n",
              "0      29.0  191.171966      0.0        NaN       NaN       NaN\n",
              "1      28.0  156.976199      1.0  34.195767  6.099533  0.019882"
            ]
          },
          "execution_count": 6,
          "metadata": {},
          "output_type": "execute_result"
        }
      ],
      "source": [
        "from statsmodels.stats.anova import anova_lm\n",
        "anova_lm(add_model, int_model)"
      ]
    },
    {
      "cell_type": "markdown",
      "metadata": {
        "cell_id": "00008-6f11240c-ea92-402c-8d2c-906f2ff12651",
        "deepnote_cell_type": "markdown",
        "tags": []
      },
      "source": [
        "We have just performed this hypothesis test:\n",
        "\n",
        "$H_0 =$ the two models are equally useful for predicting the outcome\n",
        "\n",
        "$H_a =$ the larger model is significantly better than the smaller model\n",
        "\n",
        "In the final column of the output, called **Pr(>F)**,\n",
        "the only number in that column is our test statistic, $0.019882$.\n",
        "Since is below our chosen threshold of $0.05$, we reject the null hypothesis,\n",
        "and prefer to use the second model.\n",
        "\n",
        "This method can be used to check if covariates should be included in the model, or if additional variables should be added as well."
      ]
    }
  ],
  "metadata": {
    "deepnote": {
      "is_reactive": false
    },
    "deepnote_execution_queue": [],
    "deepnote_notebook_id": "3f925690-330b-4e97-bd90-aafb68319686",
    "interpreter": {
      "hash": "98b0a9b7b4eaaa670588a142fd0a9b87eaafe866f1db4228be72b4211d12040f"
    },
    "kernelspec": {
      "display_name": "Python 3.9.5 64-bit ('base': conda)",
      "name": "python3"
    },
    "language_info": {
      "codemirror_mode": {
        "name": "ipython",
        "version": 3
      },
      "file_extension": ".py",
      "mimetype": "text/x-python",
      "name": "python",
      "nbconvert_exporter": "python",
      "pygments_lexer": "ipython3",
      "version": "3.9.5"
    },
    "nteract": {
      "version": "0.28.0"
    },
    "orig_nbformat": 2
  },
  "nbformat": 4,
  "nbformat_minor": 2
}
