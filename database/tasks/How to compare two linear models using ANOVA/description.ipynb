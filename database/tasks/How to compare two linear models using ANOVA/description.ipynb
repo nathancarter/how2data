{
  "cells": [
    {
      "cell_type": "code",
      "source": [
        "Suppose you have a dataset and have two models - one without interaction (additive model) and one with (interactive model). How would you determine which of the two is better?"
      ],
      "outputs": [],
      "execution_count": null,
      "metadata": {
        "tags": [],
        "cell_id": "00000-012dc3d9-7eeb-41f7-9d59-ed2c8b9abc8e",
        "deepnote_cell_type": "code"
      }
    }
  ],
  "metadata": {
    "orig_nbformat": 2,
    "deepnote": {
      "is_reactive": false
    },
    "deepnote_notebook_id": "18dd54b1-f815-4938-a130-ffcbfad26ad7",
    "deepnote_execution_queue": [],
    "nteract": {
      "version": "0.28.0"
    }
  },
  "nbformat": 4,
  "nbformat_minor": 2
}