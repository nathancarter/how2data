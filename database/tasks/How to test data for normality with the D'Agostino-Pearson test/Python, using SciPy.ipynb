{
 "cells": [
  {
   "cell_type": "markdown",
   "metadata": {},
   "source": [
    "---\n",
    "author: Elizabeth Czarniak (CZARNIA_ELIZ@bentley.edu)\n",
    "---"
   ]
  },
  {
   "cell_type": "markdown",
   "metadata": {
    "cell_id": "00004-b48073a4-0a20-4eae-a7ca-12f0f30350a4",
    "deepnote_cell_type": "markdown",
    "tags": []
   },
   "source": [
    "We're going to use some fake restaurant data,\n",
    "but you can replace our fake data with your real data in the code below.\n",
    "The values in our fake data represent the amount of money that customers spent\n",
    "on a Sunday morning at the restaurant."
   ]
  },
  {
   "cell_type": "code",
   "execution_count": 5,
   "metadata": {
    "cell_id": "00005-4a14f859-8c87-4e29-a22b-6a3c5b568ebd",
    "deepnote_cell_type": "code",
    "deepnote_to_be_reexecuted": false,
    "execution_millis": 3,
    "execution_start": 1628256662858,
    "source_hash": "ead870ff",
    "tags": []
   },
   "outputs": [
    {
     "data": {
      "text/plain": [
       "(36.52, 15.772127313713899)"
      ]
     },
     "execution_count": 5,
     "metadata": {},
     "output_type": "execute_result"
    }
   ],
   "source": [
    "import numpy as np\n",
    "\n",
    "# Replace your data here\n",
    "spending = [34, 12, 19, 56, 54, 34, 45, 37, 13, 22, 65, 19,\n",
    "            16, 45, 19, 50, 36, 23, 28, 56, 40, 61, 45, 47, 37]\n",
    "\n",
    "np.mean(spending), np.std(spending, ddof=1)"
   ]
  },
  {
   "cell_type": "markdown",
   "metadata": {
    "cell_id": "00006-def5a6ef-5342-42e0-8304-8762d2512043",
    "deepnote_cell_type": "markdown",
    "tags": []
   },
   "source": [
    "We will now conduct a test of the following null hypothesis:\n",
    "The data comes from a population that is normally distributed with mean 36.52 and standard deviation 15.77.\n",
    "\n",
    "We will use a value $\\alpha=0.05$ as our Type I error rate.\n",
    "The `normaltest()` function in SciPy's `stats` package can perform the D'Agostino-Pearson test for normality,\n",
    "which uses the skew and kurtosis of the data."
   ]
  },
  {
   "cell_type": "code",
   "execution_count": 4,
   "metadata": {
    "cell_id": "00007-322c6187-ab9e-4601-a728-51b9e00b038c",
    "deepnote_cell_type": "code",
    "deepnote_to_be_reexecuted": false,
    "execution_millis": 5,
    "execution_start": 1628255596190,
    "source_hash": "f8b9b461",
    "tags": []
   },
   "outputs": [
    {
     "data": {
      "text/plain": [
       "NormaltestResult(statistic=3.0866213696851097, pvalue=0.21367252674488552)"
      ]
     },
     "execution_count": 4,
     "metadata": {},
     "output_type": "execute_result"
    }
   ],
   "source": [
    "from scipy import stats\n",
    "stats.normaltest(spending)"
   ]
  },
  {
   "cell_type": "markdown",
   "metadata": {
    "cell_id": "00008-6cf7d94b-26ee-4c86-b25d-01036b625af8",
    "deepnote_cell_type": "markdown",
    "tags": []
   },
   "source": [
    "The p-value is apprximately 0.21367, which is greater than $\\alpha=0.05$, so we fail to reject our null hypothesis.\n",
    "We would continue to operate under our original assumption that the data come from a normally distributed population."
   ]
  }
 ],
 "metadata": {
  "interpreter": {
   "hash": "98b0a9b7b4eaaa670588a142fd0a9b87eaafe866f1db4228be72b4211d12040f"
  },
  "kernelspec": {
   "display_name": "Python 3.9.6 64-bit ('base': conda)",
   "name": "python3"
  },
  "language_info": {
   "codemirror_mode": {
    "name": "ipython",
    "version": 3
   },
   "file_extension": ".py",
   "mimetype": "text/x-python",
   "name": "python",
   "nbconvert_exporter": "python",
   "pygments_lexer": "ipython3",
   "version": "3.9.6"
  },
  "orig_nbformat": 2
 },
 "nbformat": 4,
 "nbformat_minor": 2
}
