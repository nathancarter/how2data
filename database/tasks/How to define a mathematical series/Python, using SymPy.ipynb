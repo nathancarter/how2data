{
 "metadata": {
  "language_info": {
   "codemirror_mode": {
    "name": "ipython",
    "version": 3
   },
   "file_extension": ".py",
   "mimetype": "text/x-python",
   "name": "python",
   "nbconvert_exporter": "python",
   "pygments_lexer": "ipython3",
   "version": "3.9.2"
  },
  "orig_nbformat": 2,
  "kernelspec": {
   "name": "python392jvsc74a57bd098b0a9b7b4eaaa670588a142fd0a9b87eaafe866f1db4228be72b4211d12040f",
   "display_name": "Python 3.9.2 64-bit ('base': conda)"
  }
 },
 "nbformat": 4,
 "nbformat_minor": 2,
 "cells": [
  {
   "source": [
    "---\n",
    "author: Nathan Carter (ncarter@bentley.edu)\n",
    "---\n",
    "\n",
    "This answer assumes you have imported SymPy as follows."
   ],
   "cell_type": "markdown",
   "metadata": {}
  },
  {
   "cell_type": "code",
   "execution_count": 1,
   "metadata": {},
   "outputs": [],
   "source": [
    "from sympy import *                   # load all math functions\n",
    "init_printing( use_latex='mathjax' )  # use pretty math output"
   ]
  },
  {
   "source": [
    "We define here the same sequence we defined in the task entitled\n",
    "how to define a mathematical sequence."
   ],
   "cell_type": "markdown",
   "metadata": {}
  },
  {
   "cell_type": "code",
   "execution_count": 2,
   "metadata": {},
   "outputs": [
    {
     "output_type": "execute_result",
     "data": {
      "text/plain": [
       "[1, 1/2, 1/3, 1/4, …]"
      ],
      "text/latex": "$\\displaystyle \\left[1, \\frac{1}{2}, \\frac{1}{3}, \\frac{1}{4}, \\ldots\\right]$"
     },
     "metadata": {},
     "execution_count": 2
    }
   ],
   "source": [
    "var( 'n' )                       # use n as a symbol\n",
    "a_n = 1 / ( n + 1 )              # formula for a term\n",
    "seq = sequence( a_n, (n,0,oo) )  # build the sequence\n",
    "seq"
   ]
  },
  {
   "source": [
    "We can turn it into a mathematical series by simply replacing the word\n",
    "`sequence` with the word `Sum`.  This does not compute the answer, but\n",
    "just writes the series for us to view.  In this case, it is an infinite\n",
    "series."
   ],
   "cell_type": "markdown",
   "metadata": {}
  },
  {
   "cell_type": "code",
   "execution_count": 3,
   "metadata": {},
   "outputs": [
    {
     "output_type": "execute_result",
     "data": {
      "text/plain": [
       "  ∞        \n",
       " ____      \n",
       " ╲         \n",
       "  ╲        \n",
       "   ╲    1  \n",
       "   ╱  ─────\n",
       "  ╱   n + 1\n",
       " ╱         \n",
       " ‾‾‾‾      \n",
       "n = 0      "
      ],
      "text/latex": "$\\displaystyle \\sum_{n=0}^{\\infty} \\frac{1}{n + 1}$"
     },
     "metadata": {},
     "execution_count": 3
    }
   ],
   "source": [
    "Sum( a_n, (n,0,oo) )"
   ]
  },
  {
   "source": [
    "You can compute the answer by appending the code `.doit()` to the above code,\n",
    "which asks SymPy to \"do\" (or evaluate) the sum."
   ],
   "cell_type": "markdown",
   "metadata": {}
  },
  {
   "cell_type": "code",
   "execution_count": 5,
   "metadata": {},
   "outputs": [
    {
     "output_type": "execute_result",
     "data": {
      "text/plain": [
       "∞"
      ],
      "text/latex": "$\\displaystyle \\infty$"
     },
     "metadata": {},
     "execution_count": 5
    }
   ],
   "source": [
    "Sum( a_n, (n,0,oo) ).doit()"
   ]
  },
  {
   "source": [
    "In this case, the series diverges.\n",
    "\n",
    "We can also create and evaluate finite series by replacing the `oo` with a number."
   ],
   "cell_type": "markdown",
   "metadata": {}
  },
  {
   "cell_type": "code",
   "execution_count": 8,
   "metadata": {},
   "outputs": [
    {
     "output_type": "execute_result",
     "data": {
      "text/plain": [
       "83711\n",
       "─────\n",
       "27720"
      ],
      "text/latex": "$\\displaystyle \\frac{83711}{27720}$"
     },
     "metadata": {},
     "execution_count": 8
    }
   ],
   "source": [
    "Sum( a_n, (n,0,10) ).doit()"
   ]
  }
 ]
}