{
 "cells": [
  {
   "cell_type": "markdown",
   "metadata": {},
   "source": [
    "---\n",
    "author: Elizabeth Czarniak (CZARNIA_ELIZ@bentley.edu)\n",
    "---"
   ]
  },
  {
   "cell_type": "markdown",
   "metadata": {},
   "source": [
    "We're going to use fake data here, but you can replace our fake data with your real data below.\n",
    "You will need not only the samples but also the known population standard deviations."
   ]
  },
  {
   "cell_type": "code",
   "execution_count": 1,
   "metadata": {
    "cell_id": "00005-d53be040-6048-48b6-8478-2ccdc1333f12",
    "deepnote_cell_type": "code",
    "tags": []
   },
   "outputs": [],
   "source": [
    "sample1 = [ 5,  8, 10,  3,  6,  2]\n",
    "sample2 = [13, 20, 16, 12, 18, 15]\n",
    "population1_sd = 2.4\n",
    "population2_sd = 3"
   ]
  },
  {
   "cell_type": "markdown",
   "metadata": {},
   "source": [
    "We must compute the sizes and means of the two samples."
   ]
  },
  {
   "cell_type": "code",
   "execution_count": 2,
   "metadata": {},
   "outputs": [],
   "source": [
    "import numpy as np\n",
    "n1 = len(sample1)\n",
    "n2 = len(sample2)\n",
    "sample1_mean = np.mean(sample1)\n",
    "sample2_mean = np.mean(sample2)"
   ]
  },
  {
   "cell_type": "markdown",
   "metadata": {
    "cell_id": "00004-8a4ce426-a40f-4c95-aa1d-b6293c282237",
    "deepnote_cell_type": "markdown",
    "tags": []
   },
   "source": [
    "We choose a value $0 \\le \\alpha \\le 1$ as the probability of a Type I error\n",
    "(a false positive, finding we should reject $H_0$ when it’s actually true).\n",
    "We will use $\\alpha=0.05$ in this example.\n",
    "\n",
    "### Two-tailed test\n",
    "\n",
    "In a two-tailed test, the null hypothesis is that the difference is zero,\n",
    "$H_0: \\bar{x} - \\bar{x}' = 0$.  We compute a test statistic and $p$-value as\n",
    "follows."
   ]
  },
  {
   "cell_type": "code",
   "execution_count": 6,
   "metadata": {
    "cell_id": "00000-c918c8a0-a876-46a9-90d4-687b38a7f05c",
    "deepnote_cell_type": "code",
    "deepnote_to_be_reexecuted": false,
    "execution_millis": 439,
    "execution_start": 1628704638613,
    "source_hash": "e7b143a6",
    "tags": []
   },
   "outputs": [
    {
     "data": {
      "text/plain": [
       "1.8204936819059392e-10"
      ]
     },
     "execution_count": 6,
     "metadata": {},
     "output_type": "execute_result"
    }
   ],
   "source": [
    "from scipy import stats\n",
    "test_statistic = ( (sample1_mean - sample2_mean) /\n",
    "    np.sqrt(population1_sd**2/n1 + population2_sd**2/n2) )\n",
    "2*stats.norm.sf(abs(test_statistic))  # two-tailed p-value"
   ]
  },
  {
   "cell_type": "markdown",
   "metadata": {
    "cell_id": "00006-716aefbb-701e-4d34-9dc9-dc234a2b55f0",
    "deepnote_cell_type": "markdown",
    "tags": []
   },
   "source": [
    "Our p-value is less than $\\alpha$, so we have sufficient evidence to reject the null hypothesis.\n",
    "The difference between the means is significantly different from zero.\n",
    "\n",
    "### Right-tailed test\n",
    "\n",
    "In the right-tailed test, the null hypothesis is $H_0: \\bar{x} - \\bar{x}' \\le 0$.\n",
    "That is, we are testing whether the difference is greater than zero.\n",
    "\n",
    "The code is very similar to the previous, except only in computing the $p$-value.\n",
    "We repeat the code that's in common, to make it easier to copy and paste the examples."
   ]
  },
  {
   "cell_type": "code",
   "execution_count": 4,
   "metadata": {
    "cell_id": "00007-6165fc59-b7ce-48eb-887d-fbf0ee97e36e",
    "deepnote_cell_type": "code",
    "deepnote_to_be_reexecuted": false,
    "execution_millis": 5,
    "execution_start": 1628704705604,
    "source_hash": "a55e314a",
    "tags": []
   },
   "outputs": [
    {
     "data": {
      "text/plain": [
       "0.9999999999089754"
      ]
     },
     "execution_count": 4,
     "metadata": {},
     "output_type": "execute_result"
    }
   ],
   "source": [
    "from scipy import stats\n",
    "test_statistic = ( (sample1_mean - sample2_mean) /\n",
    "    np.sqrt(population1_sd**2/n1 + population2_sd**2/n2) )\n",
    "stats.norm.sf(test_statistic)  # right-tailed p-value"
   ]
  },
  {
   "cell_type": "markdown",
   "metadata": {
    "cell_id": "00008-232ebbf6-6906-4ae0-aa95-d281e3e192e9",
    "deepnote_cell_type": "markdown",
    "tags": []
   },
   "source": [
    "Our $p$-value is greater than $\\alpha$, so we do not have sufficient evidence to\n",
    "reject the null hypothesis. We would continue to assume that the difference in\n",
    "means is less than or equal to zero.\n",
    "\n",
    "### Left-tailed test\n",
    "\n",
    "In a left-tailed test, the null hypothesis is $H_0: \\bar{x} - \\bar{x}' \\ge 0$.\n",
    "That is, we are testing whether the difference is less than zero.\n",
    "\n",
    "The code is very similar to the previous, except only in computing the $p$-value.\n",
    "We repeat the code that's in common, to make it easier to copy and paste the examples."
   ]
  },
  {
   "cell_type": "code",
   "execution_count": 5,
   "metadata": {
    "cell_id": "00009-9b050b94-acb6-4883-be72-08941697f4cd",
    "deepnote_cell_type": "code",
    "deepnote_to_be_reexecuted": false,
    "execution_millis": 10,
    "execution_start": 1628704803869,
    "source_hash": "4b5f7ca2",
    "tags": []
   },
   "outputs": [
    {
     "data": {
      "text/plain": [
       "9.102468409529696e-11"
      ]
     },
     "execution_count": 5,
     "metadata": {},
     "output_type": "execute_result"
    }
   ],
   "source": [
    "from scipy import stats\n",
    "test_statistic = ( (sample1_mean - sample2_mean) /\n",
    "    np.sqrt(population1_sd**2/n1 + population2_sd**2/n2) )\n",
    "stats.norm.sf(-test_statistic)  # left-tailed p-value"
   ]
  },
  {
   "cell_type": "markdown",
   "metadata": {
    "cell_id": "00010-b2e29cae-e293-456f-bb27-7b6f220fe893",
    "deepnote_cell_type": "markdown",
    "tags": []
   },
   "source": [
    "Our $p$-value is less than $\\alpha$, so we have sufficient evidence to reject\n",
    "the null hypothesis. The difference between the means is significantly less than zero."
   ]
  }
 ],
 "metadata": {
  "interpreter": {
   "hash": "d4d1e4263499bec80672ea0156c357c1ee493ec2b1c70f0acce89fc37c4a6abe"
  },
  "kernelspec": {
   "display_name": "Python 3.9.6 64-bit ('base': conda)",
   "name": "python3"
  },
  "language_info": {
   "codemirror_mode": {
    "name": "ipython",
    "version": 3
   },
   "file_extension": ".py",
   "mimetype": "text/x-python",
   "name": "python",
   "nbconvert_exporter": "python",
   "pygments_lexer": "ipython3",
   "version": "3.9.7"
  },
  "orig_nbformat": 2
 },
 "nbformat": 4,
 "nbformat_minor": 2
}
