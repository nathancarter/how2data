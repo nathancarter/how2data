{
 "metadata": {
  "language_info": {
   "codemirror_mode": {
    "name": "ipython",
    "version": 3
   },
   "file_extension": ".py",
   "mimetype": "text/x-python",
   "name": "python",
   "nbconvert_exporter": "python",
   "pygments_lexer": "ipython3",
   "version": "3.9.2"
  },
  "orig_nbformat": 2,
  "kernelspec": {
   "name": "python392jvsc74a57bd098b0a9b7b4eaaa670588a142fd0a9b87eaafe866f1db4228be72b4211d12040f",
   "display_name": "Python 3.9.2 64-bit ('base': conda)"
  }
 },
 "nbformat": 4,
 "nbformat_minor": 2,
 "cells": [
  {
   "source": [
    "---\n",
    "author: Nathan Carter (ncarter@bentley.edu)\n",
    "---\n",
    "\n",
    "This answer assumes you have imported SymPy as follows."
   ],
   "cell_type": "markdown",
   "metadata": {}
  },
  {
   "cell_type": "code",
   "execution_count": 1,
   "metadata": {},
   "outputs": [],
   "source": [
    "from sympy import *                   # load all math functions\n",
    "init_printing( use_latex='mathjax' )  # use pretty math output"
   ]
  },
  {
   "source": [
    "Let's consider the example of the unit circle, $x^2+y^2=1$.\n",
    "\n",
    "To plot it, SymPy first expects us to move everything to the left-hand side\n",
    "of the equation, so in this case, we would have $x^2+y^2-1=0$.\n",
    "\n",
    "We then use that left hand side to represent the equation as a single formula,\n",
    "and computue $\\frac{dy}{dx}$ using the `idiff` function (standing for\n",
    "\"implicit differentiation\")."
   ],
   "cell_type": "markdown",
   "metadata": {}
  },
  {
   "cell_type": "code",
   "execution_count": 2,
   "metadata": {},
   "outputs": [
    {
     "output_type": "execute_result",
     "data": {
      "text/plain": [
       "-x \n",
       "───\n",
       " y "
      ],
      "text/latex": "$\\displaystyle - \\frac{x}{y}$"
     },
     "metadata": {},
     "execution_count": 2
    }
   ],
   "source": [
    "var( 'x y' )\n",
    "formula = x**2 + y**2 - 1   # to represent x^2+y^2=1\n",
    "idiff( formula, y, x )"
   ]
  },
  {
   "source": [
    "So in this case, $\\frac{dy}{dx}=-\\frac xy$."
   ],
   "cell_type": "markdown",
   "metadata": {}
  }
 ]
}