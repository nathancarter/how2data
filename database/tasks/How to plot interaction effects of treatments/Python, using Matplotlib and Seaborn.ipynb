{
  "cells": [
    {
      "cell_type": "markdown",
      "metadata": {
        "nteract": {
          "transient": {
            "deleting": false
          }
        }
      },
      "source": [
        "---\n",
        "author: Krtin Juneja (KJUNEJA@falcon.bentley.edu)\n",
        "---"
      ]
    },
    {
      "cell_type": "markdown",
      "metadata": {
        "cell_id": "00000-f923ca3c-736b-4733-ab4c-30e895dbf05b",
        "deepnote_cell_type": "markdown",
        "tags": []
      },
      "source": [
        "The solution below uses an example dataset about the teeth of 10 guinea pigs at three Vitamin C dosage levels (in mg) with two delivery methods (orange juice vs. ascorbic acid).  (See how to quickly load some sample data.)"
      ]
    },
    {
      "cell_type": "code",
      "execution_count": 1,
      "metadata": {
        "cell_id": "00000-70935978-8842-4734-b091-b8d698af4e32",
        "deepnote_cell_type": "code",
        "deepnote_to_be_reexecuted": false,
        "execution_millis": 16,
        "execution_start": 1626020427072,
        "source_hash": "3efdab3d",
        "tags": []
      },
      "outputs": [],
      "source": [
        "from rdatasets import data\n",
        "df = data('ToothGrowth')"
      ]
    },
    {
      "cell_type": "markdown",
      "metadata": {
        "cell_id": "00002-8a82368b-fd17-410f-9a7d-deb52f81e9a4",
        "deepnote_cell_type": "markdown",
        "tags": []
      },
      "source": [
        "To plot the interaction effects among tooth length, supplement, and dosage, we can use the `pointplot` function in the Seaborn package."
      ]
    },
    {
      "cell_type": "code",
      "execution_count": 2,
      "metadata": {
        "cell_id": "00002-830deff4-2683-4a78-b30c-13022ddadf59",
        "deepnote_cell_type": "code",
        "deepnote_to_be_reexecuted": false,
        "execution_millis": 254,
        "execution_start": 1626020707618,
        "source_hash": "9f02b94c",
        "tags": []
      },
      "outputs": [
        {
          "data": {
            "image/png": "[encoded data removed]",
            "text/plain": [
              "<Figure size 432x288 with 1 Axes>"
            ]
          },
          "metadata": {
            "needs_background": "light"
          },
          "output_type": "display_data"
        }
      ],
      "source": [
        "import seaborn as sns\n",
        "import matplotlib.pyplot as plt\n",
        "sns.pointplot(x='dose',y='len',hue='supp',data=df)\n",
        "plt.legend(loc='lower right')  # Default is upper right, which overlaps the data here.\n",
        "plt.show()"
      ]
    },
    {
      "cell_type": "markdown",
      "metadata": {
        "cell_id": "00003-71adff77-a18a-498d-ad55-74558955c41e",
        "deepnote_cell_type": "markdown",
        "tags": []
      },
      "source": [
        "Looking at the output, we first see that there is an interaction effect because the two supp lines intersect. We also see that there is a difference in length when giving 0.5mg and 1mg dosage of either of the two delivery methods. However, there is barely any difference between the delivery methods when the dosage level is 2mg."
      ]
    }
  ],
  "metadata": {
    "deepnote": {
      "is_reactive": false
    },
    "deepnote_execution_queue": [],
    "deepnote_notebook_id": "ef4cb916-c1ce-49df-bc19-5b45be3172f9",
    "interpreter": {
      "hash": "98b0a9b7b4eaaa670588a142fd0a9b87eaafe866f1db4228be72b4211d12040f"
    },
    "kernelspec": {
      "display_name": "Python 3.9.5 64-bit ('base': conda)",
      "name": "python3"
    },
    "language_info": {
      "codemirror_mode": {
        "name": "ipython",
        "version": 3
      },
      "file_extension": ".py",
      "mimetype": "text/x-python",
      "name": "python",
      "nbconvert_exporter": "python",
      "pygments_lexer": "ipython3",
      "version": "3.9.5"
    },
    "nteract": {
      "version": "0.28.0"
    },
    "orig_nbformat": 2
  },
  "nbformat": 4,
  "nbformat_minor": 2
}
