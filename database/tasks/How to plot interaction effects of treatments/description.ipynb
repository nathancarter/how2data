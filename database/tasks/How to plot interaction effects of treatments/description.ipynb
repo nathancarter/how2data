{
  "cells": [
    {
      "cell_type": "markdown",
      "source": [
        "When there are multiple treatment conditions with multiple levels and you wish to undertsand the interaction effects of each of them, a plot can be useful.  How can we create the right kind of plot for that situation?\n",
        "\n",
        " * How to create basic plots\n",
        " * How to add details to a plot\n",
        " * How to create a histogram\n",
        " * How to create a box (and whisker) plot\n",
        " * How to change axes, ticks, and scale in a plot\n",
        " * How to create bivariate plots to compare groups\n"
      ],
      "metadata": {
        "tags": [],
        "cell_id": "00000-55fe1b20-906d-4150-8b3b-7c07ddf85268",
        "deepnote_cell_type": "markdown"
      }
    }
  ],
  "metadata": {
    "orig_nbformat": 2,
    "deepnote": {
      "is_reactive": false
    },
    "deepnote_notebook_id": "af7fe860-f670-40f4-9c87-d6297802be93",
    "deepnote_execution_queue": [],
    "nteract": {
      "version": "0.28.0"
    },
    "language_info": {
      "name": "python"
    }
  },
  "nbformat": 4,
  "nbformat_minor": 2
}