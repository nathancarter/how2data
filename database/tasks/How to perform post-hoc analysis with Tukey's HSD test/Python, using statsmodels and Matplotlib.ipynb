{
  "cells": [
    {
      "cell_type": "markdown",
      "source": [
        "---\n",
        "author: Krtin Juneja (KJUNEJA@falcon.bentley.edu)\n",
        "---"
      ],
      "metadata": {
        "nteract": {
          "transient": {
            "deleting": false
          }
        }
      }
    },
    {
      "cell_type": "markdown",
      "source": [
        "We load here the same data that appears in the solution for how to perform pairwise comparisons. That solution used ANOVA to determine which pairs of groups have significant differences in their means; follow its link for more details."
      ],
      "metadata": {
        "tags": [],
        "cell_id": "00000-ecd05cb3-2a35-450e-bea7-29f565d5d5ad",
        "deepnote_cell_type": "markdown"
      }
    },
    {
      "cell_type": "code",
      "execution_count": 1,
      "source": [
        "from rdatasets import data\n",
        "df = data('InsectSprays')\n",
        "df"
      ],
      "outputs": [
        {
          "output_type": "execute_result",
          "data": {
            "text/html": [
              "<div>\n",
              "<style scoped>\n",
              "    .dataframe tbody tr th:only-of-type {\n",
              "        vertical-align: middle;\n",
              "    }\n",
              "\n",
              "    .dataframe tbody tr th {\n",
              "        vertical-align: top;\n",
              "    }\n",
              "\n",
              "    .dataframe thead th {\n",
              "        text-align: right;\n",
              "    }\n",
              "</style>\n",
              "<table border=\"1\" class=\"dataframe\">\n",
              "  <thead>\n",
              "    <tr style=\"text-align: right;\">\n",
              "      <th></th>\n",
              "      <th>count</th>\n",
              "      <th>spray</th>\n",
              "    </tr>\n",
              "  </thead>\n",
              "  <tbody>\n",
              "    <tr>\n",
              "      <th>0</th>\n",
              "      <td>10</td>\n",
              "      <td>A</td>\n",
              "    </tr>\n",
              "    <tr>\n",
              "      <th>1</th>\n",
              "      <td>7</td>\n",
              "      <td>A</td>\n",
              "    </tr>\n",
              "    <tr>\n",
              "      <th>2</th>\n",
              "      <td>20</td>\n",
              "      <td>A</td>\n",
              "    </tr>\n",
              "    <tr>\n",
              "      <th>3</th>\n",
              "      <td>14</td>\n",
              "      <td>A</td>\n",
              "    </tr>\n",
              "    <tr>\n",
              "      <th>4</th>\n",
              "      <td>14</td>\n",
              "      <td>A</td>\n",
              "    </tr>\n",
              "    <tr>\n",
              "      <th>...</th>\n",
              "      <td>...</td>\n",
              "      <td>...</td>\n",
              "    </tr>\n",
              "    <tr>\n",
              "      <th>67</th>\n",
              "      <td>10</td>\n",
              "      <td>F</td>\n",
              "    </tr>\n",
              "    <tr>\n",
              "      <th>68</th>\n",
              "      <td>26</td>\n",
              "      <td>F</td>\n",
              "    </tr>\n",
              "    <tr>\n",
              "      <th>69</th>\n",
              "      <td>26</td>\n",
              "      <td>F</td>\n",
              "    </tr>\n",
              "    <tr>\n",
              "      <th>70</th>\n",
              "      <td>24</td>\n",
              "      <td>F</td>\n",
              "    </tr>\n",
              "    <tr>\n",
              "      <th>71</th>\n",
              "      <td>13</td>\n",
              "      <td>F</td>\n",
              "    </tr>\n",
              "  </tbody>\n",
              "</table>\n",
              "<p>72 rows × 2 columns</p>\n",
              "</div>"
            ],
            "text/plain": [
              "    count spray\n",
              "0      10     A\n",
              "1       7     A\n",
              "2      20     A\n",
              "3      14     A\n",
              "4      14     A\n",
              "..    ...   ...\n",
              "67     10     F\n",
              "68     26     F\n",
              "69     26     F\n",
              "70     24     F\n",
              "71     13     F\n",
              "\n",
              "[72 rows x 2 columns]"
            ]
          },
          "metadata": {},
          "execution_count": 1
        }
      ],
      "metadata": {
        "tags": [],
        "cell_id": "00001-5140cd0f-1989-4910-a131-5404f9f3a16e",
        "deepnote_to_be_reexecuted": false,
        "source_hash": "9a292b9",
        "execution_start": 1626519417024,
        "execution_millis": 95,
        "deepnote_cell_type": "code"
      }
    },
    {
      "cell_type": "markdown",
      "source": [
        "We now want to perform an unplanned comparison test on the data to determine the magnitudes of the differences between pairs of groups. We do this by applying Tukey's HSD approach to perform pairwise comparisons and generate confidence intervals that maintain a specified experiment-wide error rate. Before that, the `pairwise_tukeyhsd` module needs to be imported from the `statsmodels` package."
      ],
      "metadata": {
        "tags": [],
        "cell_id": "00004-b04e11c4-b12c-4714-9510-9b6e76961dda",
        "deepnote_cell_type": "markdown"
      }
    },
    {
      "cell_type": "code",
      "execution_count": 2,
      "source": [
        "from statsmodels.stats.multicomp import pairwise_tukeyhsd\n",
        "tukey = pairwise_tukeyhsd(endog=df['count'], groups=df['spray'], alpha=0.05)\n",
        "print(tukey)"
      ],
      "outputs": [
        {
          "output_type": "stream",
          "name": "stdout",
          "text": [
            " Multiple Comparison of Means - Tukey HSD, FWER=0.05 \n",
            "=====================================================\n",
            "group1 group2 meandiff p-adj   lower    upper  reject\n",
            "-----------------------------------------------------\n",
            "     A      B   0.8333    0.9  -3.8659  5.5326  False\n",
            "     A      C -12.4167  0.001 -17.1159 -7.7174   True\n",
            "     A      D  -9.5833  0.001 -14.2826 -4.8841   True\n",
            "     A      E    -11.0  0.001 -15.6992 -6.3008   True\n",
            "     A      F   2.1667  0.728  -2.5326  6.8659  False\n",
            "     B      C   -13.25  0.001 -17.9492 -8.5508   True\n",
            "     B      D -10.4167  0.001 -15.1159 -5.7174   True\n",
            "     B      E -11.8333  0.001 -16.5326 -7.1341   True\n",
            "     B      F   1.3333    0.9  -3.3659  6.0326  False\n",
            "     C      D   2.8333 0.4921  -1.8659  7.5326  False\n",
            "     C      E   1.4167    0.9  -3.2826  6.1159  False\n",
            "     C      F  14.5833  0.001   9.8841 19.2826   True\n",
            "     D      E  -1.4167    0.9  -6.1159  3.2826  False\n",
            "     D      F    11.75  0.001   7.0508 16.4492   True\n",
            "     E      F  13.1667  0.001   8.4674 17.8659   True\n",
            "-----------------------------------------------------\n"
          ]
        }
      ],
      "metadata": {
        "tags": [],
        "cell_id": "00005-116ae39c-f26d-48aa-815f-62ce5b3aeb76",
        "deepnote_to_be_reexecuted": false,
        "source_hash": "4382f0ea",
        "execution_start": 1626519418106,
        "execution_millis": 113,
        "deepnote_cell_type": "code"
      }
    },
    {
      "cell_type": "markdown",
      "source": [
        "Because the above table contains a lot of information, it's often helpful to visualize these intervals.\n",
        "Python's `statsmodels` package does not have a built-in way to do so, but we can create our own as follows."
      ],
      "metadata": {
        "tags": [],
        "cell_id": "00006-f0c43e01-f4eb-4082-8608-7da96fa88229",
        "deepnote_cell_type": "markdown"
      }
    },
    {
      "cell_type": "code",
      "execution_count": 3,
      "source": [
        "import matplotlib.pyplot as plt\n",
        "rows = tukey.summary().data[1:]\n",
        "plt.hlines( range(len(rows)), [row[4] for row in rows], [row[5] for row in rows] )\n",
        "plt.vlines( 0, -1, len( rows )-1, linestyles='dashed' )\n",
        "plt.gca().set_yticks( range( len( rows ) ) )\n",
        "plt.gca().set_yticklabels( [ f'{x[0]}-{x[1]}' for x in rows ] )\n",
        "plt.show()"
      ],
      "outputs": [
        {
          "output_type": "display_data",
          "data": {
            "image/png": "[encoded data removed]",
            "text/plain": [
              "<Figure size 432x288 with 1 Axes>"
            ]
          },
          "metadata": {
            "needs_background": "light"
          }
        }
      ],
      "metadata": {
        "tags": [],
        "cell_id": "00007-fd535d33-8224-48bd-80d5-05c27913e54b",
        "deepnote_to_be_reexecuted": false,
        "source_hash": "13cd1c1d",
        "execution_start": 1626519418214,
        "execution_millis": 704,
        "deepnote_cell_type": "code"
      }
    },
    {
      "cell_type": "markdown",
      "source": [
        "Confidence intervals that cross the vertical, dashed line at $x=0$ are those in which the means across those groups may be equal.  Other intervals have mean differences whose 95% confidence intervals do not include zero."
      ],
      "metadata": {}
    }
  ],
  "metadata": {
    "orig_nbformat": 2,
    "deepnote": {
      "is_reactive": false
    },
    "deepnote_notebook_id": "c26ccbaf-4dd2-4566-bfa9-a8b043e9932b",
    "deepnote_execution_queue": [],
    "nteract": {
      "version": "0.28.0"
    },
    "language_info": {
      "name": "python",
      "version": "3.9.6",
      "mimetype": "text/x-python",
      "codemirror_mode": {
        "name": "ipython",
        "version": 3
      },
      "pygments_lexer": "ipython3",
      "nbconvert_exporter": "python",
      "file_extension": ".py"
    },
    "kernelspec": {
      "name": "python3",
      "display_name": "Python 3.9.6 64-bit ('base': conda)"
    },
    "interpreter": {
      "hash": "98b0a9b7b4eaaa670588a142fd0a9b87eaafe866f1db4228be72b4211d12040f"
    }
  },
  "nbformat": 4,
  "nbformat_minor": 2
}