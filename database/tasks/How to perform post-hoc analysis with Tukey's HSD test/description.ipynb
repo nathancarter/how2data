{
  "cells": [
    {
      "cell_type": "markdown",
      "source": [
        "When analyzing data from a completely randomized single-factor design, suppose that you have performed an ANOVA and noticed that there's a significant difference between the treatment levels.  Perhaps you then explored further using the techniques in how to perform pairwise comparisons.  How can we extend that with a post-hoc analysis using Tukey's HSD test and an approrpriate visualization?\n",
        "\n",
        "Related tasks:\n",
        "\n",
        " * How to do a one-way analysis of variance (ANOVA)\n",
        " * How to perform pairwise comparisons\n"
      ],
      "metadata": {
        "tags": [],
        "cell_id": "00000-545b91b4-0320-481e-9c90-a9d535a83761",
        "deepnote_cell_type": "markdown"
      }
    }
  ],
  "metadata": {
    "orig_nbformat": 2,
    "deepnote": {
      "is_reactive": false
    },
    "deepnote_notebook_id": "cd973001-53ad-4efa-be1a-a472ded287ba",
    "deepnote_execution_queue": [],
    "nteract": {
      "version": "0.28.0"
    },
    "language_info": {
      "name": "python"
    }
  },
  "nbformat": 4,
  "nbformat_minor": 2
}