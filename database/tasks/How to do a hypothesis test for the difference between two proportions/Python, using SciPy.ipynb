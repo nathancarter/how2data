{
 "cells": [
  {
   "cell_type": "markdown",
   "metadata": {},
   "source": [
    "---\n",
    "author: Elizabeth Czarniak (CZARNIA_ELIZ@bentley.edu)\n",
    "---"
   ]
  },
  {
   "cell_type": "markdown",
   "metadata": {
    "cell_id": "00011-dac61625-f4b6-4450-ad65-d5e63786cf7c",
    "deepnote_cell_type": "markdown",
    "tags": []
   },
   "source": [
    "We will use some fake data in this example, but you can replace it with your\n",
    "real data.  Imagine we conduct a survey of people in Boston and of people in Nashville\n",
    "and ask them if they prefer chocolate or vanilla ice cream. We get data like the\n",
    "following.\n",
    "\n",
    "|    City   | Prefer chocolate | Prefer vanilla | Total |\n",
    "|-----------|------------------|----------------|-------|\n",
    "|   Boston  |        60        |       90       |  150  |\n",
    "| Nashville |        85        |       50       |  135  |\n",
    "\n",
    "We want to compare the proportions of people from the two cities who like vanilla.\n",
    "\n",
    "Let $\\bar{p}_1$ represent the proportion of people from Boston who like vanilla\n",
    "and $\\bar{p}_2$ represent the proportion of people from Nashville who like vanilla."
   ]
  },
  {
   "cell_type": "code",
   "execution_count": 1,
   "metadata": {
    "cell_id": "00005-72368f2c-767a-4d06-996a-46a4786b895d",
    "deepnote_cell_type": "code",
    "deepnote_to_be_reexecuted": false,
    "execution_millis": 12,
    "execution_start": 1629329718512,
    "source_hash": "ba98d8b5",
    "tags": []
   },
   "outputs": [],
   "source": [
    "n1 = 150         # number of observations in sample 1\n",
    "n2 = 135         # number of observations in sample 2\n",
    "p_bar1 = 90/150  # proportion in sample 1\n",
    "p_bar2 = 50/135  # proportion in sample 2"
   ]
  },
  {
   "cell_type": "markdown",
   "metadata": {
    "cell_id": "00012-69e802b9-7da8-46f0-b2f3-408289251429",
    "deepnote_cell_type": "text-cell-h3",
    "is_collapsed": false,
    "tags": []
   },
   "source": [
    "We choose a value $0 \\le \\alpha \\le 1$ as our Type 1 error rate.\n",
    "For this example, we will use $\\alpha=0.05$.\n",
    "\n",
    "### Two-tailed test\n",
    "\n",
    "In a two-tailed test, the null hypothesis states that the difference between the\n",
    "two proportions equals a hypothesized value; let's choose zero,\n",
    "$H_0: \\bar{p}_1 - \\bar{p}_2 = 0$.  We perform this test\n",
    "by computing a test statistic and $p$-value as shown below, then comparing the\n",
    "$p$-value to our chosen $\\alpha$."
   ]
  },
  {
   "cell_type": "code",
   "execution_count": 2,
   "metadata": {
    "cell_id": "00009-5e2568f7-7557-476a-be69-81d40f052977",
    "deepnote_cell_type": "code",
    "deepnote_to_be_reexecuted": false,
    "execution_millis": 38,
    "execution_start": 1629329720846,
    "source_hash": "606c35c4",
    "tags": []
   },
   "outputs": [
    {
     "data": {
      "text/plain": [
       "0.00010802693662804402"
      ]
     },
     "execution_count": 2,
     "metadata": {},
     "output_type": "execute_result"
    }
   ],
   "source": [
    "import numpy as np\n",
    "p_bar = (90 + 50) / (150 + 135)                   # overall proportion\n",
    "std_error = np.sqrt(p_bar*(1-p_bar)*(1/n1+1/n2))  # standard error\n",
    "test_statistic = (p_bar1 - p_bar2)/std_error      # test statistic\n",
    "\n",
    "from scipy import stats\n",
    "2*stats.norm.sf(abs(test_statistic))              # two-tailed p-value"
   ]
  },
  {
   "cell_type": "markdown",
   "metadata": {
    "cell_id": "00013-e26d49fc-e10a-4b4e-9b0a-38e52ea20a59",
    "deepnote_cell_type": "markdown",
    "tags": []
   },
   "source": [
    "Our $p$-value, 0.000108, is smaller than $\\alpha$, so we can reject the null\n",
    "hypothesis and conclude that the difference between the two proportions is\n",
    "different from zero.\n",
    "\n",
    "But we did not need to compare the difference to zero; we could have used any\n",
    "hypothesized difference for comparison.  Let's repeat the above test, comparing\n",
    "the difference to $0.15$ instead, as an example."
   ]
  },
  {
   "cell_type": "code",
   "execution_count": 3,
   "metadata": {
    "cell_id": "00014-797329da-a6ed-461c-a37c-002ba8ac51d0",
    "deepnote_cell_type": "code",
    "deepnote_to_be_reexecuted": false,
    "execution_millis": 28,
    "execution_start": 1629329723137,
    "source_hash": "b961b5a",
    "tags": []
   },
   "outputs": [
    {
     "data": {
      "text/plain": [
       "0.16744531573658772"
      ]
     },
     "execution_count": 3,
     "metadata": {},
     "output_type": "execute_result"
    }
   ],
   "source": [
    "import numpy as np\n",
    "hyp_diff = 0.15                                            # hypothesized difference\n",
    "std_error = np.sqrt(p_bar1*(1-p_bar1)/n1\n",
    "                  + p_bar2*(1-p_bar2)/n2)                  # standard error\n",
    "test_statistic = ((p_bar1 - p_bar2) - hyp_diff)/std_error  # test statistic\n",
    "\n",
    "from scipy import stats\n",
    "2*stats.norm.sf(abs(test_statistic))                       # two-tailed p-value"
   ]
  },
  {
   "cell_type": "markdown",
   "metadata": {
    "cell_id": "00015-a95cb7e6-b412-4aad-89c9-df98ac5aa0f5",
    "deepnote_cell_type": "markdown",
    "tags": []
   },
   "source": [
    "Our $p$-value, 0.1674, is greater than $\\alpha$, so we cannot reject the null hypothesis\n",
    "and cannot conclude that the difference between these two proportions is significantly\n",
    "different from 0.15.\n",
    "\n",
    "### Right-tailed test\n",
    "\n",
    "In a right-tailed test, the null hypothesis states that the difference between\n",
    "the two proportions is less than or equal to a hypothesized value.  Let's begin\n",
    "by using zero as our hypothesized value, $H_0: \\bar{p}_1 - \\bar{p}_2 \\le 0$.\n",
    "\n",
    "We repeat some code below that we've seen above, just to make it easy to copy and\n",
    "paste the example elsewhere."
   ]
  },
  {
   "cell_type": "code",
   "execution_count": 4,
   "metadata": {
    "cell_id": "00020-642b0c26-b363-4bfd-a7dc-8055fc85a909",
    "deepnote_cell_type": "code",
    "deepnote_to_be_reexecuted": false,
    "execution_millis": 33,
    "execution_start": 1629329729177,
    "source_hash": "f32f07ec",
    "tags": []
   },
   "outputs": [
    {
     "data": {
      "text/plain": [
       "5.401346831402201e-05"
      ]
     },
     "execution_count": 4,
     "metadata": {},
     "output_type": "execute_result"
    }
   ],
   "source": [
    "import numpy as np\n",
    "p_bar = (90 + 50) / (150 + 135)                   # overall proportion\n",
    "std_error = np.sqrt(p_bar*(1-p_bar)*(1/n1+1/n2))  # standard error\n",
    "test_statistic = (p_bar1 - p_bar2)/std_error      # test statistic\n",
    "\n",
    "from scipy import stats\n",
    "stats.norm.sf(abs(test_statistic))                # right-tailed p-value"
   ]
  },
  {
   "cell_type": "markdown",
   "metadata": {
    "cell_id": "00021-029c93eb-02f8-4daf-854d-a9c2e8b6f5cc",
    "deepnote_cell_type": "markdown",
    "tags": []
   },
   "source": [
    "Our $p$-value is smaller than $\\alpha$, so we can reject the null hypothesis and\n",
    "conclude that the difference between the two proportions is significantly greater than zero.\n",
    "\n",
    "But we did not need to compare the difference to zero; we could have used any\n",
    "hypothesized difference for comparison.  Let's repeat the above test, comparing\n",
    "the difference to $0.15$ instead, as an example."
   ]
  },
  {
   "cell_type": "code",
   "execution_count": 5,
   "metadata": {
    "cell_id": "00022-12f619e0-0df3-4331-88dc-bd8c82d64e45",
    "deepnote_cell_type": "code",
    "deepnote_to_be_reexecuted": false,
    "execution_millis": 14,
    "execution_start": 1629329736693,
    "source_hash": "fb49f61a",
    "tags": []
   },
   "outputs": [
    {
     "data": {
      "text/plain": [
       "0.08372265786829386"
      ]
     },
     "execution_count": 5,
     "metadata": {},
     "output_type": "execute_result"
    }
   ],
   "source": [
    "import numpy as np\n",
    "hyp_diff = 0.15                                            # hypothesized difference\n",
    "std_error = np.sqrt(p_bar1*(1-p_bar1)/n1\n",
    "                  + p_bar2*(1-p_bar2)/n2)                  # standard error\n",
    "test_statistic = ((p_bar1 - p_bar2) - hyp_diff)/std_error  # test statistic\n",
    "\n",
    "from scipy import stats\n",
    "stats.norm.sf(abs(test_statistic))                         # right-tailed p-value"
   ]
  },
  {
   "cell_type": "markdown",
   "metadata": {
    "cell_id": "00023-57246b80-98e2-4651-9c59-b102f6569b78",
    "deepnote_cell_type": "markdown",
    "tags": []
   },
   "source": [
    "Our $p$-value, 0.0837, is greater than $\\alpha$, so we cannot reject the null\n",
    "hypothesis and cannot conclude that the difference between these two proportions\n",
    "is significantly greater than 0.15.\n",
    "\n",
    "### Left-tailed test\n",
    "\n",
    "In a left-tailed test, the null hypothesis states that the difference between\n",
    "the two proportions is greater than or equal to a hypothesized value.  Let's begin\n",
    "by using zero as our hypothesized value, $H_0: \\bar{p}_1 - \\bar{p}_2 \\ge 0$.\n",
    "\n",
    "We repeat some code below that we've seen above, just to make it easy to copy and\n",
    "paste the example elsewhere."
   ]
  },
  {
   "cell_type": "code",
   "execution_count": 6,
   "metadata": {
    "cell_id": "00026-dc3fe01c-b991-4ab5-a2ea-b3af5543eee3",
    "deepnote_cell_type": "code",
    "deepnote_to_be_reexecuted": false,
    "execution_millis": 13,
    "execution_start": 1629329774079,
    "source_hash": "f2b4e700",
    "tags": []
   },
   "outputs": [
    {
     "data": {
      "text/plain": [
       "0.999945986531686"
      ]
     },
     "execution_count": 6,
     "metadata": {},
     "output_type": "execute_result"
    }
   ],
   "source": [
    "import numpy as np\n",
    "p_bar = (90 + 50) / (150 + 135)                   # overall proportion\n",
    "std_error = np.sqrt(p_bar*(1-p_bar)*(1/n1+1/n2))  # standard error\n",
    "test_statistic = (p_bar1 - p_bar2)/std_error      # test statistic\n",
    "\n",
    "from scipy import stats\n",
    "stats.norm.sf(-test_statistic)                    # left-tailed p-value"
   ]
  },
  {
   "cell_type": "markdown",
   "metadata": {
    "cell_id": "00027-4f200fa7-1fd7-4bcd-8957-a078904de48d",
    "deepnote_cell_type": "markdown",
    "tags": []
   },
   "source": [
    "Our $p$-value, 0.9999, is greater than $\\alpha$, so we cannot reject the null\n",
    "hypothesis and cannot conclude that the difference between the two proportions\n",
    "is significantly less than zero.\n",
    "\n",
    "But we did not need to compare the difference to zero; we could have used any\n",
    "hypothesized difference for comparison.  Let's repeat the above test, comparing\n",
    "the difference to $0.15$ instead, as an example."
   ]
  },
  {
   "cell_type": "code",
   "execution_count": 7,
   "metadata": {
    "cell_id": "00028-85058035-45a0-4ccb-82d2-9bb85760f43e",
    "deepnote_cell_type": "code",
    "deepnote_to_be_reexecuted": false,
    "execution_millis": 25,
    "execution_start": 1629329782195,
    "source_hash": "30fb90d6",
    "tags": []
   },
   "outputs": [
    {
     "data": {
      "text/plain": [
       "0.9162773421317061"
      ]
     },
     "execution_count": 7,
     "metadata": {},
     "output_type": "execute_result"
    }
   ],
   "source": [
    "import numpy as np\n",
    "hyp_diff = 0.15                                            # hypothesized difference\n",
    "std_error = np.sqrt(p_bar1*(1-p_bar1)/n1\n",
    "                  + p_bar2*(1-p_bar2)/n2)                  # standard error\n",
    "test_statistic = ((p_bar1 - p_bar2) - hyp_diff)/std_error  # test statistic\n",
    "\n",
    "from scipy import stats\n",
    "stats.norm.sf(-test_statistic)                             # left-tailed p-value"
   ]
  },
  {
   "cell_type": "markdown",
   "metadata": {
    "cell_id": "00029-06462198-ca53-4268-bc1c-144a883a5588",
    "deepnote_cell_type": "markdown",
    "tags": []
   },
   "source": [
    "Our $p$-value, 0.91627, is greater than $\\alpha$, so we cannot reject the null\n",
    "hypothesis and cannot conclude that the difference between these two proportions\n",
    "is significantly less than 0.15."
   ]
  }
 ],
 "metadata": {
  "interpreter": {
   "hash": "d4d1e4263499bec80672ea0156c357c1ee493ec2b1c70f0acce89fc37c4a6abe"
  },
  "kernelspec": {
   "display_name": "Python 3.9.6 64-bit ('base': conda)",
   "name": "python3"
  },
  "language_info": {
   "codemirror_mode": {
    "name": "ipython",
    "version": 3
   },
   "file_extension": ".py",
   "mimetype": "text/x-python",
   "name": "python",
   "nbconvert_exporter": "python",
   "pygments_lexer": "ipython3",
   "version": "3.9.7"
  },
  "orig_nbformat": 2
 },
 "nbformat": 4,
 "nbformat_minor": 2
}
