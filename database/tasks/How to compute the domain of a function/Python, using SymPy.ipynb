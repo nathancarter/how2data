{
 "metadata": {
  "language_info": {
   "codemirror_mode": {
    "name": "ipython",
    "version": 3
   },
   "file_extension": ".py",
   "mimetype": "text/x-python",
   "name": "python",
   "nbconvert_exporter": "python",
   "pygments_lexer": "ipython3",
   "version": "3.9.2"
  },
  "orig_nbformat": 2,
  "kernelspec": {
   "name": "python392jvsc74a57bd098b0a9b7b4eaaa670588a142fd0a9b87eaafe866f1db4228be72b4211d12040f",
   "display_name": "Python 3.9.2 64-bit ('base': conda)"
  }
 },
 "nbformat": 4,
 "nbformat_minor": 2,
 "cells": [
  {
   "source": [
    "---\n",
    "author: Nathan Carter (ncarter@bentley.edu)\n",
    "---\n",
    "\n",
    "This answer assumes you have imported SymPy as follows."
   ],
   "cell_type": "markdown",
   "metadata": {}
  },
  {
   "cell_type": "code",
   "execution_count": 1,
   "metadata": {},
   "outputs": [],
   "source": [
    "from sympy import *                   # load all math functions\n",
    "init_printing( use_latex='mathjax' )  # use pretty math output"
   ]
  },
  {
   "source": [
    "We also need to import another tool that SymPy doesn't pull in by default."
   ],
   "cell_type": "markdown",
   "metadata": {}
  },
  {
   "cell_type": "code",
   "execution_count": 2,
   "metadata": {},
   "outputs": [],
   "source": [
    "from sympy.calculus.util import continuous_domain"
   ]
  },
  {
   "source": [
    "We can then ask about a function's domain.  We provide the function,\n",
    "the variable we're asking about, and the set of numbers we're working\n",
    "inside of.  For a simple one-variable function, we're typically working\n",
    "in just the real numbers."
   ],
   "cell_type": "markdown",
   "metadata": {}
  },
  {
   "cell_type": "code",
   "execution_count": 3,
   "metadata": {},
   "outputs": [
    {
     "output_type": "execute_result",
     "data": {
      "text/plain": [
       "(-∞, -1) ∪ (-1, ∞)"
      ],
      "text/latex": "$\\displaystyle \\left(-\\infty, -1\\right) \\cup \\left(-1, \\infty\\right)$"
     },
     "metadata": {},
     "execution_count": 3
    }
   ],
   "source": [
    "var( 'x' )\n",
    "formula = 1 / ( x + 1 )\n",
    "continuous_domain( formula, x, S.Reals )"
   ]
  },
  {
   "source": [
    "It's sometimes easier to instead ask where the function is *not* defined.\n",
    "We can just ask for the complement of the domain."
   ],
   "cell_type": "markdown",
   "metadata": {}
  },
  {
   "cell_type": "code",
   "execution_count": 4,
   "metadata": {},
   "outputs": [
    {
     "output_type": "execute_result",
     "data": {
      "text/plain": [
       "{-1}"
      ],
      "text/latex": "$\\displaystyle \\left\\{-1\\right\\}$"
     },
     "metadata": {},
     "execution_count": 4
    }
   ],
   "source": [
    "domain = continuous_domain( formula, x, S.Reals )\n",
    "Complement( S.Reals, domain )"
   ]
  },
  {
   "source": [
    "The function is *undefined* only at $x=-1$."
   ],
   "cell_type": "markdown",
   "metadata": {}
  }
 ]
}