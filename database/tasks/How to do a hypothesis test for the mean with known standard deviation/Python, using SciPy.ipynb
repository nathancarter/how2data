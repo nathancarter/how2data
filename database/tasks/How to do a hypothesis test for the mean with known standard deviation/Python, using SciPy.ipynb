{
 "cells": [
  {
   "cell_type": "markdown",
   "metadata": {},
   "source": [
    "---\n",
    "author:\n",
    " - Elizabeth Czarniak (CZARNIA_ELIZ@bentley.edu)\n",
    " - Nathan Carter (ncarter@bentley.edu)\n",
    "---"
   ]
  },
  {
   "cell_type": "markdown",
   "metadata": {},
   "source": [
    "We will use the following fake data, but you can insert your actual data in its place.\n",
    "We have a sample of just 5 values and an assumed population standard deviation of 3."
   ]
  },
  {
   "cell_type": "code",
   "execution_count": 1,
   "metadata": {},
   "outputs": [],
   "source": [
    "sample = [31, 44, 28, 25, 40]  # sample data\n",
    "pop_std = 3                    # population standard deviation"
   ]
  },
  {
   "cell_type": "markdown",
   "metadata": {
    "cell_id": "00004-6cbb0075-937e-4a70-8420-dbe2741fbbf0",
    "deepnote_cell_type": "markdown",
    "tags": []
   },
   "source": [
    "We also choose a value $0 \\le \\alpha \\le 1$ as our Type I error rate.\n",
    "We'll let $\\alpha$ be 0.05 here, but you can change that in the code below.\n",
    "\n",
    "### Two-tailed test\n",
    "\n",
    "In a two-tailed test, we compare the unknown population mean to a hypothesized\n",
    "value $m$ using the null hypothesis $H_0: \\mu=m$.\n",
    "Here we'll use $m=30$, but you can replace that value in the code\n",
    "below with the hypothesis relevant for your situation."
   ]
  },
  {
   "cell_type": "code",
   "execution_count": 5,
   "metadata": {
    "cell_id": "00000-b2696da3-be6c-4ed3-a897-33768ddcde09",
    "deepnote_cell_type": "code",
    "deepnote_to_be_reexecuted": false,
    "execution_millis": 2,
    "execution_start": 1629322984949,
    "source_hash": "1e9d7792",
    "tags": []
   },
   "outputs": [
    {
     "data": {
      "text/plain": [
       "0.007290358091535614"
      ]
     },
     "execution_count": 5,
     "metadata": {},
     "output_type": "execute_result"
    }
   ],
   "source": [
    "from scipy import stats\n",
    "import numpy as np\n",
    "m = 30                                         # hypothesized mean\n",
    "n = len(sample)                                # number of observations\n",
    "xbar = np.mean(sample)                         # sample mean\n",
    "test_stat = (xbar - m) / (pop_std/np.sqrt(n))  # test statistic\n",
    "2*stats.norm.sf(abs(test_stat))                # two-tailed p-value"
   ]
  },
  {
   "cell_type": "markdown",
   "metadata": {
    "cell_id": "00010-235c5f10-60c9-4ee7-875d-195eee65af31",
    "deepnote_cell_type": "markdown",
    "tags": []
   },
   "source": [
    "The $p$-value, 0.00729, is less than $\\alpha$, so we have evidence to reject the\n",
    "null hypothesis and conclude that the actual population mean $\\mu$ is significantly\n",
    "different from the hypothesized value of $m=30$.\n",
    "\n",
    "### Right-tailed test\n",
    "\n",
    "In a right-tailed hypothesis test, the null hypothesis is that the population mean\n",
    "is greater than or equal to a chosen value, $H_0: \\mu \\ge m$.\n",
    "\n",
    "Most of the code below is the same as above, but we repeat it to make it easy to\n",
    "copy and paste.  Only the computation of the $p$-value changes."
   ]
  },
  {
   "cell_type": "code",
   "execution_count": 8,
   "metadata": {
    "cell_id": "00015-0dce553d-ce96-4920-ae99-6bd803af137b",
    "deepnote_cell_type": "code",
    "deepnote_to_be_reexecuted": false,
    "execution_millis": 5,
    "execution_start": 1629323469562,
    "source_hash": "90aa6251",
    "tags": []
   },
   "outputs": [
    {
     "data": {
      "text/plain": [
       "0.003645179045767807"
      ]
     },
     "execution_count": 8,
     "metadata": {},
     "output_type": "execute_result"
    }
   ],
   "source": [
    "from scipy import stats\n",
    "import numpy as np\n",
    "m = 30                                         # hypothesized mean\n",
    "n = len(sample)                                # number of observations\n",
    "xbar = np.mean(sample)                         # sample mean\n",
    "test_stat = (xbar - m) / (pop_std/np.sqrt(n))  # test statistic\n",
    "stats.norm.sf(abs(test_stat))                  # right-tailed p-value"
   ]
  },
  {
   "cell_type": "markdown",
   "metadata": {
    "cell_id": "00016-8a65ab38-e36d-45e5-855d-aef03a1313e2",
    "deepnote_cell_type": "text-cell-h3",
    "is_collapsed": false,
    "tags": []
   },
   "source": [
    "The $p$-value, 0.003645, is less than $\\alpha$, so we have evidence to reject the\n",
    "null hypothesis and conclude that the actual population mean $\\mu$ is significantly\n",
    "less than the hypothesized value of $m=30$.\n",
    "\n",
    "### Left-tailed test\n",
    "\n",
    "In a left-tailed hypothesis test, the null hypothesis is that the population mean\n",
    "is less than or equal to a chosen value, $H_0: \\mu \\le m$.\n",
    "\n",
    "Most of the code below is the same as above, but we repeat it to make it easy to\n",
    "copy and paste.  Only the computation of the $p$-value changes."
   ]
  },
  {
   "cell_type": "code",
   "execution_count": 9,
   "metadata": {
    "cell_id": "00018-5bc7061d-f948-4cbe-aef7-cd96a5ec9e89",
    "deepnote_cell_type": "code",
    "deepnote_to_be_reexecuted": false,
    "execution_millis": 43,
    "execution_start": 1629323608729,
    "source_hash": "9a70c0e4",
    "tags": []
   },
   "outputs": [
    {
     "data": {
      "text/plain": [
       "0.9963548209542322"
      ]
     },
     "execution_count": 9,
     "metadata": {},
     "output_type": "execute_result"
    }
   ],
   "source": [
    "from scipy import stats\n",
    "import numpy as np\n",
    "m = 30                                         # hypothesized mean\n",
    "n = len(sample)                                # number of observations\n",
    "xbar = np.mean(sample)                         # sample mean\n",
    "test_stat = (xbar - m) / (pop_std/np.sqrt(n))  # test statistic\n",
    "stats.norm.sf(-abs(test_stat))                 # left-tailed p-value"
   ]
  },
  {
   "cell_type": "markdown",
   "metadata": {},
   "source": [
    "The $p$-value, 0.99635, is greater than $\\alpha$, so wwe do not have sufficient\n",
    "evidence to conclude that $\\mu>m$ and should continue to accept the null hypothesis,\n",
    "that $\\mu\\le m$."
   ]
  }
 ],
 "metadata": {
  "interpreter": {
   "hash": "d4d1e4263499bec80672ea0156c357c1ee493ec2b1c70f0acce89fc37c4a6abe"
  },
  "kernelspec": {
   "display_name": "Python 3.9.6 64-bit ('base': conda)",
   "name": "python3"
  },
  "language_info": {
   "codemirror_mode": {
    "name": "ipython",
    "version": 3
   },
   "file_extension": ".py",
   "mimetype": "text/x-python",
   "name": "python",
   "nbconvert_exporter": "python",
   "pygments_lexer": "ipython3",
   "version": "3.9.7"
  },
  "orig_nbformat": 2
 },
 "nbformat": 4,
 "nbformat_minor": 2
}
