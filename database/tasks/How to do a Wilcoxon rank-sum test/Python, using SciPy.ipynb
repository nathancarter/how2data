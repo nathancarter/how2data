{
 "cells": [
  {
   "cell_type": "markdown",
   "metadata": {},
   "source": [
    "---\n",
    "author: Elizabeth Czarniak (CZARNIA_ELIZ@bentley.edu)\n",
    "---"
   ]
  },
  {
   "cell_type": "markdown",
   "metadata": {
    "cell_id": "00004-6b4d23ba-2e41-42e9-af54-260127f6d46b",
    "deepnote_cell_type": "markdown",
    "tags": []
   },
   "source": [
    "We're going to use fake data for illustrative purposes,\n",
    "but you can replace our fake data with your real data.\n",
    "Say our first sample, $x_1, x_2, x_3, \\ldots x_n$, has median $m_1$,\n",
    "and our second sample, $x'_1, x'_2, x'_3, \\ldots x'_m$, has median $m_2$."
   ]
  },
  {
   "cell_type": "code",
   "execution_count": 1,
   "metadata": {
    "cell_id": "00000-b9cbe2dd-68fd-43d1-8ea2-81f52cfac0fb",
    "deepnote_cell_type": "code",
    "tags": []
   },
   "outputs": [],
   "source": [
    "import numpy as np\n",
    "# Replace sample1 and sample2 with your data\n",
    "sample1 = np.array([56, 31, 190, 176, 119, 15, 140, 152, 167])\n",
    "sample2 = np.array([45, 36, 78, 54, 12, 25, 39, 48, 52, 70, 85])"
   ]
  },
  {
   "cell_type": "markdown",
   "metadata": {
    "cell_id": "00008-2773a9d3-5f05-439e-99c9-a8febdec64b5",
    "deepnote_cell_type": "markdown",
    "tags": []
   },
   "source": [
    "We choose a value, $0 \\le \\alpha \\le 1$, as the Type I Error Rate. We'll let $\\alpha$ be 0.05.\n",
    "\n",
    "### Two-tailed test\n",
    "\n",
    "To test the null hypothesis $H_0: m_1 - m_2 = 0$, that is, $m_1=m_2$, we use a two-tailed test:"
   ]
  },
  {
   "cell_type": "code",
   "execution_count": 2,
   "metadata": {
    "cell_id": "00007-ecf66b84-34aa-4c28-81be-e6f4e836055e",
    "deepnote_cell_type": "code",
    "tags": []
   },
   "outputs": [
    {
     "data": {
      "text/plain": [
       "RanksumsResult(statistic=2.0892772350933626, pvalue=0.03668277440246522)"
      ]
     },
     "execution_count": 2,
     "metadata": {},
     "output_type": "execute_result"
    }
   ],
   "source": [
    "from scipy import stats\n",
    "from scipy.stats import ranksums\n",
    "ranksums(sample1, sample2)"
   ]
  },
  {
   "cell_type": "markdown",
   "metadata": {
    "cell_id": "00006-3019b581-d4e3-4d55-b5b9-2863a9674545",
    "deepnote_cell_type": "markdown",
    "tags": []
   },
   "source": [
    "Our p-value, $0.03668$, is less than $\\alpha=0.05$, so we have sufficient evidence\n",
    "to reject the null hypothesis. The population medians are significantly different\n",
    "from each other.\n",
    "\n",
    "(The output above is slightly different from the output you would get by running this test in R, because SciPy uses a normal distribution internally, but R uses a Wilcoxon distribution.)\n",
    "\n",
    "### Right-tailed test\n",
    "\n",
    "To test the null hypothesis $H_0: m_1 - m_2 \\le 0$, that is, $m_1\\le m_2$, we use a right-tailed test:"
   ]
  },
  {
   "cell_type": "code",
   "execution_count": 3,
   "metadata": {
    "cell_id": "00007-a8757bbf-6532-4d03-be56-b5ca775dacc4",
    "deepnote_cell_type": "code",
    "tags": []
   },
   "outputs": [
    {
     "data": {
      "text/plain": [
       "RanksumsResult(statistic=2.0892772350933626, pvalue=0.01834138720123261)"
      ]
     },
     "execution_count": 3,
     "metadata": {},
     "output_type": "execute_result"
    }
   ],
   "source": [
    "ranksums(sample1, sample2, alternative = 'greater')"
   ]
  },
  {
   "cell_type": "markdown",
   "metadata": {
    "cell_id": "00008-9d63d663-33ad-415f-9cad-b78cdcf24435",
    "deepnote_cell_type": "markdown",
    "tags": []
   },
   "source": [
    "Our p-value, $0.01834$, is less than $\\alpha=0.05$, so we have sufficient evidence\n",
    "to reject the null hypothesis. The first population medians is significantly greater\n",
    "second.\n",
    "\n",
    "(The output above is slightly different from the output you would get by running this test in R, because SciPy uses a normal distribution internally, but R uses a Wilcoxon distribution.)\n",
    "\n",
    "### Left-tailed test\n",
    "\n",
    "To test the null hypothesis $H_0: m_1 - m_2 \\ge 0$, that is, $m_1\\ge m_2$, we use a left-tailed test:"
   ]
  },
  {
   "cell_type": "code",
   "execution_count": 4,
   "metadata": {
    "cell_id": "00009-674a3535-17ed-4b4f-bae6-e850eb135178",
    "deepnote_cell_type": "code",
    "tags": []
   },
   "outputs": [
    {
     "data": {
      "text/plain": [
       "RanksumsResult(statistic=2.0892772350933626, pvalue=0.9816586127987674)"
      ]
     },
     "execution_count": 4,
     "metadata": {},
     "output_type": "execute_result"
    }
   ],
   "source": [
    "ranksums(sample1, sample2, alternative = 'less')"
   ]
  },
  {
   "cell_type": "markdown",
   "metadata": {
    "cell_id": "00010-3a4170e2-ae1f-4594-822a-d421c35cbb58",
    "deepnote_cell_type": "markdown",
    "tags": []
   },
   "source": [
    "Our p-value, $0.98165$, is greater than $\\alpha$, so we do not have sufficient\n",
    "evidence to reject the null hypothesis. The first population median is not\n",
    "significantly smaller than the second population median.\n",
    "\n",
    "(The output above is slightly different from the output you would get by running this test in R, because SciPy uses a normal distribution internally, but R uses a Wilcoxon distribution.)"
   ]
  }
 ],
 "metadata": {
  "interpreter": {
   "hash": "d4d1e4263499bec80672ea0156c357c1ee493ec2b1c70f0acce89fc37c4a6abe"
  },
  "kernelspec": {
   "display_name": "Python 3.9.7 64-bit ('base': conda)",
   "name": "python3"
  },
  "language_info": {
   "codemirror_mode": {
    "name": "ipython",
    "version": 3
   },
   "file_extension": ".py",
   "mimetype": "text/x-python",
   "name": "python",
   "nbconvert_exporter": "python",
   "pygments_lexer": "ipython3",
   "version": "3.9.6"
  },
  "orig_nbformat": 2
 },
 "nbformat": 4,
 "nbformat_minor": 2
}
