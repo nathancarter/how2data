{
 "metadata": {
  "language_info": {
   "codemirror_mode": {
    "name": "ipython",
    "version": 3
   },
   "file_extension": ".py",
   "mimetype": "text/x-python",
   "name": "python",
   "nbconvert_exporter": "python",
   "pygments_lexer": "ipython3",
   "version": "3.9.2"
  },
  "orig_nbformat": 2,
  "kernelspec": {
   "name": "python392jvsc74a57bd098b0a9b7b4eaaa670588a142fd0a9b87eaafe866f1db4228be72b4211d12040f",
   "display_name": "Python 3.9.2 64-bit ('base': conda)"
  }
 },
 "nbformat": 4,
 "nbformat_minor": 2,
 "cells": [
  {
   "source": [
    "---\n",
    "author: Nathan Carter (ncarter@bentley.edu)\n",
    "---\n",
    "\n",
    "This answer assumes you have imported SymPy as follows."
   ],
   "cell_type": "markdown",
   "metadata": {}
  },
  {
   "cell_type": "code",
   "execution_count": 2,
   "metadata": {},
   "outputs": [],
   "source": [
    "from sympy import *                   # load all math functions\n",
    "init_printing( use_latex='mathjax' )  # use pretty math output"
   ]
  },
  {
   "source": [
    "Let's say we want to write the equation $x^2+y^2=2$.\n",
    "We must first define $x$ and $y$ as mathematical variables,\n",
    "then use SymPy's `Eq` function to build an equation.\n",
    "This helps SymPy distinguish a mathematical equation\n",
    "from a Python assignment statement."
   ],
   "cell_type": "markdown",
   "metadata": {}
  },
  {
   "cell_type": "code",
   "execution_count": 3,
   "metadata": {},
   "outputs": [
    {
     "output_type": "execute_result",
     "data": {
      "text/plain": [
       " 2    2    \n",
       "x  + y  = 2"
      ],
      "text/latex": "$\\displaystyle x^{2} + y^{2} = 2$"
     },
     "metadata": {},
     "execution_count": 3
    }
   ],
   "source": [
    "var( 'x y' )\n",
    "Eq( x**2 + y**2, 2 )    # Two parameters: left and right sides of equation"
   ]
  },
  {
   "source": [
    "You can make a system of equations just by placing several equations in a Python list."
   ],
   "cell_type": "markdown",
   "metadata": {}
  },
  {
   "cell_type": "code",
   "execution_count": 4,
   "metadata": {},
   "outputs": [
    {
     "output_type": "execute_result",
     "data": {
      "text/plain": [
       "[x + 2⋅y = 1, x - 9⋅y = 5]"
      ],
      "text/latex": "$\\displaystyle \\left[ x + 2 y = 1, \\  x - 9 y = 5\\right]$"
     },
     "metadata": {},
     "execution_count": 4
    }
   ],
   "source": [
    "system = [\n",
    "    Eq( x + 2*y, 1 ),\n",
    "    Eq( x - 9*y, 5 )\n",
    "]\n",
    "system"
   ]
  }
 ]
}