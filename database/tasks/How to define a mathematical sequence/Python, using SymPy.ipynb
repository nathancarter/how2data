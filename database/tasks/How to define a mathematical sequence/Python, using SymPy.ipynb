{
 "metadata": {
  "language_info": {
   "codemirror_mode": {
    "name": "ipython",
    "version": 3
   },
   "file_extension": ".py",
   "mimetype": "text/x-python",
   "name": "python",
   "nbconvert_exporter": "python",
   "pygments_lexer": "ipython3",
   "version": "3.9.2"
  },
  "orig_nbformat": 2,
  "kernelspec": {
   "name": "python392jvsc74a57bd098b0a9b7b4eaaa670588a142fd0a9b87eaafe866f1db4228be72b4211d12040f",
   "display_name": "Python 3.9.2 64-bit ('base': conda)"
  }
 },
 "nbformat": 4,
 "nbformat_minor": 2,
 "cells": [
  {
   "source": [
    "---\n",
    "author: Nathan Carter (ncarter@bentley.edu)\n",
    "---\n",
    "\n",
    "This answer assumes you have imported SymPy as follows."
   ],
   "cell_type": "markdown",
   "metadata": {}
  },
  {
   "cell_type": "code",
   "execution_count": 2,
   "metadata": {},
   "outputs": [],
   "source": [
    "from sympy import *                   # load all math functions\n",
    "init_printing( use_latex='mathjax' )  # use pretty math output"
   ]
  },
  {
   "source": [
    "Sequences are typically written in terms of an independent variable $n$,\n",
    "so we will tell SymPy to use $n$ as a symbol, then define our sequence\n",
    "in terms of $n$.\n",
    "\n",
    "We define a term of an example sequence as $a_n=\\frac{1}{n+1}$, then\n",
    "build a sequence from that term.  The code `(n,0,oo)` means that $n$\n",
    "starts counting at $n=0$ and goes on forever (with `oo` being the SymPy\n",
    "notation for $\\infty$)."
   ],
   "cell_type": "markdown",
   "metadata": {}
  },
  {
   "cell_type": "code",
   "execution_count": 3,
   "metadata": {},
   "outputs": [
    {
     "output_type": "execute_result",
     "data": {
      "text/plain": [
       "[1, 1/2, 1/3, 1/4, …]"
      ],
      "text/latex": "$\\displaystyle \\left[1, \\frac{1}{2}, \\frac{1}{3}, \\frac{1}{4}, \\ldots\\right]$"
     },
     "metadata": {},
     "execution_count": 3
    }
   ],
   "source": [
    "var( 'n' )                       # use n as a symbol\n",
    "a_n = 1 / ( n + 1 )              # formula for a term\n",
    "seq = sequence( a_n, (n,0,oo) )  # build the sequence\n",
    "seq"
   ]
  },
  {
   "source": [
    "You can ask for specific terms in the sequence, or many terms in a row, as follows."
   ],
   "cell_type": "markdown",
   "metadata": {}
  },
  {
   "cell_type": "code",
   "execution_count": 4,
   "metadata": {},
   "outputs": [
    {
     "output_type": "execute_result",
     "data": {
      "text/plain": [
       "1/21"
      ],
      "text/latex": "$\\displaystyle \\frac{1}{21}$"
     },
     "metadata": {},
     "execution_count": 4
    }
   ],
   "source": [
    "seq[20]"
   ]
  },
  {
   "cell_type": "code",
   "execution_count": 5,
   "metadata": {},
   "outputs": [
    {
     "output_type": "execute_result",
     "data": {
      "text/plain": [
       "[1, 1/2, 1/3, 1/4, 1/5, 1/6, 1/7, 1/8, 1/9, 1/10]"
      ],
      "text/latex": "$\\displaystyle \\left[ 1, \\  \\frac{1}{2}, \\  \\frac{1}{3}, \\  \\frac{1}{4}, \\  \\frac{1}{5}, \\  \\frac{1}{6}, \\  \\frac{1}{7}, \\  \\frac{1}{8}, \\  \\frac{1}{9}, \\  \\frac{1}{10}\\right]$"
     },
     "metadata": {},
     "execution_count": 5
    }
   ],
   "source": [
    "seq[:10]"
   ]
  },
  {
   "source": [
    "You can compute the limit of a sequence,\n",
    "\n",
    "$$ \\lim_{n\\to\\infty} a_n. $$"
   ],
   "cell_type": "markdown",
   "metadata": {}
  },
  {
   "cell_type": "code",
   "execution_count": 6,
   "metadata": {},
   "outputs": [
    {
     "output_type": "execute_result",
     "data": {
      "text/plain": [
       "0"
      ],
      "text/latex": "$\\displaystyle 0$"
     },
     "metadata": {},
     "execution_count": 6
    }
   ],
   "source": [
    "limit( a_n, n, oo )"
   ]
  }
 ]
}