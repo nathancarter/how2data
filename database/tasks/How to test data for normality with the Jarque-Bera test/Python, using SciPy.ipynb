{
 "cells": [
  {
   "cell_type": "markdown",
   "source": [
    "---\n",
    "author: Elizabeth Czarniak (CZARNIA_ELIZ@bentley.edu)\n",
    "---"
   ],
   "metadata": {}
  },
  {
   "cell_type": "markdown",
   "source": [
    "We're going to use some fake restaurant data,\n",
    "but you can replace our fake data with your real data in the code below.\n",
    "The values in our fake data represent the amount of money that customers spent\n",
    "on a Sunday morning at the restaurant."
   ],
   "metadata": {
    "tags": [],
    "cell_id": "00004-f566b7a3-579f-4236-b99b-daf63ded35a5",
    "deepnote_cell_type": "markdown"
   }
  },
  {
   "cell_type": "code",
   "execution_count": null,
   "source": [
    "# Replace your data here\n",
    "spending = [ 34, 12, 19, 56, 54, 34, 45, 37, 13, 22, 65, 19,\n",
    "             16, 45, 19, 50, 36, 23, 28, 56, 40, 61, 45, 47, 37 ]"
   ],
   "outputs": [
    {
     "output_type": "execute_result",
     "data": {
      "text/plain": [
       "Jarque_beraResult(statistic=1.677635350272003, pvalue=0.43222124737629575)"
      ]
     },
     "metadata": {},
     "execution_count": 2
    }
   ],
   "metadata": {
    "tags": [],
    "cell_id": "00000-b3faf81c-97a1-4b13-be1e-7880c717cf46",
    "deepnote_to_be_reexecuted": false,
    "source_hash": "7bbc8345",
    "execution_start": 1627935522733,
    "execution_millis": 7,
    "deepnote_cell_type": "code"
   }
  },
  {
   "cell_type": "markdown",
   "source": [
    "If we assume that the skewness coefficient $S$ and the kurtosis coefficient $K$\n",
    "are both equal to zero, then our null hypothesis is $H_0: S=K=0$,\n",
    "or that the sample data comes from a normal distribution.\n",
    "We choose a value $0 \\le \\alpha \\le 1$ as our Type 1 error rate.\n",
    "We'll let $\\alpha$ be 0.05 here.\n",
    "\n",
    "We can use the `jarque_bera()` function in SciPy's stats package to run the hypothesis test."
   ],
   "metadata": {}
  },
  {
   "cell_type": "code",
   "execution_count": null,
   "source": [
    "from scipy import stats\n",
    "stats.jarque_bera( spending )"
   ],
   "outputs": [],
   "metadata": {}
  },
  {
   "cell_type": "markdown",
   "source": [
    "Our $p$-value of about $0.5131$ is greater than $\\alpha$, so we fail to reject our null hypothesis.\n",
    "We would continue to operate under our original assumption that the data come from a normally distributed population."
   ],
   "metadata": {
    "tags": [],
    "cell_id": "00006-9165c2f0-5811-40a6-a332-bf6f0695bb97",
    "deepnote_cell_type": "markdown"
   }
  }
 ],
 "nbformat": 4,
 "nbformat_minor": 2,
 "metadata": {
  "orig_nbformat": 2,
  "language_info": {
   "name": "plaintext"
  }
 }
}