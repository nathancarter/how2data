{
  "cells": [
    {
      "cell_type": "markdown",
      "source": [
        "Suppose you are given a dataset that has more than one treatment level and you wish to see if there is a unit-level treatment effect. How would you check that?"
      ],
      "metadata": {
        "tags": [],
        "cell_id": "00000-dd7d64bd-ecd1-423c-96c4-00e89fd1b7d7",
        "deepnote_cell_type": "markdown"
      }
    }
  ],
  "metadata": {
    "orig_nbformat": 2,
    "deepnote": {
      "is_reactive": false
    },
    "deepnote_notebook_id": "2606c51e-06b6-4da7-89ec-bc6fce7ebd47",
    "deepnote_execution_queue": [],
    "nteract": {
      "version": "0.28.0"
    },
    "language_info": {
      "name": "python"
    }
  },
  "nbformat": 4,
  "nbformat_minor": 2
}