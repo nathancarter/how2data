{
  "cells": [
    {
      "cell_type": "markdown",
      "source": [
        "---\n",
        "author: Krtin Juneja (KJUNEJA@falcon.bentley.edu)\n",
        "---"
      ],
      "metadata": {
        "nteract": {
          "transient": {
            "deleting": false
          }
        }
      }
    },
    {
      "cell_type": "markdown",
      "source": [
        "The solution below uses an example dataset about the teeth of 10 guinea pigs at three Vitamin C dosage levels (in mg) with two delivery methods (orange juice vs. ascorbic acid).  (See how to quickly load some sample data.)"
      ],
      "metadata": {
        "tags": [],
        "cell_id": "00000-bfbf62b3-38d2-465b-98fc-1c2e2a429dff",
        "deepnote_cell_type": "markdown"
      }
    },
    {
      "cell_type": "code",
      "execution_count": 1,
      "source": [
        "from rdatasets import data\n",
        "df = data('ToothGrowth')"
      ],
      "outputs": [],
      "metadata": {
        "tags": [],
        "cell_id": "00001-663e0c93-5200-4700-9ef5-b6776235aa87",
        "deepnote_to_be_reexecuted": false,
        "source_hash": "3efdab3d",
        "execution_start": 1626633316972,
        "execution_millis": 8,
        "deepnote_cell_type": "code"
      }
    },
    {
      "cell_type": "markdown",
      "source": [
        "In this dataset, there are only two treatments (orange juice and ascorbic acid, in the variable \"supp\").  We can therefore perrform a two-sample $t$ test. But first we must filter the outcome variable \"len\" (tooth length) based on \"supp.\""
      ],
      "metadata": {
        "tags": [],
        "cell_id": "00002-242fa0db-f6bd-4b8b-9994-93ae8a22fc40",
        "deepnote_cell_type": "markdown"
      }
    },
    {
      "cell_type": "code",
      "execution_count": 2,
      "source": [
        "subjects_receiving_oj = df[df['supp']=='OJ']['len']\n",
        "subjects_receiving_vc = df[df['supp']=='VC']['len']\n",
        "\n",
        "import scipy.stats as stats\n",
        "stats.ttest_ind( subjects_receiving_oj, subjects_receiving_vc, equal_var=False )"
      ],
      "outputs": [
        {
          "output_type": "execute_result",
          "data": {
            "text/plain": [
              "Ttest_indResult(statistic=1.91526826869527, pvalue=0.06063450788093387)"
            ]
          },
          "metadata": {},
          "execution_count": 2
        }
      ],
      "metadata": {
        "tags": [],
        "cell_id": "00003-e88454b4-571c-4052-b76b-619675200cb1",
        "deepnote_to_be_reexecuted": false,
        "source_hash": "d43df127",
        "execution_start": 1626633316991,
        "execution_millis": 810,
        "deepnote_cell_type": "code"
      }
    },
    {
      "cell_type": "markdown",
      "source": [
        "At the 5% significance level, we see that the length of the tooth does not differ between the two delivery methods. We assume that the model assumptions are met, but do not check that here.\n",
        "\n",
        "If there are multiple levels (two or more), you can apply the parametric ANOVA test which in this case will provide a similar $p$ value."
      ],
      "metadata": {
        "tags": [],
        "cell_id": "00003-9da37a6f-6bb5-435c-9c4f-7100f469dbed",
        "deepnote_cell_type": "markdown"
      }
    },
    {
      "cell_type": "code",
      "execution_count": 3,
      "source": [
        "from statsmodels.formula.api import ols\n",
        "model = ols('len ~ supp', data = df).fit()\n",
        "\n",
        "import statsmodels.api as sm\n",
        "sm.stats.anova_lm(model, typ=1)"
      ],
      "outputs": [
        {
          "output_type": "execute_result",
          "data": {
            "text/plain": [
              "            df       sum_sq     mean_sq         F    PR(>F)\n",
              "supp       1.0   205.350000  205.350000  3.668253  0.060393\n",
              "Residual  58.0  3246.859333   55.980333       NaN       NaN"
            ],
            "text/html": [
              "<div>\n",
              "<style scoped>\n",
              "    .dataframe tbody tr th:only-of-type {\n",
              "        vertical-align: middle;\n",
              "    }\n",
              "\n",
              "    .dataframe tbody tr th {\n",
              "        vertical-align: top;\n",
              "    }\n",
              "\n",
              "    .dataframe thead th {\n",
              "        text-align: right;\n",
              "    }\n",
              "</style>\n",
              "<table border=\"1\" class=\"dataframe\">\n",
              "  <thead>\n",
              "    <tr style=\"text-align: right;\">\n",
              "      <th></th>\n",
              "      <th>df</th>\n",
              "      <th>sum_sq</th>\n",
              "      <th>mean_sq</th>\n",
              "      <th>F</th>\n",
              "      <th>PR(&gt;F)</th>\n",
              "    </tr>\n",
              "  </thead>\n",
              "  <tbody>\n",
              "    <tr>\n",
              "      <th>supp</th>\n",
              "      <td>1.0</td>\n",
              "      <td>205.350000</td>\n",
              "      <td>205.350000</td>\n",
              "      <td>3.668253</td>\n",
              "      <td>0.060393</td>\n",
              "    </tr>\n",
              "    <tr>\n",
              "      <th>Residual</th>\n",
              "      <td>58.0</td>\n",
              "      <td>3246.859333</td>\n",
              "      <td>55.980333</td>\n",
              "      <td>NaN</td>\n",
              "      <td>NaN</td>\n",
              "    </tr>\n",
              "  </tbody>\n",
              "</table>\n",
              "</div>"
            ]
          },
          "metadata": {},
          "execution_count": 3
        }
      ],
      "metadata": {
        "tags": [],
        "cell_id": "00003-000f6552-92f3-428c-8418-874f7845f321",
        "deepnote_to_be_reexecuted": false,
        "source_hash": "e74ff0ff",
        "execution_start": 1626633317799,
        "execution_millis": 475,
        "deepnote_cell_type": "code"
      }
    },
    {
      "cell_type": "markdown",
      "source": [
        "We see the $p$ value in the final column is very similar.\n",
        "\n",
        "However, if the assumptions of ANOVA are not met, we can utilize a nonparametric approach via the Kruskal-Wallis Test. We use the filtered variables defined above and import the `kruskal` function from SciPy."
      ],
      "metadata": {
        "tags": [],
        "cell_id": "00004-fd34f9b0-df8e-4434-a3de-1ecb876ab312",
        "deepnote_cell_type": "markdown"
      }
    },
    {
      "cell_type": "code",
      "execution_count": 4,
      "source": [
        "from scipy.stats import kruskal\n",
        "kruskal( subjects_receiving_oj, subjects_receiving_vc )"
      ],
      "outputs": [
        {
          "output_type": "execute_result",
          "data": {
            "text/plain": [
              "KruskalResult(statistic=3.4453580631407035, pvalue=0.06342967639688878)"
            ]
          },
          "metadata": {},
          "execution_count": 4
        }
      ],
      "metadata": {
        "tags": [],
        "cell_id": "00006-e5f5e711-02e3-4fb4-8097-b2d593416703",
        "deepnote_to_be_reexecuted": false,
        "source_hash": "651fe4ce",
        "execution_start": 1626633318283,
        "execution_millis": 7,
        "deepnote_cell_type": "code"
      }
    },
    {
      "cell_type": "markdown",
      "source": [
        "Similar to the previous results, the length of the tooth does not differ between the delivery methods at the 5% significance level. "
      ],
      "metadata": {
        "tags": [],
        "cell_id": "00007-dafc5d87-ac98-4796-b532-bbcf8566ba5a",
        "deepnote_cell_type": "markdown"
      }
    }
  ],
  "metadata": {
    "orig_nbformat": 2,
    "deepnote": {
      "is_reactive": false
    },
    "deepnote_notebook_id": "4792036b-4ef7-44eb-836c-7e96a75c1322",
    "deepnote_execution_queue": [],
    "nteract": {
      "version": "0.28.0"
    },
    "language_info": {
      "name": "python",
      "version": "3.9.5",
      "mimetype": "text/x-python",
      "codemirror_mode": {
        "name": "ipython",
        "version": 3
      },
      "pygments_lexer": "ipython3",
      "nbconvert_exporter": "python",
      "file_extension": ".py"
    },
    "kernelspec": {
      "name": "python3",
      "display_name": "Python 3.9.5 64-bit ('base': conda)"
    },
    "interpreter": {
      "hash": "98b0a9b7b4eaaa670588a142fd0a9b87eaafe866f1db4228be72b4211d12040f"
    }
  },
  "nbformat": 4,
  "nbformat_minor": 2
}