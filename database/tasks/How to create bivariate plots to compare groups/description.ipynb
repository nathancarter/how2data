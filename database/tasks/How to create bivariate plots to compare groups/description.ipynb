{
  "cells": [
    {
      "cell_type": "markdown",
      "source": [
        "Suppose we have a dataset with different treatment conditions and an outcome variable, and we want to perform exploratory data analysis. How would we visually compare the treatment conditions with regards to the outcome variable? \n",
        "\n",
        "Related tasks:\n",
        "\n",
        " * How to create basic plots\n",
        " * How to add details to a plot\n",
        " * How to create a histogram\n",
        " * How to create a box (and whisker) plot\n",
        " * How to change axes, ticks, and scale in a plot\n"
      ],
      "metadata": {
        "tags": [],
        "cell_id": "00000-32c6b77a-34c0-4405-86ee-c6d4f6ce50e0",
        "deepnote_cell_type": "markdown"
      }
    }
  ],
  "metadata": {
    "orig_nbformat": 2,
    "deepnote": {
      "is_reactive": false
    },
    "deepnote_notebook_id": "ec837b2b-1cf0-44ba-9d26-687d65648fb1",
    "deepnote_execution_queue": [],
    "nteract": {
      "version": "0.28.0"
    },
    "language_info": {
      "name": "python"
    }
  },
  "nbformat": 4,
  "nbformat_minor": 2
}