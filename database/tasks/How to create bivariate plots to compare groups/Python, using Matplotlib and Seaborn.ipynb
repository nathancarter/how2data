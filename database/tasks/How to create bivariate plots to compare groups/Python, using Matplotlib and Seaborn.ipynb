{
  "cells": [
    {
      "cell_type": "markdown",
      "source": [
        "---\n",
        "author: Krtin Juneja (KJUNEJA@falcon.bentley.edu)\n",
        "---"
      ],
      "metadata": {
        "nteract": {
          "transient": {
            "deleting": false
          }
        }
      }
    },
    {
      "cell_type": "markdown",
      "source": [
        "The solution below uses an example dataset about the teeth of 10 guinea pigs at three Vitamin C dosage levels (in mg) with two delivery methods (orange juice vs. ascorbic acid).  (See how to quickly load some sample data.)"
      ],
      "metadata": {
        "tags": [],
        "cell_id": "00000-cf7aaffc-aa63-4477-a342-556a58ec1088",
        "deepnote_cell_type": "markdown"
      }
    },
    {
      "cell_type": "code",
      "execution_count": 1,
      "source": [
        "from rdatasets import data\n",
        "df = data('ToothGrowth')"
      ],
      "outputs": [],
      "metadata": {
        "tags": [],
        "cell_id": "00001-963a7869-ed17-4fdb-8d6c-b2f1a721d5ab",
        "deepnote_to_be_reexecuted": false,
        "source_hash": "3efdab3d",
        "execution_start": 1626012552914,
        "execution_millis": 3,
        "deepnote_cell_type": "code"
      }
    },
    {
      "cell_type": "markdown",
      "source": [
        "If you wish to understand the distribution of a numeric variable (here \"len\") compared across different values of a categorical variable (here \"supp\"), you can construct a bivariate histogram.  We use Seaborn and Matplotlib to do so."
      ],
      "metadata": {
        "tags": [],
        "cell_id": "00002-03de9dff-1148-4c39-a7fc-80e86fcda6cb",
        "deepnote_cell_type": "markdown"
      }
    },
    {
      "cell_type": "code",
      "execution_count": 2,
      "source": [
        "import seaborn as sns\n",
        "import matplotlib.pyplot as plt\n",
        "sns.displot(df, x=\"len\", col=\"supp\", stat=\"density\")\n",
        "plt.show()"
      ],
      "outputs": [
        {
          "output_type": "display_data",
          "data": {
            "text/plain": [
              "<Figure size 720x360 with 2 Axes>"
            ],
            "image/png": "[encoded data removed]"
          },
          "metadata": {
            "needs_background": "light"
          }
        }
      ],
      "metadata": {
        "tags": [],
        "cell_id": "00002-3b7a17d0-8d64-4841-aceb-36fbe1e9ac12",
        "deepnote_to_be_reexecuted": false,
        "source_hash": "f5a9e620",
        "execution_start": 1626012552958,
        "execution_millis": 1590,
        "deepnote_cell_type": "code"
      }
    },
    {
      "cell_type": "markdown",
      "source": [
        "To visualize the same information summarized using quartiles only, you can construct a bivariate box plot."
      ],
      "metadata": {
        "tags": [],
        "cell_id": "00004-a7f93012-1e7c-48ea-9eb8-3f2802e5d2e6",
        "deepnote_cell_type": "markdown"
      }
    },
    {
      "cell_type": "code",
      "execution_count": 3,
      "source": [
        "sns.boxplot(x=\"supp\", y=\"len\", data = df, order = ['OJ','VC'])\n",
        "plt.show()"
      ],
      "outputs": [
        {
          "output_type": "display_data",
          "data": {
            "text/plain": [
              "<Figure size 432x288 with 1 Axes>"
            ],
            "image/png": "[encoded data removed]"
          },
          "metadata": {
            "needs_background": "light"
          }
        }
      ],
      "metadata": {
        "tags": [],
        "cell_id": "00003-4d8a8cc4-c009-4259-8d09-060fccb684d3",
        "deepnote_to_be_reexecuted": false,
        "source_hash": "632e8e8e",
        "execution_start": 1626012554593,
        "execution_millis": 157,
        "deepnote_cell_type": "code"
      }
    },
    {
      "cell_type": "markdown",
      "source": [
        "Even more simply, we may wish to plot just the means and 95% confidence intervals around the mean for the quantitative variable, for each of the values of the categorical variable.  We do so with a point plot."
      ],
      "metadata": {
        "tags": [],
        "cell_id": "00006-a4b0778e-bfc7-4120-86fa-ed8c607a3364",
        "deepnote_cell_type": "markdown"
      }
    },
    {
      "cell_type": "code",
      "execution_count": 4,
      "source": [
        "sns.pointplot(x = 'supp', y = 'len', data = df,\n",
        "              ci = 95,        # Which confidence interval?  Here 95%.\n",
        "              capsize = 0.1)  # Size of \"cap\" drawn on each confidence interval.\n",
        "plt.show()"
      ],
      "outputs": [
        {
          "output_type": "display_data",
          "data": {
            "text/plain": [
              "<Figure size 432x288 with 1 Axes>"
            ],
            "image/png": "[encoded data removed]"
          },
          "metadata": {
            "needs_background": "light"
          }
        }
      ],
      "metadata": {
        "tags": [],
        "cell_id": "00006-ad976a11-1cef-4284-b4a1-3ba149d9fdfc",
        "deepnote_to_be_reexecuted": false,
        "source_hash": "30f30feb",
        "execution_start": 1626012602158,
        "execution_millis": 298,
        "deepnote_cell_type": "code"
      }
    }
  ],
  "metadata": {
    "orig_nbformat": 2,
    "deepnote": {
      "is_reactive": false
    },
    "deepnote_notebook_id": "9a11ec47-e718-458e-ad46-59a4ebbc68fd",
    "deepnote_execution_queue": [],
    "nteract": {
      "version": "0.28.0"
    },
    "language_info": {
      "name": "python",
      "version": "3.9.5",
      "mimetype": "text/x-python",
      "codemirror_mode": {
        "name": "ipython",
        "version": 3
      },
      "pygments_lexer": "ipython3",
      "nbconvert_exporter": "python",
      "file_extension": ".py"
    },
    "kernelspec": {
      "name": "python3",
      "display_name": "Python 3.9.5 64-bit ('base': conda)"
    },
    "interpreter": {
      "hash": "98b0a9b7b4eaaa670588a142fd0a9b87eaafe866f1db4228be72b4211d12040f"
    }
  },
  "nbformat": 4,
  "nbformat_minor": 2
}