{
 "cells": [
  {
   "cell_type": "markdown",
   "source": [
    "---\n",
    "author: Elizabeth Czarniak (CZARNIA_ELIZ@bentley.edu)\n",
    "---"
   ],
   "metadata": {}
  },
  {
   "cell_type": "markdown",
   "source": [
    "We're going to use some fake data here to illustrate how to make the confidence\n",
    "interval. Replace our fake data and population variances with your actual data\n",
    "and population variances if you use this code."
   ],
   "metadata": {
    "tags": [],
    "cell_id": "00004-b9cf0eb0-b840-4245-a5a2-6167091ec673",
    "deepnote_cell_type": "markdown"
   }
  },
  {
   "cell_type": "code",
   "execution_count": null,
   "source": [
    "sample1 = [15, 10, 7, 22, 17, 14]\n",
    "sample2 = [9, 1, 11, 13, 3, 6]\n",
    "pop1_variance = 2.3\n",
    "pop2_variance = 3"
   ],
   "outputs": [],
   "metadata": {
    "tags": [],
    "cell_id": "00000-85c40c3d-4100-45b6-931e-58e81b794779",
    "deepnote_cell_type": "code"
   }
  },
  {
   "cell_type": "markdown",
   "source": [
    "We will need the size and mean of each sample."
   ],
   "metadata": {}
  },
  {
   "cell_type": "code",
   "execution_count": null,
   "source": [
    "import numpy as np\n",
    "n_sample1 = len(sample1)\n",
    "n_sample2 = len(sample2)\n",
    "xbar1 = np.mean(sample1)\n",
    "xbar2 = np.mean(sample2)"
   ],
   "outputs": [],
   "metadata": {}
  },
  {
   "cell_type": "markdown",
   "source": [
    "We can then use that data to create the confidence interval."
   ],
   "metadata": {}
  },
  {
   "cell_type": "code",
   "execution_count": null,
   "source": [
    "# Find the critical value from the normal distribution\n",
    "from scipy import stats\n",
    "alpha = 0.05       # replace with your chosen alpha (here, a 95% confidence level)\n",
    "critical_val = stats.norm.ppf(1-alpha/2)\n",
    "\n",
    "# Find the lower and upper bounds of the confidence interval\n",
    "upper_bound = (xbar1 - xbar2) + \\\n",
    "    critical_val*np.sqrt((pop1_variance/n_sample1) + (pop2_variance/n_sample2))\n",
    "lower_bound = (xbar1 - xbar2) - \\\n",
    "    critical_val*np.sqrt((pop1_variance/n_sample1) + (pop2_variance/n_sample2))\n",
    "lower_bound, upper_bound"
   ],
   "outputs": [],
   "metadata": {}
  },
  {
   "cell_type": "markdown",
   "source": [
    "Our 95% confidence interval for the true difference between the population means is $[5.1579, 8.842]$."
   ],
   "metadata": {
    "tags": [],
    "cell_id": "00006-d04a221a-e54e-4d2d-943e-b08abf86e5d2",
    "deepnote_cell_type": "markdown"
   }
  }
 ],
 "nbformat": 4,
 "nbformat_minor": 2,
 "metadata": {
  "orig_nbformat": 2,
  "language_info": {
   "name": "python"
  }
 }
}