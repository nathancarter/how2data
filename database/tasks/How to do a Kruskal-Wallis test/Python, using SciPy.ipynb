{
 "cells": [
  {
   "cell_type": "markdown",
   "source": [
    "---\n",
    "author: Elizabeth Czarniak (CZARNIA_ELIZ@bentley.edu)\n",
    "---"
   ],
   "metadata": {}
  },
  {
   "cell_type": "markdown",
   "source": [
    "For the purposes of this example, let's say we have a sample of GPAs from\n",
    "matriculated students at three Ivy League institutions:\n",
    "Harvard, Dartmouth, and Columbia. This is example data, and you can replace it\n",
    "with your actual data when you re-use this code.\n",
    "\n",
    "SciPy requires our data to be in NumPy arrays, as shown below.\n",
    "Note that pandas Series (e.g., columns in a DataFrame) are also NumPy arrays."
   ],
   "metadata": {
    "tags": [],
    "cell_id": "00003-491bb781-76a1-4945-933a-f8f7723665db",
    "deepnote_cell_type": "markdown"
   }
  },
  {
   "cell_type": "code",
   "execution_count": null,
   "source": [
    "import numpy as np\n",
    "# Replace the fake data below with your real data\n",
    "harvard   = np.array([3.40, 3.66, 3.90, 3.55, 3.90, 3.58])\n",
    "dartmouth = np.array([3.90, 3.97, 3.92, 3.83, 4.00, 3.68])\n",
    "columbia  = np.array([4.00, 3.75, 3.34])"
   ],
   "outputs": [],
   "metadata": {
    "tags": [],
    "cell_id": "00000-5452ee14-a580-4407-89f3-a2083851a127",
    "deepnote_to_be_reexecuted": false,
    "source_hash": "61d4dea2",
    "execution_start": 1627840636811,
    "execution_millis": 2,
    "deepnote_cell_type": "code"
   }
  },
  {
   "cell_type": "markdown",
   "source": [
    "The Kruskal-Willis Test uses a null hypothesis that the category medians are equal,\n",
    "$H_0: m_C = m_H = m_D \\le 0$.\n",
    "We choose $\\alpha$, or the Type I error rate, as 0.05 and run the test as shown below."
   ],
   "metadata": {
    "tags": [],
    "cell_id": "00005-3e763b88-c125-4d84-9cb8-dcbe697f018a",
    "deepnote_cell_type": "markdown"
   }
  },
  {
   "cell_type": "code",
   "execution_count": null,
   "source": [
    "from scipy import stats\n",
    "stats.kruskal(harvard, dartmouth, columbia)"
   ],
   "outputs": [
    {
     "output_type": "execute_result",
     "data": {
      "text/plain": [
       "KruskalResult(statistic=3.706006006006005, pvalue=0.15676569090635095)"
      ]
     },
     "metadata": {},
     "execution_count": 7
    }
   ],
   "metadata": {
    "tags": [],
    "cell_id": "00007-a2fae254-43dc-448f-a78f-128605a7a05a",
    "deepnote_to_be_reexecuted": false,
    "source_hash": "4218c17",
    "execution_start": 1627840640027,
    "execution_millis": 8,
    "deepnote_cell_type": "code"
   }
  },
  {
   "cell_type": "markdown",
   "source": [
    "The p-value, 0.1568, is greater than $\\alpha$, so we fail to reject the null hypothesis.\n",
    "We do not have sufficient evidence to conclude that the median GPAs\n",
    "of matriculated students at these three schools are different from each other."
   ],
   "metadata": {
    "tags": [],
    "cell_id": "00007-05c135d3-6375-4e1b-b17d-0f952f359072",
    "deepnote_cell_type": "markdown"
   }
  }
 ],
 "nbformat": 4,
 "nbformat_minor": 2,
 "metadata": {
  "orig_nbformat": 2,
  "language_info": {
   "name": "python"
  }
 }
}