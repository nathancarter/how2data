{
 "cells": [
  {
   "cell_type": "markdown",
   "metadata": {},
   "source": [
    "---\n",
    "author: Nathan Carter (ncarter@bentley.edu)\n",
    "---\n",
    "\n",
    "This answer assumes you have imported SymPy as follows."
   ]
  },
  {
   "cell_type": "code",
   "execution_count": 1,
   "metadata": {},
   "outputs": [],
   "source": [
    "from sympy import *                   # load all math functions\n",
    "init_printing( use_latex='mathjax' )  # use pretty math output"
   ]
  },
  {
   "cell_type": "markdown",
   "metadata": {},
   "source": [
    "Let's create an example function to work with."
   ]
  },
  {
   "cell_type": "code",
   "execution_count": 3,
   "metadata": {},
   "outputs": [
    {
     "data": {
      "text/latex": [
       "$\\displaystyle x^{3} + x y - 3 y^{2}$"
      ],
      "text/plain": [
       " 3            2\n",
       "x  + x⋅y - 3⋅y "
      ]
     },
     "execution_count": 3,
     "metadata": {},
     "output_type": "execute_result"
    }
   ],
   "source": [
    "var( 'x y' )\n",
    "formula = x**3 + x*y - 3*y**2\n",
    "formula"
   ]
  },
  {
   "attachments": {},
   "cell_type": "markdown",
   "metadata": {},
   "source": [
    "Critical numbers come in two kinds.  First, where are all partial derivatives zero?\n",
    "Second, where is a derivative undefined but the function is defined?\n",
    "\n",
    "Let's begin by finding where both partial derivatives are zero.\n",
    "Recall that a common notation for the partial derivatives is $f_x$ and $f_y$.\n",
    "We'll use the same techniques introduced in how to write symbolic equations and\n",
    "how to solve symbolic equations."
   ]
  },
  {
   "cell_type": "code",
   "execution_count": 6,
   "metadata": {},
   "outputs": [
    {
     "data": {
      "text/latex": [
       "$\\displaystyle \\left( 3 x^{2} + y, \\  x - 6 y\\right)$"
      ],
      "text/plain": [
       "⎛   2             ⎞\n",
       "⎝3⋅x  + y, x - 6⋅y⎠"
      ]
     },
     "execution_count": 6,
     "metadata": {},
     "output_type": "execute_result"
    }
   ],
   "source": [
    "f_x = diff( formula, x )\n",
    "f_y = diff( formula, y )\n",
    "f_x, f_y"
   ]
  },
  {
   "attachments": {},
   "cell_type": "markdown",
   "metadata": {},
   "source": [
    "We can set both equal to zero and solve those equations simultaneously as follows.\n",
    "In other words, SymPy will solve $3x^2+y=0$ and $x-6y=0$ simultaneously for us."
   ]
  },
  {
   "cell_type": "code",
   "execution_count": 7,
   "metadata": {},
   "outputs": [
    {
     "data": {
      "text/latex": [
       "$\\displaystyle \\left[ \\left\\{ x : - \\frac{1}{18}, \\  y : - \\frac{1}{108}\\right\\}, \\  \\left\\{ x : 0, \\  y : 0\\right\\}\\right]$"
      ],
      "text/plain": [
       "[{x: -1/18, y: -1/108}, {x: 0, y: 0}]"
      ]
     },
     "execution_count": 7,
     "metadata": {},
     "output_type": "execute_result"
    }
   ],
   "source": [
    "solve( [ f_x, f_y ] )   # that is, f_x=0 and f_y=0"
   ]
  },
  {
   "attachments": {},
   "cell_type": "markdown",
   "metadata": {},
   "source": [
    "That output indicates two critical numbers, one at $\\left(-\\frac{1}{18},-\\frac{1}{108}\\right)$\n",
    "and one at $(0,0)$.\n",
    "\n",
    "Now where is the derivative defined but the function undefined?\n",
    "Unfortunately, SymPy cannot help us compute the domain of multivariate functions.\n",
    "You will need to do that yourself.  (In this case, the function is defined for all real\n",
    "values of $x$ and $y$.)\n",
    "\n",
    "But SymPy can help us classify the two critical numbers above.  Are they maxima, minima, or\n",
    "saddle points?  We use the discriminant, built from the second partial derivatives,\n",
    "$D=f_{xx}f_{yy}-f_{xy}^2$."
   ]
  },
  {
   "cell_type": "code",
   "execution_count": 8,
   "metadata": {},
   "outputs": [
    {
     "data": {
      "text/latex": [
       "$\\displaystyle - 36 x - 1$"
      ],
      "text/plain": [
       "-36⋅x - 1"
      ]
     },
     "execution_count": 8,
     "metadata": {},
     "output_type": "execute_result"
    }
   ],
   "source": [
    "f_xx = diff( formula, x, x )\n",
    "f_yy = diff( formula, y, y )\n",
    "f_xy = diff( formula, x, y )\n",
    "D = f_xx*f_yy - f_xy**2\n",
    "D"
   ]
  },
  {
   "attachments": {},
   "cell_type": "markdown",
   "metadata": {},
   "source": [
    "We can then evaluate the discriminant on our critical points.\n",
    "Recall the following rules from multivariate calculus:\n",
    "\n",
    " * If $D<0$ then the critical point is a saddle point.\n",
    " * If $D>0$ and $f_xx<0$ then the critical point is a maximum.\n",
    " * If $D>0$ and $f_xx>0$ then the critical point is a minimum.\n",
    "\n",
    "Let's begin by checking $\\left(-\\frac{1}{18},-\\frac{1}{108}\\right)$."
   ]
  },
  {
   "cell_type": "code",
   "execution_count": 9,
   "metadata": {},
   "outputs": [
    {
     "data": {
      "text/latex": [
       "$\\displaystyle 1.0$"
      ],
      "text/plain": [
       "1.00000000000000"
      ]
     },
     "execution_count": 9,
     "metadata": {},
     "output_type": "execute_result"
    }
   ],
   "source": [
    "D.subs( x, -1/18 ).subs( y, -1/108 )"
   ]
  },
  {
   "attachments": {},
   "cell_type": "markdown",
   "metadata": {},
   "source": [
    "Since $D>0$ we must check $f_{xx}$."
   ]
  },
  {
   "cell_type": "code",
   "execution_count": 10,
   "metadata": {},
   "outputs": [
    {
     "data": {
      "text/latex": [
       "$\\displaystyle -0.333333333333333$"
      ],
      "text/plain": [
       "-0.333333333333333"
      ]
     },
     "execution_count": 10,
     "metadata": {},
     "output_type": "execute_result"
    }
   ],
   "source": [
    "f_xx.subs( x, -1/18 ).subs( y, -1/108 )"
   ]
  },
  {
   "attachments": {},
   "cell_type": "markdown",
   "metadata": {},
   "source": [
    "Because $f_{xx}<0$, the point $\\left(-\\frac{1}{18},-\\frac{1}{108}\\right)$ is a maximum.  Now we check $(0,0)$."
   ]
  },
  {
   "cell_type": "code",
   "execution_count": 11,
   "metadata": {},
   "outputs": [
    {
     "data": {
      "text/latex": [
       "$\\displaystyle -1$"
      ],
      "text/plain": [
       "-1"
      ]
     },
     "execution_count": 11,
     "metadata": {},
     "output_type": "execute_result"
    }
   ],
   "source": [
    "D.subs( x, 0 ).subs( y, 0 )"
   ]
  },
  {
   "attachments": {},
   "cell_type": "markdown",
   "metadata": {},
   "source": [
    "Because $D<0$, the point $(0,0)$ is a saddle point."
   ]
  }
 ],
 "metadata": {
  "kernelspec": {
   "display_name": "base",
   "language": "python",
   "name": "python3"
  },
  "language_info": {
   "codemirror_mode": {
    "name": "ipython",
    "version": 3
   },
   "file_extension": ".py",
   "mimetype": "text/x-python",
   "name": "python",
   "nbconvert_exporter": "python",
   "pygments_lexer": "ipython3",
   "version": "3.10.6"
  },
  "orig_nbformat": 2,
  "vscode": {
   "interpreter": {
    "hash": "d4d1e4263499bec80672ea0156c357c1ee493ec2b1c70f0acce89fc37c4a6abe"
   }
  }
 },
 "nbformat": 4,
 "nbformat_minor": 2
}
