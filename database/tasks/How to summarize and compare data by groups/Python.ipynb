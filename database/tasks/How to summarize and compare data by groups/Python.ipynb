{
  "cells": [
    {
      "cell_type": "markdown",
      "source": [
        "---\n",
        "author: Krtin Juneja (KJUNEJA@falcon.bentley.edu)\n",
        "---"
      ],
      "metadata": {
        "nteract": {
          "transient": {
            "deleting": false
          }
        }
      }
    },
    {
      "cell_type": "markdown",
      "source": [
        "The solution below uses an example dataset about the teeth of 10 guinea pigs at three Vitamin C dosage levels (in mg) with two delivery methods (orange juice vs. ascorbic acid).  (See how to quickly load some sample data.)"
      ],
      "metadata": {
        "tags": [],
        "cell_id": "00000-f961a4aa-f96a-4d52-b393-3945628bc57b",
        "deepnote_cell_type": "markdown"
      }
    },
    {
      "cell_type": "code",
      "execution_count": null,
      "source": [
        "from rdatasets import data\n",
        "df = data('ToothGrowth')"
      ],
      "outputs": [],
      "metadata": {
        "tags": [],
        "cell_id": "00000-9ea84ca6-b6fc-4141-9106-ca19352ff56b",
        "deepnote_to_be_reexecuted": false,
        "source_hash": "3efdab3d",
        "execution_start": 1626010456438,
        "execution_millis": 5,
        "deepnote_cell_type": "code"
      }
    },
    {
      "cell_type": "markdown",
      "source": [
        "To obtain the descriptive statistics of the quantitative column (\"len\" for length of teeth) based on the treatment levels (\"supp\"), we can combine the `groupby` and `describe` functions."
      ],
      "metadata": {
        "tags": [],
        "cell_id": "00002-e0305a58-7a87-4a2c-8066-d4771796de2a",
        "deepnote_cell_type": "markdown"
      }
    },
    {
      "cell_type": "code",
      "execution_count": null,
      "source": [
        "df.groupby('supp')['len'].describe()"
      ],
      "outputs": [
        {
          "output_type": "execute_result",
          "data": {
            "text/plain": [
              "      count       mean       std  min     25%   50%     75%   max\n",
              "supp                                                             \n",
              "OJ     30.0  20.663333  6.605561  8.2  15.525  22.7  25.725  30.9\n",
              "VC     30.0  16.963333  8.266029  4.2  11.200  16.5  23.100  33.9"
            ],
            "text/html": [
              "<div>\n",
              "<style scoped>\n",
              "    .dataframe tbody tr th:only-of-type {\n",
              "        vertical-align: middle;\n",
              "    }\n",
              "\n",
              "    .dataframe tbody tr th {\n",
              "        vertical-align: top;\n",
              "    }\n",
              "\n",
              "    .dataframe thead th {\n",
              "        text-align: right;\n",
              "    }\n",
              "</style>\n",
              "<table border=\"1\" class=\"dataframe\">\n",
              "  <thead>\n",
              "    <tr style=\"text-align: right;\">\n",
              "      <th></th>\n",
              "      <th>count</th>\n",
              "      <th>mean</th>\n",
              "      <th>std</th>\n",
              "      <th>min</th>\n",
              "      <th>25%</th>\n",
              "      <th>50%</th>\n",
              "      <th>75%</th>\n",
              "      <th>max</th>\n",
              "    </tr>\n",
              "    <tr>\n",
              "      <th>supp</th>\n",
              "      <th></th>\n",
              "      <th></th>\n",
              "      <th></th>\n",
              "      <th></th>\n",
              "      <th></th>\n",
              "      <th></th>\n",
              "      <th></th>\n",
              "      <th></th>\n",
              "    </tr>\n",
              "  </thead>\n",
              "  <tbody>\n",
              "    <tr>\n",
              "      <th>OJ</th>\n",
              "      <td>30.0</td>\n",
              "      <td>20.663333</td>\n",
              "      <td>6.605561</td>\n",
              "      <td>8.2</td>\n",
              "      <td>15.525</td>\n",
              "      <td>22.7</td>\n",
              "      <td>25.725</td>\n",
              "      <td>30.9</td>\n",
              "    </tr>\n",
              "    <tr>\n",
              "      <th>VC</th>\n",
              "      <td>30.0</td>\n",
              "      <td>16.963333</td>\n",
              "      <td>8.266029</td>\n",
              "      <td>4.2</td>\n",
              "      <td>11.200</td>\n",
              "      <td>16.5</td>\n",
              "      <td>23.100</td>\n",
              "      <td>33.9</td>\n",
              "    </tr>\n",
              "  </tbody>\n",
              "</table>\n",
              "</div>"
            ],
            "application/vnd.deepnote.dataframe.v2+json": {
              "row_count": 2,
              "column_count": 8,
              "columns": [
                {
                  "name": "count",
                  "dtype": "float64",
                  "stats": {
                    "unique_count": 1,
                    "nan_count": 0,
                    "min": "30.0",
                    "max": "30.0",
                    "histogram": [
                      {
                        "bin_start": 29.5,
                        "bin_end": 29.6,
                        "count": 0
                      },
                      {
                        "bin_start": 29.6,
                        "bin_end": 29.7,
                        "count": 0
                      },
                      {
                        "bin_start": 29.7,
                        "bin_end": 29.8,
                        "count": 0
                      },
                      {
                        "bin_start": 29.8,
                        "bin_end": 29.9,
                        "count": 0
                      },
                      {
                        "bin_start": 29.9,
                        "bin_end": 30,
                        "count": 0
                      },
                      {
                        "bin_start": 30,
                        "bin_end": 30.1,
                        "count": 2
                      },
                      {
                        "bin_start": 30.1,
                        "bin_end": 30.2,
                        "count": 0
                      },
                      {
                        "bin_start": 30.2,
                        "bin_end": 30.3,
                        "count": 0
                      },
                      {
                        "bin_start": 30.3,
                        "bin_end": 30.4,
                        "count": 0
                      },
                      {
                        "bin_start": 30.4,
                        "bin_end": 30.5,
                        "count": 0
                      }
                    ]
                  }
                },
                {
                  "name": "mean",
                  "dtype": "float64",
                  "stats": {
                    "unique_count": 2,
                    "nan_count": 0,
                    "min": "16.96333333333333",
                    "max": "20.663333333333334",
                    "histogram": [
                      {
                        "bin_start": 16.96333333333333,
                        "bin_end": 17.333333333333332,
                        "count": 1
                      },
                      {
                        "bin_start": 17.333333333333332,
                        "bin_end": 17.703333333333333,
                        "count": 0
                      },
                      {
                        "bin_start": 17.703333333333333,
                        "bin_end": 18.07333333333333,
                        "count": 0
                      },
                      {
                        "bin_start": 18.07333333333333,
                        "bin_end": 18.44333333333333,
                        "count": 0
                      },
                      {
                        "bin_start": 18.44333333333333,
                        "bin_end": 18.813333333333333,
                        "count": 0
                      },
                      {
                        "bin_start": 18.813333333333333,
                        "bin_end": 19.183333333333334,
                        "count": 0
                      },
                      {
                        "bin_start": 19.183333333333334,
                        "bin_end": 19.553333333333335,
                        "count": 0
                      },
                      {
                        "bin_start": 19.553333333333335,
                        "bin_end": 19.923333333333332,
                        "count": 0
                      },
                      {
                        "bin_start": 19.923333333333332,
                        "bin_end": 20.293333333333333,
                        "count": 0
                      },
                      {
                        "bin_start": 20.293333333333333,
                        "bin_end": 20.663333333333334,
                        "count": 1
                      }
                    ]
                  }
                },
                {
                  "name": "std",
                  "dtype": "float64",
                  "stats": {
                    "unique_count": 2,
                    "nan_count": 0,
                    "min": "6.605561049722362",
                    "max": "8.266028664664638",
                    "histogram": [
                      {
                        "bin_start": 6.605561049722362,
                        "bin_end": 6.771607811216589,
                        "count": 1
                      },
                      {
                        "bin_start": 6.771607811216589,
                        "bin_end": 6.937654572710818,
                        "count": 0
                      },
                      {
                        "bin_start": 6.937654572710818,
                        "bin_end": 7.103701334205045,
                        "count": 0
                      },
                      {
                        "bin_start": 7.103701334205045,
                        "bin_end": 7.269748095699272,
                        "count": 0
                      },
                      {
                        "bin_start": 7.269748095699272,
                        "bin_end": 7.4357948571935,
                        "count": 0
                      },
                      {
                        "bin_start": 7.4357948571935,
                        "bin_end": 7.601841618687728,
                        "count": 0
                      },
                      {
                        "bin_start": 7.601841618687728,
                        "bin_end": 7.767888380181955,
                        "count": 0
                      },
                      {
                        "bin_start": 7.767888380181955,
                        "bin_end": 7.933935141676184,
                        "count": 0
                      },
                      {
                        "bin_start": 7.933935141676184,
                        "bin_end": 8.099981903170411,
                        "count": 0
                      },
                      {
                        "bin_start": 8.099981903170411,
                        "bin_end": 8.266028664664638,
                        "count": 1
                      }
                    ]
                  }
                },
                {
                  "name": "min",
                  "dtype": "float64",
                  "stats": {
                    "unique_count": 2,
                    "nan_count": 0,
                    "min": "4.2",
                    "max": "8.2",
                    "histogram": [
                      {
                        "bin_start": 4.2,
                        "bin_end": 4.6,
                        "count": 1
                      },
                      {
                        "bin_start": 4.6,
                        "bin_end": 5,
                        "count": 0
                      },
                      {
                        "bin_start": 5,
                        "bin_end": 5.4,
                        "count": 0
                      },
                      {
                        "bin_start": 5.4,
                        "bin_end": 5.8,
                        "count": 0
                      },
                      {
                        "bin_start": 5.8,
                        "bin_end": 6.199999999999999,
                        "count": 0
                      },
                      {
                        "bin_start": 6.199999999999999,
                        "bin_end": 6.6,
                        "count": 0
                      },
                      {
                        "bin_start": 6.6,
                        "bin_end": 7,
                        "count": 0
                      },
                      {
                        "bin_start": 7,
                        "bin_end": 7.3999999999999995,
                        "count": 0
                      },
                      {
                        "bin_start": 7.3999999999999995,
                        "bin_end": 7.799999999999999,
                        "count": 0
                      },
                      {
                        "bin_start": 7.799999999999999,
                        "bin_end": 8.2,
                        "count": 1
                      }
                    ]
                  }
                },
                {
                  "name": "25%",
                  "dtype": "float64",
                  "stats": {
                    "unique_count": 2,
                    "nan_count": 0,
                    "min": "11.2",
                    "max": "15.524999999999999",
                    "histogram": [
                      {
                        "bin_start": 11.2,
                        "bin_end": 11.632499999999999,
                        "count": 1
                      },
                      {
                        "bin_start": 11.632499999999999,
                        "bin_end": 12.065,
                        "count": 0
                      },
                      {
                        "bin_start": 12.065,
                        "bin_end": 12.497499999999999,
                        "count": 0
                      },
                      {
                        "bin_start": 12.497499999999999,
                        "bin_end": 12.93,
                        "count": 0
                      },
                      {
                        "bin_start": 12.93,
                        "bin_end": 13.362499999999999,
                        "count": 0
                      },
                      {
                        "bin_start": 13.362499999999999,
                        "bin_end": 13.794999999999998,
                        "count": 0
                      },
                      {
                        "bin_start": 13.794999999999998,
                        "bin_end": 14.2275,
                        "count": 0
                      },
                      {
                        "bin_start": 14.2275,
                        "bin_end": 14.659999999999998,
                        "count": 0
                      },
                      {
                        "bin_start": 14.659999999999998,
                        "bin_end": 15.0925,
                        "count": 0
                      },
                      {
                        "bin_start": 15.0925,
                        "bin_end": 15.524999999999999,
                        "count": 1
                      }
                    ]
                  }
                },
                {
                  "name": "50%",
                  "dtype": "float64",
                  "stats": {
                    "unique_count": 2,
                    "nan_count": 0,
                    "min": "16.5",
                    "max": "22.7",
                    "histogram": [
                      {
                        "bin_start": 16.5,
                        "bin_end": 17.12,
                        "count": 1
                      },
                      {
                        "bin_start": 17.12,
                        "bin_end": 17.74,
                        "count": 0
                      },
                      {
                        "bin_start": 17.74,
                        "bin_end": 18.36,
                        "count": 0
                      },
                      {
                        "bin_start": 18.36,
                        "bin_end": 18.98,
                        "count": 0
                      },
                      {
                        "bin_start": 18.98,
                        "bin_end": 19.6,
                        "count": 0
                      },
                      {
                        "bin_start": 19.6,
                        "bin_end": 20.22,
                        "count": 0
                      },
                      {
                        "bin_start": 20.22,
                        "bin_end": 20.84,
                        "count": 0
                      },
                      {
                        "bin_start": 20.84,
                        "bin_end": 21.46,
                        "count": 0
                      },
                      {
                        "bin_start": 21.46,
                        "bin_end": 22.08,
                        "count": 0
                      },
                      {
                        "bin_start": 22.08,
                        "bin_end": 22.7,
                        "count": 1
                      }
                    ]
                  }
                },
                {
                  "name": "75%",
                  "dtype": "float64",
                  "stats": {
                    "unique_count": 2,
                    "nan_count": 0,
                    "min": "23.1",
                    "max": "25.725",
                    "histogram": [
                      {
                        "bin_start": 23.1,
                        "bin_end": 23.3625,
                        "count": 1
                      },
                      {
                        "bin_start": 23.3625,
                        "bin_end": 23.625,
                        "count": 0
                      },
                      {
                        "bin_start": 23.625,
                        "bin_end": 23.887500000000003,
                        "count": 0
                      },
                      {
                        "bin_start": 23.887500000000003,
                        "bin_end": 24.150000000000002,
                        "count": 0
                      },
                      {
                        "bin_start": 24.150000000000002,
                        "bin_end": 24.4125,
                        "count": 0
                      },
                      {
                        "bin_start": 24.4125,
                        "bin_end": 24.675,
                        "count": 0
                      },
                      {
                        "bin_start": 24.675,
                        "bin_end": 24.9375,
                        "count": 0
                      },
                      {
                        "bin_start": 24.9375,
                        "bin_end": 25.200000000000003,
                        "count": 0
                      },
                      {
                        "bin_start": 25.200000000000003,
                        "bin_end": 25.462500000000002,
                        "count": 0
                      },
                      {
                        "bin_start": 25.462500000000002,
                        "bin_end": 25.725,
                        "count": 1
                      }
                    ]
                  }
                },
                {
                  "name": "max",
                  "dtype": "float64",
                  "stats": {
                    "unique_count": 2,
                    "nan_count": 0,
                    "min": "30.9",
                    "max": "33.9",
                    "histogram": [
                      {
                        "bin_start": 30.9,
                        "bin_end": 31.2,
                        "count": 1
                      },
                      {
                        "bin_start": 31.2,
                        "bin_end": 31.5,
                        "count": 0
                      },
                      {
                        "bin_start": 31.5,
                        "bin_end": 31.799999999999997,
                        "count": 0
                      },
                      {
                        "bin_start": 31.799999999999997,
                        "bin_end": 32.1,
                        "count": 0
                      },
                      {
                        "bin_start": 32.1,
                        "bin_end": 32.4,
                        "count": 0
                      },
                      {
                        "bin_start": 32.4,
                        "bin_end": 32.699999999999996,
                        "count": 0
                      },
                      {
                        "bin_start": 32.699999999999996,
                        "bin_end": 33,
                        "count": 0
                      },
                      {
                        "bin_start": 33,
                        "bin_end": 33.3,
                        "count": 0
                      },
                      {
                        "bin_start": 33.3,
                        "bin_end": 33.6,
                        "count": 0
                      },
                      {
                        "bin_start": 33.6,
                        "bin_end": 33.9,
                        "count": 1
                      }
                    ]
                  }
                },
                {
                  "name": "_deepnote_index_column",
                  "dtype": "object"
                }
              ],
              "rows_top": [
                {
                  "count": 30,
                  "mean": 20.663333333333334,
                  "std": 6.605561049722362,
                  "min": 8.2,
                  "25%": 15.524999999999999,
                  "50%": 22.7,
                  "75%": 25.725,
                  "max": 30.9,
                  "_deepnote_index_column": "OJ"
                },
                {
                  "count": 30,
                  "mean": 16.96333333333333,
                  "std": 8.266028664664638,
                  "min": 4.2,
                  "25%": 11.2,
                  "50%": 16.5,
                  "75%": 23.1,
                  "max": 33.9,
                  "_deepnote_index_column": "VC"
                }
              ],
              "rows_bottom": null
            }
          },
          "metadata": {},
          "execution_count": 19
        }
      ],
      "metadata": {
        "tags": [],
        "cell_id": "00002-f0767843-f8ef-4a3f-9e75-6add36444bad",
        "deepnote_to_be_reexecuted": false,
        "source_hash": "207a2fb5",
        "execution_start": 1626011145366,
        "execution_millis": 39,
        "deepnote_cell_type": "code"
      }
    },
    {
      "cell_type": "markdown",
      "source": [
        "To choose which statistics you want to see, you could use the `agg` function and list the statistics you want."
      ],
      "metadata": {
        "tags": [],
        "cell_id": "00004-afe64cf6-0fca-440f-89f8-36d92deb539e",
        "deepnote_cell_type": "markdown"
      }
    },
    {
      "cell_type": "code",
      "execution_count": null,
      "source": [
        "df.groupby('supp')['len'].agg(['min','median','mean','max','std','count'])"
      ],
      "outputs": [
        {
          "output_type": "execute_result",
          "data": {
            "text/plain": [
              "      count       mean       std  min     25%   50%     75%   max\n",
              "supp                                                             \n",
              "OJ     30.0  20.663333  6.605561  8.2  15.525  22.7  25.725  30.9\n",
              "VC     30.0  16.963333  8.266029  4.2  11.200  16.5  23.100  33.9"
            ],
            "text/html": [
              "<div>\n",
              "<style scoped>\n",
              "    .dataframe tbody tr th:only-of-type {\n",
              "        vertical-align: middle;\n",
              "    }\n",
              "\n",
              "    .dataframe tbody tr th {\n",
              "        vertical-align: top;\n",
              "    }\n",
              "\n",
              "    .dataframe thead th {\n",
              "        text-align: right;\n",
              "    }\n",
              "</style>\n",
              "<table border=\"1\" class=\"dataframe\">\n",
              "  <thead>\n",
              "    <tr style=\"text-align: right;\">\n",
              "      <th></th>\n",
              "      <th>count</th>\n",
              "      <th>mean</th>\n",
              "      <th>std</th>\n",
              "      <th>min</th>\n",
              "      <th>25%</th>\n",
              "      <th>50%</th>\n",
              "      <th>75%</th>\n",
              "      <th>max</th>\n",
              "    </tr>\n",
              "    <tr>\n",
              "      <th>supp</th>\n",
              "      <th></th>\n",
              "      <th></th>\n",
              "      <th></th>\n",
              "      <th></th>\n",
              "      <th></th>\n",
              "      <th></th>\n",
              "      <th></th>\n",
              "      <th></th>\n",
              "    </tr>\n",
              "  </thead>\n",
              "  <tbody>\n",
              "    <tr>\n",
              "      <th>OJ</th>\n",
              "      <td>30.0</td>\n",
              "      <td>20.663333</td>\n",
              "      <td>6.605561</td>\n",
              "      <td>8.2</td>\n",
              "      <td>15.525</td>\n",
              "      <td>22.7</td>\n",
              "      <td>25.725</td>\n",
              "      <td>30.9</td>\n",
              "    </tr>\n",
              "    <tr>\n",
              "      <th>VC</th>\n",
              "      <td>30.0</td>\n",
              "      <td>16.963333</td>\n",
              "      <td>8.266029</td>\n",
              "      <td>4.2</td>\n",
              "      <td>11.200</td>\n",
              "      <td>16.5</td>\n",
              "      <td>23.100</td>\n",
              "      <td>33.9</td>\n",
              "    </tr>\n",
              "  </tbody>\n",
              "</table>\n",
              "</div>"
            ],
            "application/vnd.deepnote.dataframe.v2+json": {
              "row_count": 2,
              "column_count": 8,
              "columns": [
                {
                  "name": "count",
                  "dtype": "float64",
                  "stats": {
                    "unique_count": 1,
                    "nan_count": 0,
                    "min": "30.0",
                    "max": "30.0",
                    "histogram": [
                      {
                        "bin_start": 29.5,
                        "bin_end": 29.6,
                        "count": 0
                      },
                      {
                        "bin_start": 29.6,
                        "bin_end": 29.7,
                        "count": 0
                      },
                      {
                        "bin_start": 29.7,
                        "bin_end": 29.8,
                        "count": 0
                      },
                      {
                        "bin_start": 29.8,
                        "bin_end": 29.9,
                        "count": 0
                      },
                      {
                        "bin_start": 29.9,
                        "bin_end": 30,
                        "count": 0
                      },
                      {
                        "bin_start": 30,
                        "bin_end": 30.1,
                        "count": 2
                      },
                      {
                        "bin_start": 30.1,
                        "bin_end": 30.2,
                        "count": 0
                      },
                      {
                        "bin_start": 30.2,
                        "bin_end": 30.3,
                        "count": 0
                      },
                      {
                        "bin_start": 30.3,
                        "bin_end": 30.4,
                        "count": 0
                      },
                      {
                        "bin_start": 30.4,
                        "bin_end": 30.5,
                        "count": 0
                      }
                    ]
                  }
                },
                {
                  "name": "mean",
                  "dtype": "float64",
                  "stats": {
                    "unique_count": 2,
                    "nan_count": 0,
                    "min": "16.96333333333333",
                    "max": "20.663333333333334",
                    "histogram": [
                      {
                        "bin_start": 16.96333333333333,
                        "bin_end": 17.333333333333332,
                        "count": 1
                      },
                      {
                        "bin_start": 17.333333333333332,
                        "bin_end": 17.703333333333333,
                        "count": 0
                      },
                      {
                        "bin_start": 17.703333333333333,
                        "bin_end": 18.07333333333333,
                        "count": 0
                      },
                      {
                        "bin_start": 18.07333333333333,
                        "bin_end": 18.44333333333333,
                        "count": 0
                      },
                      {
                        "bin_start": 18.44333333333333,
                        "bin_end": 18.813333333333333,
                        "count": 0
                      },
                      {
                        "bin_start": 18.813333333333333,
                        "bin_end": 19.183333333333334,
                        "count": 0
                      },
                      {
                        "bin_start": 19.183333333333334,
                        "bin_end": 19.553333333333335,
                        "count": 0
                      },
                      {
                        "bin_start": 19.553333333333335,
                        "bin_end": 19.923333333333332,
                        "count": 0
                      },
                      {
                        "bin_start": 19.923333333333332,
                        "bin_end": 20.293333333333333,
                        "count": 0
                      },
                      {
                        "bin_start": 20.293333333333333,
                        "bin_end": 20.663333333333334,
                        "count": 1
                      }
                    ]
                  }
                },
                {
                  "name": "std",
                  "dtype": "float64",
                  "stats": {
                    "unique_count": 2,
                    "nan_count": 0,
                    "min": "6.605561049722362",
                    "max": "8.266028664664638",
                    "histogram": [
                      {
                        "bin_start": 6.605561049722362,
                        "bin_end": 6.771607811216589,
                        "count": 1
                      },
                      {
                        "bin_start": 6.771607811216589,
                        "bin_end": 6.937654572710818,
                        "count": 0
                      },
                      {
                        "bin_start": 6.937654572710818,
                        "bin_end": 7.103701334205045,
                        "count": 0
                      },
                      {
                        "bin_start": 7.103701334205045,
                        "bin_end": 7.269748095699272,
                        "count": 0
                      },
                      {
                        "bin_start": 7.269748095699272,
                        "bin_end": 7.4357948571935,
                        "count": 0
                      },
                      {
                        "bin_start": 7.4357948571935,
                        "bin_end": 7.601841618687728,
                        "count": 0
                      },
                      {
                        "bin_start": 7.601841618687728,
                        "bin_end": 7.767888380181955,
                        "count": 0
                      },
                      {
                        "bin_start": 7.767888380181955,
                        "bin_end": 7.933935141676184,
                        "count": 0
                      },
                      {
                        "bin_start": 7.933935141676184,
                        "bin_end": 8.099981903170411,
                        "count": 0
                      },
                      {
                        "bin_start": 8.099981903170411,
                        "bin_end": 8.266028664664638,
                        "count": 1
                      }
                    ]
                  }
                },
                {
                  "name": "min",
                  "dtype": "float64",
                  "stats": {
                    "unique_count": 2,
                    "nan_count": 0,
                    "min": "4.2",
                    "max": "8.2",
                    "histogram": [
                      {
                        "bin_start": 4.2,
                        "bin_end": 4.6,
                        "count": 1
                      },
                      {
                        "bin_start": 4.6,
                        "bin_end": 5,
                        "count": 0
                      },
                      {
                        "bin_start": 5,
                        "bin_end": 5.4,
                        "count": 0
                      },
                      {
                        "bin_start": 5.4,
                        "bin_end": 5.8,
                        "count": 0
                      },
                      {
                        "bin_start": 5.8,
                        "bin_end": 6.199999999999999,
                        "count": 0
                      },
                      {
                        "bin_start": 6.199999999999999,
                        "bin_end": 6.6,
                        "count": 0
                      },
                      {
                        "bin_start": 6.6,
                        "bin_end": 7,
                        "count": 0
                      },
                      {
                        "bin_start": 7,
                        "bin_end": 7.3999999999999995,
                        "count": 0
                      },
                      {
                        "bin_start": 7.3999999999999995,
                        "bin_end": 7.799999999999999,
                        "count": 0
                      },
                      {
                        "bin_start": 7.799999999999999,
                        "bin_end": 8.2,
                        "count": 1
                      }
                    ]
                  }
                },
                {
                  "name": "25%",
                  "dtype": "float64",
                  "stats": {
                    "unique_count": 2,
                    "nan_count": 0,
                    "min": "11.2",
                    "max": "15.524999999999999",
                    "histogram": [
                      {
                        "bin_start": 11.2,
                        "bin_end": 11.632499999999999,
                        "count": 1
                      },
                      {
                        "bin_start": 11.632499999999999,
                        "bin_end": 12.065,
                        "count": 0
                      },
                      {
                        "bin_start": 12.065,
                        "bin_end": 12.497499999999999,
                        "count": 0
                      },
                      {
                        "bin_start": 12.497499999999999,
                        "bin_end": 12.93,
                        "count": 0
                      },
                      {
                        "bin_start": 12.93,
                        "bin_end": 13.362499999999999,
                        "count": 0
                      },
                      {
                        "bin_start": 13.362499999999999,
                        "bin_end": 13.794999999999998,
                        "count": 0
                      },
                      {
                        "bin_start": 13.794999999999998,
                        "bin_end": 14.2275,
                        "count": 0
                      },
                      {
                        "bin_start": 14.2275,
                        "bin_end": 14.659999999999998,
                        "count": 0
                      },
                      {
                        "bin_start": 14.659999999999998,
                        "bin_end": 15.0925,
                        "count": 0
                      },
                      {
                        "bin_start": 15.0925,
                        "bin_end": 15.524999999999999,
                        "count": 1
                      }
                    ]
                  }
                },
                {
                  "name": "50%",
                  "dtype": "float64",
                  "stats": {
                    "unique_count": 2,
                    "nan_count": 0,
                    "min": "16.5",
                    "max": "22.7",
                    "histogram": [
                      {
                        "bin_start": 16.5,
                        "bin_end": 17.12,
                        "count": 1
                      },
                      {
                        "bin_start": 17.12,
                        "bin_end": 17.74,
                        "count": 0
                      },
                      {
                        "bin_start": 17.74,
                        "bin_end": 18.36,
                        "count": 0
                      },
                      {
                        "bin_start": 18.36,
                        "bin_end": 18.98,
                        "count": 0
                      },
                      {
                        "bin_start": 18.98,
                        "bin_end": 19.6,
                        "count": 0
                      },
                      {
                        "bin_start": 19.6,
                        "bin_end": 20.22,
                        "count": 0
                      },
                      {
                        "bin_start": 20.22,
                        "bin_end": 20.84,
                        "count": 0
                      },
                      {
                        "bin_start": 20.84,
                        "bin_end": 21.46,
                        "count": 0
                      },
                      {
                        "bin_start": 21.46,
                        "bin_end": 22.08,
                        "count": 0
                      },
                      {
                        "bin_start": 22.08,
                        "bin_end": 22.7,
                        "count": 1
                      }
                    ]
                  }
                },
                {
                  "name": "75%",
                  "dtype": "float64",
                  "stats": {
                    "unique_count": 2,
                    "nan_count": 0,
                    "min": "23.1",
                    "max": "25.725",
                    "histogram": [
                      {
                        "bin_start": 23.1,
                        "bin_end": 23.3625,
                        "count": 1
                      },
                      {
                        "bin_start": 23.3625,
                        "bin_end": 23.625,
                        "count": 0
                      },
                      {
                        "bin_start": 23.625,
                        "bin_end": 23.887500000000003,
                        "count": 0
                      },
                      {
                        "bin_start": 23.887500000000003,
                        "bin_end": 24.150000000000002,
                        "count": 0
                      },
                      {
                        "bin_start": 24.150000000000002,
                        "bin_end": 24.4125,
                        "count": 0
                      },
                      {
                        "bin_start": 24.4125,
                        "bin_end": 24.675,
                        "count": 0
                      },
                      {
                        "bin_start": 24.675,
                        "bin_end": 24.9375,
                        "count": 0
                      },
                      {
                        "bin_start": 24.9375,
                        "bin_end": 25.200000000000003,
                        "count": 0
                      },
                      {
                        "bin_start": 25.200000000000003,
                        "bin_end": 25.462500000000002,
                        "count": 0
                      },
                      {
                        "bin_start": 25.462500000000002,
                        "bin_end": 25.725,
                        "count": 1
                      }
                    ]
                  }
                },
                {
                  "name": "max",
                  "dtype": "float64",
                  "stats": {
                    "unique_count": 2,
                    "nan_count": 0,
                    "min": "30.9",
                    "max": "33.9",
                    "histogram": [
                      {
                        "bin_start": 30.9,
                        "bin_end": 31.2,
                        "count": 1
                      },
                      {
                        "bin_start": 31.2,
                        "bin_end": 31.5,
                        "count": 0
                      },
                      {
                        "bin_start": 31.5,
                        "bin_end": 31.799999999999997,
                        "count": 0
                      },
                      {
                        "bin_start": 31.799999999999997,
                        "bin_end": 32.1,
                        "count": 0
                      },
                      {
                        "bin_start": 32.1,
                        "bin_end": 32.4,
                        "count": 0
                      },
                      {
                        "bin_start": 32.4,
                        "bin_end": 32.699999999999996,
                        "count": 0
                      },
                      {
                        "bin_start": 32.699999999999996,
                        "bin_end": 33,
                        "count": 0
                      },
                      {
                        "bin_start": 33,
                        "bin_end": 33.3,
                        "count": 0
                      },
                      {
                        "bin_start": 33.3,
                        "bin_end": 33.6,
                        "count": 0
                      },
                      {
                        "bin_start": 33.6,
                        "bin_end": 33.9,
                        "count": 1
                      }
                    ]
                  }
                },
                {
                  "name": "_deepnote_index_column",
                  "dtype": "object"
                }
              ],
              "rows_top": [
                {
                  "count": 30,
                  "mean": 20.663333333333334,
                  "std": 6.605561049722362,
                  "min": 8.2,
                  "25%": 15.524999999999999,
                  "50%": 22.7,
                  "75%": 25.725,
                  "max": 30.9,
                  "_deepnote_index_column": "OJ"
                },
                {
                  "count": 30,
                  "mean": 16.96333333333333,
                  "std": 8.266028664664638,
                  "min": 4.2,
                  "25%": 11.2,
                  "50%": 16.5,
                  "75%": 23.1,
                  "max": 33.9,
                  "_deepnote_index_column": "VC"
                }
              ],
              "rows_bottom": null
            }
          },
          "metadata": {},
          "execution_count": 18
        }
      ],
      "metadata": {
        "tags": [],
        "cell_id": "00002-13675ee0-9963-465f-b3f3-5192e06db908",
        "deepnote_to_be_reexecuted": false,
        "source_hash": "207a2fb5",
        "execution_start": 1626011113600,
        "execution_millis": 38,
        "deepnote_cell_type": "code"
      }
    },
    {
      "cell_type": "markdown",
      "source": [
        "If your focus is on just one statistics, you can often use its name in place of `agg`, as shown below, using the `quantile` function."
      ],
      "metadata": {
        "tags": [],
        "cell_id": "00006-ec4ae239-45bf-4610-8624-b921890ee5ad",
        "deepnote_cell_type": "markdown"
      }
    },
    {
      "cell_type": "code",
      "execution_count": null,
      "source": [
        "df.groupby('supp')['len'].quantile([0.25,0.5,0.75]) # Quartiles - default is median, i.e. 0.5"
      ],
      "outputs": [
        {
          "output_type": "execute_result",
          "data": {
            "text/plain": [
              "supp      \n",
              "OJ    0.25    15.525\n",
              "      0.50    22.700\n",
              "      0.75    25.725\n",
              "VC    0.25    11.200\n",
              "      0.50    16.500\n",
              "      0.75    23.100\n",
              "Name: len, dtype: float64"
            ]
          },
          "metadata": {},
          "execution_count": 16
        }
      ],
      "metadata": {
        "tags": [],
        "cell_id": "00003-ff57e35d-eb95-440c-b705-8940886519a3",
        "deepnote_to_be_reexecuted": false,
        "source_hash": "8eefd261",
        "execution_start": 1626011082339,
        "execution_millis": 7,
        "deepnote_cell_type": "code"
      }
    },
    {
      "cell_type": "markdown",
      "source": [
        "In this example, we grouped by just one category (\"supp\"), but the `groupby` function accepts a list of columns if you need to create subcategories, etc."
      ],
      "metadata": {
        "tags": [],
        "cell_id": "00008-bc4a3f0e-55b8-45d9-8052-85ea09f1b5d7",
        "deepnote_cell_type": "markdown"
      }
    }
  ],
  "metadata": {
    "orig_nbformat": 2,
    "deepnote": {
      "is_reactive": false
    },
    "deepnote_notebook_id": "fbb8fa3d-2651-4539-a400-df55638e88b6",
    "deepnote_execution_queue": [],
    "nteract": {
      "version": "0.28.0"
    },
    "language_info": {
      "name": "python"
    }
  },
  "nbformat": 4,
  "nbformat_minor": 2
}