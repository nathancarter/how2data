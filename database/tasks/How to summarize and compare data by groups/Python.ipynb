{
  "cells": [
    {
      "cell_type": "markdown",
      "metadata": {
        "nteract": {
          "transient": {
            "deleting": false
          }
        }
      },
      "source": [
        "---\n",
        "author: Krtin Juneja (KJUNEJA@falcon.bentley.edu)\n",
        "---"
      ]
    },
    {
      "cell_type": "markdown",
      "metadata": {
        "cell_id": "00000-f961a4aa-f96a-4d52-b393-3945628bc57b",
        "deepnote_cell_type": "markdown",
        "tags": []
      },
      "source": [
        "The solution below uses an example dataset about the teeth of 10 guinea pigs at three Vitamin C dosage levels (in mg) with two delivery methods (orange juice vs. ascorbic acid).  (See how to quickly load some sample data.)"
      ]
    },
    {
      "cell_type": "code",
      "execution_count": 1,
      "metadata": {
        "cell_id": "00000-9ea84ca6-b6fc-4141-9106-ca19352ff56b",
        "deepnote_cell_type": "code",
        "deepnote_to_be_reexecuted": false,
        "execution_millis": 5,
        "execution_start": 1626010456438,
        "source_hash": "3efdab3d",
        "tags": []
      },
      "outputs": [],
      "source": [
        "from rdatasets import data\n",
        "df = data('ToothGrowth')"
      ]
    },
    {
      "cell_type": "markdown",
      "metadata": {
        "cell_id": "00002-e0305a58-7a87-4a2c-8066-d4771796de2a",
        "deepnote_cell_type": "markdown",
        "tags": []
      },
      "source": [
        "To obtain the descriptive statistics of the quantitative column (`len` for length of teeth) based on the treatment levels (`supp`), we can combine the `groupby` and `describe` functions."
      ]
    },
    {
      "cell_type": "code",
      "execution_count": 2,
      "metadata": {
        "cell_id": "00002-f0767843-f8ef-4a3f-9e75-6add36444bad",
        "deepnote_cell_type": "code",
        "deepnote_to_be_reexecuted": false,
        "execution_millis": 39,
        "execution_start": 1626011145366,
        "source_hash": "207a2fb5",
        "tags": []
      },
      "outputs": [
        {
          "data": {
            "text/html": [
              "<div>\n",
              "<style scoped>\n",
              "    .dataframe tbody tr th:only-of-type {\n",
              "        vertical-align: middle;\n",
              "    }\n",
              "\n",
              "    .dataframe tbody tr th {\n",
              "        vertical-align: top;\n",
              "    }\n",
              "\n",
              "    .dataframe thead th {\n",
              "        text-align: right;\n",
              "    }\n",
              "</style>\n",
              "<table border=\"1\" class=\"dataframe\">\n",
              "  <thead>\n",
              "    <tr style=\"text-align: right;\">\n",
              "      <th></th>\n",
              "      <th>count</th>\n",
              "      <th>mean</th>\n",
              "      <th>std</th>\n",
              "      <th>min</th>\n",
              "      <th>25%</th>\n",
              "      <th>50%</th>\n",
              "      <th>75%</th>\n",
              "      <th>max</th>\n",
              "    </tr>\n",
              "    <tr>\n",
              "      <th>supp</th>\n",
              "      <th></th>\n",
              "      <th></th>\n",
              "      <th></th>\n",
              "      <th></th>\n",
              "      <th></th>\n",
              "      <th></th>\n",
              "      <th></th>\n",
              "      <th></th>\n",
              "    </tr>\n",
              "  </thead>\n",
              "  <tbody>\n",
              "    <tr>\n",
              "      <th>OJ</th>\n",
              "      <td>30.0</td>\n",
              "      <td>20.663333</td>\n",
              "      <td>6.605561</td>\n",
              "      <td>8.2</td>\n",
              "      <td>15.525</td>\n",
              "      <td>22.7</td>\n",
              "      <td>25.725</td>\n",
              "      <td>30.9</td>\n",
              "    </tr>\n",
              "    <tr>\n",
              "      <th>VC</th>\n",
              "      <td>30.0</td>\n",
              "      <td>16.963333</td>\n",
              "      <td>8.266029</td>\n",
              "      <td>4.2</td>\n",
              "      <td>11.200</td>\n",
              "      <td>16.5</td>\n",
              "      <td>23.100</td>\n",
              "      <td>33.9</td>\n",
              "    </tr>\n",
              "  </tbody>\n",
              "</table>\n",
              "</div>"
            ],
            "text/plain": [
              "      count       mean       std  min     25%   50%     75%   max\n",
              "supp                                                             \n",
              "OJ     30.0  20.663333  6.605561  8.2  15.525  22.7  25.725  30.9\n",
              "VC     30.0  16.963333  8.266029  4.2  11.200  16.5  23.100  33.9"
            ]
          },
          "execution_count": 2,
          "metadata": {},
          "output_type": "execute_result"
        }
      ],
      "source": [
        "df.groupby('supp')['len'].describe()"
      ]
    },
    {
      "cell_type": "markdown",
      "metadata": {
        "cell_id": "00004-afe64cf6-0fca-440f-89f8-36d92deb539e",
        "deepnote_cell_type": "markdown",
        "tags": []
      },
      "source": [
        "To choose which statistics you want to see, you could use the `agg` function and list the statistics you want."
      ]
    },
    {
      "cell_type": "code",
      "execution_count": 3,
      "metadata": {
        "cell_id": "00002-13675ee0-9963-465f-b3f3-5192e06db908",
        "deepnote_cell_type": "code",
        "deepnote_to_be_reexecuted": false,
        "execution_millis": 38,
        "execution_start": 1626011113600,
        "source_hash": "207a2fb5",
        "tags": []
      },
      "outputs": [
        {
          "data": {
            "text/html": [
              "<div>\n",
              "<style scoped>\n",
              "    .dataframe tbody tr th:only-of-type {\n",
              "        vertical-align: middle;\n",
              "    }\n",
              "\n",
              "    .dataframe tbody tr th {\n",
              "        vertical-align: top;\n",
              "    }\n",
              "\n",
              "    .dataframe thead th {\n",
              "        text-align: right;\n",
              "    }\n",
              "</style>\n",
              "<table border=\"1\" class=\"dataframe\">\n",
              "  <thead>\n",
              "    <tr style=\"text-align: right;\">\n",
              "      <th></th>\n",
              "      <th>min</th>\n",
              "      <th>median</th>\n",
              "      <th>mean</th>\n",
              "      <th>max</th>\n",
              "      <th>std</th>\n",
              "      <th>count</th>\n",
              "    </tr>\n",
              "    <tr>\n",
              "      <th>supp</th>\n",
              "      <th></th>\n",
              "      <th></th>\n",
              "      <th></th>\n",
              "      <th></th>\n",
              "      <th></th>\n",
              "      <th></th>\n",
              "    </tr>\n",
              "  </thead>\n",
              "  <tbody>\n",
              "    <tr>\n",
              "      <th>OJ</th>\n",
              "      <td>8.2</td>\n",
              "      <td>22.7</td>\n",
              "      <td>20.663333</td>\n",
              "      <td>30.9</td>\n",
              "      <td>6.605561</td>\n",
              "      <td>30</td>\n",
              "    </tr>\n",
              "    <tr>\n",
              "      <th>VC</th>\n",
              "      <td>4.2</td>\n",
              "      <td>16.5</td>\n",
              "      <td>16.963333</td>\n",
              "      <td>33.9</td>\n",
              "      <td>8.266029</td>\n",
              "      <td>30</td>\n",
              "    </tr>\n",
              "  </tbody>\n",
              "</table>\n",
              "</div>"
            ],
            "text/plain": [
              "      min  median       mean   max       std  count\n",
              "supp                                               \n",
              "OJ    8.2    22.7  20.663333  30.9  6.605561     30\n",
              "VC    4.2    16.5  16.963333  33.9  8.266029     30"
            ]
          },
          "execution_count": 3,
          "metadata": {},
          "output_type": "execute_result"
        }
      ],
      "source": [
        "df.groupby('supp')['len'].agg(['min','median','mean','max','std','count'])"
      ]
    },
    {
      "cell_type": "markdown",
      "metadata": {
        "cell_id": "00006-ec4ae239-45bf-4610-8624-b921890ee5ad",
        "deepnote_cell_type": "markdown",
        "tags": []
      },
      "source": [
        "If your focus is on just one statistic, you can often use its name in place of `agg`, as shown below, using the `quantile` function."
      ]
    },
    {
      "cell_type": "code",
      "execution_count": 4,
      "metadata": {
        "cell_id": "00003-ff57e35d-eb95-440c-b705-8940886519a3",
        "deepnote_cell_type": "code",
        "deepnote_to_be_reexecuted": false,
        "execution_millis": 7,
        "execution_start": 1626011082339,
        "source_hash": "8eefd261",
        "tags": []
      },
      "outputs": [
        {
          "data": {
            "text/plain": [
              "supp      \n",
              "OJ    0.25    15.525\n",
              "      0.50    22.700\n",
              "      0.75    25.725\n",
              "VC    0.25    11.200\n",
              "      0.50    16.500\n",
              "      0.75    23.100\n",
              "Name: len, dtype: float64"
            ]
          },
          "execution_count": 4,
          "metadata": {},
          "output_type": "execute_result"
        }
      ],
      "source": [
        "df.groupby('supp')['len'].quantile([0.25,0.5,0.75]) # Quartiles - default is median, i.e. 0.5"
      ]
    },
    {
      "cell_type": "markdown",
      "metadata": {
        "cell_id": "00008-bc4a3f0e-55b8-45d9-8052-85ea09f1b5d7",
        "deepnote_cell_type": "markdown",
        "tags": []
      },
      "source": [
        "In this example, we grouped by just one category (`supp`), but the `groupby` function accepts a list of columns if you need to create subcategories, etc."
      ]
    }
  ],
  "metadata": {
    "deepnote": {
      "is_reactive": false
    },
    "deepnote_execution_queue": [],
    "deepnote_notebook_id": "fbb8fa3d-2651-4539-a400-df55638e88b6",
    "interpreter": {
      "hash": "d4d1e4263499bec80672ea0156c357c1ee493ec2b1c70f0acce89fc37c4a6abe"
    },
    "kernelspec": {
      "display_name": "Python 3.9.6 64-bit ('base': conda)",
      "name": "python3"
    },
    "language_info": {
      "codemirror_mode": {
        "name": "ipython",
        "version": 3
      },
      "file_extension": ".py",
      "mimetype": "text/x-python",
      "name": "python",
      "nbconvert_exporter": "python",
      "pygments_lexer": "ipython3",
      "version": "3.9.7"
    },
    "nteract": {
      "version": "0.28.0"
    },
    "orig_nbformat": 2
  },
  "nbformat": 4,
  "nbformat_minor": 2
}
