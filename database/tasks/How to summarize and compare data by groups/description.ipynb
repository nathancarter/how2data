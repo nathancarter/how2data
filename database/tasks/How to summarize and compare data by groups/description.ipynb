{
  "cells": [
    {
      "cell_type": "markdown",
      "source": [
        "When given a set of data that has different treatment conditions and an outcome variable, we need to perform some exploratory data analysis. How would you quantitatively compare the treatment conditions with regards to the outcome variable? \n",
        "\n",
        "Related tasks:\n",
        "\n",
        " * How to compute summary statistics"
      ],
      "metadata": {
        "tags": [],
        "cell_id": "00000-06d8d89b-1737-4039-8cd2-07ee6d27fdb0",
        "deepnote_cell_type": "markdown"
      }
    }
  ],
  "metadata": {
    "orig_nbformat": 2,
    "deepnote": {
      "is_reactive": false
    },
    "deepnote_notebook_id": "9aaf547e-8343-48c3-a9b8-fd70d720d254",
    "deepnote_execution_queue": [],
    "nteract": {
      "version": "0.28.0"
    },
    "language_info": {
      "name": "python"
    }
  },
  "nbformat": 4,
  "nbformat_minor": 2
}